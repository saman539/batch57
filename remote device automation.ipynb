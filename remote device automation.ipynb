{
 "cells": [
  {
   "cell_type": "code",
   "execution_count": 3,
   "metadata": {},
   "outputs": [],
   "source": [
    "\n",
    "import paramiko as pmk\n",
    "import re\n",
    "ssh = pmk.SSHClient()\n",
    "ssh.set_missing_host_key_policy(pmk.AutoAddPolicy())\n",
    "ssh.connect(\"localhost\",username=\"khyaathipython\",password=\"python\")"
   ]
  },
  {
   "cell_type": "code",
   "execution_count": 4,
   "metadata": {},
   "outputs": [],
   "source": [
    "inp,outp, errp = ssh.exec_command(\"mkdir local\")"
   ]
  },
  {
   "cell_type": "code",
   "execution_count": 5,
   "metadata": {},
   "outputs": [
    {
     "data": {
      "text/plain": [
       "b''"
      ]
     },
     "execution_count": 5,
     "metadata": {},
     "output_type": "execute_result"
    }
   ],
   "source": [
    "errp.read()"
   ]
  },
  {
   "cell_type": "code",
   "execution_count": 6,
   "metadata": {},
   "outputs": [
    {
     "data": {
      "text/plain": [
       "b''"
      ]
     },
     "execution_count": 6,
     "metadata": {},
     "output_type": "execute_result"
    }
   ],
   "source": [
    "outp.read()"
   ]
  },
  {
   "cell_type": "code",
   "execution_count": 7,
   "metadata": {},
   "outputs": [
    {
     "name": "stdout",
     "output_type": "stream",
     "text": [
      "b'mkdir: cannot create directory \\xe2\\x80\\x98local\\xe2\\x80\\x99: File exists\\n'\n"
     ]
    }
   ],
   "source": [
    "inp,outp, errp = ssh.exec_command(\"mkdir local\")\n",
    "print(errp.read())"
   ]
  },
  {
   "cell_type": "code",
   "execution_count": 8,
   "metadata": {},
   "outputs": [],
   "source": [
    "inp,outp, errp = ssh.exec_command(\"mkdir remote\")"
   ]
  },
  {
   "cell_type": "code",
   "execution_count": 9,
   "metadata": {},
   "outputs": [
    {
     "name": "stdout",
     "output_type": "stream",
     "text": [
      "b'USER       PID %CPU %MEM    VSZ   RSS TTY      STAT START   TIME COMMAND\\nroot         1  0.0  0.1 225860  8768 ?        Ss   May02   0:19 /sbin/init splash\\nroot         2  0.0  0.0      0     0 ?        S    May02   0:00 [kthreadd]\\nroot         4  0.0  0.0      0     0 ?        I<   May02   0:00 [kworker/0:0H]\\nroot         6  0.0  0.0      0     0 ?        I<   May02   0:00 [mm_percpu_wq]\\nroot         7  0.0  0.0      0     0 ?        S    May02   0:05 [ksoftirqd/0]\\nroot         8  0.0  0.0      0     0 ?        I    May02   0:09 [rcu_sched]\\nroot         9  0.0  0.0      0     0 ?        I    May02   0:00 [rcu_bh]\\nroot        10  0.0  0.0      0     0 ?        S    May02   0:00 [migration/0]\\nroot        11  0.0  0.0      0     0 ?        S    May02   0:00 [watchdog/0]\\nroot        12  0.0  0.0      0     0 ?        S    May02   0:00 [cpuhp/0]\\nroot        13  0.0  0.0      0     0 ?        S    May02   0:00 [kdevtmpfs]\\nroot        14  0.0  0.0      0     0 ?        I<   May02   0:00 [netns]\\nroot        15  0.0  0.0      0     0 ?        S    May02   0:00 [rcu_tasks_kthre]\\nroot        16  0.0  0.0      0     0 ?        S    May02   0:00 [kauditd]\\nroot        17  0.0  0.0      0     0 ?        S    May02   0:00 [khungtaskd]\\nroot        18  0.0  0.0      0     0 ?        S    May02   0:00 [oom_reaper]\\nroot        19  0.0  0.0      0     0 ?        I<   May02   0:00 [writeback]\\nroot        20  0.0  0.0      0     0 ?        S    May02   0:00 [kcompactd0]\\nroot        21  0.0  0.0      0     0 ?        SN   May02   0:00 [ksmd]\\nroot        22  0.0  0.0      0     0 ?        SN   May02   0:00 [khugepaged]\\nroot        23  0.0  0.0      0     0 ?        I<   May02   0:00 [crypto]\\nroot        24  0.0  0.0      0     0 ?        I<   May02   0:00 [kintegrityd]\\nroot        25  0.0  0.0      0     0 ?        I<   May02   0:00 [kblockd]\\nroot        26  0.0  0.0      0     0 ?        I<   May02   0:00 [ata_sff]\\nroot        27  0.0  0.0      0     0 ?        I<   May02   0:00 [md]\\nroot        28  0.0  0.0      0     0 ?        I<   May02   0:00 [edac-poller]\\nroot        29  0.0  0.0      0     0 ?        I<   May02   0:00 [devfreq_wq]\\nroot        30  0.0  0.0      0     0 ?        I<   May02   0:00 [watchdogd]\\nroot        34  0.0  0.0      0     0 ?        S    May02   0:01 [kswapd0]\\nroot        35  0.0  0.0      0     0 ?        I<   May02   0:00 [kworker/u3:0]\\nroot        36  0.0  0.0      0     0 ?        S    May02   0:00 [ecryptfs-kthrea]\\nroot        78  0.0  0.0      0     0 ?        I<   May02   0:00 [kthrotld]\\nroot        79  0.0  0.0      0     0 ?        I<   May02   0:00 [acpi_thermal_pm]\\nroot        80  0.0  0.0      0     0 ?        S    May02   0:00 [scsi_eh_0]\\nroot        81  0.0  0.0      0     0 ?        I<   May02   0:00 [scsi_tmf_0]\\nroot        82  0.0  0.0      0     0 ?        S    May02   0:00 [scsi_eh_1]\\nroot        83  0.0  0.0      0     0 ?        I<   May02   0:00 [scsi_tmf_1]\\nroot        89  0.0  0.0      0     0 ?        I<   May02   0:00 [ipv6_addrconf]\\nroot        98  0.0  0.0      0     0 ?        I<   May02   0:00 [kstrp]\\nroot       115  0.0  0.0      0     0 ?        I<   May02   0:00 [charger_manager]\\nroot       154  0.0  0.0      0     0 ?        S    May02   0:00 [scsi_eh_2]\\nroot       155  0.0  0.0      0     0 ?        I<   May02   0:00 [scsi_tmf_2]\\nroot       159  0.0  0.0      0     0 ?        I<   May02   0:03 [kworker/0:1H]\\nroot       179  0.0  0.0      0     0 ?        D    May02   0:03 [jbd2/sda1-8]\\nroot       180  0.0  0.0      0     0 ?        I<   May02   0:00 [ext4-rsv-conver]\\nroot       222  0.0  0.4 111936 24888 ?        S<s  May02   0:01 /lib/systemd/systemd-journald\\nroot       233  0.0  0.0  47176  4472 ?        Ss   May02   0:01 /lib/systemd/systemd-udevd\\nroot       284  0.0  0.0      0     0 ?        S<   May02   0:00 [loop4]\\nroot       285  0.0  0.0      0     0 ?        S<   May02   0:00 [loop5]\\nroot       286  0.0  0.0      0     0 ?        S<   May02   0:00 [loop6]\\nroot       288  0.0  0.0      0     0 ?        S<   May02   0:00 [loop8]\\nroot       289  0.0  0.0      0     0 ?        S<   May02   0:00 [loop9]\\nroot       290  0.0  0.0      0     0 ?        S<   May02   0:00 [loop10]\\nroot       291  0.0  0.0      0     0 ?        S<   May02   0:00 [loop11]\\nroot       292  0.0  0.0      0     0 ?        S<   May02   0:00 [loop12]\\nroot       294  0.0  0.0      0     0 ?        S<   May02   0:00 [loop14]\\nroot       295  0.0  0.0      0     0 ?        S<   May02   0:00 [loop15]\\nroot       296  0.0  0.0      0     0 ?        S<   May02   0:00 [loop16]\\nroot       297  0.0  0.0      0     0 ?        S<   May02   0:00 [loop17]\\nroot       298  0.0  0.0      0     0 ?        S<   May02   0:00 [loop18]\\nroot       299  0.0  0.0      0     0 ?        S<   May02   0:00 [loop19]\\nroot       300  0.0  0.0      0     0 ?        S<   May02   0:00 [loop20]\\nroot       301  0.0  0.0      0     0 ?        S<   May02   0:00 [loop21]\\nroot       302  0.0  0.0      0     0 ?        S<   May02   0:00 [loop22]\\nroot       304  0.0  0.0      0     0 ?        S<   May02   0:00 [loop24]\\nroot       305  0.0  0.0      0     0 ?        S<   May02   0:00 [loop25]\\nsystemd+   359  0.0  0.1  71804  6404 ?        Ss   May02   0:03 /lib/systemd/systemd-resolved\\nsystemd+   361  0.0  0.0 146100  2712 ?        Ssl  May02   0:00 /lib/systemd/systemd-timesyncd\\nroot       366  0.0  0.0      0     0 ?        I<   May02   0:00 [iprt-VBoxWQueue]\\nroot       402  0.0  0.0      0     0 ?        I<   May02   0:00 [ttm_swap]\\navahi      557  0.0  0.0  47256  2844 ?        Ss   May02   0:00 avahi-daemon: running [khyaathipython.local]\\nroot       567  0.0  0.1  70728  5840 ?        Ss   May02   0:00 /lib/systemd/systemd-logind\\nroot       569  0.0  0.1 294736  6680 ?        Ssl  May02   0:01 /usr/lib/accountsservice/accounts-daemon\\navahi      572  0.0  0.0  47076    40 ?        S    May02   0:00 avahi-daemon: chroot helper\\nroot       575  0.0  0.2 177612 13984 ?        Ssl  May02   0:00 /usr/bin/python3 /usr/bin/networkd-dispatcher --run-startup-triggers\\nroot       576  0.0  0.1 427260  5944 ?        Ssl  May02   0:00 /usr/sbin/ModemManager\\nroot       603  0.0  0.0  38428  3048 ?        Ss   May02   0:00 /usr/sbin/cron -f\\nroot       604  0.0  0.0   4552   672 ?        Ss   May02   0:03 /usr/sbin/acpid\\nroot       606  0.0  0.2 503728 10504 ?        Ssl  May02   0:00 /usr/lib/udisks2/udisksd\\nsyslog     608  0.0  0.0 263036  3084 ?        Ssl  May02   0:00 /usr/sbin/rsyslogd -n\\nmessage+   611  0.0  0.1  51776  5756 ?        Ss   May02   0:06 /usr/bin/dbus-daemon --system --address=systemd: --nofork --nopidfile --systemd-activation --syslog-only\\nkhyaath+   641  1.3  7.2 2639728 365444 ?      Ssl  May02  13:41 /usr/lib/firefox/firefox -new-tab http://localhost:8888/tree?token=4ffba18ffdb3a654795415db697b9eba267dd120c398bc69\\nroot       642  0.0  0.2 567836 14428 ?        Ssl  May02   0:03 /usr/sbin/NetworkManager --no-daemon\\nroot       643  0.0  0.0  44752  3116 ?        Ss   May02   0:00 /sbin/wpa_supplicant -u -s -O /run/wpa_supplicant\\nroot       654  0.0  0.1 303392 10128 ?        Ssl  May02   0:02 /usr/lib/policykit-1/polkitd --no-debug\\npostgres   701  0.0  0.5 326664 25700 ?        S    May02   0:03 /usr/lib/postgresql/10/bin/postgres -D /var/lib/postgresql/10/main -c config_file=/etc/postgresql/10/main/postgresql.conf\\nkhyaath+   709  0.4  3.1 1713944 161344 ?      Sl   May02   4:32 /usr/lib/firefox/firefox -contentproc -childID 1 -isForBrowser -prefsLen 1 -prefMapSize 174869 -parentBuildID 20190410105841 -greomni /usr/lib/firefox/omni.ja -appomni /usr/lib/firefox/browser/omni.ja -appdir /usr/lib/firefox/browser 641 true tab\\nkhyaath+   711  0.0  0.3  62184 19640 ?        Ss   May02   0:16 /home/khyaathipython/pgmanagement/bin/python /home/khyaathipython/pgmanagement/bin/gunicorn --access-logfile - --workers 3 --bind 0.0.0.0:9000 pgmanagement.wsgi:application\\nroot       730  0.0  0.0 140628  1436 ?        Ss   May02   0:00 nginx: master process /usr/sbin/nginx -g daemon on; master_process on;\\nwww-data   731  0.0  0.0 143304  4892 ?        S    May02   0:00 nginx: worker process\\nkhyaath+   748  0.2  3.4 1588756 172480 ?      Sl   May02   2:05 /usr/lib/firefox/firefox -contentproc -childID 2 -isForBrowser -prefsLen 5462 -prefMapSize 174869 -parentBuildID 20190410105841 -greomni /usr/lib/firefox/omni.ja -appomni /usr/lib/firefox/browser/omni.ja -appdir /usr/lib/firefox/browser 641 true tab\\nroot       751  0.0  0.1 308184  7524 ?        Ssl  May02   0:00 /usr/sbin/gdm3\\npostgres   752  0.0  0.1 326804  8964 ?        Ss   May02   0:00 postgres: 10/main: checkpointer process   \\npostgres   753  0.0  0.1 326664  6396 ?        Ss   May02   0:01 postgres: 10/main: writer process   \\npostgres   754  0.0  0.1 326664  9288 ?        Ss   May02   0:01 postgres: 10/main: wal writer process   \\npostgres   755  0.0  0.1 327100  6628 ?        Ss   May02   0:02 postgres: 10/main: autovacuum launcher process   \\npostgres   756  0.0  0.0 181692  4660 ?        Ss   May02   0:02 postgres: 10/main: stats collector process   \\npostgres   757  0.0  0.0 326956  5000 ?        Ss   May02   0:00 postgres: 10/main: bgworker: logical replication launcher   \\nroot       763  0.0  0.1 261552  7524 ?        Sl   May02   0:00 gdm-session-worker [pam/gdm-launch-environment]\\nwhoopsie   787  0.0  0.2 464300 12376 ?        Ssl  May02   0:00 /usr/bin/whoopsie -f\\nkernoops   802  0.0  0.0  56936  2596 ?        Ss   May02   0:01 /usr/sbin/kerneloops --test\\nkernoops   804  0.0  0.0  56936   416 ?        Ss   May02   0:01 /usr/sbin/kerneloops\\ngdm        812  0.0  0.1  77112  7852 ?        Ss   May02   0:00 /lib/systemd/systemd --user\\ngdm        816  0.0  0.0 114184  1900 ?        S    May02   0:00 (sd-pam)\\ngdm        871  0.0  0.1 197796  5548 tty1     Ssl+ May02   0:00 /usr/lib/gdm3/gdm-wayland-session gnome-session --autostart /usr/share/gdm/greeter/autostart\\ngdm        874  0.0  0.0  50328  4476 ?        Ss   May02   0:00 /usr/bin/dbus-daemon --session --address=systemd: --nofork --nopidfile --systemd-activation --syslog-only\\ngdm        877  0.0  0.2 558948 13104 tty1     Sl+  May02   0:00 /usr/lib/gnome-session/gnome-session-binary --autostart /usr/share/gdm/greeter/autostart\\ngdm        893  0.0  3.0 2917916 156492 tty1   Sl+  May02   0:38 /usr/bin/gnome-shell\\nroot       900  0.0  0.1 322292  8096 ?        Ssl  May02   0:00 /usr/lib/upower/upowerd\\ngdm        912  0.0  0.4 202592 22860 tty1     S+   May02   0:00 /usr/bin/Xwayland :1024 -rootless -terminate -accessx -core -listen 4 -listen 5 -displayfd 6\\ngdm        916  0.0  0.1 349340  6340 ?        Ssl  May02   0:00 /usr/lib/at-spi2-core/at-spi-bus-launcher\\ngdm        921  0.0  0.0  49928  3560 ?        S    May02   0:00 /usr/bin/dbus-daemon --config-file=/usr/share/defaults/at-spi2/accessibility.conf --nofork --print-address 3\\ngdm        923  0.0  0.1 220760  7036 ?        Sl   May02   0:00 /usr/lib/at-spi2-core/at-spi2-registryd --use-gnome-session\\ngdm        925  0.0  0.1 1153424 9176 ?        Ssl  May02   0:00 /usr/bin/pulseaudio --daemonize=no\\nrtkit      928  0.0  0.0 183504  3012 ?        SNsl May02   0:00 /usr/lib/rtkit/rtkit-daemon\\ngdm        939  0.0  0.1 435088  7700 tty1     Sl   May02   0:00 ibus-daemon --xim --panel disable\\ngdm        942  0.0  0.1 280740  5984 tty1     Sl   May02   0:00 /usr/lib/ibus/ibus-dconf\\ngdm        945  0.0  0.6 471640 33600 tty1     Sl   May02   0:00 /usr/lib/ibus/ibus-x11 --kill-daemon\\ngdm        949  0.0  0.1 278688  5960 ?        Sl   May02   0:00 /usr/lib/ibus/ibus-portal\\nroot       958  0.0  0.1 296772  6964 ?        Ssl  May02   0:00 /usr/lib/x86_64-linux-gnu/boltd\\ngdm        966  0.0  0.4 494536 21372 tty1     Sl+  May02   0:00 /usr/lib/gnome-settings-daemon/gsd-xsettings\\nroot       967  0.0  1.8 522180 96316 ?        Ssl  May02   0:50 /usr/lib/packagekit/packagekitd\\ngdm        968  0.0  0.1 278152  5672 tty1     Sl+  May02   0:00 /usr/lib/gnome-settings-daemon/gsd-a11y-settings\\ngdm        970  0.0  0.3 343668 19856 tty1     Sl+  May02   0:00 /usr/lib/gnome-settings-daemon/gsd-clipboard\\ngdm        972  0.0  0.4 741884 21784 tty1     Sl+  May02   0:21 /usr/lib/gnome-settings-daemon/gsd-color\\ngdm        981  0.0  0.2 393704 13176 tty1     Sl+  May02   0:00 /usr/lib/gnome-settings-daemon/gsd-datetime\\ngdm        982  0.0  0.1 283736  5664 tty1     Sl+  May02   0:00 /usr/lib/gnome-settings-daemon/gsd-housekeeping\\ngdm        984  0.0  0.3 498040 20260 tty1     Sl+  May02   0:00 /usr/lib/gnome-settings-daemon/gsd-keyboard\\ngdm        988  0.0  0.4 1079724 21976 tty1    Sl+  May02   0:00 /usr/lib/gnome-settings-daemon/gsd-media-keys\\ngdm        989  0.0  0.0 201996  4428 tty1     Sl+  May02   0:00 /usr/lib/gnome-settings-daemon/gsd-mouse\\ngdm        990  0.0  0.4 517344 21740 tty1     Sl+  May02   0:00 /usr/lib/gnome-settings-daemon/gsd-power\\ngdm       1003  0.0  0.1 267004  8588 tty1     Sl+  May02   0:00 /usr/lib/gnome-settings-daemon/gsd-print-notifications\\ngdm       1007  0.0  0.0 202016  4420 tty1     Sl+  May02   0:00 /usr/lib/gnome-settings-daemon/gsd-rfkill\\ngdm       1011  0.0  0.0 275732  4724 tty1     Sl+  May02   0:00 /usr/lib/gnome-settings-daemon/gsd-screensaver-proxy\\ngdm       1013  0.0  0.1 305096  7508 tty1     Sl+  May02   0:00 /usr/lib/gnome-settings-daemon/gsd-sharing\\ngdm       1016  0.0  0.1 451656  7020 tty1     Sl+  May02   0:00 /usr/lib/gnome-settings-daemon/gsd-smartcard\\ngdm       1018  0.0  0.1 332856  7488 tty1     Sl+  May02   0:00 /usr/lib/gnome-settings-daemon/gsd-sound\\ngdm       1022  0.0  0.4 428676 20988 tty1     Sl+  May02   0:00 /usr/lib/gnome-settings-daemon/gsd-wacom\\ncolord    1051  0.0  0.2 325012 12772 ?        Ssl  May02   0:00 /usr/lib/colord/colord\\ngdm       1059  0.0  0.1 204888  6664 tty1     Sl   May02   0:00 /usr/lib/ibus/ibus-engine-simple\\nkhyaath+  1380  0.0  0.1 152560  6308 ?        Sl   May02   0:00 /usr/lib/libreoffice/program/oosplash --writer file:///home/khyaathipython/batch58/Assignments.odt\\nkhyaath+  1398  0.0  3.3 1335980 170908 ?      Sl   May02   0:36 /usr/lib/libreoffice/program/soffice.bin --writer file:///home/khyaathipython/batch58/Assignments.odt --splash-pipe=5\\nroot      1466  0.0  0.1 267744  7636 ?        Sl   May02   0:00 gdm-session-worker [pam/gdm-password]\\nkhyaath+  1523  0.0  0.1  77172  7996 ?        Ss   May02   0:00 /lib/systemd/systemd --user\\nkhyaath+  1524  0.0  0.0 114184  2028 ?        S    May02   0:00 (sd-pam)\\nkhyaath+  1537  0.0  0.1 362104  6232 ?        Sl   May02   0:00 /usr/bin/gnome-keyring-daemon --daemonize --login\\nkhyaath+  1541  0.0  0.1 212128  5924 tty2     Ssl+ May02   0:00 /usr/lib/gdm3/gdm-x-session --run-script env GNOME_SHELL_SESSION_MODE=ubuntu gnome-session --session=ubuntu\\nkhyaath+  1543  1.0  3.7 614800 190880 tty2    Sl+  May02  20:37 /usr/lib/xorg/Xorg vt2 -displayfd 3 -auth /run/user/1000/gdm/Xauthority -background none -noreset -keeptty -verbose 3\\nkhyaath+  1548  0.0  0.1  51392  5684 ?        Ss   May02   0:02 /usr/bin/dbus-daemon --session --address=systemd: --nofork --nopidfile --systemd-activation --syslog-only\\nkhyaath+  1552  0.0  0.2 641412 13856 tty2     Sl+  May02   0:00 /usr/lib/gnome-session/gnome-session-binary --session=ubuntu\\nkhyaath+  1665  0.0  0.0  11304   320 ?        Ss   May02   0:00 /usr/bin/ssh-agent /usr/bin/im-launch env GNOME_SHELL_SESSION_MODE=ubuntu gnome-session --session=ubuntu\\nkhyaath+  1667  0.0  0.1 349292  6312 ?        Ssl  May02   0:00 /usr/lib/at-spi2-core/at-spi-bus-launcher\\nkhyaath+  1672  0.0  0.0  50060  3992 ?        S    May02   0:01 /usr/bin/dbus-daemon --config-file=/usr/share/defaults/at-spi2/accessibility.conf --nofork --print-address 3\\nkhyaath+  1675  0.0  0.1 220776  6816 ?        Sl   May02   0:06 /usr/lib/at-spi2-core/at-spi2-registryd --use-gnome-session\\nkhyaath+  1697  6.9  9.0 3165716 456888 tty2   Rl+  May02 134:29 /usr/bin/gnome-shell\\nkhyaath+  1704  0.0  0.1 365796  6772 ?        Ssl  May02   0:00 /usr/lib/gvfs/gvfsd\\nkhyaath+  1709  0.0  0.1 416112  5128 ?        Sl   May02   0:00 /usr/lib/gvfs/gvfsd-fuse /run/user/1000/gvfs -f -o big_writes\\nkhyaath+  1720  0.0  0.2 1696560 10196 ?       S<l  May02   0:03 /usr/bin/pulseaudio --start --log-target=syslog\\nkhyaath+  1730  0.1  0.2 363588 10728 tty2     Rl   May02   2:03 ibus-daemon --xim --panel disable\\nkhyaath+  1734  0.0  0.1 280744  6520 tty2     Sl   May02   0:00 /usr/lib/ibus/ibus-dconf\\nkhyaath+  1736  0.0  0.4 344008 20576 tty2     Sl   May02   0:01 /usr/lib/ibus/ibus-x11 --kill-daemon\\nkhyaath+  1739  0.0  0.1 278688  5880 ?        Sl   May02   0:00 /usr/lib/ibus/ibus-portal\\nkhyaath+  1749  0.0  0.3 689612 16100 ?        Sl   May02   0:00 /usr/lib/gnome-shell/gnome-shell-calendar-server\\nkhyaath+  1755  0.0  0.4 978908 21496 ?        Ssl  May02   0:00 /usr/lib/evolution/evolution-source-registry\\nkhyaath+  1762  0.0  0.3 776100 19008 ?        Sl   May02   0:00 /usr/lib/gnome-online-accounts/goa-daemon\\nkhyaath+  1771  0.0  0.1 188016  5396 ?        Sl   May02   0:00 /usr/lib/dconf/dconf-service\\nkhyaath+  1774  0.0  0.1 306564  8124 ?        Ssl  May02   0:02 /usr/lib/gvfs/gvfs-udisks2-volume-monitor\\nkhyaath+  1783  0.0  0.1 377088  6612 ?        Sl   May02   0:01 /usr/lib/gnome-online-accounts/goa-identity-service\\nkhyaath+  1789  0.0  0.1 274044  5700 ?        Ssl  May02   0:00 /usr/lib/gvfs/gvfs-goa-volume-monitor\\nkhyaath+  1793  0.0  0.1 288656  6368 ?        Ssl  May02   0:00 /usr/lib/gvfs/gvfs-gphoto2-volume-monitor\\nkhyaath+  1797  0.0  0.1 378812  7408 ?        Ssl  May02   0:00 /usr/lib/gvfs/gvfs-afc-volume-monitor\\nkhyaath+  1802  0.0  0.1 275868  5988 ?        Ssl  May02   0:00 /usr/lib/gvfs/gvfs-mtp-volume-monitor\\nkhyaath+  1807  0.0  0.4 517112 21704 tty2     Sl+  May02   0:02 /usr/lib/gnome-settings-daemon/gsd-power\\nkhyaath+  1808  0.0  0.2 349312 10148 tty2     Sl+  May02   0:00 /usr/lib/gnome-settings-daemon/gsd-print-notifications\\nkhyaath+  1810  0.0  0.1 423340  5836 tty2     Sl+  May02   0:00 /usr/lib/gnome-settings-daemon/gsd-rfkill\\nkhyaath+  1811  0.0  0.0 275732  4660 tty2     Sl+  May02   0:00 /usr/lib/gnome-settings-daemon/gsd-screensaver-proxy\\nkhyaath+  1813  0.0  0.1 452828  8208 tty2     Sl+  May02   0:00 /usr/lib/gnome-settings-daemon/gsd-sharing\\nkhyaath+  1817  0.0  0.4 494432 21656 tty2     Sl+  May02   0:02 /usr/lib/gnome-settings-daemon/gsd-xsettings\\nkhyaath+  1822  0.0  0.1 332852  7348 tty2     Sl+  May02   0:00 /usr/lib/gnome-settings-daemon/gsd-sound\\nkhyaath+  1827  0.0  0.4 428352 20664 tty2     Sl+  May02   0:01 /usr/lib/gnome-settings-daemon/gsd-wacom\\nkhyaath+  1828  0.0  0.1 377928  5704 tty2     Sl+  May02   0:00 /usr/lib/gnome-settings-daemon/gsd-smartcard\\nkhyaath+  1838  0.0  0.3 343508 20000 tty2     Sl+  May02   0:01 /usr/lib/gnome-settings-daemon/gsd-clipboard\\nkhyaath+  1839  0.0  0.1 278156  5720 tty2     Sl+  May02   0:00 /usr/lib/gnome-settings-daemon/gsd-a11y-settings\\nkhyaath+  1842  0.0  0.2 469732 13132 tty2     Sl+  May02   0:00 /usr/lib/gnome-settings-daemon/gsd-datetime\\nkhyaath+  1845  0.0  0.4 668088 21740 tty2     Sl+  May02   0:23 /usr/lib/gnome-settings-daemon/gsd-color\\nkhyaath+  1847  0.0  0.4 497908 20328 tty2     Sl+  May02   0:01 /usr/lib/gnome-settings-daemon/gsd-keyboard\\nkhyaath+  1848  0.0  0.1 364572  6888 tty2     Sl+  May02   0:03 /usr/lib/gnome-settings-daemon/gsd-housekeeping\\nkhyaath+  1850  0.0  0.1 278156  5600 tty2     Sl+  May02   0:00 /usr/lib/gnome-settings-daemon/gsd-mouse\\nkhyaath+  1855  0.0  0.4 1079500 21504 tty2    Sl+  May02   0:01 /usr/lib/gnome-settings-daemon/gsd-media-keys\\nkhyaath+  1868  0.0  0.2 508752 12608 tty2     Sl+  May02   0:00 /usr/lib/gnome-settings-daemon/gsd-printer\\nkhyaath+  1904  0.0  4.2 1129452 217080 tty2   SLl+ May02   0:30 /usr/bin/gnome-software --gapplication-service\\nkhyaath+  1905  0.0  0.8 902472 45464 tty2     Sl+  May02   0:04 nautilus-desktop\\nkhyaath+  1906  0.0  0.1 271932  5960 tty2     Sl+  May02   0:00 /usr/lib/gnome-disk-utility/gsd-disk-utility-notify\\nkhyaath+  1929  0.0  0.1 368360  7152 ?        Sl   May02   0:00 /usr/lib/gvfs/gvfsd-trash --spawner :1.13 /org/gtk/gvfs/exec_spaw/0\\nkhyaath+  1956  0.0  1.1 892152 58888 ?        Ssl  May02   0:00 /usr/lib/evolution/evolution-calendar-factory\\nkhyaath+  1966  0.0  1.0 940204 54968 ?        Sl   May02   0:00 /usr/lib/evolution/evolution-calendar-factory-subprocess --factory all --bus-name org.gnome.evolution.dataserver.Subprocess.Backend.Calendarx1956x2 --own-path /org/gnome/evolution/dataserver/Subprocess/Backend/Calendar/1956/2\\nkhyaath+  1981  0.0  0.3 732668 17276 ?        Ssl  May02   0:00 /usr/lib/evolution/evolution-addressbook-factory\\nkhyaath+  1991  0.0  0.3 886104 18232 ?        Sl   May02   0:00 /usr/lib/evolution/evolution-addressbook-factory-subprocess --factory all --bus-name org.gnome.evolution.dataserver.Subprocess.Backend.AddressBookx1981x2 --own-path /org/gnome/evolution/dataserver/Subprocess/Backend/AddressBook/1981/2\\nkhyaath+  2004  0.0  0.1 205020  6512 tty2     Sl   May02   0:25 /usr/lib/ibus/ibus-engine-simple\\nroot      2044  0.0  0.4 561364 20760 ?        Ssl  May02   0:03 /usr/lib/fwupd/fwupd\\nkhyaath+  4135  0.0  0.5 595136 26212 tty2     Sl+  May02   0:04 update-notifier\\nkhyaath+  7393  0.0  0.8 640224 43824 ?        Ssl  May02   0:02 /home/khyaathipython/anaconda3/bin/python -m ipykernel_launcher -f /run/user/1000/jupyter/kernel-f15d91bf-6567-405b-b3e3-7e114e2f97c4.json\\nkhyaath+  7542  0.0  0.8 640204 44520 ?        Ssl  May02   0:02 /home/khyaathipython/anaconda3/bin/python -m ipykernel_launcher -f /run/user/1000/jupyter/kernel-b60e4091-0563-4c0b-87d4-cdb6ec4c05eb.json\\nkhyaath+  7560  0.0  1.0 1001584 53576 ?       Sl   May02   0:05 /usr/bin/nautilus --gapplication-service\\nkhyaath+  8289  0.0  1.4 961180 75604 ?        Ssl  00:32   0:04 /snap/sublime-text/58/opt/sublime_text/sublime_text\\nkhyaath+  8302  0.0  0.5 280532 28024 ?        Sl   00:32   0:00 /snap/sublime-text/58/opt/sublime_text/plugin_host 8289 --auto-shell-env\\nkhyaath+  9475  0.0  0.1 204572  6044 ?        Ssl  May02   0:00 /usr/lib/gvfs/gvfsd-metadata\\nkhyaath+ 12047  0.0  1.1 666056 58128 ?        Ssl  02:55   0:02 /home/khyaathipython/anaconda3/bin/python -m ipykernel_launcher -f /run/user/1000/jupyter/kernel-c1f65cd8-76c2-4768-b4f7-e39d9a553519.json\\nkhyaath+ 12139  0.0  0.1  29952  5352 pts/4    Ss   03:05   0:00 bash\\nkhyaath+ 12359  0.0  2.3 885116 120280 tty2    Sl+  03:19   0:09 /usr/bin/mono /usr/lib/pinta/Pinta.exe\\nkhyaath+ 12563  0.7  2.6 1671660 136540 ?      Sl   03:42   2:15 /usr/lib/firefox/firefox -contentproc -childID 20 -isForBrowser -prefsLen 8326 -prefMapSize 174869 -parentBuildID 20190410105841 -greomni /usr/lib/firefox/omni.ja -appomni /usr/lib/firefox/browser/omni.ja -appdir /usr/lib/firefox/browser 641 true tab\\nroot     12771  0.0  0.0      0     0 ?        S<   04:06   0:00 [loop0]\\nroot     12820  0.0  0.4 674180 24788 ?        Ssl  04:06   0:13 /usr/lib/snapd/snapd\\nroot     13008  0.0  0.0      0     0 ?        S<   04:06   0:00 [loop1]\\nroot     13038  0.0  0.0      0     0 ?        S<   04:06   0:00 [loop2]\\nroot     13138  0.0  0.0      0     0 ?        S<   04:06   0:00 [loop3]\\nroot     14015  0.0  0.1  25660  5984 ?        S    07:07   0:00 /sbin/dhclient -d -q -sf /usr/lib/NetworkManager/nm-dhcp-helper -pf /run/dhclient-enp0s3.pid -lf /var/lib/NetworkManager/dhclient-2b11a3ca-ca14-376e-b6c9-ee3156761222-enp0s3.lease -cf /var/lib/NetworkManager/dhclient-enp0s3.conf enp0s3\\nkhyaath+ 14193  0.0  0.7 126708 36724 ?        S    07:09   0:00 /home/khyaathipython/pgmanagement/bin/python /home/khyaathipython/pgmanagement/bin/gunicorn --access-logfile - --workers 3 --bind 0.0.0.0:9000 pgmanagement.wsgi:application\\nkhyaath+ 14194  0.0  0.7 126764 36720 ?        S    07:09   0:00 /home/khyaathipython/pgmanagement/bin/python /home/khyaathipython/pgmanagement/bin/gunicorn --access-logfile - --workers 3 --bind 0.0.0.0:9000 pgmanagement.wsgi:application\\nkhyaath+ 14195  0.0  0.7 126760 36720 ?        S    07:09   0:00 /home/khyaathipython/pgmanagement/bin/python /home/khyaathipython/pgmanagement/bin/gunicorn --access-logfile - --workers 3 --bind 0.0.0.0:9000 pgmanagement.wsgi:application\\nroot     14833  0.0  0.1 107680  8176 ?        Ss   07:14   0:00 /usr/sbin/cupsd -l\\nroot     14835  0.0  0.2 303520 10956 ?        Ssl  07:14   0:00 /usr/sbin/cups-browsed\\nkhyaath+ 15094  0.5  4.3 1643764 218724 ?      Rl   07:33   0:17 /usr/lib/firefox/firefox -contentproc -childID 23 -isForBrowser -prefsLen 8373 -prefMapSize 174869 -parentBuildID 20190410105841 -greomni /usr/lib/firefox/omni.ja -appomni /usr/lib/firefox/browser/omni.ja -appdir /usr/lib/firefox/browser 641 true tab\\nroot     15178  0.0  0.0      0     0 ?        I    07:44   0:00 [kworker/0:0]\\nroot     15222  0.0  0.0      0     0 ?        I    07:54   0:00 [kworker/u2:2]\\nkhyaath+ 15332  0.3  1.2 363060 62596 pts/4    Sl+  08:16   0:02 /home/khyaathipython/anaconda3/bin/python /home/khyaathipython/anaconda3/bin/ipython notebook\\nkhyaath+ 15442  0.7  3.3 1588892 168468 ?      Sl   08:16   0:04 /usr/lib/firefox/firefox -contentproc -childID 24 -isForBrowser -prefsLen 8376 -prefMapSize 174869 -parentBuildID 20190410105841 -greomni /usr/lib/firefox/omni.ja -appomni /usr/lib/firefox/browser/omni.ja -appdir /usr/lib/firefox/browser 641 true tab\\nkhyaath+ 15459  0.0  0.1  29952  5544 pts/5    Ss+  08:16   0:00 bash\\nroot     15490  0.0  0.0      0     0 ?        I    08:17   0:00 [kworker/u2:0]\\nkhyaath+ 15496  0.0  0.0  11304  1460 ?        S    08:17   0:00 /usr/bin/ssh-agent -D -a /run/user/1000/keyring/.ssh\\nroot     15707  0.0  0.1  72296  5724 ?        Ss   08:19   0:00 /usr/sbin/sshd -D\\nkhyaath+ 15713  0.2  1.0 802604 52728 ?        Ssl  08:19   0:01 /home/khyaathipython/anaconda3/bin/python -m ipykernel_launcher -f /run/user/1000/jupyter/kernel-46e6ada8-d8b8-49b2-858b-aae31c66e4d5.json\\nkhyaath+ 15754  0.0  1.5 1501192 79152 ?       Sl   08:22   0:00 /usr/lib/firefox/firefox -contentproc -childID 25 -isForBrowser -prefsLen 8451 -prefMapSize 174869 -parentBuildID 20190410105841 -greomni /usr/lib/firefox/omni.ja -appomni /usr/lib/firefox/browser/omni.ja -appdir /usr/lib/firefox/browser 641 true tab\\nroot     15807  0.0  0.1 107776  7180 ?        Ss   08:25   0:00 sshd: khyaathipython [priv]\\nkhyaath+ 15874  0.0  0.1 110076  6164 ?        S    08:25   0:00 sshd: khyaathipython@notty\\nroot     15876  0.0  0.0      0     0 ?        I    08:25   0:00 [kworker/u2:1]\\nkhyaath+ 15897  0.0  0.0  46772  3680 ?        Rs   08:27   0:00 ps -aux\\nkhyaath+ 16965  0.0  0.3 863324 19820 tty2     Sl+  May02   0:00 /usr/lib/deja-dup/deja-dup-monitor\\nkhyaath+ 19215  0.0  0.8 639160 43124 ?        Ssl  May02   0:05 /home/khyaathipython/anaconda3/bin/python -m ipykernel_launcher -f /run/user/1000/jupyter/kernel-418914d0-0b87-498b-9d09-163e60cb81fa.json\\nkhyaath+ 19446  0.0  0.1 370384  6984 ?        Sl   May02   0:00 /usr/lib/gvfs/gvfsd-network --spawner :1.13 /org/gtk/gvfs/exec_spaw/1\\nkhyaath+ 19477  0.0  0.1 381288  7036 ?        Sl   May02   0:00 /usr/lib/gvfs/gvfsd-dnssd --spawner :1.13 /org/gtk/gvfs/exec_spaw/7\\nroot     19692  0.0  0.0      0     0 ?        S<   May02   0:00 [loop26]\\nroot     19756  0.0  0.0      0     0 ?        S<   May02   0:00 [loop27]\\nroot     19815  0.0  0.0      0     0 ?        S<   May02   0:00 [loop28]\\nroot     19893  0.0  0.0      0     0 ?        S<   May02   0:00 [loop29]\\nroot     19947  0.0  0.0      0     0 ?        S<   May02   0:00 [loop30]\\nroot     20081  0.0  0.0      0     0 ?        S<   May02   0:00 [loop31]\\nkhyaath+ 21169  0.0  0.1 433540  8204 ?        Ssl  May02   0:00 /usr/bin/zeitgeist-daemon\\nkhyaath+ 21175  0.0  0.2 326716 13580 ?        Ssl  May02   0:00 /usr/lib/zeitgeist/zeitgeist/zeitgeist-fts\\nroot     26415  0.0  0.0      0     0 ?        I    May02   0:24 [kworker/0:1]\\nkhyaath+ 30800  0.0  0.8 639812 43348 ?        Ssl  May02   0:04 /home/khyaathipython/anaconda3/bin/python -m ipykernel_launcher -f /run/user/1000/jupyter/kernel-dc19f86e-c5e6-4b8b-9590-43b65dd795c9.json\\nkhyaath+ 32005  0.0  0.7 807748 39096 ?        Ssl  May02   0:14 /usr/lib/gnome-terminal/gnome-terminal-server\\n'\n"
     ]
    }
   ],
   "source": [
    "inp,outp, errp = ssh.exec_command(\"ps -aux\")\n",
    "resp = outp.read()\n",
    "print(resp)"
   ]
  },
  {
   "cell_type": "code",
   "execution_count": 11,
   "metadata": {},
   "outputs": [
    {
     "name": "stdout",
     "output_type": "stream",
     "text": [
      "b'PID'\n",
      "b'1'\n",
      "b'2'\n",
      "b'4'\n",
      "b'6'\n",
      "b'7'\n",
      "b'8'\n",
      "b'9'\n",
      "b'10'\n",
      "b'11'\n",
      "b'12'\n",
      "b'13'\n",
      "b'14'\n",
      "b'15'\n",
      "b'16'\n",
      "b'17'\n",
      "b'18'\n",
      "b'19'\n",
      "b'20'\n",
      "b'21'\n",
      "b'22'\n",
      "b'23'\n",
      "b'24'\n",
      "b'25'\n",
      "b'26'\n",
      "b'27'\n",
      "b'28'\n",
      "b'29'\n",
      "b'30'\n",
      "b'34'\n",
      "b'35'\n",
      "b'36'\n",
      "b'78'\n",
      "b'79'\n",
      "b'80'\n",
      "b'81'\n",
      "b'82'\n",
      "b'83'\n",
      "b'89'\n",
      "b'98'\n",
      "b'115'\n",
      "b'154'\n",
      "b'155'\n",
      "b'159'\n",
      "b'179'\n",
      "b'180'\n",
      "b'222'\n",
      "b'233'\n",
      "b'284'\n",
      "b'285'\n",
      "b'286'\n",
      "b'288'\n",
      "b'289'\n",
      "b'290'\n",
      "b'291'\n",
      "b'292'\n",
      "b'294'\n",
      "b'295'\n",
      "b'296'\n",
      "b'297'\n",
      "b'298'\n",
      "b'299'\n",
      "b'300'\n",
      "b'301'\n",
      "b'302'\n",
      "b'304'\n",
      "b'305'\n",
      "b'359'\n",
      "b'361'\n",
      "b'366'\n",
      "b'402'\n",
      "b'557'\n",
      "b'567'\n",
      "b'569'\n",
      "b'572'\n",
      "b'575'\n",
      "b'576'\n",
      "b'603'\n",
      "b'604'\n",
      "b'606'\n",
      "b'608'\n",
      "b'611'\n",
      "b'641'\n",
      "b'642'\n",
      "b'643'\n",
      "b'654'\n",
      "b'701'\n",
      "b'709'\n",
      "b'711'\n",
      "b'730'\n",
      "b'731'\n",
      "b'748'\n",
      "b'751'\n",
      "b'752'\n",
      "b'753'\n",
      "b'754'\n",
      "b'755'\n",
      "b'756'\n",
      "b'757'\n",
      "b'763'\n",
      "b'787'\n",
      "b'802'\n",
      "b'804'\n",
      "b'812'\n",
      "b'816'\n",
      "b'871'\n",
      "b'874'\n",
      "b'877'\n",
      "b'893'\n",
      "b'900'\n",
      "b'912'\n",
      "b'916'\n",
      "b'921'\n",
      "b'923'\n",
      "b'925'\n",
      "b'928'\n",
      "b'939'\n",
      "b'942'\n",
      "b'945'\n",
      "b'949'\n",
      "b'958'\n",
      "b'966'\n",
      "b'967'\n",
      "b'968'\n",
      "b'970'\n",
      "b'972'\n",
      "b'981'\n",
      "b'982'\n",
      "b'984'\n",
      "b'988'\n",
      "b'989'\n",
      "b'990'\n",
      "b'1003'\n",
      "b'1007'\n",
      "b'1011'\n",
      "b'1013'\n",
      "b'1016'\n",
      "b'1018'\n",
      "b'1022'\n",
      "b'1051'\n",
      "b'1059'\n",
      "b'1380'\n",
      "b'1398'\n",
      "b'1466'\n",
      "b'1523'\n",
      "b'1524'\n",
      "b'1537'\n",
      "b'1541'\n",
      "b'1543'\n",
      "b'1548'\n",
      "b'1552'\n",
      "b'1665'\n",
      "b'1667'\n",
      "b'1672'\n",
      "b'1675'\n",
      "b'1697'\n",
      "b'1704'\n",
      "b'1709'\n",
      "b'1720'\n",
      "b'1730'\n",
      "b'1734'\n",
      "b'1736'\n",
      "b'1739'\n",
      "b'1749'\n",
      "b'1755'\n",
      "b'1762'\n",
      "b'1771'\n",
      "b'1774'\n",
      "b'1783'\n",
      "b'1789'\n",
      "b'1793'\n",
      "b'1797'\n",
      "b'1802'\n",
      "b'1807'\n",
      "b'1808'\n",
      "b'1810'\n",
      "b'1811'\n",
      "b'1813'\n",
      "b'1817'\n",
      "b'1822'\n",
      "b'1827'\n",
      "b'1828'\n",
      "b'1838'\n",
      "b'1839'\n",
      "b'1842'\n",
      "b'1845'\n",
      "b'1847'\n",
      "b'1848'\n",
      "b'1850'\n",
      "b'1855'\n",
      "b'1868'\n",
      "b'1904'\n",
      "b'1905'\n",
      "b'1906'\n",
      "b'1929'\n",
      "b'1956'\n",
      "b'1966'\n",
      "b'1981'\n",
      "b'1991'\n",
      "b'2004'\n",
      "b'2044'\n",
      "b'4135'\n",
      "b'7393'\n",
      "b'7542'\n",
      "b'7560'\n",
      "b'8289'\n",
      "b'8302'\n",
      "b'9475'\n",
      "b'12047'\n",
      "b'12139'\n",
      "b'12359'\n",
      "b'12563'\n",
      "b'12771'\n",
      "b'12820'\n",
      "b'13008'\n",
      "b'13038'\n",
      "b'13138'\n",
      "b'14015'\n",
      "b'14193'\n",
      "b'14194'\n",
      "b'14195'\n",
      "b'14833'\n",
      "b'14835'\n",
      "b'15094'\n",
      "b'15178'\n",
      "b'15222'\n",
      "b'15332'\n",
      "b'15442'\n",
      "b'15459'\n",
      "b'15490'\n",
      "b'15496'\n",
      "b'15707'\n",
      "b'15713'\n",
      "b'15754'\n",
      "b'15807'\n",
      "b'15874'\n",
      "b'15876'\n",
      "b'15903'\n",
      "b'16965'\n",
      "b'19215'\n",
      "b'19446'\n",
      "b'19477'\n",
      "b'19692'\n",
      "b'19756'\n",
      "b'19815'\n",
      "b'19893'\n",
      "b'19947'\n",
      "b'20081'\n",
      "b'21169'\n",
      "b'21175'\n",
      "b'26415'\n",
      "b'30800'\n",
      "b'32005'\n"
     ]
    }
   ],
   "source": [
    "inp,outp, errp = ssh.exec_command(\"ps -aux\")\n",
    "resp = outp.read()\n",
    "for row in resp.splitlines():\n",
    "    pid = row.split()[1]\n",
    "    print(pid)\n",
    "    "
   ]
  },
  {
   "cell_type": "code",
   "execution_count": 16,
   "metadata": {},
   "outputs": [
    {
     "name": "stdout",
     "output_type": "stream",
     "text": [
      "12359\n"
     ]
    }
   ],
   "source": [
    "inp,outp, errp = ssh.exec_command(\"ps -aux\")\n",
    "resp = outp.read()\n",
    "for row in resp.splitlines():\n",
    "    if b\"pinta\" in row:\n",
    "        pid = row.split()[1]\n",
    "        pid=int(pid)\n",
    "        print(pid)\n",
    "        "
   ]
  },
  {
   "cell_type": "code",
   "execution_count": 17,
   "metadata": {},
   "outputs": [],
   "source": [
    "inp,outp, errp = ssh.exec_command(\"ps -aux\")\n",
    "resp = outp.read()\n",
    "for row in resp.splitlines():\n",
    "    if b\"pinta\" in row:\n",
    "        pid = row.split()[1]\n",
    "        pid=int(pid)\n",
    "        resp  = ssh.exec_command(\"kill %s\"%pid)"
   ]
  },
  {
   "cell_type": "code",
   "execution_count": 18,
   "metadata": {},
   "outputs": [
    {
     "name": "stdout",
     "output_type": "stream",
     "text": [
      "b'total 528'\n",
      "b'drwxrwxr-x  2 khyaathipython khyaathipython   4096 Jan  7 09:32 ALL PYTHON'\n",
      "b'drwxr-xr-x 23 khyaathipython khyaathipython   4096 Dec 20 07:45 anaconda3'\n",
      "b'drwxr-xr-x  6 khyaathipython khyaathipython   4096 Jan  9 08:06 batch52'\n",
      "b'drwxr-xr-x  9 khyaathipython khyaathipython   4096 Jan 29 09:01 batch53'\n",
      "b'drwxr-xr-x 10 khyaathipython khyaathipython   4096 Mar  5 07:50 batch54'\n",
      "b'-rw-r--r--  1 khyaathipython khyaathipython 384425 Jan 26 09:32 batch54.zip'\n",
      "b'drwxr-xr-x  7 khyaathipython khyaathipython   4096 Mar 23 09:58 batch55'\n",
      "b'drwxr-xr-x  9 khyaathipython khyaathipython   4096 Apr 14 10:15 batch56'\n",
      "b'drwxr-xr-x  6 khyaathipython khyaathipython   4096 May  3 08:31 batch57'\n",
      "b'drwxr-xr-x  5 khyaathipython khyaathipython   4096 May  3 08:15 batch58'\n",
      "b'-rw-rw-r--  1 khyaathipython khyaathipython   3799 Mar 26 08:32 content'\n",
      "b'-rw-rw-r--  1 khyaathipython khyaathipython    117 Dec 27 07:42 data.yml'\n",
      "b'-rw-rw-r--  1 khyaathipython khyaathipython   2085 Dec 22 11:08 deployment steps.text'\n",
      "b'drwxr-xr-x  2 khyaathipython khyaathipython   4096 Apr 20 07:39 Desktop'\n",
      "b'drwxr-xr-x  4 khyaathipython khyaathipython   4096 Dec 23 09:23 djangobatch8'\n",
      "b'drwxr-xr-x  2 khyaathipython khyaathipython   4096 Dec 19 09:43 Documents'\n",
      "b'drwxr-xr-x  2 khyaathipython khyaathipython   4096 May  1 08:34 Downloads'\n",
      "b'-rw-r--r--  1 khyaathipython khyaathipython   8980 Dec 19 09:36 examples.desktop'\n",
      "b'-rw-rw-r--  1 khyaathipython khyaathipython     70 Feb  8 09:37 file2.py'\n",
      "b'-rw-rw-r--  1 khyaathipython khyaathipython     40 Mar  8 07:20 hello.py'\n",
      "b'drwxrwxr-x  2 khyaathipython khyaathipython   4096 May  3 08:25 local'\n",
      "b'drwxr-xr-x  2 khyaathipython khyaathipython   4096 Dec 19 09:43 Music'\n",
      "b'drwxr-xr-x  3 khyaathipython khyaathipython   4096 Apr 30 09:28 new_repo'\n",
      "b'drwxr-xr-x  6 khyaathipython khyaathipython   4096 Dec 22 10:11 pgmanagement'\n",
      "b'drwxr-xr-x  2 khyaathipython khyaathipython   4096 Dec 19 09:43 Pictures'\n",
      "b'drwxr-xr-x  2 khyaathipython khyaathipython   4096 Dec 19 09:43 Public'\n",
      "b'-rw-rw-r--  1 khyaathipython khyaathipython     40 Apr  2 07:46 pur.py'\n",
      "b'drwxr-xr-x  2 khyaathipython khyaathipython   4096 Apr 24 08:16 __pycache__'\n",
      "b'-rw-rw-r--  1 khyaathipython khyaathipython   4415 Apr 18 08:00 python content.txt'\n",
      "b'drwxrwxr-x  2 khyaathipython khyaathipython   4096 May  3 08:27 remote'\n",
      "b'-rw-r--r--  1 khyaathipython khyaathipython     53 Dec 22 10:08 requirements.txt'\n",
      "b'drwxr-xr-x  3 khyaathipython khyaathipython   4096 Dec 30 07:53 snap'\n",
      "b'-rw-rw-r--  1 khyaathipython khyaathipython     21 Mar 26 08:50 sort.py'\n",
      "b'drwxr-xr-x  2 khyaathipython khyaathipython   4096 Dec 19 09:43 Templates'\n",
      "b'drwxr-xr-x  2 khyaathipython khyaathipython   4096 Dec 19 09:43 Videos'\n",
      "b'-rw-rw-r--  1 khyaathipython khyaathipython     81 Mar 11 08:15 ware.py'\n"
     ]
    }
   ],
   "source": [
    "inp,outp, errp = ssh.exec_command(\"ls -l\")\n",
    "resp = outp.read()\n",
    "for row in resp.splitlines():\n",
    "    print(row)"
   ]
  },
  {
   "cell_type": "code",
   "execution_count": 19,
   "metadata": {},
   "outputs": [
    {
     "name": "stdout",
     "output_type": "stream",
     "text": [
      "b'drwxrwxr-x  2 khyaathipython khyaathipython   4096 May  3 08:25 local'\n"
     ]
    }
   ],
   "source": [
    "inp,outp, errp = ssh.exec_command(\"ls -l\")\n",
    "resp = outp.read()\n",
    "for row in resp.splitlines():\n",
    "    if b\"local\" in row:\n",
    "        print(row)"
   ]
  },
  {
   "cell_type": "code",
   "execution_count": 20,
   "metadata": {},
   "outputs": [
    {
     "name": "stdout",
     "output_type": "stream",
     "text": [
      "b'1\\n10\\n1003\\n1007\\n1011\\n1013\\n1016\\n1018\\n1022\\n1051\\n1059\\n11\\n115\\n12\\n12047\\n12139\\n12563\\n12771\\n12820\\n13\\n13008\\n13038\\n13138\\n1380\\n1398\\n14\\n14015\\n14193\\n14194\\n14195\\n1466\\n14833\\n14835\\n15\\n15094\\n15178\\n1523\\n1524\\n15332\\n1537\\n154\\n1541\\n1543\\n15442\\n15459\\n1548\\n15490\\n15496\\n155\\n1552\\n15707\\n15713\\n15754\\n15807\\n15874\\n15876\\n159\\n15922\\n15939\\n15941\\n15942\\n16\\n1665\\n1667\\n1672\\n1675\\n16965\\n1697\\n17\\n1704\\n1709\\n1720\\n1730\\n1734\\n1736\\n1739\\n1749\\n1755\\n1762\\n1771\\n1774\\n1783\\n1789\\n179\\n1793\\n1797\\n18\\n180\\n1802\\n1807\\n1808\\n1810\\n1811\\n1813\\n1817\\n1822\\n1827\\n1828\\n1838\\n1839\\n1842\\n1845\\n1847\\n1848\\n1850\\n1855\\n1868\\n19\\n1904\\n1905\\n1906\\n19215\\n1929\\n19446\\n19477\\n1956\\n1966\\n19692\\n19756\\n1981\\n19815\\n19893\\n1991\\n19947\\n2\\n20\\n2004\\n20081\\n2044\\n21\\n21169\\n21175\\n22\\n222\\n23\\n233\\n24\\n25\\n26\\n26415\\n27\\n28\\n284\\n285\\n286\\n288\\n289\\n29\\n290\\n291\\n292\\n294\\n295\\n296\\n297\\n298\\n299\\n30\\n300\\n301\\n302\\n304\\n305\\n30800\\n32005\\n34\\n35\\n359\\n36\\n361\\n366\\n4\\n402\\n4135\\n557\\n567\\n569\\n572\\n575\\n576\\n6\\n603\\n604\\n606\\n608\\n611\\n641\\n642\\n643\\n654\\n7\\n701\\n709\\n711\\n730\\n731\\n7393\\n748\\n751\\n752\\n753\\n754\\n7542\\n755\\n756\\n7560\\n757\\n763\\n78\\n787\\n79\\n8\\n80\\n802\\n804\\n81\\n812\\n816\\n82\\n8289\\n83\\n8302\\n871\\n874\\n877\\n89\\n893\\n9\\n900\\n912\\n916\\n921\\n923\\n925\\n928\\n939\\n942\\n945\\n9475\\n949\\n958\\n966\\n967\\n968\\n970\\n972\\n98\\n981\\n982\\n984\\n988\\n989\\n990\\nacpi\\nasound\\nbuddyinfo\\nbus\\ncgroups\\ncmdline\\nconsoles\\ncpuinfo\\ncrypto\\ndevices\\ndiskstats\\ndma\\ndriver\\nexecdomains\\nfb\\nfilesystems\\nfs\\ninterrupts\\niomem\\nioports\\nirq\\nkallsyms\\nkcore\\nkeys\\nkey-users\\nkmsg\\nkpagecgroup\\nkpagecount\\nkpageflags\\nloadavg\\nlocks\\nmdstat\\nmeminfo\\nmisc\\nmodules\\nmounts\\nmtrr\\nnet\\npagetypeinfo\\npartitions\\nsched_debug\\nschedstat\\nscsi\\nself\\nslabinfo\\nsoftirqs\\nstat\\nswaps\\nsys\\nsysrq-trigger\\nsysvipc\\nthread-self\\ntimer_list\\ntty\\nuptime\\nversion\\nversion_signature\\nvmallocinfo\\nvmstat\\nzoneinfo\\n'\n"
     ]
    }
   ],
   "source": [
    "inp,outp, errp = ssh.exec_command(\"echo python|sudo -S ls /proc\")\n",
    "print(outp.read())"
   ]
  },
  {
   "cell_type": "code",
   "execution_count": 21,
   "metadata": {},
   "outputs": [],
   "source": [
    "sftp = ssh.open_sftp()"
   ]
  },
  {
   "cell_type": "code",
   "execution_count": 22,
   "metadata": {},
   "outputs": [
    {
     "data": {
      "text/plain": [
       "<SFTPAttributes: [ size=14 uid=1000 gid=1000 mode=0o100664 atime=1556852833 mtime=1556852833 ]>"
      ]
     },
     "execution_count": 22,
     "metadata": {},
     "output_type": "execute_result"
    }
   ],
   "source": [
    "sftp.put(\"/home/khyaathipython/local/a.py\",\"/home/khyaathipython/remote/a1.py\")"
   ]
  },
  {
   "cell_type": "code",
   "execution_count": 23,
   "metadata": {},
   "outputs": [],
   "source": [
    "sftp.get(\"/home/khyaathipython/remote/a1.py\",\"/home/khyaathipython/local/b1.py\")"
   ]
  },
  {
   "cell_type": "code",
   "execution_count": null,
   "metadata": {},
   "outputs": [],
   "source": []
  }
 ],
 "metadata": {
  "kernelspec": {
   "display_name": "Python 3",
   "language": "python",
   "name": "python3"
  },
  "language_info": {
   "codemirror_mode": {
    "name": "ipython",
    "version": 3
   },
   "file_extension": ".py",
   "mimetype": "text/x-python",
   "name": "python",
   "nbconvert_exporter": "python",
   "pygments_lexer": "ipython3",
   "version": "3.7.0"
  }
 },
 "nbformat": 4,
 "nbformat_minor": 2
}
