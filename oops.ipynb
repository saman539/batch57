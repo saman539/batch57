{
 "cells": [
  {
   "cell_type": "code",
   "execution_count": 4,
   "metadata": {},
   "outputs": [],
   "source": [
    "class emp:\n",
    "    pass\n",
    "    "
   ]
  },
  {
   "cell_type": "code",
   "execution_count": 5,
   "metadata": {},
   "outputs": [],
   "source": [
    "class EMP:\n",
    "    pass"
   ]
  },
  {
   "cell_type": "code",
   "execution_count": 6,
   "metadata": {},
   "outputs": [
    {
     "name": "stdout",
     "output_type": "stream",
     "text": [
      "this is class\n"
     ]
    }
   ],
   "source": [
    "def fun():\n",
    "    print(\"this is fun\")\n",
    "class Emp:\n",
    "    print(\"this is class\")"
   ]
  },
  {
   "cell_type": "code",
   "execution_count": 7,
   "metadata": {},
   "outputs": [
    {
     "name": "stdout",
     "output_type": "stream",
     "text": [
      "this is class\n",
      "1000 2000\n"
     ]
    }
   ],
   "source": [
    "def fun():\n",
    "    print(\"this is fun\")\n",
    "class Emp:\n",
    "    print(\"this is class\")\n",
    "    a=1000\n",
    "    b=2000\n",
    "    print(a,b)"
   ]
  },
  {
   "cell_type": "code",
   "execution_count": 8,
   "metadata": {},
   "outputs": [
    {
     "name": "stdout",
     "output_type": "stream",
     "text": [
      "this is class\n"
     ]
    },
    {
     "ename": "NameError",
     "evalue": "name 'a' is not defined",
     "output_type": "error",
     "traceback": [
      "\u001b[0;31m---------------------------------------------------------------------------\u001b[0m",
      "\u001b[0;31mNameError\u001b[0m                                 Traceback (most recent call last)",
      "\u001b[0;32m<ipython-input-8-22f823fdb60a>\u001b[0m in \u001b[0;36m<module>\u001b[0;34m()\u001b[0m\n\u001b[1;32m      6\u001b[0m     \u001b[0mb\u001b[0m\u001b[0;34m=\u001b[0m\u001b[0;36m2000\u001b[0m\u001b[0;34m\u001b[0m\u001b[0m\n\u001b[1;32m      7\u001b[0m \u001b[0;34m\u001b[0m\u001b[0m\n\u001b[0;32m----> 8\u001b[0;31m \u001b[0mprint\u001b[0m\u001b[0;34m(\u001b[0m\u001b[0ma\u001b[0m\u001b[0;34m,\u001b[0m\u001b[0mb\u001b[0m\u001b[0;34m)\u001b[0m\u001b[0;34m\u001b[0m\u001b[0m\n\u001b[0m",
      "\u001b[0;31mNameError\u001b[0m: name 'a' is not defined"
     ]
    }
   ],
   "source": [
    "def fun():\n",
    "    print(\"this is fun\")\n",
    "class Emp:\n",
    "    print(\"this is class\")\n",
    "    a=1000\n",
    "    b=2000\n",
    "    \n",
    "print(a,b)"
   ]
  },
  {
   "cell_type": "code",
   "execution_count": 9,
   "metadata": {},
   "outputs": [
    {
     "name": "stdout",
     "output_type": "stream",
     "text": [
      "this is class\n",
      "1000 2000\n"
     ]
    }
   ],
   "source": [
    "def fun():\n",
    "    print(\"this is fun\")\n",
    "class Emp:\n",
    "    print(\"this is class\")\n",
    "    a=1000\n",
    "    b=2000\n",
    "    \n",
    "print(Emp.a,Emp.b)"
   ]
  },
  {
   "cell_type": "code",
   "execution_count": 10,
   "metadata": {},
   "outputs": [
    {
     "name": "stdout",
     "output_type": "stream",
     "text": [
      "this is class\n",
      "1000 2000\n"
     ]
    }
   ],
   "source": [
    "def fun():\n",
    "    print(\"this is fun\")\n",
    "class Emp:\n",
    "    print(\"this is class\")\n",
    "    a=1000\n",
    "    b=2000\n",
    "    def fun(x):\n",
    "        print(\"this is fun in Emp\")\n",
    "        print(x)\n",
    "    \n",
    "print(Emp.a,Emp.b)\n"
   ]
  },
  {
   "cell_type": "code",
   "execution_count": 11,
   "metadata": {},
   "outputs": [
    {
     "name": "stdout",
     "output_type": "stream",
     "text": [
      "this is class\n",
      "1000 2000\n",
      "this is fun in Emp\n",
      "100\n"
     ]
    }
   ],
   "source": [
    "def fun():\n",
    "    print(\"this is fun\")\n",
    "class Emp:\n",
    "    print(\"this is class\")\n",
    "    a=1000\n",
    "    b=2000\n",
    "    def fun(x):\n",
    "        print(\"this is fun in Emp\")\n",
    "        print(x)\n",
    "    \n",
    "print(Emp.a,Emp.b)\n",
    "Emp.fun(100)"
   ]
  },
  {
   "cell_type": "code",
   "execution_count": 12,
   "metadata": {},
   "outputs": [],
   "source": [
    "a=1000"
   ]
  },
  {
   "cell_type": "code",
   "execution_count": 13,
   "metadata": {},
   "outputs": [
    {
     "name": "stdout",
     "output_type": "stream",
     "text": [
      "this is class\n",
      "1000 2000\n",
      "this is fun in Emp\n",
      "<__main__.Emp object at 0x7f22b95dbdd8>\n"
     ]
    }
   ],
   "source": [
    "def fun():\n",
    "    print(\"this is fun\")\n",
    "class Emp:\n",
    "    print(\"this is class\")\n",
    "    a=1000\n",
    "    b=2000\n",
    "    def fun(x):\n",
    "        print(\"this is fun in Emp\")\n",
    "        print(x)\n",
    "    \n",
    "print(Emp.a,Emp.b)\n",
    "sai=Emp() # sai is data object, Emp is class object.\n",
    "Emp.fun(sai)"
   ]
  },
  {
   "cell_type": "code",
   "execution_count": 14,
   "metadata": {},
   "outputs": [
    {
     "name": "stdout",
     "output_type": "stream",
     "text": [
      "this is class\n",
      "1000 2000\n",
      "1000\n",
      "2000\n",
      "this is fun in Emp\n",
      "<__main__.Emp object at 0x7f22b95db860>\n"
     ]
    }
   ],
   "source": [
    "def fun():\n",
    "    print(\"this is fun\")\n",
    "class Emp:\n",
    "    print(\"this is class\")\n",
    "    a=1000\n",
    "    b=2000\n",
    "    def fun(x):\n",
    "        print(\"this is fun in Emp\")\n",
    "        print(x)\n",
    "    \n",
    "print(Emp.a,Emp.b)\n",
    "sai=Emp() # sai is data object, Emp is class object.\n",
    "print(sai.a)\n",
    "print(sai.b)\n",
    "sai.fun()\n"
   ]
  },
  {
   "cell_type": "code",
   "execution_count": 15,
   "metadata": {},
   "outputs": [
    {
     "name": "stdout",
     "output_type": "stream",
     "text": [
      "this is class\n",
      "1000 2000\n",
      "1000\n",
      "2000\n",
      "this is fun in Emp\n",
      "<__main__.Emp object at 0x7f22bcec8358>\n",
      "this is fun in Emp\n",
      "<__main__.Emp object at 0x7f22bcec8358>\n"
     ]
    }
   ],
   "source": [
    "def fun():\n",
    "    print(\"this is fun\")\n",
    "class Emp:\n",
    "    print(\"this is class\")\n",
    "    a=1000\n",
    "    b=2000\n",
    "    def fun(x):\n",
    "        print(\"this is fun in Emp\")\n",
    "        print(x)\n",
    "    \n",
    "print(Emp.a,Emp.b)\n",
    "sai=Emp() # sai is data object, Emp is class object.\n",
    "print(sai.a)\n",
    "print(sai.b)\n",
    "sai.fun()\n",
    "Emp.fun(sai)"
   ]
  },
  {
   "cell_type": "code",
   "execution_count": 16,
   "metadata": {},
   "outputs": [
    {
     "name": "stdout",
     "output_type": "stream",
     "text": [
      "this is class\n",
      "1000 2000\n",
      "1000\n",
      "2000\n",
      "this is fun in Emp\n",
      "<__main__.Emp object at 0x7f22b95db860> 100\n",
      "this is fun in Emp\n",
      "<__main__.Emp object at 0x7f22b95db860> 100\n"
     ]
    }
   ],
   "source": [
    "def fun():\n",
    "    print(\"this is fun\")\n",
    "class Emp:\n",
    "    print(\"this is class\")\n",
    "    a=1000\n",
    "    b=2000\n",
    "    def fun(x,y):\n",
    "        print(\"this is fun in Emp\")\n",
    "        print(x,y)\n",
    "    \n",
    "print(Emp.a,Emp.b)\n",
    "sai=Emp() # sai is data object, Emp is class object.\n",
    "print(sai.a)\n",
    "print(sai.b)\n",
    "sai.fun(100)\n",
    "Emp.fun(sai,100)"
   ]
  },
  {
   "cell_type": "code",
   "execution_count": 17,
   "metadata": {},
   "outputs": [
    {
     "name": "stdout",
     "output_type": "stream",
     "text": [
      "this is class\n",
      "1000 2000\n",
      "1000\n",
      "2000\n"
     ]
    },
    {
     "ename": "TypeError",
     "evalue": "fun() takes 2 positional arguments but 3 were given",
     "output_type": "error",
     "traceback": [
      "\u001b[0;31m---------------------------------------------------------------------------\u001b[0m",
      "\u001b[0;31mTypeError\u001b[0m                                 Traceback (most recent call last)",
      "\u001b[0;32m<ipython-input-17-cdb375ed9c39>\u001b[0m in \u001b[0;36m<module>\u001b[0;34m()\u001b[0m\n\u001b[1;32m     13\u001b[0m \u001b[0mprint\u001b[0m\u001b[0;34m(\u001b[0m\u001b[0msai\u001b[0m\u001b[0;34m.\u001b[0m\u001b[0ma\u001b[0m\u001b[0;34m)\u001b[0m\u001b[0;34m\u001b[0m\u001b[0m\n\u001b[1;32m     14\u001b[0m \u001b[0mprint\u001b[0m\u001b[0;34m(\u001b[0m\u001b[0msai\u001b[0m\u001b[0;34m.\u001b[0m\u001b[0mb\u001b[0m\u001b[0;34m)\u001b[0m\u001b[0;34m\u001b[0m\u001b[0m\n\u001b[0;32m---> 15\u001b[0;31m \u001b[0msai\u001b[0m\u001b[0;34m.\u001b[0m\u001b[0mfun\u001b[0m\u001b[0;34m(\u001b[0m\u001b[0;36m100\u001b[0m\u001b[0;34m,\u001b[0m\u001b[0;36m200\u001b[0m\u001b[0;34m)\u001b[0m\u001b[0;34m\u001b[0m\u001b[0m\n\u001b[0m\u001b[1;32m     16\u001b[0m \u001b[0mEmp\u001b[0m\u001b[0;34m.\u001b[0m\u001b[0mfun\u001b[0m\u001b[0;34m(\u001b[0m\u001b[0msai\u001b[0m\u001b[0;34m,\u001b[0m\u001b[0;36m100\u001b[0m\u001b[0;34m)\u001b[0m\u001b[0;34m\u001b[0m\u001b[0m\n",
      "\u001b[0;31mTypeError\u001b[0m: fun() takes 2 positional arguments but 3 were given"
     ]
    }
   ],
   "source": [
    "def fun():\n",
    "    print(\"this is fun\")\n",
    "class Emp:\n",
    "    print(\"this is class\")\n",
    "    a=1000\n",
    "    b=2000\n",
    "    def fun(x,y):\n",
    "        print(\"this is fun in Emp\")\n",
    "        print(x,y)\n",
    "    \n",
    "print(Emp.a,Emp.b)\n",
    "sai=Emp() # sai is data object, Emp is class object.\n",
    "print(sai.a)\n",
    "print(sai.b)\n",
    "sai.fun(100,200)\n",
    "Emp.fun(sai,100)"
   ]
  },
  {
   "cell_type": "code",
   "execution_count": 19,
   "metadata": {},
   "outputs": [
    {
     "name": "stdout",
     "output_type": "stream",
     "text": [
      "this is class\n",
      "1000 2000\n",
      "1000\n",
      "2000\n",
      "this is fun in Emp\n",
      "<__main__.Emp object at 0x7f22b8cb2160> 100\n",
      "this is fun in Emp\n",
      "<__main__.Emp object at 0x7f22b8cb2160> 100\n"
     ]
    }
   ],
   "source": [
    "def fun():\n",
    "    print(\"this is fun\")\n",
    "class Emp:\n",
    "    print(\"this is class\")\n",
    "    a=1000\n",
    "    b=2000\n",
    "    def fun(x,y):\n",
    "        print(\"this is fun in Emp\")\n",
    "        print(x,y)\n",
    "    \n",
    "print(Emp.a,Emp.b)\n",
    "sai=Emp() # sai is data object, Emp is class object.\n",
    "sai.name=\"SAILAXMI\"\n",
    "sai.doj=\"2019-01-01\"\n",
    "sai.id=1234\n",
    "samba=Emp()\n",
    "samba.name=\"SAMBA\"\n",
    "print(sai.a)\n",
    "print(sai.b)\n",
    "sai.fun(100)\n",
    "Emp.fun(sai,100)"
   ]
  },
  {
   "cell_type": "code",
   "execution_count": 20,
   "metadata": {},
   "outputs": [
    {
     "name": "stdout",
     "output_type": "stream",
     "text": [
      "MAithrivanam KHYAATHI Sailaxmi\n"
     ]
    }
   ],
   "source": [
    "# define a class for Product\n",
    "class Emp:\n",
    "    company_address=\"MAithrivanam\"\n",
    "    company_name= \"KHYAATHI\"\n",
    "sai=Emp()\n",
    "sai.name=\"Sailaxmi\"\n",
    "print(sai.company_address,sai.company_name,sai.name)"
   ]
  },
  {
   "cell_type": "code",
   "execution_count": 21,
   "metadata": {},
   "outputs": [
    {
     "name": "stdout",
     "output_type": "stream",
     "text": [
      "MAithrivanam KHYAATHI Sailaxmi\n",
      "MAithrivanam KHYAATHI\n"
     ]
    }
   ],
   "source": [
    "# define a class for Product\n",
    "class Emp:\n",
    "    company_address=\"MAithrivanam\"\n",
    "    company_name= \"KHYAATHI\"\n",
    "sai=Emp()\n",
    "sai.name=\"Sailaxmi\"\n",
    "print(sai.company_address,sai.company_name,sai.name)\n",
    "print(Emp.company_address, Emp.company_name)"
   ]
  },
  {
   "cell_type": "code",
   "execution_count": 23,
   "metadata": {},
   "outputs": [
    {
     "name": "stdout",
     "output_type": "stream",
     "text": [
      "MAithrivanam KHYAATHI Sailaxmi\n",
      "MAithrivanam KHYAATHI\n"
     ]
    },
    {
     "ename": "AttributeError",
     "evalue": "type object 'Emp' has no attribute 'name'",
     "output_type": "error",
     "traceback": [
      "\u001b[0;31m---------------------------------------------------------------------------\u001b[0m",
      "\u001b[0;31mAttributeError\u001b[0m                            Traceback (most recent call last)",
      "\u001b[0;32m<ipython-input-23-535bdf63447f>\u001b[0m in \u001b[0;36m<module>\u001b[0;34m()\u001b[0m\n\u001b[1;32m      9\u001b[0m \u001b[0mprint\u001b[0m\u001b[0;34m(\u001b[0m\u001b[0msai\u001b[0m\u001b[0;34m.\u001b[0m\u001b[0mcompany_address\u001b[0m\u001b[0;34m,\u001b[0m\u001b[0msai\u001b[0m\u001b[0;34m.\u001b[0m\u001b[0mcompany_name\u001b[0m\u001b[0;34m,\u001b[0m\u001b[0msai\u001b[0m\u001b[0;34m.\u001b[0m\u001b[0mname\u001b[0m\u001b[0;34m)\u001b[0m\u001b[0;34m\u001b[0m\u001b[0m\n\u001b[1;32m     10\u001b[0m \u001b[0mprint\u001b[0m\u001b[0;34m(\u001b[0m\u001b[0mEmp\u001b[0m\u001b[0;34m.\u001b[0m\u001b[0mcompany_address\u001b[0m\u001b[0;34m,\u001b[0m \u001b[0mEmp\u001b[0m\u001b[0;34m.\u001b[0m\u001b[0mcompany_name\u001b[0m\u001b[0;34m)\u001b[0m\u001b[0;34m\u001b[0m\u001b[0m\n\u001b[0;32m---> 11\u001b[0;31m \u001b[0mprint\u001b[0m\u001b[0;34m(\u001b[0m\u001b[0mEmp\u001b[0m\u001b[0;34m.\u001b[0m\u001b[0mname\u001b[0m\u001b[0;34m)\u001b[0m\u001b[0;34m\u001b[0m\u001b[0m\n\u001b[0m",
      "\u001b[0;31mAttributeError\u001b[0m: type object 'Emp' has no attribute 'name'"
     ]
    }
   ],
   "source": [
    "# define a class for Product\n",
    "class Emp:\n",
    "    company_address=\"MAithrivanam\"\n",
    "    company_name= \"KHYAATHI\"\n",
    "sai=Emp()\n",
    "sai.name=\"Sailaxmi\"\n",
    "samba=Emp()\n",
    "samba.name=\"SAMBASIVA\"\n",
    "print(sai.company_address,sai.company_name,sai.name)\n",
    "print(Emp.company_address, Emp.company_name)\n",
    "print(Emp.name)"
   ]
  },
  {
   "cell_type": "code",
   "execution_count": 24,
   "metadata": {},
   "outputs": [
    {
     "name": "stdout",
     "output_type": "stream",
     "text": [
      "REDMI6A 2 32 5000 6700\n"
     ]
    }
   ],
   "source": [
    "# define a class with name Product,manufacturer as a class object attribute and name, id, costprice, sales price as a \n",
    "# data object attributes\n",
    "class Product:\n",
    "    manufacturer=\"MI\"\n",
    "redmi6A = Product()\n",
    "redmi6A.name=\"REDMI6A\"\n",
    "redmi6A.ram=2\n",
    "redmi6A.rom=32\n",
    "redmi6A.costprice=5000\n",
    "redmi6A.salesprice=6700\n",
    "print(redmi6A.name,redmi6A.ram,redmi6A.rom,redmi6A.costprice,redmi6A.salesprice)"
   ]
  },
  {
   "cell_type": "code",
   "execution_count": 25,
   "metadata": {},
   "outputs": [
    {
     "name": "stdout",
     "output_type": "stream",
     "text": [
      "REDMI6A 2 32 5000 6700\n",
      "{'name': 'REDMI6A', 'ram': 2, 'rom': 32, 'costprice': 5000, 'salesprice': 6700}\n"
     ]
    }
   ],
   "source": [
    "# define a class with name Product,manufacturer as a class object attribute and name, id, costprice, sales price as a \n",
    "# data object attributes\n",
    "class Product:\n",
    "    manufacturer=\"MI\"\n",
    "redmi6A = Product()\n",
    "redmi6A.name=\"REDMI6A\"\n",
    "redmi6A.ram=2\n",
    "redmi6A.rom=32\n",
    "redmi6A.costprice=5000\n",
    "redmi6A.salesprice=6700\n",
    "print(redmi6A.name,redmi6A.ram,redmi6A.rom,redmi6A.costprice,redmi6A.salesprice)\n",
    "print(redmi6A.__dict__)"
   ]
  },
  {
   "cell_type": "code",
   "execution_count": 26,
   "metadata": {},
   "outputs": [],
   "source": [
    "a=1000"
   ]
  },
  {
   "cell_type": "code",
   "execution_count": 27,
   "metadata": {},
   "outputs": [],
   "source": [
    "a=1.2"
   ]
  },
  {
   "cell_type": "code",
   "execution_count": null,
   "metadata": {},
   "outputs": [],
   "source": [
    "# define a class with name Product,manufacturer as a class object attribute and name, id, costprice, sales price as a \n",
    "# data object attributes\n",
    "class Product:\n",
    "    manufacturer=\"MI\"\n",
    "redmi6A = Product()\n",
    "redmi6A.name=\"REDMI6A\"\n",
    "redmi6A.ram=2\n",
    "redmi6A.rom=32\n",
    "redmi6A.costprice=5000\n",
    "redmi6A.salesprice=6700\n",
    "print(redmi6A.name,redmi6A.ram,redmi6A.rom,redmi6A.costprice,redmi6A.salesprice)\n",
    "print(redmi6A.__dict__)"
   ]
  },
  {
   "cell_type": "code",
   "execution_count": null,
   "metadata": {},
   "outputs": [],
   "source": [
    "# write set and get methods for above product class.\n"
   ]
  }
 ],
 "metadata": {
  "kernelspec": {
   "display_name": "Python 3",
   "language": "python",
   "name": "python3"
  },
  "language_info": {
   "codemirror_mode": {
    "name": "ipython",
    "version": 3
   },
   "file_extension": ".py",
   "mimetype": "text/x-python",
   "name": "python",
   "nbconvert_exporter": "python",
   "pygments_lexer": "ipython3",
   "version": "3.7.0"
  }
 },
 "nbformat": 4,
 "nbformat_minor": 2
}
