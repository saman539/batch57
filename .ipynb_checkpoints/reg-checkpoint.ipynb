{
 "cells": [
  {
   "cell_type": "code",
   "execution_count": 1,
   "metadata": {},
   "outputs": [
    {
     "name": "stdout",
     "output_type": "stream",
     "text": [
      "i\n"
     ]
    }
   ],
   "source": [
    "s=\"\"\"id,name,email,phone\n",
    "1,sailaxmi,SAIlaxmi1@gmail.com,9676622023\n",
    "2,vedhanvesh,vedhanvesh23@yahoo.co.in,9676622024\n",
    "3,JAYARAM,JAYARAM45@gmail.com,9676622025\n",
    "4,DHANA,DHANA@gmail.com,9676622026\n",
    "\"\"\"\n",
    "for i in s:\n",
    "    print(i)\n",
    "    break"
   ]
  },
  {
   "cell_type": "code",
   "execution_count": 2,
   "metadata": {},
   "outputs": [
    {
     "name": "stdout",
     "output_type": "stream",
     "text": [
      "id,name,email,phone\n"
     ]
    }
   ],
   "source": [
    "s=\"\"\"id,name,email,phone\n",
    "1,sailaxmi,SAIlaxmi1@gmail.com,9676622023\n",
    "2,vedhanvesh,vedhanvesh23@yahoo.co.in,9676622024\n",
    "3,JAYARAM,JAYARAM45@gmail.com,9676622025\n",
    "4,DHANA,DHANA@gmail.com,9676622026\n",
    "\"\"\"\n",
    "for i in s.splitlines():\n",
    "    print(i)\n",
    "    break"
   ]
  },
  {
   "cell_type": "code",
   "execution_count": 3,
   "metadata": {},
   "outputs": [
    {
     "name": "stdout",
     "output_type": "stream",
     "text": [
      "id,name,email,phone\n",
      "1,sailaxmi,SAIlaxmi1@gmail.com,9676622023\n",
      "2,vedhanvesh,vedhanvesh23@yahoo.co.in,9676622024\n",
      "3,JAYARAM,JAYARAM45@gmail.com,9676622025\n",
      "4,DHANA,DHANA@gmail.com,9676622026\n"
     ]
    }
   ],
   "source": [
    "s=\"\"\"id,name,email,phone\n",
    "1,sailaxmi,SAIlaxmi1@gmail.com,9676622023\n",
    "2,vedhanvesh,vedhanvesh23@yahoo.co.in,9676622024\n",
    "3,JAYARAM,JAYARAM45@gmail.com,9676622025\n",
    "4,DHANA,DHANA@gmail.com,9676622026\n",
    "\"\"\"\n",
    "for i in s.splitlines():\n",
    "    print(i)"
   ]
  },
  {
   "cell_type": "code",
   "execution_count": 4,
   "metadata": {},
   "outputs": [
    {
     "name": "stdout",
     "output_type": "stream",
     "text": [
      "['id', 'name', 'email', 'phone']\n",
      "['1', 'sailaxmi', 'SAIlaxmi1@gmail.com', '9676622023']\n",
      "['2', 'vedhanvesh', 'vedhanvesh23@yahoo.co.in', '9676622024']\n",
      "['3', 'JAYARAM', 'JAYARAM45@gmail.com', '9676622025']\n",
      "['4', 'DHANA', 'DHANA@gmail.com', '9676622026']\n"
     ]
    }
   ],
   "source": [
    "s=\"\"\"id,name,email,phone\n",
    "1,sailaxmi,SAIlaxmi1@gmail.com,9676622023\n",
    "2,vedhanvesh,vedhanvesh23@yahoo.co.in,9676622024\n",
    "3,JAYARAM,JAYARAM45@gmail.com,9676622025\n",
    "4,DHANA,DHANA@gmail.com,9676622026\n",
    "\"\"\"\n",
    "for i in s.splitlines():\n",
    "    print(i.split(','))"
   ]
  },
  {
   "cell_type": "code",
   "execution_count": 5,
   "metadata": {},
   "outputs": [
    {
     "name": "stdout",
     "output_type": "stream",
     "text": [
      "phone\n",
      "9676622023\n",
      "9676622024\n",
      "9676622025\n",
      "9676622026\n"
     ]
    }
   ],
   "source": [
    "s=\"\"\"id,name,email,phone\n",
    "1,sailaxmi,SAIlaxmi1@gmail.com,9676622023\n",
    "2,vedhanvesh,vedhanvesh23@yahoo.co.in,9676622024\n",
    "3,JAYARAM,JAYARAM45@gmail.com,9676622025\n",
    "4,DHANA,DHANA@gmail.com,9676622026\n",
    "\"\"\"\n",
    "for i in s.splitlines():\n",
    "    print(i.split(',')[-1])"
   ]
  },
  {
   "cell_type": "code",
   "execution_count": 6,
   "metadata": {},
   "outputs": [
    {
     "name": "stdout",
     "output_type": "stream",
     "text": [
      "email\n",
      "SAIlaxmi1@gmail.com\n",
      "vedhanvesh23@yahoo.co.in\n",
      "JAYARAM45@gmail.com\n",
      "DHANA@gmail.com\n"
     ]
    }
   ],
   "source": [
    "s=\"\"\"id,name,email,phone\n",
    "1,sailaxmi,SAIlaxmi1@gmail.com,9676622023\n",
    "2,vedhanvesh,vedhanvesh23@yahoo.co.in,9676622024\n",
    "3,JAYARAM,JAYARAM45@gmail.com,9676622025\n",
    "4,DHANA,DHANA@gmail.com,9676622026\n",
    "\"\"\"\n",
    "for i in s.splitlines():\n",
    "    print(i.split(',')[-2])"
   ]
  },
  {
   "cell_type": "code",
   "execution_count": 7,
   "metadata": {},
   "outputs": [
    {
     "name": "stdout",
     "output_type": "stream",
     "text": [
      "SAIlaxmi1@gmail.com\n",
      "9676622024\n",
      "3\n",
      "DHANA\n"
     ]
    }
   ],
   "source": [
    "s=\"\"\"1,sailaxmi,SAIlaxmi1@gmail.com,9676622023\n",
    "vedhanvesh,vedhanvesh23@yahoo.co.in,9676622024,2\n",
    "JAYARAM45@gmail.com,9676622025,3,JAYARAM\n",
    "9676622026,4,DHANA,DHANA@gmail.com\n",
    "\"\"\"\n",
    "for i in s.splitlines():\n",
    "    print(i.split(',')[-2])"
   ]
  },
  {
   "cell_type": "code",
   "execution_count": 8,
   "metadata": {},
   "outputs": [
    {
     "name": "stdout",
     "output_type": "stream",
     "text": [
      "9676622023\n",
      "2\n",
      "JAYARAM\n",
      "DHANA@gmail.com\n"
     ]
    }
   ],
   "source": [
    "s=\"\"\"1,sailaxmi,SAIlaxmi1@gmail.com,9676622023\n",
    "vedhanvesh,vedhanvesh23@yahoo.co.in,9676622024,2\n",
    "JAYARAM45@gmail.com,9676622025,3,JAYARAM\n",
    "9676622026,4,DHANA,DHANA@gmail.com\n",
    "\"\"\"\n",
    "for i in s.splitlines():\n",
    "    print(i.split(',')[-1])"
   ]
  },
  {
   "cell_type": "code",
   "execution_count": 9,
   "metadata": {},
   "outputs": [
    {
     "name": "stdout",
     "output_type": "stream",
     "text": [
      "[]\n"
     ]
    }
   ],
   "source": [
    "import re\n",
    "s=\"\"\"1,sailaxmi,SAIlaxmi1@gmail.com,9676622023\n",
    "vedhanvesh,vedhanvesh23@yahoo.co.in,9676622024,2\n",
    "JAYARAM45@gmail.com,9676622025,3,JAYARAM\n",
    "9676622026,4,DHANA,DHANA@gmail.com\n",
    "\"\"\"\n",
    "print(re.findall(\"abcd\",s))"
   ]
  },
  {
   "cell_type": "code",
   "execution_count": 10,
   "metadata": {},
   "outputs": [
    {
     "name": "stdout",
     "output_type": "stream",
     "text": [
      "['a', 'a', 'a', 'a', 'c', 'd', 'a', 'd', 'a', 'a', 'c', 'a', 'c', 'a', 'c']\n"
     ]
    }
   ],
   "source": [
    "import re\n",
    "s=\"\"\"1,sailaxmi,SAIlaxmi1@gmail.com,9676622023\n",
    "vedhanvesh,vedhanvesh23@yahoo.co.in,9676622024,2\n",
    "JAYARAM45@gmail.com,9676622025,3,JAYARAM\n",
    "9676622026,4,DHANA,DHANA@gmail.com\n",
    "\"\"\"\n",
    "print(re.findall(\"[abcd]\",s))"
   ]
  },
  {
   "cell_type": "code",
   "execution_count": 11,
   "metadata": {},
   "outputs": [
    {
     "name": "stdout",
     "output_type": "stream",
     "text": [
      "['a', 'a', 'A', 'a', 'a', 'c', 'd', 'a', 'd', 'a', 'a', 'c', 'A', 'A', 'A', 'a', 'c', 'A', 'A', 'A', 'D', 'A', 'A', 'D', 'A', 'A', 'a', 'c']\n"
     ]
    }
   ],
   "source": [
    "import re\n",
    "s=\"\"\"1,sailaxmi,SAIlaxmi1@gmail.com,9676622023\n",
    "vedhanvesh,vedhanvesh23@yahoo.co.in,9676622024,2\n",
    "JAYARAM45@gmail.com,9676622025,3,JAYARAM\n",
    "9676622026,4,DHANA,DHANA@gmail.com\n",
    "\"\"\"\n",
    "print(re.findall(\"[abcd]\",s,re.I))"
   ]
  },
  {
   "cell_type": "code",
   "execution_count": 12,
   "metadata": {},
   "outputs": [
    {
     "name": "stdout",
     "output_type": "stream",
     "text": [
      "['1', '1', '9', '6', '7', '6', '6', '2', '2', '0', '2', '3', '2', '3', '9', '6', '7', '6', '6', '2', '2', '0', '2', '4', '2', '4', '5', '9', '6', '7', '6', '6', '2', '2', '0', '2', '5', '3', '9', '6', '7', '6', '6', '2', '2', '0', '2', '6', '4']\n"
     ]
    }
   ],
   "source": [
    "import re\n",
    "s=\"\"\"1,sailaxmi,SAIlaxmi1@gmail.com,9676622023\n",
    "vedhanvesh,vedhanvesh23@yahoo.co.in,9676622024,2\n",
    "JAYARAM45@gmail.com,9676622025,3,JAYARAM\n",
    "9676622026,4,DHANA,DHANA@gmail.com\n",
    "\"\"\"\n",
    "print(re.findall(\"[0123456798]\",s,re.I))"
   ]
  },
  {
   "cell_type": "code",
   "execution_count": 13,
   "metadata": {},
   "outputs": [
    {
     "name": "stdout",
     "output_type": "stream",
     "text": [
      "['1', '1', '9', '6', '7', '6', '6', '2', '2', '0', '2', '3', '2', '3', '9', '6', '7', '6', '6', '2', '2', '0', '2', '4', '2', '4', '5', '9', '6', '7', '6', '6', '2', '2', '0', '2', '5', '3', '9', '6', '7', '6', '6', '2', '2', '0', '2', '6', '4']\n"
     ]
    }
   ],
   "source": [
    "import re\n",
    "s=\"\"\"1,sailaxmi,SAIlaxmi1@gmail.com,9676622023\n",
    "vedhanvesh,vedhanvesh23@yahoo.co.in,9676622024,2\n",
    "JAYARAM45@gmail.com,9676622025,3,JAYARAM\n",
    "9676622026,4,DHANA,DHANA@gmail.com\n",
    "\"\"\"\n",
    "print(re.findall(\"[0-9]\",s,re.I))"
   ]
  },
  {
   "cell_type": "code",
   "execution_count": 14,
   "metadata": {},
   "outputs": [
    {
     "name": "stdout",
     "output_type": "stream",
     "text": [
      "['i1', 'h2', 'M4']\n"
     ]
    }
   ],
   "source": [
    "import re\n",
    "s=\"\"\"1,sailaxmi,SAIlaxmi1@gmail.com,9676622023\n",
    "vedhanvesh,vedhanvesh23@yahoo.co.in,9676622024,2\n",
    "JAYARAM45@gmail.com,9676622025,3,JAYARAM\n",
    "9676622026,4,DHANA,DHANA@gmail.com\n",
    "\"\"\"\n",
    "print(re.findall(\"[a-z][0-9]\",s,re.I))"
   ]
  },
  {
   "cell_type": "code",
   "execution_count": 15,
   "metadata": {},
   "outputs": [
    {
     "name": "stdout",
     "output_type": "stream",
     "text": [
      "['96', '76', '62', '20', '23', '23', '96', '76', '62', '20', '24', '45', '96', '76', '62', '20', '25', '96', '76', '62', '20', '26']\n"
     ]
    }
   ],
   "source": [
    "import re\n",
    "s=\"\"\"1,sailaxmi,SAIlaxmi1@gmail.com,9676622023\n",
    "vedhanvesh,vedhanvesh23@yahoo.co.in,9676622024,2\n",
    "JAYARAM45@gmail.com,9676622025,3,JAYARAM\n",
    "9676622026,4,DHANA,DHANA@gmail.com\n",
    "\"\"\"\n",
    "print(re.findall(\"[0-9][0-9]\",s,re.I))"
   ]
  },
  {
   "cell_type": "code",
   "execution_count": 16,
   "metadata": {},
   "outputs": [
    {
     "name": "stdout",
     "output_type": "stream",
     "text": [
      "['967', '662', '202', '967', '662', '202', '967', '662', '202', '967', '662', '202']\n"
     ]
    }
   ],
   "source": [
    "import re\n",
    "s=\"\"\"1,sailaxmi,SAIlaxmi1@gmail.com,9676622023\n",
    "vedhanvesh,vedhanvesh23@yahoo.co.in,9676622024,2\n",
    "JAYARAM45@gmail.com,9676622025,3,JAYARAM\n",
    "9676622026,4,DHANA,DHANA@gmail.com\n",
    "\"\"\"\n",
    "print(re.findall(\"[0-9][0-9][0-9]\",s,re.I))"
   ]
  },
  {
   "cell_type": "code",
   "execution_count": 17,
   "metadata": {},
   "outputs": [
    {
     "name": "stdout",
     "output_type": "stream",
     "text": [
      "['9676622023', '9676622024', '9676622025', '9676622026']\n"
     ]
    }
   ],
   "source": [
    "import re\n",
    "s=\"\"\"1,sailaxmi,SAIlaxmi1@gmail.com,9676622023\n",
    "vedhanvesh,vedhanvesh23@yahoo.co.in,9676622024,2\n",
    "JAYARAM45@gmail.com,9676622025,3,JAYARAM\n",
    "9676622026,4,DHANA,DHANA@gmail.com\n",
    "\"\"\"\n",
    "print(re.findall(\"[0-9][0-9][0-9][0-9][0-9][0-9][0-9][0-9][0-9][0-9]\",s,re.I))"
   ]
  },
  {
   "cell_type": "code",
   "execution_count": 18,
   "metadata": {},
   "outputs": [
    {
     "name": "stdout",
     "output_type": "stream",
     "text": [
      "['9676622023', '9676622024', '9676622025', '9676622026']\n"
     ]
    }
   ],
   "source": [
    "import re\n",
    "s=\"\"\"1,sailaxmi,SAIlaxmi1@gmail.com,9676622023\n",
    "vedhanvesh,vedhanvesh23@yahoo.co.in,9676622024,2\n",
    "JAYARAM45@gmail.com,9676622025,3,JAYARAM\n",
    "9676622026,4,DHANA,DHANA@gmail.com\n",
    "\"\"\"\n",
    "print(re.findall(\"[0-9]{10}\",s,re.I))"
   ]
  },
  {
   "cell_type": "code",
   "execution_count": 20,
   "metadata": {},
   "outputs": [
    {
     "name": "stdout",
     "output_type": "stream",
     "text": [
      "['9676622023', '9676622024', '9676622025', '9676622026']\n"
     ]
    }
   ],
   "source": [
    "import re\n",
    "s=\"\"\"1,sailaxmi,SAIlaxmi1@gmail.com,9676622023\n",
    "vedhanvesh,vedhanvesh23@yahoo.co.in,9676622024,9\n",
    "JAYARAM45@gmail.com,9676622025,3,JAYARAM\n",
    "9676622026,4,DHANA,DHANA@gmail.com\n",
    "\"\"\"\n",
    "print(re.findall(\"[0-9]{5,10}\",s,re.I))"
   ]
  },
  {
   "cell_type": "code",
   "execution_count": 21,
   "metadata": {},
   "outputs": [
    {
     "name": "stdout",
     "output_type": "stream",
     "text": [
      "['1', '1', '9676622023', '23', '9676622024', '9', '45', '9676622025', '3', '9676622026', '4']\n"
     ]
    }
   ],
   "source": [
    "import re\n",
    "s=\"\"\"1,sailaxmi,SAIlaxmi1@gmail.com,9676622023\n",
    "vedhanvesh,vedhanvesh23@yahoo.co.in,9676622024,9\n",
    "JAYARAM45@gmail.com,9676622025,3,JAYARAM\n",
    "9676622026,4,DHANA,DHANA@gmail.com\n",
    "\"\"\"\n",
    "print(re.findall(\"[0-9]{1,10}\",s,re.I))"
   ]
  },
  {
   "cell_type": "code",
   "execution_count": 22,
   "metadata": {},
   "outputs": [
    {
     "name": "stdout",
     "output_type": "stream",
     "text": [
      "['1', '1', '9676622023', '23', '9676622024', '9', '45', '9676622025', '3', '9676622026', '4']\n"
     ]
    }
   ],
   "source": [
    "import re\n",
    "s=\"\"\"1,sailaxmi,SAIlaxmi1@gmail.com,9676622023\n",
    "vedhanvesh,vedhanvesh23@yahoo.co.in,9676622024,9\n",
    "JAYARAM45@gmail.com,9676622025,3,JAYARAM\n",
    "9676622026,4,DHANA,DHANA@gmail.com\n",
    "\"\"\"\n",
    "print(re.findall(\"[0-9]{1,}\",s,re.I))"
   ]
  },
  {
   "cell_type": "code",
   "execution_count": 23,
   "metadata": {},
   "outputs": [
    {
     "name": "stdout",
     "output_type": "stream",
     "text": [
      "['1', '1', '9676622023', '23', '9676622024', '9', '45', '9676622025', '3', '9676622026', '4']\n"
     ]
    }
   ],
   "source": [
    "import re\n",
    "s=\"\"\"1,sailaxmi,SAIlaxmi1@gmail.com,9676622023\n",
    "vedhanvesh,vedhanvesh23@yahoo.co.in,9676622024,9\n",
    "JAYARAM45@gmail.com,9676622025,3,JAYARAM\n",
    "9676622026,4,DHANA,DHANA@gmail.com\n",
    "\"\"\"\n",
    "print(re.findall(\"[0-9]+\",s,re.I))"
   ]
  },
  {
   "cell_type": "code",
   "execution_count": 24,
   "metadata": {},
   "outputs": [
    {
     "name": "stdout",
     "output_type": "stream",
     "text": [
      "['1', '', '', '', '', '', '', '', '', '', '', '', '', '', '', '', '', '', '', '1', '', '', '', '', '', '', '', '', '', '', '', '9676622023', '', '', '', '', '', '', '', '', '', '', '', '', '', '', '', '', '', '', '', '', '', '', '23', '', '', '', '', '', '', '', '', '', '', '', '', '', '9676622024', '', '9', '', '', '', '', '', '', '', '', '45', '', '', '', '', '', '', '', '', '', '', '', '9676622025', '', '3', '', '', '', '', '', '', '', '', '', '9676622026', '', '4', '', '', '', '', '', '', '', '', '', '', '', '', '', '', '', '', '', '', '', '', '', '', '', '']\n"
     ]
    }
   ],
   "source": [
    "import re\n",
    "s=\"\"\"1,sailaxmi,SAIlaxmi1@gmail.com,9676622023\n",
    "vedhanvesh,vedhanvesh23@yahoo.co.in,9676622024,9\n",
    "JAYARAM45@gmail.com,9676622025,3,JAYARAM\n",
    "9676622026,4,DHANA,DHANA@gmail.com\n",
    "\"\"\"\n",
    "print(re.findall(\"[0-9]{0,}\",s,re.I))"
   ]
  },
  {
   "cell_type": "code",
   "execution_count": 25,
   "metadata": {},
   "outputs": [
    {
     "name": "stdout",
     "output_type": "stream",
     "text": [
      "['1', '', '', '', '', '', '', '', '', '', '', '', '', '', '', '', '', '', '', '1', '', '', '', '', '', '', '', '', '', '', '', '9676622023', '', '', '', '', '', '', '', '', '', '', '', '', '', '', '', '', '', '', '', '', '', '', '23', '', '', '', '', '', '', '', '', '', '', '', '', '', '9676622024', '', '9', '', '', '', '', '', '', '', '', '45', '', '', '', '', '', '', '', '', '', '', '', '9676622025', '', '3', '', '', '', '', '', '', '', '', '', '9676622026', '', '4', '', '', '', '', '', '', '', '', '', '', '', '', '', '', '', '', '', '', '', '', '', '', '', '']\n"
     ]
    }
   ],
   "source": [
    "import re\n",
    "s=\"\"\"1,sailaxmi,SAIlaxmi1@gmail.com,9676622023\n",
    "vedhanvesh,vedhanvesh23@yahoo.co.in,9676622024,9\n",
    "JAYARAM45@gmail.com,9676622025,3,JAYARAM\n",
    "9676622026,4,DHANA,DHANA@gmail.com\n",
    "\"\"\"\n",
    "print(re.findall(\"[0-9]*\",s,re.I))"
   ]
  },
  {
   "cell_type": "code",
   "execution_count": 26,
   "metadata": {},
   "outputs": [
    {
     "name": "stdout",
     "output_type": "stream",
     "text": [
      "['1', '', '', '', '', '', '', '', '', '', '', '', '', '', '', '', '', '', '', '1', '', '', '', '', '', '', '', '', '', '', '', '9', '6', '7', '6', '6', '2', '2', '0', '2', '3', '', '', '', '', '', '', '', '', '', '', '', '', '', '', '', '', '', '', '', '', '', '', '2', '3', '', '', '', '', '', '', '', '', '', '', '', '', '', '9', '6', '7', '6', '6', '2', '2', '0', '2', '4', '', '9', '', '', '', '', '', '', '', '', '4', '5', '', '', '', '', '', '', '', '', '', '', '', '9', '6', '7', '6', '6', '2', '2', '0', '2', '5', '', '3', '', '', '', '', '', '', '', '', '', '9', '6', '7', '6', '6', '2', '2', '0', '2', '6', '', '4', '', '', '', '', '', '', '', '', '', '', '', '', '', '', '', '', '', '', '', '', '', '', '', '']\n"
     ]
    }
   ],
   "source": [
    "import re\n",
    "s=\"\"\"1,sailaxmi,SAIlaxmi1@gmail.com,9676622023\n",
    "vedhanvesh,vedhanvesh23@yahoo.co.in,9676622024,9\n",
    "JAYARAM45@gmail.com,9676622025,3,JAYARAM\n",
    "9676622026,4,DHANA,DHANA@gmail.com\n",
    "\"\"\"\n",
    "print(re.findall(\"[0-9]{0,1}\",s,re.I))"
   ]
  },
  {
   "cell_type": "code",
   "execution_count": 27,
   "metadata": {},
   "outputs": [
    {
     "name": "stdout",
     "output_type": "stream",
     "text": [
      "['1', '', '', '', '', '', '', '', '', '', '', '', '', '', '', '', '', '', '', '1', '', '', '', '', '', '', '', '', '', '', '', '9', '6', '7', '6', '6', '2', '2', '0', '2', '3', '', '', '', '', '', '', '', '', '', '', '', '', '', '', '', '', '', '', '', '', '', '', '2', '3', '', '', '', '', '', '', '', '', '', '', '', '', '', '9', '6', '7', '6', '6', '2', '2', '0', '2', '4', '', '9', '', '', '', '', '', '', '', '', '4', '5', '', '', '', '', '', '', '', '', '', '', '', '9', '6', '7', '6', '6', '2', '2', '0', '2', '5', '', '3', '', '', '', '', '', '', '', '', '', '9', '6', '7', '6', '6', '2', '2', '0', '2', '6', '', '4', '', '', '', '', '', '', '', '', '', '', '', '', '', '', '', '', '', '', '', '', '', '', '', '']\n"
     ]
    }
   ],
   "source": [
    "import re\n",
    "s=\"\"\"1,sailaxmi,SAIlaxmi1@gmail.com,9676622023\n",
    "vedhanvesh,vedhanvesh23@yahoo.co.in,9676622024,9\n",
    "JAYARAM45@gmail.com,9676622025,3,JAYARAM\n",
    "9676622026,4,DHANA,DHANA@gmail.com\n",
    "\"\"\"\n",
    "print(re.findall(\"[0-9]?\",s,re.I))"
   ]
  },
  {
   "cell_type": "code",
   "execution_count": 28,
   "metadata": {},
   "outputs": [
    {
     "name": "stdout",
     "output_type": "stream",
     "text": [
      "['1', '1', '9', '6', '7', '6', '6', '2', '2', '0', '2', '3', '2', '3', '9', '6', '7', '6', '6', '2', '2', '0', '2', '4', '9', '4', '5', '9', '6', '7', '6', '6', '2', '2', '0', '2', '5', '3', '9', '6', '7', '6', '6', '2', '2', '0', '2', '6', '4']\n"
     ]
    }
   ],
   "source": [
    "import re\n",
    "s=\"\"\"1,sailaxmi,SAIlaxmi1@gmail.com,9676622023\n",
    "vedhanvesh,vedhanvesh23@yahoo.co.in,9676622024,9\n",
    "JAYARAM45@gmail.com,9676622025,3,JAYARAM\n",
    "9676622026,4,DHANA,DHANA@gmail.com\n",
    "\"\"\"\n",
    "print(re.findall(\"[0-9]\",s,re.I))"
   ]
  },
  {
   "cell_type": "code",
   "execution_count": 29,
   "metadata": {},
   "outputs": [
    {
     "name": "stdout",
     "output_type": "stream",
     "text": [
      "[',', 's', 'a', 'i', 'l', 'a', 'x', 'm', 'i', ',', 'S', 'A', 'I', 'l', 'a', 'x', 'm', 'i', '@', 'g', 'm', 'a', 'i', 'l', '.', 'c', 'o', 'm', ',', '\\n', 'v', 'e', 'd', 'h', 'a', 'n', 'v', 'e', 's', 'h', ',', 'v', 'e', 'd', 'h', 'a', 'n', 'v', 'e', 's', 'h', '@', 'y', 'a', 'h', 'o', 'o', '.', 'c', 'o', '.', 'i', 'n', ',', ',', '\\n', 'J', 'A', 'Y', 'A', 'R', 'A', 'M', '@', 'g', 'm', 'a', 'i', 'l', '.', 'c', 'o', 'm', ',', ',', ',', 'J', 'A', 'Y', 'A', 'R', 'A', 'M', '\\n', ',', ',', 'D', 'H', 'A', 'N', 'A', ',', 'D', 'H', 'A', 'N', 'A', '@', 'g', 'm', 'a', 'i', 'l', '.', 'c', 'o', 'm', '\\n']\n"
     ]
    }
   ],
   "source": [
    "import re\n",
    "s=\"\"\"1,sailaxmi,SAIlaxmi1@gmail.com,9676622023\n",
    "vedhanvesh,vedhanvesh23@yahoo.co.in,9676622024,9\n",
    "JAYARAM45@gmail.com,9676622025,3,JAYARAM\n",
    "9676622026,4,DHANA,DHANA@gmail.com\n",
    "\"\"\"\n",
    "print(re.findall(\"[^0-9]\",s,re.I))"
   ]
  },
  {
   "cell_type": "code",
   "execution_count": 30,
   "metadata": {},
   "outputs": [
    {
     "name": "stdout",
     "output_type": "stream",
     "text": [
      "['1']\n"
     ]
    }
   ],
   "source": [
    "import re\n",
    "s=\"\"\"1,sailaxmi,SAIlaxmi1@gmail.com,9676622023\n",
    "vedhanvesh,vedhanvesh23@yahoo.co.in,9676622024,9\n",
    "JAYARAM45@gmail.com,9676622025,3,JAYARAM\n",
    "9676622026,4,DHANA,DHANA@gmail.com\n",
    "\"\"\"\n",
    "print(re.findall(\"^[0-9]\",s,re.I))"
   ]
  },
  {
   "cell_type": "code",
   "execution_count": 31,
   "metadata": {},
   "outputs": [
    {
     "name": "stdout",
     "output_type": "stream",
     "text": [
      "['1', '9']\n"
     ]
    }
   ],
   "source": [
    "import re\n",
    "s=\"\"\"1,sailaxmi,SAIlaxmi1@gmail.com,9676622023\n",
    "vedhanvesh,vedhanvesh23@yahoo.co.in,9676622024,9\n",
    "JAYARAM45@gmail.com,9676622025,3,JAYARAM\n",
    "9676622026,4,DHANA,DHANA@gmail.com\n",
    "\"\"\"\n",
    "print(re.findall(\"^[0-9]\",s,re.M))"
   ]
  },
  {
   "cell_type": "code",
   "execution_count": 32,
   "metadata": {},
   "outputs": [
    {
     "name": "stdout",
     "output_type": "stream",
     "text": [
      "['3', '9']\n"
     ]
    }
   ],
   "source": [
    "import re\n",
    "s=\"\"\"1,sailaxmi,SAIlaxmi1@gmail.com,9676622023\n",
    "vedhanvesh,vedhanvesh23@yahoo.co.in,9676622024,9\n",
    "JAYARAM45@gmail.com,9676622025,3,JAYARAM\n",
    "9676622026,4,DHANA,DHANA@gmail.com\n",
    "\"\"\"\n",
    "print(re.findall(\"[0-9]$\",s,re.M))"
   ]
  },
  {
   "cell_type": "code",
   "execution_count": 33,
   "metadata": {},
   "outputs": [
    {
     "name": "stdout",
     "output_type": "stream",
     "text": [
      "[]\n"
     ]
    }
   ],
   "source": [
    "import re\n",
    "s=\"\"\"1,sailaxmi,SAIlaxmi1@gmail.com,9676622023\n",
    "vedhanvesh,vedhanvesh23@yahoo.co.in,9676622024,9\n",
    "JAYARAM45@gmail.com,9676622025,3,JAYARAM\n",
    "9676622026,4,DHANA,DHANA@gmail.com\n",
    "\"\"\"\n",
    "print(re.findall(\"[0-9]$\",s))"
   ]
  },
  {
   "cell_type": "code",
   "execution_count": 34,
   "metadata": {},
   "outputs": [
    {
     "name": "stdout",
     "output_type": "stream",
     "text": [
      "['1', ',', 's', 'a', 'i', 'l', 'a', 'x', 'm', 'i', ',', 'S', 'A', 'I', 'l', 'a', 'x', 'm', 'i', '1', '@', 'g', 'm', 'a', 'i', 'l', '.', 'c', 'o', 'm', ',', '9', '6', '7', '6', '6', '2', '2', '0', '2', '3', 'v', 'e', 'd', 'h', 'a', 'n', 'v', 'e', 's', 'h', ',', 'v', 'e', 'd', 'h', 'a', 'n', 'v', 'e', 's', 'h', '2', '3', '@', 'y', 'a', 'h', 'o', 'o', '.', 'c', 'o', '.', 'i', 'n', ',', '9', '6', '7', '6', '6', '2', '2', '0', '2', '4', ',', '9', 'J', 'A', 'Y', 'A', 'R', 'A', 'M', '4', '5', '@', 'g', 'm', 'a', 'i', 'l', '.', 'c', 'o', 'm', ',', '9', '6', '7', '6', '6', '2', '2', '0', '2', '5', ',', '3', ',', 'J', 'A', 'Y', 'A', 'R', 'A', 'M', '9', '6', '7', '6', '6', '2', '2', '0', '2', '6', ',', '4', ',', 'D', 'H', 'A', 'N', 'A', ',', 'D', 'H', 'A', 'N', 'A', '@', 'g', 'm', 'a', 'i', 'l', '.', 'c', 'o', 'm']\n"
     ]
    }
   ],
   "source": [
    "import re\n",
    "s=\"\"\"1,sailaxmi,SAIlaxmi1@gmail.com,9676622023\n",
    "vedhanvesh,vedhanvesh23@yahoo.co.in,9676622024,9\n",
    "JAYARAM45@gmail.com,9676622025,3,JAYARAM\n",
    "9676622026,4,DHANA,DHANA@gmail.com\n",
    "\"\"\"\n",
    "print(re.findall(\".\",s))"
   ]
  },
  {
   "cell_type": "code",
   "execution_count": 35,
   "metadata": {},
   "outputs": [
    {
     "name": "stdout",
     "output_type": "stream",
     "text": [
      "['.', '.', '.', '.', '.']\n"
     ]
    }
   ],
   "source": [
    "import re\n",
    "s=\"\"\"1,sailaxmi,SAIlaxmi1@gmail.com,9676622023\n",
    "vedhanvesh,vedhanvesh23@yahoo.co.in,9676622024,9\n",
    "JAYARAM45@gmail.com,9676622025,3,JAYARAM\n",
    "9676622026,4,DHANA,DHANA@gmail.com\n",
    "\"\"\"\n",
    "print(re.findall(\"\\.\",s))"
   ]
  },
  {
   "cell_type": "code",
   "execution_count": 36,
   "metadata": {},
   "outputs": [
    {
     "name": "stdout",
     "output_type": "stream",
     "text": [
      "['.', '.', '.', '.', '.']\n"
     ]
    }
   ],
   "source": [
    "import re\n",
    "s=\"\"\"1,sailaxmi,SAIlaxmi1@gmail.com,9676622023\n",
    "vedhanvesh,vedhanvesh23@yahoo.co.in,9676622024,9\n",
    "JAYARAM45@gmail.com,9676622025,3,JAYARAM\n",
    "9676622026,4,DHANA,DHANA@gmail.com\n",
    "\"\"\"\n",
    "print(re.findall(\"[.]\",s))"
   ]
  },
  {
   "cell_type": "code",
   "execution_count": 37,
   "metadata": {},
   "outputs": [
    {
     "name": "stdout",
     "output_type": "stream",
     "text": [
      "['1', ',', 's', 'a', 'i', 'l', 'a', 'x', 'm', 'i', ',', 'S', 'A', 'I', 'l', 'a', 'x', 'm', 'i', '1', '@', 'g', 'm', 'a', 'i', 'l', '.', 'c', 'o', 'm', ',', '9', '6', '7', '6', '6', '2', '2', '0', '2', '3', 'v', 'e', 'd', 'h', 'a', 'n', 'v', 'e', 's', 'h', ',', 'v', 'e', 'd', 'h', 'a', 'n', 'v', 'e', 's', 'h', '2', '3', '@', 'y', 'a', 'h', 'o', 'o', '.', 'c', 'o', '.', 'i', 'n', ',', '9', '6', '7', '6', '6', '2', '2', '0', '2', '4', ',', '9', 'J', 'A', 'Y', 'A', 'R', 'A', 'M', '4', '5', '@', 'g', 'm', 'a', 'i', 'l', '.', 'c', 'o', 'm', ',', '9', '6', '7', '6', '6', '2', '2', '0', '2', '5', ',', '3', ',', 'J', 'A', 'Y', 'A', 'R', 'A', 'M', '9', '6', '7', '6', '6', '2', '2', '0', '2', '6', ',', '4', ',', 'D', 'H', 'A', 'N', 'A', ',', 'D', 'H', 'A', 'N', 'A', '@', 'g', 'm', 'a', 'i', 'l', '.', 'c', 'o', 'm']\n"
     ]
    }
   ],
   "source": [
    "import re\n",
    "s=\"\"\"1,sailaxmi,SAIlaxmi1@gmail.com,9676622023\n",
    "vedhanvesh,vedhanvesh23@yahoo.co.in,9676622024,9\n",
    "JAYARAM45@gmail.com,9676622025,3,JAYARAM\n",
    "9676622026,4,DHANA,DHANA@gmail.com\n",
    "\"\"\"\n",
    "print(re.findall(\".\",s))"
   ]
  },
  {
   "cell_type": "code",
   "execution_count": 38,
   "metadata": {},
   "outputs": [
    {
     "name": "stdout",
     "output_type": "stream",
     "text": [
      "['1', ',', 's', 'a', 'i', 'l', 'a', 'x', 'm', 'i', ',', 'S', 'A', 'I', 'l', 'a', 'x', 'm', 'i', '1', '@', 'g', 'm', 'a', 'i', 'l', '.', 'c', 'o', 'm', ',', '9', '6', '7', '6', '6', '2', '2', '0', '2', '3', '\\n', 'v', 'e', 'd', 'h', 'a', 'n', 'v', 'e', 's', 'h', ',', 'v', 'e', 'd', 'h', 'a', 'n', 'v', 'e', 's', 'h', '2', '3', '@', 'y', 'a', 'h', 'o', 'o', '.', 'c', 'o', '.', 'i', 'n', ',', '9', '6', '7', '6', '6', '2', '2', '0', '2', '4', ',', '9', '\\n', 'J', 'A', 'Y', 'A', 'R', 'A', 'M', '4', '5', '@', 'g', 'm', 'a', 'i', 'l', '.', 'c', 'o', 'm', ',', '9', '6', '7', '6', '6', '2', '2', '0', '2', '5', ',', '3', ',', 'J', 'A', 'Y', 'A', 'R', 'A', 'M', '\\n', '9', '6', '7', '6', '6', '2', '2', '0', '2', '6', ',', '4', ',', 'D', 'H', 'A', 'N', 'A', ',', 'D', 'H', 'A', 'N', 'A', '@', 'g', 'm', 'a', 'i', 'l', '.', 'c', 'o', 'm', '\\n']\n"
     ]
    }
   ],
   "source": [
    "import re\n",
    "s=\"\"\"1,sailaxmi,SAIlaxmi1@gmail.com,9676622023\n",
    "vedhanvesh,vedhanvesh23@yahoo.co.in,9676622024,9\n",
    "JAYARAM45@gmail.com,9676622025,3,JAYARAM\n",
    "9676622026,4,DHANA,DHANA@gmail.com\n",
    "\"\"\"\n",
    "print(re.findall(\".\",s,re.DOTALL))"
   ]
  },
  {
   "cell_type": "code",
   "execution_count": 40,
   "metadata": {},
   "outputs": [
    {
     "name": "stdout",
     "output_type": "stream",
     "text": [
      "['SAIlaxmi1@gmail.com', 'vedhanvesh23@yahoo.co.in', 'JAYARAM45@gmail.com', 'DHANA@gmail.com']\n"
     ]
    }
   ],
   "source": [
    "import re\n",
    "s=\"\"\"1,sailaxmi,SAIlaxmi1@gmail.com,9676622023\n",
    "vedhanvesh,vedhanvesh23@yahoo.co.in,9676622024,9\n",
    "JAYARAM45@gmail.com,9676622025,3,JAYARAM\n",
    "9676622026,4,DHANA,DHANA@gmail.com\n",
    "\"\"\"\n",
    "# username: [a-b0-9_-]+\n",
    "#domain: [a-z]+\n",
    "#extensino: [.a-z]*\n",
    "print(re.findall(\"[a-z0-9_-]+@[a-z]+\\.[.a-z]*\",s,re.I))"
   ]
  },
  {
   "cell_type": "code",
   "execution_count": 41,
   "metadata": {},
   "outputs": [
    {
     "name": "stdout",
     "output_type": "stream",
     "text": [
      "None\n"
     ]
    }
   ],
   "source": [
    "import re\n",
    "s=\"\"\"1,sailaxmi,SAIlaxmi1@gmail.com,9676622023\n",
    "vedhanvesh,vedhanvesh23@yahoo.co.in,9676622024,9\n",
    "JAYARAM45@gmail.com,9676622025,3,JAYARAM\n",
    "9676622026,4,DHANA,DHANA@gmail.com\n",
    "\"\"\"\n",
    "# username: [a-b0-9_-]+\n",
    "#domain: [a-z]+\n",
    "#extensino: [.a-z]*\n",
    "print(re.match(\"[a-z0-9_-]+@[a-z]+\\.[.a-z]*\",s,re.I))"
   ]
  },
  {
   "cell_type": "code",
   "execution_count": 42,
   "metadata": {},
   "outputs": [
    {
     "name": "stdout",
     "output_type": "stream",
     "text": [
      "<re.Match object; span=(11, 30), match='SAIlaxmi1@gmail.com'>\n"
     ]
    }
   ],
   "source": [
    "import re\n",
    "s=\"\"\"1,sailaxmi,SAIlaxmi1@gmail.com,9676622023\n",
    "vedhanvesh,vedhanvesh23@yahoo.co.in,9676622024,9\n",
    "JAYARAM45@gmail.com,9676622025,3,JAYARAM\n",
    "9676622026,4,DHANA,DHANA@gmail.com\n",
    "\"\"\"\n",
    "# username: [a-b0-9_-]+\n",
    "#domain: [a-z]+\n",
    "#extensino: [.a-z]*\n",
    "print(re.search(\"[a-z0-9_-]+@[a-z]+\\.[.a-z]*\",s,re.I))"
   ]
  },
  {
   "cell_type": "code",
   "execution_count": 44,
   "metadata": {},
   "outputs": [
    {
     "name": "stdout",
     "output_type": "stream",
     "text": [
      "['SAIlaxmi1@gmail.com', 'vedhanvesh23@yahoo.co.in', 'JAYARAM45@gmail.com', 'DHANA@gmail.com']\n"
     ]
    }
   ],
   "source": [
    "import re\n",
    "s=\"\"\"1,sailaxmi,SAIlaxmi1@gmail.com,9676622023\n",
    "vedhanvesh,vedhanvesh23@yahoo.co.in,9676622024,9\n",
    "JAYARAM45@gmail.com,9676622025,3,JAYARAM\n",
    "9676622026,4,DHANA,DHANA@gmail.com\n",
    "\"\"\"\n",
    "# constants.py\n",
    "email_reg = re.compile(\"[a-z0-9_-]+@[a-z]+\\.[.a-z]*\",re.I)\n",
    "#sales.py\n",
    "#from constants import email_reg\n",
    "print(email_reg.findall(s))\n"
   ]
  },
  {
   "cell_type": "code",
   "execution_count": null,
   "metadata": {},
   "outputs": [],
   "source": []
  }
 ],
 "metadata": {
  "kernelspec": {
   "display_name": "Python 3",
   "language": "python",
   "name": "python3"
  },
  "language_info": {
   "codemirror_mode": {
    "name": "ipython",
    "version": 3
   },
   "file_extension": ".py",
   "mimetype": "text/x-python",
   "name": "python",
   "nbconvert_exporter": "python",
   "pygments_lexer": "ipython3",
   "version": "3.7.0"
  }
 },
 "nbformat": 4,
 "nbformat_minor": 2
}
