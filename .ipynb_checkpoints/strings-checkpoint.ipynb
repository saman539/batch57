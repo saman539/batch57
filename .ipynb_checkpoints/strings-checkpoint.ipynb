{
 "cells": [
  {
   "cell_type": "code",
   "execution_count": 1,
   "metadata": {},
   "outputs": [
    {
     "name": "stdout",
     "output_type": "stream",
     "text": [
      "python program\n"
     ]
    }
   ],
   "source": [
    "s=\"python program\"\n",
    "print(s)"
   ]
  },
  {
   "cell_type": "code",
   "execution_count": 2,
   "metadata": {},
   "outputs": [
    {
     "name": "stdout",
     "output_type": "stream",
     "text": [
      "sdfsdf\n"
     ]
    }
   ],
   "source": [
    "s=str(\"sdfsdf\")\n",
    "print(s)"
   ]
  },
  {
   "cell_type": "code",
   "execution_count": 3,
   "metadata": {},
   "outputs": [
    {
     "name": "stdout",
     "output_type": "stream",
     "text": [
      "p\n",
      "m\n"
     ]
    }
   ],
   "source": [
    "s=\"python program\"\n",
    "print(s[0])\n",
    "print(s[13])"
   ]
  },
  {
   "cell_type": "code",
   "execution_count": 4,
   "metadata": {},
   "outputs": [
    {
     "name": "stdout",
     "output_type": "stream",
     "text": [
      "14\n"
     ]
    }
   ],
   "source": [
    "s=\"python program\"\n",
    "print(len(s))"
   ]
  },
  {
   "cell_type": "code",
   "execution_count": 5,
   "metadata": {},
   "outputs": [
    {
     "name": "stdout",
     "output_type": "stream",
     "text": [
      "m\n",
      "p\n"
     ]
    }
   ],
   "source": [
    "s=\"python program\"\n",
    "print(s[-1])\n",
    "print(s[-14])"
   ]
  },
  {
   "cell_type": "code",
   "execution_count": 6,
   "metadata": {},
   "outputs": [
    {
     "ename": "IndexError",
     "evalue": "string index out of range",
     "output_type": "error",
     "traceback": [
      "\u001b[0;31m---------------------------------------------------------------------------\u001b[0m",
      "\u001b[0;31mIndexError\u001b[0m                                Traceback (most recent call last)",
      "\u001b[0;32m<ipython-input-6-816f0902a503>\u001b[0m in \u001b[0;36m<module>\u001b[0;34m()\u001b[0m\n\u001b[1;32m      1\u001b[0m \u001b[0ms\u001b[0m\u001b[0;34m=\u001b[0m\u001b[0;34m\"python program\"\u001b[0m\u001b[0;34m\u001b[0m\u001b[0m\n\u001b[0;32m----> 2\u001b[0;31m \u001b[0mprint\u001b[0m\u001b[0;34m(\u001b[0m\u001b[0ms\u001b[0m\u001b[0;34m[\u001b[0m\u001b[0;36m20\u001b[0m\u001b[0;34m]\u001b[0m\u001b[0;34m)\u001b[0m\u001b[0;34m\u001b[0m\u001b[0m\n\u001b[0m",
      "\u001b[0;31mIndexError\u001b[0m: string index out of range"
     ]
    }
   ],
   "source": [
    "s=\"python program\"\n",
    "print(s[20])"
   ]
  },
  {
   "cell_type": "code",
   "execution_count": 7,
   "metadata": {},
   "outputs": [
    {
     "name": "stdout",
     "output_type": "stream",
     "text": [
      "python\n"
     ]
    }
   ],
   "source": [
    "s=\"python program\"\n",
    "print(s[0]+s[1]+s[2]+s[3]+s[4]+s[5])"
   ]
  },
  {
   "cell_type": "code",
   "execution_count": 8,
   "metadata": {},
   "outputs": [
    {
     "name": "stdout",
     "output_type": "stream",
     "text": [
      "python\n",
      "python\n"
     ]
    }
   ],
   "source": [
    "s=\"python program\"\n",
    "print(s[0]+s[1]+s[2]+s[3]+s[4]+s[5])\n",
    "print(s[0:6])"
   ]
  },
  {
   "cell_type": "code",
   "execution_count": 10,
   "metadata": {},
   "outputs": [
    {
     "name": "stdout",
     "output_type": "stream",
     "text": [
      "python prog\n",
      "\n"
     ]
    }
   ],
   "source": [
    "string=\"python programs\"\n",
    "print(s[0:11])\n",
    "print(s[-1:5])"
   ]
  },
  {
   "cell_type": "code",
   "execution_count": 12,
   "metadata": {},
   "outputs": [
    {
     "data": {
      "text/plain": [
       "True"
      ]
     },
     "execution_count": 12,
     "metadata": {},
     "output_type": "execute_result"
    }
   ],
   "source": [
    "s=\"python program\"\n",
    "\"python\" in s"
   ]
  },
  {
   "cell_type": "code",
   "execution_count": 17,
   "metadata": {},
   "outputs": [
    {
     "name": "stdout",
     "output_type": "stream",
     "text": [
      "234\n",
      "50\n"
     ]
    }
   ],
   "source": [
    "res=\"port allocation done successfully: client id:234, port:50\"\n",
    "print(res[45:48])\n",
    "print(res[55:57])"
   ]
  },
  {
   "cell_type": "code",
   "execution_count": 18,
   "metadata": {},
   "outputs": [],
   "source": [
    "res=\"port allocation done successfully: client id:234, port:50\"\n",
    "client_id = res[45:48]\n",
    "port = res[55:57]"
   ]
  },
  {
   "cell_type": "code",
   "execution_count": 19,
   "metadata": {},
   "outputs": [
    {
     "name": "stdout",
     "output_type": "stream",
     "text": [
      "python prog\n"
     ]
    }
   ],
   "source": [
    "s=\"python program\"\n",
    "print(s[0:11])"
   ]
  },
  {
   "cell_type": "code",
   "execution_count": 20,
   "metadata": {},
   "outputs": [
    {
     "name": "stdout",
     "output_type": "stream",
     "text": [
      "python prog\n"
     ]
    }
   ],
   "source": [
    "s=\"python program\"\n",
    "print(s[0:11:1])"
   ]
  },
  {
   "cell_type": "code",
   "execution_count": 21,
   "metadata": {},
   "outputs": [
    {
     "name": "stdout",
     "output_type": "stream",
     "text": [
      "pto rg\n"
     ]
    }
   ],
   "source": [
    "s=\"python program\"\n",
    "print(s[0:11:2])"
   ]
  },
  {
   "cell_type": "code",
   "execution_count": 23,
   "metadata": {},
   "outputs": [
    {
     "name": "stdout",
     "output_type": "stream",
     "text": [
      "ython prog\n"
     ]
    }
   ],
   "source": [
    "s=\"python program\"\n",
    "print(s[1:11])"
   ]
  },
  {
   "cell_type": "code",
   "execution_count": 24,
   "metadata": {},
   "outputs": [
    {
     "name": "stdout",
     "output_type": "stream",
     "text": [
      "\n"
     ]
    }
   ],
   "source": [
    "s=\"python program\"\n",
    "print(s[11:1])"
   ]
  },
  {
   "cell_type": "code",
   "execution_count": 26,
   "metadata": {},
   "outputs": [
    {
     "name": "stdout",
     "output_type": "stream",
     "text": [
      "n prog\n"
     ]
    }
   ],
   "source": [
    "s=\"python program\"\n",
    "print(s[5:11:1])"
   ]
  },
  {
   "cell_type": "code",
   "execution_count": 27,
   "metadata": {},
   "outputs": [
    {
     "name": "stdout",
     "output_type": "stream",
     "text": [
      "\n"
     ]
    }
   ],
   "source": [
    "s=\"python program\"\n",
    "print(s[5:11:-1])"
   ]
  },
  {
   "cell_type": "code",
   "execution_count": 28,
   "metadata": {},
   "outputs": [
    {
     "name": "stdout",
     "output_type": "stream",
     "text": [
      "\n"
     ]
    }
   ],
   "source": [
    "s=\"python program\"\n",
    "print(s[11:5])"
   ]
  },
  {
   "cell_type": "code",
   "execution_count": 29,
   "metadata": {},
   "outputs": [
    {
     "name": "stdout",
     "output_type": "stream",
     "text": [
      "rgorp \n"
     ]
    }
   ],
   "source": [
    "s=\"python program\"\n",
    "print(s[11:5:-1])"
   ]
  },
  {
   "cell_type": "code",
   "execution_count": 31,
   "metadata": {},
   "outputs": [
    {
     "name": "stdout",
     "output_type": "stream",
     "text": [
      "arg\n",
      "pro\n"
     ]
    }
   ],
   "source": [
    "s=\"python program\"\n",
    "#arg\n",
    "#pro\n",
    "#margorp nohtyp\n",
    "#nohtyp\n",
    "#margorp\n",
    "#nohtyp margorp\n",
    "#thon\n",
    "print(s[12:9:-1])\n",
    "print(s[7:10])"
   ]
  },
  {
   "cell_type": "code",
   "execution_count": 32,
   "metadata": {},
   "outputs": [
    {
     "name": "stdout",
     "output_type": "stream",
     "text": [
      "python pro\n"
     ]
    }
   ],
   "source": [
    "s=\"python program\"\n",
    "print(s[0:10])"
   ]
  },
  {
   "cell_type": "code",
   "execution_count": 33,
   "metadata": {},
   "outputs": [
    {
     "name": "stdout",
     "output_type": "stream",
     "text": [
      "python pro\n"
     ]
    }
   ],
   "source": [
    "s=\"python program\"\n",
    "print(s[:10:1])"
   ]
  },
  {
   "cell_type": "code",
   "execution_count": 34,
   "metadata": {},
   "outputs": [
    {
     "name": "stdout",
     "output_type": "stream",
     "text": [
      "mar\n"
     ]
    }
   ],
   "source": [
    "s=\"python program\"\n",
    "print(s[:10:-1])"
   ]
  },
  {
   "cell_type": "code",
   "execution_count": 35,
   "metadata": {},
   "outputs": [
    {
     "name": "stdout",
     "output_type": "stream",
     "text": [
      "python program\n"
     ]
    }
   ],
   "source": [
    "s=\"python program\"\n",
    "print(s[0:])"
   ]
  },
  {
   "cell_type": "code",
   "execution_count": 36,
   "metadata": {},
   "outputs": [
    {
     "name": "stdout",
     "output_type": "stream",
     "text": [
      "n program\n"
     ]
    }
   ],
   "source": [
    "s=\"python program\"\n",
    "print(s[5:])"
   ]
  },
  {
   "cell_type": "code",
   "execution_count": 37,
   "metadata": {},
   "outputs": [
    {
     "name": "stdout",
     "output_type": "stream",
     "text": [
      "nohtyp\n"
     ]
    }
   ],
   "source": [
    "s=\"python program\"\n",
    "print(s[5::-1])"
   ]
  },
  {
   "cell_type": "code",
   "execution_count": 38,
   "metadata": {},
   "outputs": [
    {
     "name": "stdout",
     "output_type": "stream",
     "text": [
      "nohtyp margorp\n"
     ]
    }
   ],
   "source": [
    "s=\"python program\"\n",
    "print(s[5::-1],s[:6:-1])"
   ]
  },
  {
   "cell_type": "code",
   "execution_count": 39,
   "metadata": {},
   "outputs": [
    {
     "name": "stdout",
     "output_type": "stream",
     "text": [
      "python program\n"
     ]
    }
   ],
   "source": [
    "print(s[:])"
   ]
  },
  {
   "cell_type": "code",
   "execution_count": 40,
   "metadata": {},
   "outputs": [
    {
     "name": "stdout",
     "output_type": "stream",
     "text": [
      "margorp nohtyp\n"
     ]
    }
   ],
   "source": [
    "print(s[::-1])"
   ]
  },
  {
   "cell_type": "code",
   "execution_count": 41,
   "metadata": {},
   "outputs": [
    {
     "name": "stdout",
     "output_type": "stream",
     "text": [
      "mropnhy\n"
     ]
    }
   ],
   "source": [
    "print(s[::-2])"
   ]
  },
  {
   "cell_type": "code",
   "execution_count": 42,
   "metadata": {},
   "outputs": [
    {
     "name": "stdout",
     "output_type": "stream",
     "text": [
      "pto rga\n"
     ]
    }
   ],
   "source": [
    "print(s[::2])"
   ]
  },
  {
   "cell_type": "code",
   "execution_count": null,
   "metadata": {},
   "outputs": [],
   "source": [
    "\"\"\"\n",
    "take four number from the user\n",
    " Do the below operations\n",
    " (a+b)**2, (c+d)**3\n",
    "variance\n",
    "standard deviation: sqrt(variance):  User math module. Math.sqrt(variance)\n",
    "Regression\n",
    "\ty=mx+b\n",
    "          All a,b,c,d are consider as (x1,x2,x3,x4)\n",
    "          m=1.23\n",
    "          b=0.045\n",
    "          find out y\n",
    "          y=m*(x1+x2+x3+x4)+b\n",
    " Find the average of four numbers\n",
    "Find the sum of four numbers\n",
    "\"\"\"\n"
   ]
  },
  {
   "cell_type": "code",
   "execution_count": 1,
   "metadata": {},
   "outputs": [],
   "source": [
    "s=\"python program\"\n"
   ]
  },
  {
   "cell_type": "code",
   "execution_count": 2,
   "metadata": {},
   "outputs": [
    {
     "data": {
      "text/plain": [
       "'Python program'"
      ]
     },
     "execution_count": 2,
     "metadata": {},
     "output_type": "execute_result"
    }
   ],
   "source": [
    "s.capitalize()"
   ]
  },
  {
   "cell_type": "code",
   "execution_count": 3,
   "metadata": {},
   "outputs": [
    {
     "name": "stdout",
     "output_type": "stream",
     "text": [
      "Python program\n"
     ]
    }
   ],
   "source": [
    "s=\"python prOGRAM\"\n",
    "print(s.capitalize())"
   ]
  },
  {
   "cell_type": "code",
   "execution_count": 4,
   "metadata": {},
   "outputs": [
    {
     "name": "stdout",
     "output_type": "stream",
     "text": [
      "@python program\n"
     ]
    }
   ],
   "source": [
    "s=\"@python prOGRAM\"\n",
    "print(s.capitalize())"
   ]
  },
  {
   "cell_type": "code",
   "execution_count": 6,
   "metadata": {},
   "outputs": [
    {
     "name": "stdout",
     "output_type": "stream",
     "text": [
      "12python program\n"
     ]
    }
   ],
   "source": [
    "s=\"12python prOGRAM\"\n",
    "print(s.capitalize())"
   ]
  },
  {
   "cell_type": "code",
   "execution_count": 7,
   "metadata": {},
   "outputs": [
    {
     "name": "stdout",
     "output_type": "stream",
     "text": [
      "Python Program\n"
     ]
    }
   ],
   "source": [
    "s=\"python prOGRAM\"\n",
    "print(s.title())"
   ]
  },
  {
   "cell_type": "code",
   "execution_count": 8,
   "metadata": {},
   "outputs": [
    {
     "name": "stdout",
     "output_type": "stream",
     "text": [
      "Pyt2Hon P$Rogram\n"
     ]
    }
   ],
   "source": [
    "s=\"pyt2hon p$rOGRAM\"\n",
    "print(s.title())"
   ]
  },
  {
   "cell_type": "code",
   "execution_count": 9,
   "metadata": {},
   "outputs": [
    {
     "name": "stdout",
     "output_type": "stream",
     "text": [
      "\n",
      "\n"
     ]
    }
   ],
   "source": [
    "s=\"\"\n",
    "print(s.capitalize())\n",
    "print(s.title())"
   ]
  },
  {
   "cell_type": "code",
   "execution_count": 10,
   "metadata": {},
   "outputs": [
    {
     "data": {
      "text/plain": [
       "True"
      ]
     },
     "execution_count": 10,
     "metadata": {},
     "output_type": "execute_result"
    }
   ],
   "source": [
    "s1=\"python\"\n",
    "s2=\"python\"\n",
    "s1==s2"
   ]
  },
  {
   "cell_type": "code",
   "execution_count": 11,
   "metadata": {},
   "outputs": [
    {
     "data": {
      "text/plain": [
       "False"
      ]
     },
     "execution_count": 11,
     "metadata": {},
     "output_type": "execute_result"
    }
   ],
   "source": [
    "s1=\"python\"\n",
    "s2=\"PYThon\"\n",
    "s1==s2"
   ]
  },
  {
   "cell_type": "code",
   "execution_count": 12,
   "metadata": {},
   "outputs": [
    {
     "data": {
      "text/plain": [
       "True"
      ]
     },
     "execution_count": 12,
     "metadata": {},
     "output_type": "execute_result"
    }
   ],
   "source": [
    "s1=\"python\"\n",
    "s2=\"PYThon\"\n",
    "s1.casefold()==s2.casefold()"
   ]
  },
  {
   "cell_type": "code",
   "execution_count": 13,
   "metadata": {},
   "outputs": [
    {
     "data": {
      "text/plain": [
       "True"
      ]
     },
     "execution_count": 13,
     "metadata": {},
     "output_type": "execute_result"
    }
   ],
   "source": [
    "s1=\"python\"\n",
    "s2=\"PYThon\"\n",
    "s1.lower()==s2.lower()"
   ]
  },
  {
   "cell_type": "code",
   "execution_count": 14,
   "metadata": {},
   "outputs": [
    {
     "data": {
      "text/plain": [
       "True"
      ]
     },
     "execution_count": 14,
     "metadata": {},
     "output_type": "execute_result"
    }
   ],
   "source": [
    "s1=\"python\"\n",
    "s2=\"PYThon\"\n",
    "s1.upper()==s2.upper()"
   ]
  },
  {
   "cell_type": "code",
   "execution_count": 15,
   "metadata": {},
   "outputs": [
    {
     "data": {
      "text/plain": [
       "'1234567'"
      ]
     },
     "execution_count": 15,
     "metadata": {},
     "output_type": "execute_result"
    }
   ],
   "source": [
    "s=\"1234567\"\n",
    "s.casefold()"
   ]
  },
  {
   "cell_type": "code",
   "execution_count": 16,
   "metadata": {},
   "outputs": [
    {
     "data": {
      "text/plain": [
       "'@#$%^'"
      ]
     },
     "execution_count": 16,
     "metadata": {},
     "output_type": "execute_result"
    }
   ],
   "source": [
    "s=\"@#$%^\"\n",
    "s.casefold()"
   ]
  },
  {
   "cell_type": "code",
   "execution_count": 17,
   "metadata": {},
   "outputs": [
    {
     "name": "stdout",
     "output_type": "stream",
     "text": [
      "pyton pogram\n",
      "pyton pogram\n",
      "PYTON POGRAM\n"
     ]
    }
   ],
   "source": [
    "s=\"pyton POGRam\"\n",
    "print(s.casefold())\n",
    "print(s.lower())\n",
    "print(s.upper())"
   ]
  },
  {
   "cell_type": "code",
   "execution_count": 18,
   "metadata": {},
   "outputs": [
    {
     "name": "stdout",
     "output_type": "stream",
     "text": [
      "                                                python program                                                \n",
      "python program                                                                                                \n",
      "                                                                                                python program\n"
     ]
    }
   ],
   "source": [
    "s=\"python program\"\n",
    "print(s.center(110))\n",
    "print(s.ljust(110))\n",
    "print(s.rjust(110))"
   ]
  },
  {
   "cell_type": "code",
   "execution_count": 20,
   "metadata": {},
   "outputs": [
    {
     "name": "stdout",
     "output_type": "stream",
     "text": [
      "************************************************python program************************************************\n",
      "python program&&&&&&&&&&&&&&&&&&&&&&&&&&&&&&&&&&&&&&&&&&&&&&&&&&&&&&&&&&&&&&&&&&&&&&&&&&&&&&&&&&&&&&&&&&&&&&&&\n",
      "################################################################################################python program\n"
     ]
    }
   ],
   "source": [
    "s=\"python program\"\n",
    "print(s.center(110,\"*\"))\n",
    "print(s.ljust(110,\"&\"))\n",
    "print(s.rjust(110,\"#\"))"
   ]
  },
  {
   "cell_type": "code",
   "execution_count": 21,
   "metadata": {},
   "outputs": [
    {
     "name": "stdout",
     "output_type": "stream",
     "text": [
      "python program\n",
      "python program\n",
      "python program\n"
     ]
    }
   ],
   "source": [
    "s=\"python program\"\n",
    "print(s.center(10,\"*\"))\n",
    "print(s.ljust(10,\"&\"))\n",
    "print(s.rjust(10,\"#\"))"
   ]
  },
  {
   "cell_type": "code",
   "execution_count": 22,
   "metadata": {},
   "outputs": [
    {
     "name": "stdout",
     "output_type": "stream",
     "text": [
      "1\n"
     ]
    }
   ],
   "source": [
    "s=\"python is pure object oriented programing language\"\n",
    "print(s.count(\"python\"))"
   ]
  },
  {
   "cell_type": "code",
   "execution_count": 23,
   "metadata": {},
   "outputs": [
    {
     "name": "stdout",
     "output_type": "stream",
     "text": [
      "3\n"
     ]
    }
   ],
   "source": [
    "s=\"python is pure object oriented programing language\"\n",
    "print(s.count(\"p\"))"
   ]
  },
  {
   "cell_type": "code",
   "execution_count": 24,
   "metadata": {},
   "outputs": [
    {
     "name": "stdout",
     "output_type": "stream",
     "text": [
      "0\n"
     ]
    }
   ],
   "source": [
    "s=\"python is pure object oriented programing language\"\n",
    "print(s.count(\"ton\"))"
   ]
  },
  {
   "cell_type": "code",
   "execution_count": 25,
   "metadata": {},
   "outputs": [
    {
     "name": "stdout",
     "output_type": "stream",
     "text": [
      "0\n"
     ]
    }
   ],
   "source": [
    "s=\"python is pure object oriented programing language\"\n",
    "print(s.count(\"java\"))"
   ]
  },
  {
   "cell_type": "code",
   "execution_count": 26,
   "metadata": {},
   "outputs": [
    {
     "name": "stdout",
     "output_type": "stream",
     "text": [
      "0\n"
     ]
    }
   ],
   "source": [
    "s=\"python is pure object oriented programing language\"\n",
    "print(s.count(\"PYTHON\"))"
   ]
  },
  {
   "cell_type": "code",
   "execution_count": 27,
   "metadata": {},
   "outputs": [
    {
     "name": "stdout",
     "output_type": "stream",
     "text": [
      "1\n"
     ]
    }
   ],
   "source": [
    "s=\"python is pure object oriented programing language\"\n",
    "s=s.casefold()\n",
    "sub=\"PYTHON\"\n",
    "sub=sub.casefold()\n",
    "print(s.count(sub))"
   ]
  },
  {
   "cell_type": "code",
   "execution_count": 28,
   "metadata": {},
   "outputs": [
    {
     "data": {
      "text/plain": [
       "1"
      ]
     },
     "execution_count": 28,
     "metadata": {},
     "output_type": "execute_result"
    }
   ],
   "source": [
    "s=\"python program\"\n",
    "s.count(\" \")"
   ]
  },
  {
   "cell_type": "code",
   "execution_count": 29,
   "metadata": {},
   "outputs": [
    {
     "data": {
      "text/plain": [
       "15"
      ]
     },
     "execution_count": 29,
     "metadata": {},
     "output_type": "execute_result"
    }
   ],
   "source": [
    "s=\"python program\"\n",
    "s.count(\"\")"
   ]
  },
  {
   "cell_type": "code",
   "execution_count": 30,
   "metadata": {},
   "outputs": [
    {
     "data": {
      "text/plain": [
       "14"
      ]
     },
     "execution_count": 30,
     "metadata": {},
     "output_type": "execute_result"
    }
   ],
   "source": [
    "len(s)"
   ]
  },
  {
   "cell_type": "code",
   "execution_count": 31,
   "metadata": {},
   "outputs": [
    {
     "data": {
      "text/plain": [
       "'abCD abCD abCD abCD abCD abCD abCD'"
      ]
     },
     "execution_count": 31,
     "metadata": {},
     "output_type": "execute_result"
    }
   ],
   "source": [
    "s=\"abcd abcd abcd abcd abcd abcd abcd\"\n",
    "s.replace(\"cd\",\"CD\")"
   ]
  },
  {
   "cell_type": "code",
   "execution_count": 32,
   "metadata": {},
   "outputs": [
    {
     "data": {
      "text/plain": [
       "'abCD abCD abCD abcd abcd abcd abcd'"
      ]
     },
     "execution_count": 32,
     "metadata": {},
     "output_type": "execute_result"
    }
   ],
   "source": [
    "s=\"abcd abcd abcd abcd abcd abcd abcd\"\n",
    "s.replace(\"cd\",\"CD\",3)"
   ]
  },
  {
   "cell_type": "code",
   "execution_count": 33,
   "metadata": {},
   "outputs": [
    {
     "data": {
      "text/plain": [
       "'abcd abcd abcd abcd abcd abcd abcd'"
      ]
     },
     "execution_count": 33,
     "metadata": {},
     "output_type": "execute_result"
    }
   ],
   "source": [
    "s=\"abcd abcd abcd abcd abcd abcd abcd\"\n",
    "s.replace(\"ef\",\"CD\",3)"
   ]
  },
  {
   "cell_type": "code",
   "execution_count": 34,
   "metadata": {},
   "outputs": [
    {
     "data": {
      "text/plain": [
       "'abCD abCD abCD abcd abcd abcd abcd'"
      ]
     },
     "execution_count": 34,
     "metadata": {},
     "output_type": "execute_result"
    }
   ],
   "source": [
    "s=\"abcd abcd abcd abcd abcd abcd abcd\"\n",
    "s.replace(\"cd\",\"CD\",3)"
   ]
  },
  {
   "cell_type": "code",
   "execution_count": 35,
   "metadata": {},
   "outputs": [
    {
     "data": {
      "text/plain": [
       "'abCD abCD abCD abCD abCD abCD abCD'"
      ]
     },
     "execution_count": 35,
     "metadata": {},
     "output_type": "execute_result"
    }
   ],
   "source": [
    "s=\"abcd abcd abcd abcd abcd abcd abcd\"\n",
    "s.replace(\"cd\",\"CD\",-3)"
   ]
  },
  {
   "cell_type": "code",
   "execution_count": 36,
   "metadata": {},
   "outputs": [
    {
     "data": {
      "text/plain": [
       "'abcd$abcd$abcd$abcd$abcd$abcd$abcd'"
      ]
     },
     "execution_count": 36,
     "metadata": {},
     "output_type": "execute_result"
    }
   ],
   "source": [
    "s=\"abcd abcd abcd abcd abcd abcd abcd\"\n",
    "s.replace(\" \",\"$\")"
   ]
  },
  {
   "cell_type": "code",
   "execution_count": 37,
   "metadata": {},
   "outputs": [
    {
     "data": {
      "text/plain": [
       "'$a$b$c$d$ $a$b$c$d$ $a$b$c$d$ $a$b$c$d$ $a$b$c$d$ $a$b$c$d$ $a$b$c$d$'"
      ]
     },
     "execution_count": 37,
     "metadata": {},
     "output_type": "execute_result"
    }
   ],
   "source": [
    "s=\"abcd abcd abcd abcd abcd abcd abcd\"\n",
    "s.replace(\"\",\"$\")"
   ]
  },
  {
   "cell_type": "code",
   "execution_count": 38,
   "metadata": {},
   "outputs": [
    {
     "name": "stdout",
     "output_type": "stream",
     "text": [
      "7\n"
     ]
    }
   ],
   "source": [
    "s=\"python\"\n",
    "print(s.count(\"\"))"
   ]
  },
  {
   "cell_type": "code",
   "execution_count": 39,
   "metadata": {},
   "outputs": [
    {
     "name": "stdout",
     "output_type": "stream",
     "text": [
      "enter sub string:p\n",
      "1\n"
     ]
    }
   ],
   "source": [
    "s=\"python\"\n",
    "sub=input(\"enter sub string:\")\n",
    "print(s.count(sub))"
   ]
  },
  {
   "cell_type": "code",
   "execution_count": 40,
   "metadata": {},
   "outputs": [
    {
     "name": "stdout",
     "output_type": "stream",
     "text": [
      "enter sub string:\n",
      "7\n"
     ]
    }
   ],
   "source": [
    "s=\"python\"\n",
    "sub=input(\"enter sub string:\")\n",
    "print(s.count(sub))"
   ]
  },
  {
   "cell_type": "code",
   "execution_count": 41,
   "metadata": {},
   "outputs": [
    {
     "name": "stdout",
     "output_type": "stream",
     "text": [
      "enter sub string:python\n",
      "1\n"
     ]
    }
   ],
   "source": [
    "s=\"python\"\n",
    "sub=input(\"enter sub string:\")\n",
    "if sub:\n",
    "    print(s.count(sub))\n",
    "else:\n",
    "    print(\"Invalid substring\")"
   ]
  },
  {
   "cell_type": "code",
   "execution_count": 42,
   "metadata": {},
   "outputs": [
    {
     "name": "stdout",
     "output_type": "stream",
     "text": [
      "enter sub string:\n",
      "Invalid substring\n"
     ]
    }
   ],
   "source": [
    "s=\"python\"\n",
    "sub=input(\"enter sub string:\")\n",
    "if sub:\n",
    "    print(s.count(sub))\n",
    "else:\n",
    "    print(\"Invalid substring\")"
   ]
  },
  {
   "cell_type": "code",
   "execution_count": 43,
   "metadata": {},
   "outputs": [
    {
     "name": "stdout",
     "output_type": "stream",
     "text": [
      "True\n",
      "False\n"
     ]
    }
   ],
   "source": [
    "s=\"python program\"\n",
    "print(s.startswith(\"python\"))\n",
    "print(s.endswith(\"python\"))"
   ]
  },
  {
   "cell_type": "code",
   "execution_count": 44,
   "metadata": {},
   "outputs": [
    {
     "name": "stdout",
     "output_type": "stream",
     "text": [
      "False\n",
      "True\n"
     ]
    }
   ],
   "source": [
    "s=\"python program\"\n",
    "print(s.startswith(\"gram\"))\n",
    "print(s.endswith(\"gram\"))"
   ]
  },
  {
   "cell_type": "code",
   "execution_count": 47,
   "metadata": {},
   "outputs": [
    {
     "data": {
      "text/plain": [
       "True"
      ]
     },
     "execution_count": 47,
     "metadata": {},
     "output_type": "execute_result"
    }
   ],
   "source": [
    "email=\"sambapython@gmail.com\"\n",
    "email.endswith(\"gmail.com\")"
   ]
  },
  {
   "cell_type": "code",
   "execution_count": 48,
   "metadata": {},
   "outputs": [
    {
     "data": {
      "text/plain": [
       "False"
      ]
     },
     "execution_count": 48,
     "metadata": {},
     "output_type": "execute_result"
    }
   ],
   "source": [
    "email=\"sambapython@yahoo.com\"\n",
    "email.endswith(\"gmail.com\")"
   ]
  },
  {
   "cell_type": "code",
   "execution_count": 49,
   "metadata": {},
   "outputs": [
    {
     "name": "stdout",
     "output_type": "stream",
     "text": [
      "True\n",
      "True\n"
     ]
    }
   ],
   "source": [
    "s=\"python program\"\n",
    "print(s.startswith(\"\"))\n",
    "print(s.endswith(\"\"))"
   ]
  },
  {
   "cell_type": "code",
   "execution_count": 50,
   "metadata": {},
   "outputs": [
    {
     "name": "stdout",
     "output_type": "stream",
     "text": [
      "7\n",
      "7\n",
      "7\n",
      "7\n"
     ]
    }
   ],
   "source": [
    "s=\"python program\"\n",
    "print(s.find(\"pro\"))\n",
    "print(s.rfind(\"pro\"))\n",
    "print(s.index(\"pro\"))\n",
    "print(s.rindex(\"pro\"))"
   ]
  },
  {
   "cell_type": "code",
   "execution_count": 51,
   "metadata": {},
   "outputs": [
    {
     "name": "stdout",
     "output_type": "stream",
     "text": [
      "0\n",
      "7\n",
      "0\n",
      "7\n"
     ]
    }
   ],
   "source": [
    "s=\"python program\"\n",
    "print(s.find(\"p\"))\n",
    "print(s.rfind(\"p\"))\n",
    "print(s.index(\"p\"))\n",
    "print(s.rindex(\"p\"))"
   ]
  },
  {
   "cell_type": "code",
   "execution_count": 52,
   "metadata": {},
   "outputs": [
    {
     "name": "stdout",
     "output_type": "stream",
     "text": [
      "0\n",
      "26\n",
      "0\n",
      "26\n"
     ]
    }
   ],
   "source": [
    "s=\"abcd abcd abcda abcd abcd abcd\"\n",
    "print(s.find(\"abcd\"))\n",
    "print(s.rfind(\"abcd\"))\n",
    "print(s.index(\"abcd\"))\n",
    "print(s.rindex(\"abcd\"))"
   ]
  },
  {
   "cell_type": "code",
   "execution_count": 53,
   "metadata": {},
   "outputs": [
    {
     "name": "stdout",
     "output_type": "stream",
     "text": [
      "1\n",
      "27\n",
      "1\n",
      "27\n"
     ]
    }
   ],
   "source": [
    "s=\"abcd abcd abcda abcd abcd abcd\"\n",
    "print(s.find(\"b\"))\n",
    "print(s.rfind(\"b\"))\n",
    "print(s.index(\"b\"))\n",
    "print(s.rindex(\"b\"))"
   ]
  },
  {
   "cell_type": "code",
   "execution_count": 54,
   "metadata": {},
   "outputs": [
    {
     "name": "stdout",
     "output_type": "stream",
     "text": [
      "1\n",
      "27\n",
      "1\n",
      "27\n"
     ]
    }
   ],
   "source": [
    "s=\"abcd abcd abcda abcd abcd abcd\"\n",
    "print(s.find(\"bc\"))\n",
    "print(s.rfind(\"bc\"))\n",
    "print(s.index(\"bc\"))\n",
    "print(s.rindex(\"bc\"))"
   ]
  },
  {
   "cell_type": "code",
   "execution_count": 55,
   "metadata": {},
   "outputs": [
    {
     "name": "stdout",
     "output_type": "stream",
     "text": [
      "-1\n",
      "-1\n"
     ]
    },
    {
     "ename": "ValueError",
     "evalue": "substring not found",
     "output_type": "error",
     "traceback": [
      "\u001b[0;31m---------------------------------------------------------------------------\u001b[0m",
      "\u001b[0;31mValueError\u001b[0m                                Traceback (most recent call last)",
      "\u001b[0;32m<ipython-input-55-d66af76c6397>\u001b[0m in \u001b[0;36m<module>\u001b[0;34m()\u001b[0m\n\u001b[1;32m      2\u001b[0m \u001b[0mprint\u001b[0m\u001b[0;34m(\u001b[0m\u001b[0ms\u001b[0m\u001b[0;34m.\u001b[0m\u001b[0mfind\u001b[0m\u001b[0;34m(\u001b[0m\u001b[0;34m\"BC\"\u001b[0m\u001b[0;34m)\u001b[0m\u001b[0;34m)\u001b[0m\u001b[0;34m\u001b[0m\u001b[0m\n\u001b[1;32m      3\u001b[0m \u001b[0mprint\u001b[0m\u001b[0;34m(\u001b[0m\u001b[0ms\u001b[0m\u001b[0;34m.\u001b[0m\u001b[0mrfind\u001b[0m\u001b[0;34m(\u001b[0m\u001b[0;34m\"BC\"\u001b[0m\u001b[0;34m)\u001b[0m\u001b[0;34m)\u001b[0m\u001b[0;34m\u001b[0m\u001b[0m\n\u001b[0;32m----> 4\u001b[0;31m \u001b[0mprint\u001b[0m\u001b[0;34m(\u001b[0m\u001b[0ms\u001b[0m\u001b[0;34m.\u001b[0m\u001b[0mindex\u001b[0m\u001b[0;34m(\u001b[0m\u001b[0;34m\"BC\"\u001b[0m\u001b[0;34m)\u001b[0m\u001b[0;34m)\u001b[0m\u001b[0;34m\u001b[0m\u001b[0m\n\u001b[0m\u001b[1;32m      5\u001b[0m \u001b[0mprint\u001b[0m\u001b[0;34m(\u001b[0m\u001b[0ms\u001b[0m\u001b[0;34m.\u001b[0m\u001b[0mrindex\u001b[0m\u001b[0;34m(\u001b[0m\u001b[0;34m\"BC\"\u001b[0m\u001b[0;34m)\u001b[0m\u001b[0;34m)\u001b[0m\u001b[0;34m\u001b[0m\u001b[0m\n",
      "\u001b[0;31mValueError\u001b[0m: substring not found"
     ]
    }
   ],
   "source": [
    "s=\"abcd abcd abcda abcd abcd abcd\"\n",
    "print(s.find(\"BC\"))\n",
    "print(s.rfind(\"BC\"))\n",
    "print(s.index(\"BC\"))\n",
    "print(s.rindex(\"BC\"))"
   ]
  },
  {
   "cell_type": "code",
   "execution_count": 56,
   "metadata": {},
   "outputs": [
    {
     "name": "stdout",
     "output_type": "stream",
     "text": [
      "6\n"
     ]
    }
   ],
   "source": [
    "s=\"abcd abcd abcda abcd abcd abcd\"\n",
    "print(s.find(\"bc\",5))"
   ]
  },
  {
   "cell_type": "code",
   "execution_count": 57,
   "metadata": {},
   "outputs": [
    {
     "name": "stdout",
     "output_type": "stream",
     "text": [
      "11\n"
     ]
    }
   ],
   "source": [
    "s=\"abcd abcd abcda abcd abcd abcd\"\n",
    "print(s.find(\"bc\",7))"
   ]
  },
  {
   "cell_type": "code",
   "execution_count": 58,
   "metadata": {},
   "outputs": [
    {
     "name": "stdout",
     "output_type": "stream",
     "text": [
      "0\n",
      "0\n"
     ]
    }
   ],
   "source": [
    "s=\"abcd abcd abcda abcd abcd abcd\"\n",
    "print(s.find(\"a\"))\n",
    "print(s.find(\"\"))"
   ]
  },
  {
   "cell_type": "code",
   "execution_count": 61,
   "metadata": {},
   "outputs": [
    {
     "name": "stdout",
     "output_type": "stream",
     "text": [
      "Enter substring:bc\n",
      "Enter occurance:3\n",
      "11\n"
     ]
    }
   ],
   "source": [
    "sub=input(\"Enter substring:\")\n",
    "if sub:\n",
    "    n=input(\"Enter occurance:\")\n",
    "    n=int(n)\n",
    "    n= n if n else 1\n",
    "    i=0\n",
    "    index=0\n",
    "    while i<n:\n",
    "        index=s.find(sub,index)\n",
    "        index=index+1\n",
    "        i=i+1\n",
    "    print(index-1)\n",
    "else:\n",
    "    print(\"invalid string\")\n",
    "\n"
   ]
  },
  {
   "cell_type": "code",
   "execution_count": 62,
   "metadata": {},
   "outputs": [
    {
     "name": "stdout",
     "output_type": "stream",
     "text": [
      "Enter substring:BC\n",
      "Enter occurance:3\n",
      "11\n"
     ]
    }
   ],
   "source": [
    "s=\"abcd abcd abcda abcd abcd abcd\"\n",
    "sub=input(\"Enter substring:\")\n",
    "if sub:\n",
    "    n=input(\"Enter occurance:\")\n",
    "    n=int(n)\n",
    "    n= n if n else 1\n",
    "    i=0\n",
    "    index=0\n",
    "    while i<n:\n",
    "        index=s.casefold().find(sub.casefold(),index)\n",
    "        index=index+1\n",
    "        i=i+1\n",
    "    print(index-1)\n",
    "else:\n",
    "    print(\"invalid string\")"
   ]
  },
  {
   "cell_type": "code",
   "execution_count": 63,
   "metadata": {},
   "outputs": [
    {
     "name": "stdout",
     "output_type": "stream",
     "text": [
      "Enter substring:BC\n",
      "Enter occurance:20\n",
      "27\n"
     ]
    }
   ],
   "source": [
    "s=\"abcd abcd abcda abcd abcd abcd\"\n",
    "sub=input(\"Enter substring:\")\n",
    "if sub:\n",
    "    n=input(\"Enter occurance:\")\n",
    "    n=int(n)\n",
    "    n= n if n else 1\n",
    "    i=0\n",
    "    index=0\n",
    "    while i<n:\n",
    "        index=s.casefold().find(sub.casefold(),index)\n",
    "        index=index+1\n",
    "        i=i+1\n",
    "    print(index-1)\n",
    "else:\n",
    "    print(\"invalid string\")"
   ]
  },
  {
   "cell_type": "code",
   "execution_count": 64,
   "metadata": {},
   "outputs": [
    {
     "name": "stdout",
     "output_type": "stream",
     "text": [
      "Enter substring:BC\n",
      "Enter occurance:20\n",
      "invalide occurance..\n"
     ]
    }
   ],
   "source": [
    "s=\"abcd abcd abcda abcd abcd abcd\"\n",
    "sub=input(\"Enter substring:\")\n",
    "s=s.casefold()\n",
    "sub=sub.casefold()\n",
    "if sub:\n",
    "    n=input(\"Enter occurance:\")\n",
    "    n=int(n)\n",
    "    if s.count(sub)>n:\n",
    "        n= n if n else 1\n",
    "        i=0\n",
    "        index=0\n",
    "        while i<n:\n",
    "            index=s.find(sub,index)\n",
    "            index=index+1\n",
    "            i=i+1\n",
    "        print(index-1)\n",
    "    else:\n",
    "        print(\"invalide occurance..\")\n",
    "else:\n",
    "    print(\"invalid string\")"
   ]
  },
  {
   "cell_type": "code",
   "execution_count": 65,
   "metadata": {},
   "outputs": [
    {
     "name": "stdout",
     "output_type": "stream",
     "text": [
      "The person details: Name:SAI, Age:29, Height:5.68, Weight:60.23\n",
      "The person details: Name:SAI, Age:29.45, Height:5.679, Weight:60.23456\n"
     ]
    }
   ],
   "source": [
    "name=\"SAI\"\n",
    "age=29.45\n",
    "height=5.679\n",
    "weight=60.23456\n",
    "print(\"The person details: Name:%s, Age:%d, Height:%.2f, Weight:%.2f\"%(name,age,height,weight))\n",
    "print(f\"The person details: Name:{name}, Age:{age}, Height:{height}, Weight:{weight}\")"
   ]
  },
  {
   "cell_type": "code",
   "execution_count": 66,
   "metadata": {},
   "outputs": [
    {
     "name": "stdout",
     "output_type": "stream",
     "text": [
      "The person details: Name:SAI, Age:29, Height:5.68, Weight:60.23\n"
     ]
    },
    {
     "ename": "ValueError",
     "evalue": "Invalid format specifier",
     "output_type": "error",
     "traceback": [
      "\u001b[0;31m---------------------------------------------------------------------------\u001b[0m",
      "\u001b[0;31mValueError\u001b[0m                                Traceback (most recent call last)",
      "\u001b[0;32m<ipython-input-66-7e0c4986061a>\u001b[0m in \u001b[0;36m<module>\u001b[0;34m()\u001b[0m\n\u001b[1;32m      4\u001b[0m \u001b[0mweight\u001b[0m\u001b[0;34m=\u001b[0m\u001b[0;36m60.23456\u001b[0m\u001b[0;34m\u001b[0m\u001b[0m\n\u001b[1;32m      5\u001b[0m \u001b[0mprint\u001b[0m\u001b[0;34m(\u001b[0m\u001b[0;34m\"The person details: Name:%s, Age:%d, Height:%.2f, Weight:%.2f\"\u001b[0m\u001b[0;34m%\u001b[0m\u001b[0;34m(\u001b[0m\u001b[0mname\u001b[0m\u001b[0;34m,\u001b[0m\u001b[0mage\u001b[0m\u001b[0;34m,\u001b[0m\u001b[0mheight\u001b[0m\u001b[0;34m,\u001b[0m\u001b[0mweight\u001b[0m\u001b[0;34m)\u001b[0m\u001b[0;34m)\u001b[0m\u001b[0;34m\u001b[0m\u001b[0m\n\u001b[0;32m----> 6\u001b[0;31m \u001b[0mprint\u001b[0m\u001b[0;34m(\u001b[0m\u001b[0;34mf\"The person details: Name:{name}, Age:{age:%d}, Height:{height}, Weight:{weight}\"\u001b[0m\u001b[0;34m)\u001b[0m\u001b[0;34m\u001b[0m\u001b[0m\n\u001b[0m",
      "\u001b[0;31mValueError\u001b[0m: Invalid format specifier"
     ]
    }
   ],
   "source": [
    "name=\"SAI\"\n",
    "age=29.45\n",
    "height=5.679\n",
    "weight=60.23456\n",
    "print(\"The person details: Name:%s, Age:%d, Height:%.2f, Weight:%.2f\"%(name,age,height,weight))\n",
    "print(f\"The person details: Name:{name}, Age:{age:%d}, Height:{height}, Weight:{weight}\")"
   ]
  },
  {
   "cell_type": "code",
   "execution_count": 67,
   "metadata": {},
   "outputs": [
    {
     "name": "stdout",
     "output_type": "stream",
     "text": [
      "The person details: Name:SAI, Age:29, Height:5.68, Weight:60.23\n",
      "The person details: Name:SAI, Age:29.45, Height:5.679, Weight:60.23456\n",
      "The person details: Name:SAI,\n"
     ]
    }
   ],
   "source": [
    "name=\"SAI\"\n",
    "age=29.45\n",
    "height=5.679\n",
    "weight=60.23456\n",
    "print(\"The person details: Name:%s, Age:%d, Height:%.2f, Weight:%.2f\"%(name,age,height,weight))\n",
    "print(f\"The person details: Name:{name}, Age:{age}, Height:{height}, Weight:{weight}\")\n",
    "print(\"The person details: Name:{0},\".format(name))"
   ]
  },
  {
   "cell_type": "code",
   "execution_count": 68,
   "metadata": {},
   "outputs": [
    {
     "name": "stdout",
     "output_type": "stream",
     "text": [
      "The person details: Name:SAI, Age:29, Height:5.68, Weight:60.23\n",
      "The person details: Name:SAI, Age:29.45, Height:5.679, Weight:60.23456\n",
      "The person details: Name:SAI, Age:29.45\n"
     ]
    }
   ],
   "source": [
    "name=\"SAI\"\n",
    "age=29.45\n",
    "height=5.679\n",
    "weight=60.23456\n",
    "print(\"The person details: Name:%s, Age:%d, Height:%.2f, Weight:%.2f\"%(name,age,height,weight))\n",
    "print(f\"The person details: Name:{name}, Age:{age}, Height:{height}, Weight:{weight}\")\n",
    "print(\"The person details: Name:{0}, Age:{1}\".format(name,age))"
   ]
  },
  {
   "cell_type": "code",
   "execution_count": 72,
   "metadata": {},
   "outputs": [
    {
     "name": "stdout",
     "output_type": "stream",
     "text": [
      "The person details: Name:SAI, Age:29, Height:5.68, Weight:60.23\n",
      "The person details: Name:SAI, Age:29.45, Height:5.679, Weight:60.23456\n",
      "The person details: Name:SAI, Age:29\n"
     ]
    }
   ],
   "source": [
    "name=\"SAI\"\n",
    "age=29.45\n",
    "height=5.679\n",
    "weight=60.23456\n",
    "print(\"The person details: Name:%s, Age:%d, Height:%.2f, Weight:%.2f\"%(name,age,height,weight))\n",
    "print(f\"The person details: Name:{name}, Age:{age}, Height:{height}, Weight:{weight}\")\n",
    "print(\"The person details: Name:{0}, Age:{1:.0f}\".format(name,age))"
   ]
  },
  {
   "cell_type": "code",
   "execution_count": 74,
   "metadata": {},
   "outputs": [
    {
     "name": "stdout",
     "output_type": "stream",
     "text": [
      "The person details: Name:SAI, Age:29, Height:5.68, Weight:60.23\n",
      "The person details: Name:SAI, Age:29.45, Height:5.679, Weight:60.23456\n",
      "The person details: Name:SAI, Age:29, Height:5.68, Weight:60.23\n"
     ]
    }
   ],
   "source": [
    "name=\"SAI\"\n",
    "age=29.45\n",
    "height=5.679\n",
    "weight=60.23456\n",
    "print(\"The person details: Name:%s, Age:%d, Height:%.2f, Weight:%.2f\"%(name,age,height,weight))\n",
    "print(f\"The person details: Name:{name}, Age:{age}, Height:{height}, Weight:{weight}\")\n",
    "print(\"The person details: Name:{0}, Age:{1:.0f}, Height:{2:.2f}, Weight:{3:.2f}\".format(name,age,height,weight))"
   ]
  },
  {
   "cell_type": "code",
   "execution_count": 75,
   "metadata": {},
   "outputs": [
    {
     "ename": "ValueError",
     "evalue": "unsupported format character 't' (0x74) at index 14",
     "output_type": "error",
     "traceback": [
      "\u001b[0;31m---------------------------------------------------------------------------\u001b[0m",
      "\u001b[0;31mValueError\u001b[0m                                Traceback (most recent call last)",
      "\u001b[0;32m<ipython-input-75-90385940764a>\u001b[0m in \u001b[0;36m<module>\u001b[0;34m()\u001b[0m\n\u001b[1;32m      3\u001b[0m \u001b[0mheight\u001b[0m\u001b[0;34m=\u001b[0m\u001b[0;36m5.679\u001b[0m\u001b[0;34m\u001b[0m\u001b[0m\n\u001b[1;32m      4\u001b[0m \u001b[0mweight\u001b[0m\u001b[0;34m=\u001b[0m\u001b[0;36m60.23456\u001b[0m\u001b[0;34m\u001b[0m\u001b[0m\n\u001b[0;32m----> 5\u001b[0;31m \u001b[0mprint\u001b[0m\u001b[0;34m(\u001b[0m\u001b[0;34m\"The person de%tails: Name:%s, Age:%d, Height:%.2f, Weight:%.2f\"\u001b[0m\u001b[0;34m%\u001b[0m\u001b[0;34m(\u001b[0m\u001b[0mname\u001b[0m\u001b[0;34m,\u001b[0m\u001b[0mage\u001b[0m\u001b[0;34m,\u001b[0m\u001b[0mheight\u001b[0m\u001b[0;34m,\u001b[0m\u001b[0mweight\u001b[0m\u001b[0;34m)\u001b[0m\u001b[0;34m)\u001b[0m\u001b[0;34m\u001b[0m\u001b[0m\n\u001b[0m",
      "\u001b[0;31mValueError\u001b[0m: unsupported format character 't' (0x74) at index 14"
     ]
    }
   ],
   "source": [
    "name=\"SAI\"\n",
    "age=29.45\n",
    "height=5.679\n",
    "weight=60.23456\n",
    "print(\"The person de%tails: Name:%s, Age:%d, Height:%.2f, Weight:%.2f\"%(name,age,height,weight))"
   ]
  },
  {
   "cell_type": "code",
   "execution_count": 76,
   "metadata": {},
   "outputs": [
    {
     "name": "stdout",
     "output_type": "stream",
     "text": [
      "The person de%tails: Name:SAI, Age:29, Height:5.68, Weight:60.23\n"
     ]
    }
   ],
   "source": [
    "name=\"SAI\"\n",
    "age=29.45\n",
    "height=5.679\n",
    "weight=60.23456\n",
    "print(\"The person de%%tails: Name:%s, Age:%d, Height:%.2f, Weight:%.2f\"%(name,age,height,weight))"
   ]
  },
  {
   "cell_type": "code",
   "execution_count": 77,
   "metadata": {},
   "outputs": [
    {
     "ename": "TypeError",
     "evalue": "not enough arguments for format string",
     "output_type": "error",
     "traceback": [
      "\u001b[0;31m---------------------------------------------------------------------------\u001b[0m",
      "\u001b[0;31mTypeError\u001b[0m                                 Traceback (most recent call last)",
      "\u001b[0;32m<ipython-input-77-3ab0f71695e9>\u001b[0m in \u001b[0;36m<module>\u001b[0;34m()\u001b[0m\n\u001b[1;32m      3\u001b[0m \u001b[0mheight\u001b[0m\u001b[0;34m=\u001b[0m\u001b[0;36m5.679\u001b[0m\u001b[0;34m\u001b[0m\u001b[0m\n\u001b[1;32m      4\u001b[0m \u001b[0mweight\u001b[0m\u001b[0;34m=\u001b[0m\u001b[0;36m60.23456\u001b[0m\u001b[0;34m\u001b[0m\u001b[0m\n\u001b[0;32m----> 5\u001b[0;31m \u001b[0mprint\u001b[0m\u001b[0;34m(\u001b[0m\u001b[0;34m\"The person de%%tails: Name:%s, Age:%d, Height:%.2f, Weight:%.2f\"\u001b[0m\u001b[0;34m%\u001b[0m\u001b[0;34m(\u001b[0m\u001b[0mname\u001b[0m\u001b[0;34m,\u001b[0m\u001b[0mage\u001b[0m\u001b[0;34m,\u001b[0m\u001b[0mheight\u001b[0m\u001b[0;34m)\u001b[0m\u001b[0;34m)\u001b[0m\u001b[0;34m\u001b[0m\u001b[0m\n\u001b[0m",
      "\u001b[0;31mTypeError\u001b[0m: not enough arguments for format string"
     ]
    }
   ],
   "source": [
    "name=\"SAI\"\n",
    "age=29.45\n",
    "height=5.679\n",
    "weight=60.23456\n",
    "print(\"The person de%%tails: Name:%s, Age:%d, Height:%.2f, Weight:%.2f\"%(name,age,height))"
   ]
  },
  {
   "cell_type": "code",
   "execution_count": 78,
   "metadata": {},
   "outputs": [
    {
     "name": "stdout",
     "output_type": "stream",
     "text": [
      "The person details: Name:SAI\n"
     ]
    }
   ],
   "source": [
    "d={\"name\":\"SAI\",\"age\":29,\"height\":5.422345,\"weight\":60.234567}\n",
    "print(\"The person details: Name:%s\"%(d[\"name\"]))"
   ]
  },
  {
   "cell_type": "code",
   "execution_count": 81,
   "metadata": {},
   "outputs": [
    {
     "name": "stdout",
     "output_type": "stream",
     "text": [
      "The person details: Name:SAI, Age:29, Height:5.42, Weight:60.23\n"
     ]
    }
   ],
   "source": [
    "d={\"name\":\"SAI\",\"age\":29,\"height\":5.422345,\"weight\":60.234567}\n",
    "print(\"The person details: Name:%s, Age:%d, Height:%.2f, Weight:%.2f\"%(d[\"name\"],d[\"age\"],d[\"height\"],d[\"weight\"]))"
   ]
  },
  {
   "cell_type": "code",
   "execution_count": 83,
   "metadata": {},
   "outputs": [
    {
     "name": "stdout",
     "output_type": "stream",
     "text": [
      "The person details: Name:SAI, Age:29, Height:5.42, Weight:60.23\n",
      "The person details: Name:SAI, Age:29, Height:5.422345, Weight:60.234567\n"
     ]
    }
   ],
   "source": [
    "d={\"name\":\"SAI\",\"age\":29,\"height\":5.422345,\"weight\":60.234567}\n",
    "print(\"The person details: Name:%s, Age:%d, Height:%.2f, Weight:%.2f\"%(d[\"name\"],d[\"age\"],d[\"height\"],d[\"weight\"]))\n",
    "print(\"The person details: Name:{name}, Age:{age}, Height:{height}, Weight:{weight}\".format_map(d))"
   ]
  },
  {
   "cell_type": "code",
   "execution_count": 84,
   "metadata": {},
   "outputs": [
    {
     "name": "stdout",
     "output_type": "stream",
     "text": [
      "The person details: Name:SAI, Age:29, Height:5.42, Weight:60.23\n",
      "The person details: Name:SAI, Age:29, Height:5.422345, Weight:60.234567\n",
      "The person details: Name:SAI, Age:29, Height:5.422345, Weight:60.234567\n"
     ]
    }
   ],
   "source": [
    "d={\"name\":\"SAI\",\"age\":29,\"height\":5.422345,\"weight\":60.234567}\n",
    "print(\"The person details: Name:%s, Age:%d, Height:%.2f, Weight:%.2f\"%(d[\"name\"],d[\"age\"],d[\"height\"],d[\"weight\"]))\n",
    "print(\"The person details: Name:{name}, Age:{age}, Height:{height}, Weight:{weight}\".format_map(d))\n",
    "print(\"The person details: Name:%(name)s, Age:%(age)s, Height:%(height)s, Weight:%(weight)s\"%d)"
   ]
  },
  {
   "cell_type": "code",
   "execution_count": 85,
   "metadata": {},
   "outputs": [
    {
     "name": "stdout",
     "output_type": "stream",
     "text": [
      "The person details: Name:SAI, Age:29, Height:5.42, Weight:60.23\n",
      "The person details: Name:SAI, Age:29, Height:5.422345, Weight:60.234567\n",
      "The person details: Name:SAI, Age:29, Height:5.42, Weight:60.23\n"
     ]
    }
   ],
   "source": [
    "d={\"name\":\"SAI\",\"age\":29,\"height\":5.422345,\"weight\":60.234567}\n",
    "print(\"The person details: Name:%s, Age:%d, Height:%.2f, Weight:%.2f\"%(d[\"name\"],d[\"age\"],d[\"height\"],d[\"weight\"]))\n",
    "print(\"The person details: Name:{name}, Age:{age}, Height:{height}, Weight:{weight}\".format_map(d))\n",
    "print(\"The person details: Name:%(name)s, Age:%(age)d, Height:%(height).2f, Weight:%(weight).2f\"%d)"
   ]
  },
  {
   "cell_type": "code",
   "execution_count": 86,
   "metadata": {},
   "outputs": [
    {
     "name": "stdout",
     "output_type": "stream",
     "text": [
      "The person details: Name:SAI, Age:29, Height:5.42, Weight:60.23\n",
      "The person details: Name:SAI, Age:29, Height:5.422345, Weight:60.234567\n",
      "The person details: Name:SAI, Age:29, Height:5.42, Weight:60.23\n"
     ]
    }
   ],
   "source": [
    "d={\"name\":\"SAI\",\"age\":29,\"height\":5.422345,\"weight\":60.234567}\n",
    "print(\"The person details: Name:%s, Age:%d, Height:%.2f, Weight:%.2f\"%(d[\"name\"],d[\"age\"],d[\"height\"],d[\"weight\"]))\n",
    "print(\"The person details: Name:{name}, Age:{age:d}, Height:{height}, Weight:{weight}\".format_map(d))\n",
    "print(\"The person details: Name:%(name)s, Age:%(age)d, Height:%(height).2f, Weight:%(weight).2f\"%d)"
   ]
  },
  {
   "cell_type": "code",
   "execution_count": 91,
   "metadata": {},
   "outputs": [
    {
     "name": "stdout",
     "output_type": "stream",
     "text": [
      "The person details: Name:SAI, Age:29, Height:5.42, Weight:60.23\n",
      "The person details: Name:SAI, Age:29, Height:5.42, Weight:60.23\n",
      "The person details: Name:SAI, Age:29, Height:5.42, Weight:60.23\n"
     ]
    }
   ],
   "source": [
    "d={\"name\":\"SAI\",\"age\":29,\"height\":5.422345,\"weight\":60.234567}\n",
    "print(\"The person details: Name:%s, Age:%d, Height:%.2f, Weight:%.2f\"%(d[\"name\"],d[\"age\"],d[\"height\"],d[\"weight\"]))\n",
    "print(\"The person details: Name:{name}, Age:{age:d}, Height:{height:.2f}, Weight:{weight:.2f}\".format_map(d))\n",
    "print(\"The person details: Name:%(name)s, Age:%(age)d, Height:%(height).2f, Weight:%(weight).2f\"%d)"
   ]
  },
  {
   "cell_type": "code",
   "execution_count": 92,
   "metadata": {},
   "outputs": [
    {
     "data": {
      "text/plain": [
       "True"
      ]
     },
     "execution_count": 92,
     "metadata": {},
     "output_type": "execute_result"
    }
   ],
   "source": [
    "s=\"abcd1234\"\n",
    "s.isalnum()"
   ]
  },
  {
   "cell_type": "code",
   "execution_count": 93,
   "metadata": {},
   "outputs": [
    {
     "data": {
      "text/plain": [
       "True"
      ]
     },
     "execution_count": 93,
     "metadata": {},
     "output_type": "execute_result"
    }
   ],
   "source": [
    "s=\"abcd\"\n",
    "s.isalnum()"
   ]
  },
  {
   "cell_type": "code",
   "execution_count": 94,
   "metadata": {},
   "outputs": [
    {
     "data": {
      "text/plain": [
       "True"
      ]
     },
     "execution_count": 94,
     "metadata": {},
     "output_type": "execute_result"
    }
   ],
   "source": [
    "s=\"12344\"\n",
    "s.isalnum()"
   ]
  },
  {
   "cell_type": "code",
   "execution_count": 95,
   "metadata": {},
   "outputs": [
    {
     "data": {
      "text/plain": [
       "False"
      ]
     },
     "execution_count": 95,
     "metadata": {},
     "output_type": "execute_result"
    }
   ],
   "source": [
    "s=\"abcd@#12345\"\n",
    "s.isalnum()"
   ]
  },
  {
   "cell_type": "code",
   "execution_count": 96,
   "metadata": {},
   "outputs": [
    {
     "name": "stdout",
     "output_type": "stream",
     "text": [
      "enter substring:python\n",
      "no special symbols\n"
     ]
    }
   ],
   "source": [
    "s=input(\"enter substring:\")\n",
    "if s.isalnum():\n",
    "    print(\"no special symbols\")\n",
    "else:\n",
    "    print(\"there is special symbols\")"
   ]
  },
  {
   "cell_type": "code",
   "execution_count": 97,
   "metadata": {},
   "outputs": [
    {
     "name": "stdout",
     "output_type": "stream",
     "text": [
      "enter substring:python program\n",
      "there is special symbols\n"
     ]
    }
   ],
   "source": [
    "s=input(\"enter substring:\")\n",
    "if s.isalnum():\n",
    "    print(\"no special symbols\")\n",
    "else:\n",
    "    print(\"there is special symbols\")"
   ]
  },
  {
   "cell_type": "code",
   "execution_count": 98,
   "metadata": {},
   "outputs": [
    {
     "data": {
      "text/plain": [
       "False"
      ]
     },
     "execution_count": 98,
     "metadata": {},
     "output_type": "execute_result"
    }
   ],
   "source": [
    "s=\"\"\n",
    "s.isalnum()"
   ]
  },
  {
   "cell_type": "code",
   "execution_count": 99,
   "metadata": {},
   "outputs": [
    {
     "name": "stdout",
     "output_type": "stream",
     "text": [
      "enter substring:\n",
      "there is special symbols\n"
     ]
    }
   ],
   "source": [
    "s=input(\"enter substring:\")\n",
    "if s.isalnum():\n",
    "    print(\"no special symbols\")\n",
    "else:\n",
    "    print(\"there is special symbols\")"
   ]
  },
  {
   "cell_type": "code",
   "execution_count": 100,
   "metadata": {},
   "outputs": [
    {
     "name": "stdout",
     "output_type": "stream",
     "text": [
      "enter substring:\n",
      "invalid string\n"
     ]
    }
   ],
   "source": [
    "s=input(\"enter substring:\")\n",
    "if s:\n",
    "    if s.isalnum():\n",
    "        print(\"no special symbols\")\n",
    "    else:\n",
    "        print(\"there is special symbols\")\n",
    "else:\n",
    "    print(\"invalid string\")"
   ]
  },
  {
   "cell_type": "code",
   "execution_count": 101,
   "metadata": {},
   "outputs": [
    {
     "data": {
      "text/plain": [
       "True"
      ]
     },
     "execution_count": 101,
     "metadata": {},
     "output_type": "execute_result"
    }
   ],
   "source": [
    "s=\"abcd\"\n",
    "s.isalpha()"
   ]
  },
  {
   "cell_type": "code",
   "execution_count": 102,
   "metadata": {},
   "outputs": [
    {
     "data": {
      "text/plain": [
       "True"
      ]
     },
     "execution_count": 102,
     "metadata": {},
     "output_type": "execute_result"
    }
   ],
   "source": [
    "s=\"abcdQWERT\"\n",
    "s.isalpha()"
   ]
  },
  {
   "cell_type": "code",
   "execution_count": 103,
   "metadata": {},
   "outputs": [
    {
     "data": {
      "text/plain": [
       "False"
      ]
     },
     "execution_count": 103,
     "metadata": {},
     "output_type": "execute_result"
    }
   ],
   "source": [
    "s=\"abcdQWER123T\"\n",
    "s.isalpha()"
   ]
  },
  {
   "cell_type": "code",
   "execution_count": 104,
   "metadata": {},
   "outputs": [
    {
     "data": {
      "text/plain": [
       "False"
      ]
     },
     "execution_count": 104,
     "metadata": {},
     "output_type": "execute_result"
    }
   ],
   "source": [
    "s=\"abcdQWER@#T\"\n",
    "s.isalpha()"
   ]
  },
  {
   "cell_type": "code",
   "execution_count": 105,
   "metadata": {},
   "outputs": [
    {
     "data": {
      "text/plain": [
       "False"
      ]
     },
     "execution_count": 105,
     "metadata": {},
     "output_type": "execute_result"
    }
   ],
   "source": [
    "s=\"\"\n",
    "s.isalpha()"
   ]
  },
  {
   "cell_type": "code",
   "execution_count": 106,
   "metadata": {},
   "outputs": [
    {
     "data": {
      "text/plain": [
       "True"
      ]
     },
     "execution_count": 106,
     "metadata": {},
     "output_type": "execute_result"
    }
   ],
   "source": [
    "s=\"123456\"\n",
    "s.isdigit()"
   ]
  },
  {
   "cell_type": "code",
   "execution_count": 107,
   "metadata": {},
   "outputs": [
    {
     "data": {
      "text/plain": [
       "False"
      ]
     },
     "execution_count": 107,
     "metadata": {},
     "output_type": "execute_result"
    }
   ],
   "source": [
    "s=\"1234561er\"\n",
    "s.isdigit()"
   ]
  },
  {
   "cell_type": "code",
   "execution_count": 108,
   "metadata": {},
   "outputs": [
    {
     "data": {
      "text/plain": [
       "False"
      ]
     },
     "execution_count": 108,
     "metadata": {},
     "output_type": "execute_result"
    }
   ],
   "source": [
    "s=\"123456@#4\"\n",
    "s.isdigit()"
   ]
  },
  {
   "cell_type": "code",
   "execution_count": 109,
   "metadata": {},
   "outputs": [
    {
     "data": {
      "text/plain": [
       "True"
      ]
     },
     "execution_count": 109,
     "metadata": {},
     "output_type": "execute_result"
    }
   ],
   "source": [
    "s=\"ABSDGJJ\"\n",
    "s.isupper()"
   ]
  },
  {
   "cell_type": "code",
   "execution_count": 110,
   "metadata": {},
   "outputs": [
    {
     "data": {
      "text/plain": [
       "False"
      ]
     },
     "execution_count": 110,
     "metadata": {},
     "output_type": "execute_result"
    }
   ],
   "source": [
    "s=\"ABSDGJJwerty\"\n",
    "s.isupper()"
   ]
  },
  {
   "cell_type": "code",
   "execution_count": 111,
   "metadata": {},
   "outputs": [
    {
     "data": {
      "text/plain": [
       "True"
      ]
     },
     "execution_count": 111,
     "metadata": {},
     "output_type": "execute_result"
    }
   ],
   "source": [
    "s=\"1243ABSDGJJ@#$\"\n",
    "s.isupper()"
   ]
  },
  {
   "cell_type": "code",
   "execution_count": 112,
   "metadata": {},
   "outputs": [
    {
     "data": {
      "text/plain": [
       "False"
      ]
     },
     "execution_count": 112,
     "metadata": {},
     "output_type": "execute_result"
    }
   ],
   "source": [
    "s=\"1243@#$\"\n",
    "s.isupper()"
   ]
  },
  {
   "cell_type": "code",
   "execution_count": 113,
   "metadata": {},
   "outputs": [
    {
     "data": {
      "text/plain": [
       "False"
      ]
     },
     "execution_count": 113,
     "metadata": {},
     "output_type": "execute_result"
    }
   ],
   "source": [
    "s=\"1243QWERTYa@#$\"\n",
    "s.isupper()"
   ]
  },
  {
   "cell_type": "code",
   "execution_count": 114,
   "metadata": {},
   "outputs": [
    {
     "data": {
      "text/plain": [
       "False"
      ]
     },
     "execution_count": 114,
     "metadata": {},
     "output_type": "execute_result"
    }
   ],
   "source": [
    "s=\"\"\n",
    "s.isupper()"
   ]
  },
  {
   "cell_type": "code",
   "execution_count": 115,
   "metadata": {},
   "outputs": [],
   "source": [
    "# isnumeric, isdigit,isdecimal:  find the differences among these three functions."
   ]
  },
  {
   "cell_type": "code",
   "execution_count": 116,
   "metadata": {},
   "outputs": [
    {
     "data": {
      "text/plain": [
       "True"
      ]
     },
     "execution_count": 116,
     "metadata": {},
     "output_type": "execute_result"
    }
   ],
   "source": [
    "s=\"abcd\"\n",
    "s.isascii()"
   ]
  },
  {
   "cell_type": "code",
   "execution_count": 117,
   "metadata": {},
   "outputs": [
    {
     "data": {
      "text/plain": [
       "True"
      ]
     },
     "execution_count": 117,
     "metadata": {},
     "output_type": "execute_result"
    }
   ],
   "source": [
    "s=\"abcd!@$\"\n",
    "s.isascii()"
   ]
  },
  {
   "cell_type": "code",
   "execution_count": 118,
   "metadata": {},
   "outputs": [
    {
     "data": {
      "text/plain": [
       "True"
      ]
     },
     "execution_count": 118,
     "metadata": {},
     "output_type": "execute_result"
    }
   ],
   "source": [
    "s=\"abcd12345\"\n",
    "s.isascii()"
   ]
  },
  {
   "cell_type": "code",
   "execution_count": 119,
   "metadata": {},
   "outputs": [
    {
     "name": "stdout",
     "output_type": "stream",
     "text": [
      "False\n"
     ]
    }
   ],
   "source": [
    "s=\"అమ్మమ్మ\"\n",
    "print(s.isascii())"
   ]
  },
  {
   "cell_type": "code",
   "execution_count": 120,
   "metadata": {},
   "outputs": [
    {
     "name": "stdout",
     "output_type": "stream",
     "text": [
      "మందు\n"
     ]
    }
   ],
   "source": [
    "s=\"అమ్మమ్మ\"\n",
    "print(s.replace(\"అమ్మమ్మ\",\"మందు\"))"
   ]
  },
  {
   "cell_type": "code",
   "execution_count": 123,
   "metadata": {},
   "outputs": [
    {
     "name": "stdout",
     "output_type": "stream",
     "text": [
      "1\n"
     ]
    }
   ],
   "source": [
    "s=\"అమ్మమ్మ\"\n",
    "print(s.find(\"మ్మ\"))"
   ]
  },
  {
   "cell_type": "code",
   "execution_count": 124,
   "metadata": {},
   "outputs": [
    {
     "data": {
      "text/plain": [
       "True"
      ]
     },
     "execution_count": 124,
     "metadata": {},
     "output_type": "execute_result"
    }
   ],
   "source": [
    "s=\"abcd123\"\n",
    "s.isidentifier()"
   ]
  },
  {
   "cell_type": "code",
   "execution_count": 125,
   "metadata": {},
   "outputs": [
    {
     "data": {
      "text/plain": [
       "False"
      ]
     },
     "execution_count": 125,
     "metadata": {},
     "output_type": "execute_result"
    }
   ],
   "source": [
    "s=\"1abcd123\"\n",
    "s.isidentifier()"
   ]
  },
  {
   "cell_type": "code",
   "execution_count": 126,
   "metadata": {},
   "outputs": [
    {
     "data": {
      "text/plain": [
       "True"
      ]
     },
     "execution_count": 126,
     "metadata": {},
     "output_type": "execute_result"
    }
   ],
   "source": [
    "s=\"for\"\n",
    "s.isidentifier()"
   ]
  },
  {
   "cell_type": "code",
   "execution_count": 127,
   "metadata": {},
   "outputs": [
    {
     "data": {
      "text/plain": [
       "True"
      ]
     },
     "execution_count": 127,
     "metadata": {},
     "output_type": "execute_result"
    }
   ],
   "source": [
    "s=\"_abcd123\"\n",
    "s.isidentifier()"
   ]
  },
  {
   "cell_type": "code",
   "execution_count": 128,
   "metadata": {},
   "outputs": [
    {
     "data": {
      "text/plain": [
       "True"
      ]
     },
     "execution_count": 128,
     "metadata": {},
     "output_type": "execute_result"
    }
   ],
   "source": [
    "s=\"_abcd_123\"\n",
    "s.isidentifier()"
   ]
  },
  {
   "cell_type": "code",
   "execution_count": 129,
   "metadata": {},
   "outputs": [
    {
     "data": {
      "text/plain": [
       "False"
      ]
     },
     "execution_count": 129,
     "metadata": {},
     "output_type": "execute_result"
    }
   ],
   "source": [
    "s=\"_abcd12#3\"\n",
    "s.isidentifier()"
   ]
  },
  {
   "cell_type": "code",
   "execution_count": 1,
   "metadata": {},
   "outputs": [
    {
     "name": "stdout",
     "output_type": "stream",
     "text": [
      "True\n"
     ]
    }
   ],
   "source": [
    "s=\"python program\"\n",
    "print(s.isprintable())"
   ]
  },
  {
   "cell_type": "code",
   "execution_count": 2,
   "metadata": {},
   "outputs": [
    {
     "name": "stdout",
     "output_type": "stream",
     "text": [
      "False\n"
     ]
    }
   ],
   "source": [
    "s=\"python\\nprogram\"\n",
    "print(s.isprintable())"
   ]
  },
  {
   "cell_type": "code",
   "execution_count": 3,
   "metadata": {},
   "outputs": [
    {
     "name": "stdout",
     "output_type": "stream",
     "text": [
      "True\n"
     ]
    }
   ],
   "source": [
    "s=\"python\\\\nprogram\"\n",
    "print(s.isprintable())"
   ]
  },
  {
   "cell_type": "code",
   "execution_count": 5,
   "metadata": {},
   "outputs": [
    {
     "name": "stdout",
     "output_type": "stream",
     "text": [
      "['apple', 'mango', 'orange', 'banana', 'grapes', 'guva']\n"
     ]
    }
   ],
   "source": [
    "s=\"apple;mango;orange;banana;grapes;guva\"\n",
    "l=s.split(\";\")\n",
    "print(l)"
   ]
  },
  {
   "cell_type": "code",
   "execution_count": 7,
   "metadata": {},
   "outputs": [
    {
     "name": "stdout",
     "output_type": "stream",
     "text": [
      "['apple', 'mango', 'orange', 'banana', 'grapes', 'guva']\n",
      "apple\n",
      "mango\n",
      "orange\n",
      "banana\n",
      "grapes\n",
      "guva\n"
     ]
    }
   ],
   "source": [
    "s=\"apple;mango;orange;banana;grapes;guva\"\n",
    "l=s.split(\";\")\n",
    "print(l)\n",
    "for fruit in l:\n",
    "    print(fruit)"
   ]
  },
  {
   "cell_type": "code",
   "execution_count": 8,
   "metadata": {},
   "outputs": [
    {
     "name": "stdout",
     "output_type": "stream",
     "text": [
      "['apple', 'mango', 'orange', 'banana', 'grapes', 'guva']\n",
      "['apple', 'mango', 'orange', 'banana', 'grapes', 'guva']\n"
     ]
    }
   ],
   "source": [
    "s=\"apple;mango;orange;banana;grapes;guva\"\n",
    "l=s.split(\";\")\n",
    "k=s.rsplit(\";\")\n",
    "print(l)\n",
    "print(k)"
   ]
  },
  {
   "cell_type": "code",
   "execution_count": 9,
   "metadata": {},
   "outputs": [
    {
     "name": "stdout",
     "output_type": "stream",
     "text": [
      "['apple', 'mango', 'orange;banana;grapes;guva']\n",
      "['apple;mango;orange;banana', 'grapes', 'guva']\n"
     ]
    }
   ],
   "source": [
    "s=\"apple;mango;orange;banana;grapes;guva\"\n",
    "l=s.split(\";\",2)\n",
    "k=s.rsplit(\";\",2)\n",
    "print(l)\n",
    "print(k)"
   ]
  },
  {
   "cell_type": "code",
   "execution_count": 10,
   "metadata": {},
   "outputs": [
    {
     "name": "stdout",
     "output_type": "stream",
     "text": [
      "apple,mango,orange,banana,grapes,guva\n",
      "apple,mango,orange,banana;grapes;guva\n"
     ]
    }
   ],
   "source": [
    "s=\"apple;mango;orange;banana;grapes;guva\"\n",
    "print(s.replace(\";\",\",\"))\n",
    "print(s.replace(\";\",\",\",3))"
   ]
  },
  {
   "cell_type": "code",
   "execution_count": 11,
   "metadata": {},
   "outputs": [
    {
     "data": {
      "text/plain": [
       "'apple;mango;orange;banana;grapes;guva'"
      ]
     },
     "execution_count": 11,
     "metadata": {},
     "output_type": "execute_result"
    }
   ],
   "source": [
    "k=['apple', 'mango', 'orange', 'banana', 'grapes', 'guva']\n",
    "\";\".join(k)"
   ]
  },
  {
   "cell_type": "code",
   "execution_count": 12,
   "metadata": {},
   "outputs": [
    {
     "data": {
      "text/plain": [
       "'apple;mango;orange;banana;grapes;guva'"
      ]
     },
     "execution_count": 12,
     "metadata": {},
     "output_type": "execute_result"
    }
   ],
   "source": [
    "k=('apple', 'mango', 'orange', 'banana', 'grapes', 'guva')\n",
    "\";\".join(k)"
   ]
  },
  {
   "cell_type": "code",
   "execution_count": 13,
   "metadata": {},
   "outputs": [
    {
     "data": {
      "text/plain": [
       "'name;age;height'"
      ]
     },
     "execution_count": 13,
     "metadata": {},
     "output_type": "execute_result"
    }
   ],
   "source": [
    "k={\"name\":\"sai\",\"age\":29,\"height\":5.4}\n",
    "\";\".join(k)"
   ]
  },
  {
   "cell_type": "code",
   "execution_count": 14,
   "metadata": {},
   "outputs": [
    {
     "name": "stdout",
     "output_type": "stream",
     "text": [
      "['apple;mango;orange', 'banana', 'grapes', 'guva']\n"
     ]
    }
   ],
   "source": [
    "s=\"apple;mango;orange;banana;grapes;guva\"\n",
    "k=s.rsplit(\";\",3)\n",
    "print(k)"
   ]
  },
  {
   "cell_type": "code",
   "execution_count": 15,
   "metadata": {},
   "outputs": [
    {
     "name": "stdout",
     "output_type": "stream",
     "text": [
      "['apple;mango;orange', 'banana', 'grapes', 'guva']\n",
      "apple;mango;orange,banana,grapes,guva\n"
     ]
    }
   ],
   "source": [
    "s=\"apple;mango;orange;banana;grapes;guva\"\n",
    "k=s.rsplit(\";\",3)\n",
    "print(k)\n",
    "print(\",\".join(k))"
   ]
  },
  {
   "cell_type": "code",
   "execution_count": 16,
   "metadata": {},
   "outputs": [
    {
     "name": "stdout",
     "output_type": "stream",
     "text": [
      "['apple;mango', 'orange', 'banana', 'grapes', 'guva']\n",
      "apple;mango,orange,banana,grapes,guva\n"
     ]
    }
   ],
   "source": [
    "s=\"apple;mango;orange;banana;grapes;guva\"\n",
    "k=s.rsplit(\";\",4)\n",
    "print(k)\n",
    "print(\",\".join(k))"
   ]
  },
  {
   "cell_type": "code",
   "execution_count": 17,
   "metadata": {},
   "outputs": [
    {
     "name": "stdout",
     "output_type": "stream",
     "text": [
      "    user    name    \n",
      "user    name\n"
     ]
    }
   ],
   "source": [
    "username = \"    user    name    \"\n",
    "print(username)\n",
    "print(username.strip())"
   ]
  },
  {
   "cell_type": "code",
   "execution_count": 18,
   "metadata": {},
   "outputs": [
    {
     "name": "stdout",
     "output_type": "stream",
     "text": [
      "@#$user#$@name$#@\n",
      "#$user#$@name$#\n"
     ]
    }
   ],
   "source": [
    "username = \"@#$user#$@name$#@\"\n",
    "print(username)\n",
    "print(username.strip(\"@\"))"
   ]
  },
  {
   "cell_type": "code",
   "execution_count": 19,
   "metadata": {},
   "outputs": [
    {
     "name": "stdout",
     "output_type": "stream",
     "text": [
      "@#$user#$@name$#@\n",
      "@#$user#$@name$#@\n"
     ]
    }
   ],
   "source": [
    "username = \"@#$user#$@name$#@\"\n",
    "print(username)\n",
    "print(username.strip(\"#\"))"
   ]
  },
  {
   "cell_type": "code",
   "execution_count": 20,
   "metadata": {},
   "outputs": [
    {
     "name": "stdout",
     "output_type": "stream",
     "text": [
      "@#$user#$@name$#@\n",
      "$user#$@name$\n"
     ]
    }
   ],
   "source": [
    "username = \"@#$user#$@name$#@\"\n",
    "print(username)\n",
    "print(username.strip(\"@#\"))"
   ]
  },
  {
   "cell_type": "code",
   "execution_count": 21,
   "metadata": {},
   "outputs": [
    {
     "name": "stdout",
     "output_type": "stream",
     "text": [
      "@#$user#$@name$#@\n",
      "user#$@name\n"
     ]
    }
   ],
   "source": [
    "username = \"@#$user#$@name$#@\"\n",
    "print(username)\n",
    "print(username.strip(\"@$#\"))"
   ]
  },
  {
   "cell_type": "code",
   "execution_count": 22,
   "metadata": {},
   "outputs": [
    {
     "name": "stdout",
     "output_type": "stream",
     "text": [
      "@#$user#$@name$#@\n",
      "user#$@name\n",
      "@#$user#$@name\n",
      "user#$@name$#@\n"
     ]
    }
   ],
   "source": [
    "username = \"@#$user#$@name$#@\"\n",
    "print(username)\n",
    "print(username.strip(\"@$#\"))\n",
    "print(username.rstrip(\"@$#\"))\n",
    "print(username.lstrip(\"@$#\"))"
   ]
  },
  {
   "cell_type": "code",
   "execution_count": 23,
   "metadata": {},
   "outputs": [
    {
     "name": "stdout",
     "output_type": "stream",
     "text": [
      "False\n"
     ]
    }
   ],
   "source": [
    "s=\"python program\"\n",
    "print(s.isspace())"
   ]
  },
  {
   "cell_type": "code",
   "execution_count": 24,
   "metadata": {},
   "outputs": [
    {
     "name": "stdout",
     "output_type": "stream",
     "text": [
      "True\n"
     ]
    }
   ],
   "source": [
    "s=\"        \"\n",
    "print(s.isspace())"
   ]
  },
  {
   "cell_type": "code",
   "execution_count": 25,
   "metadata": {},
   "outputs": [
    {
     "data": {
      "text/plain": [
       "'python program'"
      ]
     },
     "execution_count": 25,
     "metadata": {},
     "output_type": "execute_result"
    }
   ],
   "source": [
    "s=\"python program\"\n",
    "#p->%,o->^,g->&,a->*\n",
    "s.replace(\"pogam\",\"%^&@*\")"
   ]
  },
  {
   "cell_type": "code",
   "execution_count": 26,
   "metadata": {},
   "outputs": [
    {
     "name": "stdout",
     "output_type": "stream",
     "text": [
      "%yth^n %r^&r@*\n"
     ]
    }
   ],
   "source": [
    "s=\"python program\"\n",
    "source=\"pogam\"\n",
    "destination = \"%^&@*\"\n",
    "i=0\n",
    "while i<len(source):\n",
    "    s=s.replace(source[i],destination[i])\n",
    "    i=i+1\n",
    "print(s)\n",
    "    \n",
    "#p->%,o->^,g->&,a->*"
   ]
  },
  {
   "cell_type": "code",
   "execution_count": 28,
   "metadata": {},
   "outputs": [
    {
     "name": "stdout",
     "output_type": "stream",
     "text": [
      "%yth^n %r^&r@*\n",
      "{112: 37, 111: 94, 103: 38, 97: 64, 109: 42}\n"
     ]
    }
   ],
   "source": [
    "s=\"python program\"\n",
    "source=\"pogam\"\n",
    "destination = \"%^&@*\"\n",
    "table=s.maketrans(source,destination)\n",
    "print(s.translate(table))\n",
    "print(table)"
   ]
  },
  {
   "cell_type": "code",
   "execution_count": 29,
   "metadata": {},
   "outputs": [
    {
     "name": "stdout",
     "output_type": "stream",
     "text": [
      "%#$h^n %r^&r@*\n",
      "{112: 37, 111: 94, 103: 38, 97: 64, 109: 42, 121: 35, 116: 36}\n"
     ]
    }
   ],
   "source": [
    "s=\"python program\"\n",
    "source=\"pogamyt\"\n",
    "destination = \"%^&@*#$\"\n",
    "table=s.maketrans(source,destination)\n",
    "print(s.translate(table))\n",
    "print(table)"
   ]
  },
  {
   "cell_type": "code",
   "execution_count": 30,
   "metadata": {},
   "outputs": [
    {
     "name": "stdout",
     "output_type": "stream",
     "text": [
      "('apple', ';', 'mango;orange;banana;grapes;guva')\n",
      "('apple;mango;orange;banana;grapes', ';', 'guva')\n"
     ]
    }
   ],
   "source": [
    "s=\"apple;mango;orange;banana;grapes;guva\"\n",
    "k=s.split(\";\")\n",
    "l=s.partition(\";\")\n",
    "m=s.rpartition(\";\")\n",
    "print(l)\n",
    "print(m)"
   ]
  },
  {
   "cell_type": "code",
   "execution_count": null,
   "metadata": {},
   "outputs": [],
   "source": []
  }
 ],
 "metadata": {
  "kernelspec": {
   "display_name": "Python 3",
   "language": "python",
   "name": "python3"
  },
  "language_info": {
   "codemirror_mode": {
    "name": "ipython",
    "version": 3
   },
   "file_extension": ".py",
   "mimetype": "text/x-python",
   "name": "python",
   "nbconvert_exporter": "python",
   "pygments_lexer": "ipython3",
   "version": "3.7.0"
  }
 },
 "nbformat": 4,
 "nbformat_minor": 2
}
