{
 "cells": [
  {
   "cell_type": "code",
   "execution_count": 1,
   "metadata": {},
   "outputs": [
    {
     "name": "stdout",
     "output_type": "stream",
     "text": [
      "EVEN\n"
     ]
    }
   ],
   "source": [
    "n=10\n",
    "if n%2==0:\n",
    "    res=\"EVEN\"\n",
    "else:\n",
    "    res=\"ODD\"\n",
    "print(res)"
   ]
  },
  {
   "cell_type": "code",
   "execution_count": 2,
   "metadata": {},
   "outputs": [
    {
     "name": "stdout",
     "output_type": "stream",
     "text": [
      "EVEN\n"
     ]
    }
   ],
   "source": [
    "n=10\n",
    "res=\"EVEN\" if n%2==0 else \"ODD\"\n",
    "print(res)"
   ]
  },
  {
   "cell_type": "code",
   "execution_count": 3,
   "metadata": {},
   "outputs": [
    {
     "name": "stdout",
     "output_type": "stream",
     "text": [
      "ODD\n"
     ]
    }
   ],
   "source": [
    "n=11\n",
    "res=\"EVEN\" if n%2==0 else \"ODD\"\n",
    "print(res)"
   ]
  },
  {
   "cell_type": "code",
   "execution_count": 4,
   "metadata": {},
   "outputs": [
    {
     "name": "stdout",
     "output_type": "stream",
     "text": [
      "ODD\n",
      "EVEN\n",
      "ODD\n",
      "EVEN\n",
      "ODD\n",
      "EVEN\n"
     ]
    }
   ],
   "source": [
    "l=[1,2,3,4,5,6]\n",
    "for i in l:\n",
    "    if i%2==0:\n",
    "        print(\"EVEN\")\n",
    "    else:\n",
    "        print(\"ODD\")"
   ]
  },
  {
   "cell_type": "code",
   "execution_count": 5,
   "metadata": {},
   "outputs": [
    {
     "name": "stdout",
     "output_type": "stream",
     "text": [
      "['ODD', 'EVEN', 'ODD', 'EVEN', 'ODD', 'EVEN']\n"
     ]
    }
   ],
   "source": [
    "l=[1,2,3,4,5,6]\n",
    "res= []\n",
    "for i in l:\n",
    "    if i%2==0:\n",
    "        res.append(\"EVEN\")\n",
    "    else:\n",
    "        res.append(\"ODD\")\n",
    "print(res)"
   ]
  },
  {
   "cell_type": "code",
   "execution_count": 6,
   "metadata": {},
   "outputs": [
    {
     "name": "stdout",
     "output_type": "stream",
     "text": [
      "['ODD', 'EVEN', 'ODD', 'EVEN', 'ODD', 'EVEN']\n"
     ]
    }
   ],
   "source": [
    "l=[1,2,3,4,5,6]\n",
    "res= []\n",
    "for i in l:\n",
    "    res.append(\"EVEN\") if i%2==0 else res.append(\"ODD\")\n",
    "print(res)"
   ]
  },
  {
   "cell_type": "code",
   "execution_count": 7,
   "metadata": {},
   "outputs": [
    {
     "name": "stdout",
     "output_type": "stream",
     "text": [
      "[11, 12, 13, 14, 15, 16]\n"
     ]
    }
   ],
   "source": [
    "l=[1,2,3,4,5,6]\n",
    "res= [i+10 for i in l]\n",
    "print(res)"
   ]
  },
  {
   "cell_type": "code",
   "execution_count": 8,
   "metadata": {},
   "outputs": [
    {
     "name": "stdout",
     "output_type": "stream",
     "text": [
      "['ODD', 'EVEN', 'ODD', 'EVEN', 'ODD', 'EVEN']\n"
     ]
    }
   ],
   "source": [
    "l=[1,2,3,4,5,6]\n",
    "res= [\"EVEN\" if i%2==0 else \"ODD\" for i in l]\n",
    "print(res)"
   ]
  },
  {
   "cell_type": "code",
   "execution_count": 9,
   "metadata": {},
   "outputs": [
    {
     "ename": "TypeError",
     "evalue": "not all arguments converted during string formatting",
     "output_type": "error",
     "traceback": [
      "\u001b[0;31m---------------------------------------------------------------------------\u001b[0m",
      "\u001b[0;31mTypeError\u001b[0m                                 Traceback (most recent call last)",
      "\u001b[0;32m<ipython-input-9-a6ca0334b4cb>\u001b[0m in \u001b[0;36m<module>\u001b[0;34m()\u001b[0m\n\u001b[1;32m      2\u001b[0m \u001b[0mres\u001b[0m\u001b[0;34m=\u001b[0m \u001b[0;34m[\u001b[0m\u001b[0;34m]\u001b[0m\u001b[0;34m\u001b[0m\u001b[0m\n\u001b[1;32m      3\u001b[0m \u001b[0;32mfor\u001b[0m \u001b[0mi\u001b[0m \u001b[0;32min\u001b[0m \u001b[0ml\u001b[0m\u001b[0;34m:\u001b[0m\u001b[0;34m\u001b[0m\u001b[0m\n\u001b[0;32m----> 4\u001b[0;31m     \u001b[0mres\u001b[0m\u001b[0;34m.\u001b[0m\u001b[0mappend\u001b[0m\u001b[0;34m(\u001b[0m\u001b[0;34m\"EVEN\"\u001b[0m\u001b[0;34m)\u001b[0m \u001b[0;32mif\u001b[0m \u001b[0mi\u001b[0m\u001b[0;34m%\u001b[0m\u001b[0;36m2\u001b[0m\u001b[0;34m==\u001b[0m\u001b[0;36m0\u001b[0m \u001b[0;32melse\u001b[0m \u001b[0mres\u001b[0m\u001b[0;34m.\u001b[0m\u001b[0mappend\u001b[0m\u001b[0;34m(\u001b[0m\u001b[0;34m\"ODD\"\u001b[0m\u001b[0;34m)\u001b[0m\u001b[0;34m\u001b[0m\u001b[0m\n\u001b[0m\u001b[1;32m      5\u001b[0m \u001b[0mprint\u001b[0m\u001b[0;34m(\u001b[0m\u001b[0mres\u001b[0m\u001b[0;34m)\u001b[0m\u001b[0;34m\u001b[0m\u001b[0m\n",
      "\u001b[0;31mTypeError\u001b[0m: not all arguments converted during string formatting"
     ]
    }
   ],
   "source": [
    "l=[1,2,3,4,5,6,\"sdfs\",1+2j,1.345]\n",
    "res= []\n",
    "for i in l:\n",
    "    res.append(\"EVEN\") if i%2==0 else res.append(\"ODD\")\n",
    "print(res)"
   ]
  },
  {
   "cell_type": "code",
   "execution_count": 11,
   "metadata": {},
   "outputs": [
    {
     "name": "stdout",
     "output_type": "stream",
     "text": [
      "['1-->ODD', '2-->EVEN', '3-->ODD', '4-->EVEN', '5-->ODD', '6-->EVEN']\n"
     ]
    }
   ],
   "source": [
    "l=[1,2,3,4,5,6,\"sdfs\",1+2j,1.345]\n",
    "res= []\n",
    "for i in l:\n",
    "    if isinstance(i,int):\n",
    "        res.append(f\"{i}-->EVEN\") if i%2==0 else res.append(f\"{i}-->ODD\")\n",
    "print(res)"
   ]
  },
  {
   "cell_type": "code",
   "execution_count": 12,
   "metadata": {},
   "outputs": [
    {
     "name": "stdout",
     "output_type": "stream",
     "text": [
      "['1 -->ODD', '2-->EVEN', '3 -->ODD', '4-->EVEN', '5 -->ODD', '6-->EVEN']\n"
     ]
    }
   ],
   "source": [
    "l=[1,2,3,4,5,6,\"sdfs\",1+2j,1.345]\n",
    "res= [f\"{i}-->EVEN\" if i%2==0 else f\"{i} -->ODD\" for i in l if isinstance(i,int)]\n",
    "print(res)"
   ]
  },
  {
   "cell_type": "code",
   "execution_count": 13,
   "metadata": {},
   "outputs": [
    {
     "name": "stdout",
     "output_type": "stream",
     "text": [
      "<generator object <genexpr> at 0x7f75cc121750>\n"
     ]
    }
   ],
   "source": [
    "l=[1,2,3,4,5,6,\"sdfs\",1+2j,1.345]\n",
    "res= (f\"{i}-->EVEN\" if i%2==0 else f\"{i} -->ODD\" for i in l if isinstance(i,int))\n",
    "print(res)"
   ]
  },
  {
   "cell_type": "code",
   "execution_count": 14,
   "metadata": {},
   "outputs": [
    {
     "name": "stdout",
     "output_type": "stream",
     "text": [
      "<generator object <genexpr> at 0x7f75cc096e58>\n",
      "1 -->ODD\n",
      "2-->EVEN\n",
      "3 -->ODD\n",
      "4-->EVEN\n",
      "5 -->ODD\n",
      "6-->EVEN\n"
     ]
    }
   ],
   "source": [
    "l=[1,2,3,4,5,6,\"sdfs\",1+2j,1.345]\n",
    "res= (f\"{i}-->EVEN\" if i%2==0 else f\"{i} -->ODD\" for i in l if isinstance(i,int))\n",
    "print(res)\n",
    "for i in res:\n",
    "    print(i)"
   ]
  },
  {
   "cell_type": "code",
   "execution_count": 15,
   "metadata": {},
   "outputs": [
    {
     "name": "stdout",
     "output_type": "stream",
     "text": [
      "{1: 'ODD', 2: 'EVEN', 3: 'ODD', 4: 'EVEN', 5: 'ODD', 6: 'EVEN'}\n"
     ]
    }
   ],
   "source": [
    "l=[1,2,3,4,5,6,\"sdfs\",1+2j,1.345]\n",
    "res= {i:\"EVEN\" if i%2==0 else \"ODD\" for i in l if isinstance(i,int)}\n",
    "print(res)"
   ]
  },
  {
   "cell_type": "code",
   "execution_count": 16,
   "metadata": {},
   "outputs": [
    {
     "name": "stdout",
     "output_type": "stream",
     "text": [
      "<class 'function'>\n",
      "<class 'function'>\n"
     ]
    }
   ],
   "source": [
    "def fun(x):\n",
    "    return \"EVEN\" if x%2==0 else \"ODD\" \n",
    "f=lambda x:\"EVEN\" if x%2==0 else \"ODD\" \n",
    "print(type(fun))\n",
    "print(type(f))\n"
   ]
  },
  {
   "cell_type": "code",
   "execution_count": 18,
   "metadata": {},
   "outputs": [
    {
     "name": "stdout",
     "output_type": "stream",
     "text": [
      "EVEN\n",
      "EVEN\n"
     ]
    }
   ],
   "source": [
    "def fun(x):\n",
    "    return \"EVEN\" if x%2==0 else \"ODD\" \n",
    "f=lambda x:\"EVEN\" if x%2==0 else \"ODD\" \n",
    "print(fun(10))\n",
    "print(f(10))"
   ]
  },
  {
   "cell_type": "code",
   "execution_count": 19,
   "metadata": {},
   "outputs": [
    {
     "name": "stdout",
     "output_type": "stream",
     "text": [
      "EVEN\n",
      "ODD\n",
      "ODD\n",
      "EVEN\n",
      "EVEN\n",
      "EVEN\n"
     ]
    }
   ],
   "source": [
    "l=[10,23,45,68,76,90]\n",
    "def fun(x):\n",
    "    return \"EVEN\" if x%2==0 else \"ODD\" \n",
    "for i in l:\n",
    "    print(fun(i))\n"
   ]
  },
  {
   "cell_type": "code",
   "execution_count": 20,
   "metadata": {},
   "outputs": [
    {
     "name": "stdout",
     "output_type": "stream",
     "text": [
      "<map object at 0x7f75cf2c6470>\n"
     ]
    }
   ],
   "source": [
    "l=[10,23,45,68,76,90]\n",
    "def fun(x):\n",
    "    return \"EVEN\" if x%2==0 else \"ODD\" \n",
    "res=map(fun,l)\n",
    "print(res)"
   ]
  },
  {
   "cell_type": "code",
   "execution_count": 21,
   "metadata": {},
   "outputs": [
    {
     "name": "stdout",
     "output_type": "stream",
     "text": [
      "<map object at 0x7f75d77ff9b0>\n",
      "EVEN\n",
      "ODD\n",
      "ODD\n",
      "EVEN\n",
      "EVEN\n",
      "EVEN\n"
     ]
    }
   ],
   "source": [
    "l=[10,23,45,68,76,90]\n",
    "def fun(x):\n",
    "    return \"EVEN\" if x%2==0 else \"ODD\" \n",
    "res=map(fun,l)\n",
    "print(res)\n",
    "for i in res:\n",
    "    print(i)"
   ]
  },
  {
   "cell_type": "code",
   "execution_count": 22,
   "metadata": {},
   "outputs": [
    {
     "name": "stdout",
     "output_type": "stream",
     "text": [
      "<map object at 0x7f75cf2c6470>\n",
      "EVEN\n",
      "ODD\n",
      "ODD\n",
      "EVEN\n",
      "EVEN\n",
      "EVEN\n"
     ]
    }
   ],
   "source": [
    "l=[10,23,45,68,76,90]\n",
    "fun = lambda x:\"EVEN\" if x%2==0 else \"ODD\" \n",
    "res=map(fun,l)\n",
    "print(res)\n",
    "for i in res:\n",
    "    print(i)"
   ]
  },
  {
   "cell_type": "code",
   "execution_count": 23,
   "metadata": {},
   "outputs": [
    {
     "name": "stdout",
     "output_type": "stream",
     "text": [
      "<map object at 0x7f75cf2c6588>\n",
      "EVEN\n",
      "ODD\n",
      "ODD\n",
      "EVEN\n",
      "EVEN\n",
      "EVEN\n"
     ]
    }
   ],
   "source": [
    "l=[10,23,45,68,76,90]\n",
    "res=map(lambda x:\"EVEN\" if x%2==0 else \"ODD\" ,l)\n",
    "print(res)\n",
    "for i in res:\n",
    "    print(i)"
   ]
  },
  {
   "cell_type": "code",
   "execution_count": 24,
   "metadata": {},
   "outputs": [
    {
     "name": "stdout",
     "output_type": "stream",
     "text": [
      "None\n",
      "None\n",
      "None\n",
      "None\n",
      "None\n"
     ]
    }
   ],
   "source": [
    "def fun(x):\n",
    "    res = \"Even\" if x%2==0 else \"ODD\"\n",
    "r = map(fun,[1,2,3,4,5])\n",
    "for i in r:\n",
    "    print(i)"
   ]
  },
  {
   "cell_type": "code",
   "execution_count": 25,
   "metadata": {},
   "outputs": [
    {
     "name": "stdout",
     "output_type": "stream",
     "text": [
      "ODD\n",
      "Even\n",
      "ODD\n",
      "Even\n",
      "ODD\n"
     ]
    }
   ],
   "source": [
    "def fun(x):\n",
    "    res = \"Even\" if x%2==0 else \"ODD\"\n",
    "    return res\n",
    "r = map(fun,[1,2,3,4,5])\n",
    "for i in r:\n",
    "    print(i)"
   ]
  },
  {
   "cell_type": "code",
   "execution_count": 27,
   "metadata": {},
   "outputs": [
    {
     "name": "stdout",
     "output_type": "stream",
     "text": [
      "12\n",
      "34\n",
      "None\n",
      "None\n",
      "46\n",
      "78\n",
      "None\n",
      "90\n"
     ]
    }
   ],
   "source": [
    "l=[12,34,23,55,46,78,89,90]\n",
    "def fun(x):\n",
    "    if x%2==0:\n",
    "        return x\n",
    "for i in l:\n",
    "    print(fun(i))"
   ]
  },
  {
   "cell_type": "code",
   "execution_count": 28,
   "metadata": {},
   "outputs": [
    {
     "name": "stdout",
     "output_type": "stream",
     "text": [
      "<filter object at 0x7f75cc0c1c50>\n"
     ]
    }
   ],
   "source": [
    "l=[12,34,23,55,46,78,89,90]\n",
    "def fun(x):\n",
    "    if x%2==0:\n",
    "        return x\n",
    "res = filter(fun,l)\n",
    "print(res)"
   ]
  },
  {
   "cell_type": "code",
   "execution_count": 32,
   "metadata": {},
   "outputs": [
    {
     "name": "stdout",
     "output_type": "stream",
     "text": [
      "[12, 34, 46, 78, 90]\n",
      "[True, True, False, False, True, True, False, True]\n"
     ]
    }
   ],
   "source": [
    "l=[12,34,23,55,46,78,89,90]\n",
    "def fun(x):\n",
    "    return x%2==0\n",
    "print(list(filter(fun,l)))\n",
    "print(list(map(fun,l)))"
   ]
  },
  {
   "cell_type": "code",
   "execution_count": 33,
   "metadata": {},
   "outputs": [
    {
     "name": "stdout",
     "output_type": "stream",
     "text": [
      "[12, 34, 46, 78, 90]\n",
      "[True, True, False, False, True, True, False, True]\n"
     ]
    }
   ],
   "source": [
    "l=[12,34,23,55,46,78,89,90]\n",
    "f=lambda x:x%2==0\n",
    "print(list(filter(f,l)))\n",
    "print(list(map(f,l)))"
   ]
  },
  {
   "cell_type": "code",
   "execution_count": 34,
   "metadata": {},
   "outputs": [
    {
     "name": "stdout",
     "output_type": "stream",
     "text": [
      "[12, 34, 46, 78, 90]\n",
      "[True, True, False, False, True, True, False, True]\n"
     ]
    }
   ],
   "source": [
    "l=[12,34,23,55,46,78,89,90]\n",
    "print(list(filter(lambda x:x%2==0,l)))\n",
    "print(list(map(lambda x:x%2==0,l)))"
   ]
  },
  {
   "cell_type": "code",
   "execution_count": 35,
   "metadata": {},
   "outputs": [
    {
     "ename": "NameError",
     "evalue": "name 'reduce' is not defined",
     "output_type": "error",
     "traceback": [
      "\u001b[0;31m---------------------------------------------------------------------------\u001b[0m",
      "\u001b[0;31mNameError\u001b[0m                                 Traceback (most recent call last)",
      "\u001b[0;32m<ipython-input-35-15d8e45d63e9>\u001b[0m in \u001b[0;36m<module>\u001b[0;34m()\u001b[0m\n\u001b[0;32m----> 1\u001b[0;31m \u001b[0mreduce\u001b[0m\u001b[0;34m(\u001b[0m\u001b[0;34m)\u001b[0m\u001b[0;34m\u001b[0m\u001b[0m\n\u001b[0m",
      "\u001b[0;31mNameError\u001b[0m: name 'reduce' is not defined"
     ]
    }
   ],
   "source": [
    "reduce()"
   ]
  },
  {
   "cell_type": "code",
   "execution_count": null,
   "metadata": {},
   "outputs": [],
   "source": []
  }
 ],
 "metadata": {
  "kernelspec": {
   "display_name": "Python 3",
   "language": "python",
   "name": "python3"
  },
  "language_info": {
   "codemirror_mode": {
    "name": "ipython",
    "version": 3
   },
   "file_extension": ".py",
   "mimetype": "text/x-python",
   "name": "python",
   "nbconvert_exporter": "python",
   "pygments_lexer": "ipython3",
   "version": "3.7.0"
  }
 },
 "nbformat": 4,
 "nbformat_minor": 2
}
