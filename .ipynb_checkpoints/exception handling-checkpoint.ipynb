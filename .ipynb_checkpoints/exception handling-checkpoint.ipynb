{
 "cells": [
  {
   "cell_type": "code",
   "execution_count": 2,
   "metadata": {},
   "outputs": [
    {
     "name": "stdout",
     "output_type": "stream",
     "text": [
      "hello\n"
     ]
    },
    {
     "ename": "ZeroDivisionError",
     "evalue": "division by zero",
     "output_type": "error",
     "traceback": [
      "\u001b[0;31m---------------------------------------------------------------------------\u001b[0m",
      "\u001b[0;31mZeroDivisionError\u001b[0m                         Traceback (most recent call last)",
      "\u001b[0;32m<ipython-input-2-74d26ac2bc8e>\u001b[0m in \u001b[0;36m<module>\u001b[0;34m()\u001b[0m\n\u001b[1;32m      1\u001b[0m \u001b[0mprint\u001b[0m\u001b[0;34m(\u001b[0m\u001b[0;34m\"hello\"\u001b[0m\u001b[0;34m)\u001b[0m\u001b[0;34m\u001b[0m\u001b[0m\n\u001b[0;32m----> 2\u001b[0;31m \u001b[0mprint\u001b[0m\u001b[0;34m(\u001b[0m\u001b[0;36m1\u001b[0m\u001b[0;34m/\u001b[0m\u001b[0;36m0\u001b[0m\u001b[0;34m)\u001b[0m\u001b[0;34m\u001b[0m\u001b[0m\n\u001b[0m\u001b[1;32m      3\u001b[0m \u001b[0mprint\u001b[0m\u001b[0;34m(\u001b[0m\u001b[0;34m\"hi\"\u001b[0m\u001b[0;34m)\u001b[0m\u001b[0;34m\u001b[0m\u001b[0m\n",
      "\u001b[0;31mZeroDivisionError\u001b[0m: division by zero"
     ]
    }
   ],
   "source": [
    "print(\"hello\")\n",
    "print(1/0)\n",
    "print(\"hi\")"
   ]
  },
  {
   "cell_type": "code",
   "execution_count": 3,
   "metadata": {},
   "outputs": [
    {
     "ename": "SyntaxError",
     "evalue": "EOL while scanning string literal (<ipython-input-3-710d5b87cf5a>, line 3)",
     "output_type": "error",
     "traceback": [
      "\u001b[0;36m  File \u001b[0;32m\"<ipython-input-3-710d5b87cf5a>\"\u001b[0;36m, line \u001b[0;32m3\u001b[0m\n\u001b[0;31m    print(\"hi)\u001b[0m\n\u001b[0m              ^\u001b[0m\n\u001b[0;31mSyntaxError\u001b[0m\u001b[0;31m:\u001b[0m EOL while scanning string literal\n"
     ]
    }
   ],
   "source": [
    "print(\"hello\")\n",
    "print(1/0)\n",
    "print(\"hi)"
   ]
  },
  {
   "cell_type": "code",
   "execution_count": 5,
   "metadata": {},
   "outputs": [
    {
     "name": "stdout",
     "output_type": "stream",
     "text": [
      "welcome to the division operation\n",
      "enter a value:12\n",
      "Enter b value:6\n",
      " before conversion a=12,b=6\n",
      " after conversion a=12,b=6\n",
      "result=2.0\n",
      "thank you use me again\n"
     ]
    }
   ],
   "source": [
    "print(\"welcome to the division operation\")\n",
    "a=input(\"enter a value:\")\n",
    "b=input(\"Enter b value:\")\n",
    "print(f\" before conversion a={a},b={b}\")\n",
    "a=int(a)\n",
    "b=int(b)\n",
    "print(f\" after conversion a={a},b={b}\")\n",
    "res=a/b\n",
    "print(f\"result={res}\")\n",
    "print(\"thank you use me again\")\n",
    "\n"
   ]
  },
  {
   "cell_type": "code",
   "execution_count": 6,
   "metadata": {},
   "outputs": [
    {
     "name": "stdout",
     "output_type": "stream",
     "text": [
      "welcome to the division operation\n",
      "enter a value:1.2\n",
      "Enter b value:3.4\n",
      " before conversion a=1.2,b=3.4\n"
     ]
    },
    {
     "ename": "ValueError",
     "evalue": "invalid literal for int() with base 10: '1.2'",
     "output_type": "error",
     "traceback": [
      "\u001b[0;31m---------------------------------------------------------------------------\u001b[0m",
      "\u001b[0;31mValueError\u001b[0m                                Traceback (most recent call last)",
      "\u001b[0;32m<ipython-input-6-9cb8f15348ce>\u001b[0m in \u001b[0;36m<module>\u001b[0;34m()\u001b[0m\n\u001b[1;32m      3\u001b[0m \u001b[0mb\u001b[0m\u001b[0;34m=\u001b[0m\u001b[0minput\u001b[0m\u001b[0;34m(\u001b[0m\u001b[0;34m\"Enter b value:\"\u001b[0m\u001b[0;34m)\u001b[0m\u001b[0;34m\u001b[0m\u001b[0m\n\u001b[1;32m      4\u001b[0m \u001b[0mprint\u001b[0m\u001b[0;34m(\u001b[0m\u001b[0;34mf\" before conversion a={a},b={b}\"\u001b[0m\u001b[0;34m)\u001b[0m\u001b[0;34m\u001b[0m\u001b[0m\n\u001b[0;32m----> 5\u001b[0;31m \u001b[0ma\u001b[0m\u001b[0;34m=\u001b[0m\u001b[0mint\u001b[0m\u001b[0;34m(\u001b[0m\u001b[0ma\u001b[0m\u001b[0;34m)\u001b[0m\u001b[0;34m\u001b[0m\u001b[0m\n\u001b[0m\u001b[1;32m      6\u001b[0m \u001b[0mb\u001b[0m\u001b[0;34m=\u001b[0m\u001b[0mint\u001b[0m\u001b[0;34m(\u001b[0m\u001b[0mb\u001b[0m\u001b[0;34m)\u001b[0m\u001b[0;34m\u001b[0m\u001b[0m\n\u001b[1;32m      7\u001b[0m \u001b[0mprint\u001b[0m\u001b[0;34m(\u001b[0m\u001b[0;34mf\" after conversion a={a},b={b}\"\u001b[0m\u001b[0;34m)\u001b[0m\u001b[0;34m\u001b[0m\u001b[0m\n",
      "\u001b[0;31mValueError\u001b[0m: invalid literal for int() with base 10: '1.2'"
     ]
    }
   ],
   "source": [
    "print(\"welcome to the division operation\")\n",
    "a=input(\"enter a value:\")\n",
    "b=input(\"Enter b value:\")\n",
    "print(f\" before conversion a={a},b={b}\")\n",
    "a=int(a)\n",
    "b=int(b)\n",
    "print(f\" after conversion a={a},b={b}\")\n",
    "res=a/b\n",
    "print(f\"result={res}\")\n",
    "print(\"thank you use me again\")"
   ]
  },
  {
   "cell_type": "code",
   "execution_count": 7,
   "metadata": {},
   "outputs": [
    {
     "name": "stdout",
     "output_type": "stream",
     "text": [
      "welcome to the division operation\n",
      "enter a value:12\n",
      "Enter b value:3\n",
      " before conversion a=12,b=3\n",
      " after conversion a=12.0,b=3.0\n",
      "result=4.0\n",
      "thank you use me again\n"
     ]
    }
   ],
   "source": [
    "print(\"welcome to the division operation\")\n",
    "a=input(\"enter a value:\")\n",
    "b=input(\"Enter b value:\")\n",
    "print(f\" before conversion a={a},b={b}\")\n",
    "a=float(a)\n",
    "b=float(b)\n",
    "print(f\" after conversion a={a},b={b}\")\n",
    "res=a/b\n",
    "print(f\"result={res}\")\n",
    "print(\"thank you use me again\")"
   ]
  },
  {
   "cell_type": "code",
   "execution_count": 8,
   "metadata": {},
   "outputs": [
    {
     "name": "stdout",
     "output_type": "stream",
     "text": [
      "welcome to the division operation\n",
      "enter a value:1.2\n",
      "Enter b value:0.3\n",
      " before conversion a=1.2,b=0.3\n",
      " after conversion a=1.2,b=0.3\n",
      "result=4.0\n",
      "thank you use me again\n"
     ]
    }
   ],
   "source": [
    "print(\"welcome to the division operation\")\n",
    "a=input(\"enter a value:\")\n",
    "b=input(\"Enter b value:\")\n",
    "print(f\" before conversion a={a},b={b}\")\n",
    "a=float(a)\n",
    "b=float(b)\n",
    "print(f\" after conversion a={a},b={b}\")\n",
    "res=a/b\n",
    "print(f\"result={res}\")\n",
    "print(\"thank you use me again\")"
   ]
  },
  {
   "cell_type": "code",
   "execution_count": 9,
   "metadata": {},
   "outputs": [
    {
     "name": "stdout",
     "output_type": "stream",
     "text": [
      "welcome to the division operation\n",
      "enter a value:12\n",
      "Enter b value:erty\n",
      " before conversion a=12,b=erty\n"
     ]
    },
    {
     "ename": "ValueError",
     "evalue": "could not convert string to float: 'erty'",
     "output_type": "error",
     "traceback": [
      "\u001b[0;31m---------------------------------------------------------------------------\u001b[0m",
      "\u001b[0;31mValueError\u001b[0m                                Traceback (most recent call last)",
      "\u001b[0;32m<ipython-input-9-53d46a204ef8>\u001b[0m in \u001b[0;36m<module>\u001b[0;34m()\u001b[0m\n\u001b[1;32m      4\u001b[0m \u001b[0mprint\u001b[0m\u001b[0;34m(\u001b[0m\u001b[0;34mf\" before conversion a={a},b={b}\"\u001b[0m\u001b[0;34m)\u001b[0m\u001b[0;34m\u001b[0m\u001b[0m\n\u001b[1;32m      5\u001b[0m \u001b[0ma\u001b[0m\u001b[0;34m=\u001b[0m\u001b[0mfloat\u001b[0m\u001b[0;34m(\u001b[0m\u001b[0ma\u001b[0m\u001b[0;34m)\u001b[0m\u001b[0;34m\u001b[0m\u001b[0m\n\u001b[0;32m----> 6\u001b[0;31m \u001b[0mb\u001b[0m\u001b[0;34m=\u001b[0m\u001b[0mfloat\u001b[0m\u001b[0;34m(\u001b[0m\u001b[0mb\u001b[0m\u001b[0;34m)\u001b[0m\u001b[0;34m\u001b[0m\u001b[0m\n\u001b[0m\u001b[1;32m      7\u001b[0m \u001b[0mprint\u001b[0m\u001b[0;34m(\u001b[0m\u001b[0;34mf\" after conversion a={a},b={b}\"\u001b[0m\u001b[0;34m)\u001b[0m\u001b[0;34m\u001b[0m\u001b[0m\n\u001b[1;32m      8\u001b[0m \u001b[0mres\u001b[0m\u001b[0;34m=\u001b[0m\u001b[0ma\u001b[0m\u001b[0;34m/\u001b[0m\u001b[0mb\u001b[0m\u001b[0;34m\u001b[0m\u001b[0m\n",
      "\u001b[0;31mValueError\u001b[0m: could not convert string to float: 'erty'"
     ]
    }
   ],
   "source": [
    "print(\"welcome to the division operation\")\n",
    "a=input(\"enter a value:\")\n",
    "b=input(\"Enter b value:\")\n",
    "print(f\" before conversion a={a},b={b}\")\n",
    "a=float(a)\n",
    "b=float(b)\n",
    "print(f\" after conversion a={a},b={b}\")\n",
    "res=a/b\n",
    "print(f\"result={res}\")\n",
    "print(\"thank you use me again\")"
   ]
  },
  {
   "cell_type": "code",
   "execution_count": 10,
   "metadata": {},
   "outputs": [
    {
     "name": "stdout",
     "output_type": "stream",
     "text": [
      "welcome to the division operation\n",
      "enter a value:12\n",
      "Enter b value:0\n",
      " before conversion a=12,b=0\n",
      " after conversion a=12.0,b=0.0\n"
     ]
    },
    {
     "ename": "ZeroDivisionError",
     "evalue": "float division by zero",
     "output_type": "error",
     "traceback": [
      "\u001b[0;31m---------------------------------------------------------------------------\u001b[0m",
      "\u001b[0;31mZeroDivisionError\u001b[0m                         Traceback (most recent call last)",
      "\u001b[0;32m<ipython-input-10-53d46a204ef8>\u001b[0m in \u001b[0;36m<module>\u001b[0;34m()\u001b[0m\n\u001b[1;32m      6\u001b[0m \u001b[0mb\u001b[0m\u001b[0;34m=\u001b[0m\u001b[0mfloat\u001b[0m\u001b[0;34m(\u001b[0m\u001b[0mb\u001b[0m\u001b[0;34m)\u001b[0m\u001b[0;34m\u001b[0m\u001b[0m\n\u001b[1;32m      7\u001b[0m \u001b[0mprint\u001b[0m\u001b[0;34m(\u001b[0m\u001b[0;34mf\" after conversion a={a},b={b}\"\u001b[0m\u001b[0;34m)\u001b[0m\u001b[0;34m\u001b[0m\u001b[0m\n\u001b[0;32m----> 8\u001b[0;31m \u001b[0mres\u001b[0m\u001b[0;34m=\u001b[0m\u001b[0ma\u001b[0m\u001b[0;34m/\u001b[0m\u001b[0mb\u001b[0m\u001b[0;34m\u001b[0m\u001b[0m\n\u001b[0m\u001b[1;32m      9\u001b[0m \u001b[0mprint\u001b[0m\u001b[0;34m(\u001b[0m\u001b[0;34mf\"result={res}\"\u001b[0m\u001b[0;34m)\u001b[0m\u001b[0;34m\u001b[0m\u001b[0m\n\u001b[1;32m     10\u001b[0m \u001b[0mprint\u001b[0m\u001b[0;34m(\u001b[0m\u001b[0;34m\"thank you use me again\"\u001b[0m\u001b[0;34m)\u001b[0m\u001b[0;34m\u001b[0m\u001b[0m\n",
      "\u001b[0;31mZeroDivisionError\u001b[0m: float division by zero"
     ]
    }
   ],
   "source": [
    "print(\"welcome to the division operation\")\n",
    "a=input(\"enter a value:\")\n",
    "b=input(\"Enter b value:\")\n",
    "print(f\" before conversion a={a},b={b}\")\n",
    "a=float(a)\n",
    "b=float(b)\n",
    "print(f\" after conversion a={a},b={b}\")\n",
    "res=a/b\n",
    "print(f\"result={res}\")\n",
    "print(\"thank you use me again\")\n"
   ]
  },
  {
   "cell_type": "code",
   "execution_count": 11,
   "metadata": {},
   "outputs": [
    {
     "name": "stdout",
     "output_type": "stream",
     "text": [
      "welcome to the division operation\n",
      "enter a value:12\n",
      "Enter b value:6\n",
      " before conversion a=12,b=6\n",
      " after conversion a=12.0,b=6.0\n",
      "result=2.0\n",
      "thank you use me again\n"
     ]
    }
   ],
   "source": [
    "try:\n",
    "    print(\"welcome to the division operation\")\n",
    "    a=input(\"enter a value:\")\n",
    "    b=input(\"Enter b value:\")\n",
    "    print(f\" before conversion a={a},b={b}\")\n",
    "    a=float(a)\n",
    "    b=float(b)\n",
    "    print(f\" after conversion a={a},b={b}\")\n",
    "    res=a/b\n",
    "    print(f\"result={res}\")\n",
    "    print(\"thank you use me again\")\n",
    "except:\n",
    "    print(\"some issue, please contact admin\")\n"
   ]
  },
  {
   "cell_type": "code",
   "execution_count": 12,
   "metadata": {},
   "outputs": [
    {
     "name": "stdout",
     "output_type": "stream",
     "text": [
      "welcome to the division operation\n",
      "enter a value:12\n",
      "Enter b value:0\n",
      " before conversion a=12,b=0\n",
      " after conversion a=12.0,b=0.0\n",
      "some issue, please contact admin\n"
     ]
    }
   ],
   "source": [
    "try:\n",
    "    print(\"welcome to the division operation\")\n",
    "    a=input(\"enter a value:\")\n",
    "    b=input(\"Enter b value:\")\n",
    "    print(f\" before conversion a={a},b={b}\")\n",
    "    a=float(a)\n",
    "    b=float(b)\n",
    "    print(f\" after conversion a={a},b={b}\")\n",
    "    res=a/b\n",
    "    print(f\"result={res}\")\n",
    "    print(\"thank you use me again\")\n",
    "except:\n",
    "    print(\"some issue, please contact admin\")\n"
   ]
  },
  {
   "cell_type": "code",
   "execution_count": 13,
   "metadata": {},
   "outputs": [
    {
     "name": "stdout",
     "output_type": "stream",
     "text": [
      "welcome to the division operation\n",
      "enter a value:wer\n",
      "Enter b value:23\n",
      " before conversion a=wer,b=23\n",
      "some issue, please contact admin\n"
     ]
    }
   ],
   "source": [
    "try:\n",
    "    print(\"welcome to the division operation\")\n",
    "    a=input(\"enter a value:\")\n",
    "    b=input(\"Enter b value:\")\n",
    "    print(f\" before conversion a={a},b={b}\")\n",
    "    a=float(a)\n",
    "    b=float(b)\n",
    "    print(f\" after conversion a={a},b={b}\")\n",
    "    res=a/b\n",
    "    print(f\"result={res}\")\n",
    "    print(\"thank you use me again\")\n",
    "except:\n",
    "    print(\"some issue, please contact admin\")\n"
   ]
  },
  {
   "cell_type": "code",
   "execution_count": 14,
   "metadata": {},
   "outputs": [
    {
     "name": "stdout",
     "output_type": "stream",
     "text": [
      "welcome to the division operation\n",
      "enter a value:12\n",
      "Enter b value:6\n",
      " before conversion a=12,b=6\n",
      " after conversion a=12.0,b=6.0\n",
      "result=2.0\n",
      "thank you use me again\n"
     ]
    }
   ],
   "source": [
    "print(\"welcome to the division operation\")\n",
    "a=input(\"enter a value:\")\n",
    "b=input(\"Enter b value:\")\n",
    "print(f\" before conversion a={a},b={b}\")\n",
    "try:\n",
    "    a=float(a)\n",
    "    b=float(b)\n",
    "    print(f\" after conversion a={a},b={b}\")\n",
    "    res=a/b\n",
    "    print(f\"result={res}\")\n",
    "except:\n",
    "    print(\"some issue, please contact admin\")\n",
    "print(\"thank you use me again\")\n"
   ]
  },
  {
   "cell_type": "code",
   "execution_count": 15,
   "metadata": {},
   "outputs": [
    {
     "name": "stdout",
     "output_type": "stream",
     "text": [
      "welcome to the division operation\n",
      "enter a value:12\n",
      "Enter b value:0\n",
      " before conversion a=12,b=0\n",
      " after conversion a=12.0,b=0.0\n",
      "some issue, please contact admin\n",
      "thank you use me again\n"
     ]
    }
   ],
   "source": [
    "print(\"welcome to the division operation\")\n",
    "a=input(\"enter a value:\")\n",
    "b=input(\"Enter b value:\")\n",
    "print(f\" before conversion a={a},b={b}\")\n",
    "try:\n",
    "    a=float(a)\n",
    "    b=float(b)\n",
    "    print(f\" after conversion a={a},b={b}\")\n",
    "    res=a/b\n",
    "    print(f\"result={res}\")\n",
    "except:\n",
    "    print(\"some issue, please contact admin\")\n",
    "print(\"thank you use me again\")\n"
   ]
  },
  {
   "cell_type": "code",
   "execution_count": 16,
   "metadata": {},
   "outputs": [
    {
     "name": "stdout",
     "output_type": "stream",
     "text": [
      "welcome to the division operation\n",
      "enter a value:qwer\n",
      "Enter b value:23\n",
      " before conversion a=qwer,b=23\n",
      "some issue, please contact admin\n",
      "thank you use me again\n"
     ]
    }
   ],
   "source": [
    "print(\"welcome to the division operation\")\n",
    "a=input(\"enter a value:\")\n",
    "b=input(\"Enter b value:\")\n",
    "print(f\" before conversion a={a},b={b}\")\n",
    "try:\n",
    "    a=float(a)\n",
    "    b=float(b)\n",
    "    print(f\" after conversion a={a},b={b}\")\n",
    "    res=a/b\n",
    "    print(f\"result={res}\")\n",
    "except:\n",
    "    print(\"some issue, please contact admin\")\n",
    "print(\"thank you use me again\")\n"
   ]
  },
  {
   "cell_type": "code",
   "execution_count": 17,
   "metadata": {},
   "outputs": [
    {
     "name": "stdout",
     "output_type": "stream",
     "text": [
      "welcome to the division operation\n",
      "enter a value:12\n",
      "Enter b value:6\n",
      " before conversion a=12,b=6\n",
      " after conversion a=12.0,b=6.0\n",
      "result=2.0\n",
      "thank you use me again\n"
     ]
    }
   ],
   "source": [
    "print(\"welcome to the division operation\")\n",
    "a=input(\"enter a value:\")\n",
    "b=input(\"Enter b value:\")\n",
    "print(f\" before conversion a={a},b={b}\")\n",
    "try:\n",
    "    a=float(a)\n",
    "    b=float(b)\n",
    "    print(f\" after conversion a={a},b={b}\")\n",
    "    res=a/b\n",
    "    print(f\"result={res}\")\n",
    "except Exception as err:\n",
    "    print(err)\n",
    "    print(\"some issue, please contact admin\")\n",
    "print(\"thank you use me again\")\n"
   ]
  },
  {
   "cell_type": "code",
   "execution_count": 19,
   "metadata": {},
   "outputs": [
    {
     "name": "stdout",
     "output_type": "stream",
     "text": [
      "welcome to the division operation\n",
      "enter a value:12\n",
      "Enter b value:0\n",
      " before conversion a=12,b=0\n",
      " after conversion a=12.0,b=0.0\n",
      "ERR= float division by zero\n",
      "some issue, please contact admin\n",
      "thank you use me again\n"
     ]
    }
   ],
   "source": [
    "print(\"welcome to the division operation\")\n",
    "a=input(\"enter a value:\")\n",
    "b=input(\"Enter b value:\")\n",
    "print(f\" before conversion a={a},b={b}\")\n",
    "try:\n",
    "    a=float(a)\n",
    "    b=float(b)\n",
    "    print(f\" after conversion a={a},b={b}\")\n",
    "    res=a/b\n",
    "    print(f\"result={res}\")\n",
    "except Exception as err:\n",
    "    print(\"ERR=\",err)\n",
    "    print(\"some issue, please contact admin\")\n",
    "print(\"thank you use me again\")\n"
   ]
  },
  {
   "cell_type": "code",
   "execution_count": 20,
   "metadata": {},
   "outputs": [
    {
     "name": "stdout",
     "output_type": "stream",
     "text": [
      "welcome to the division operation\n",
      "enter a value:we\n",
      "Enter b value:23\n",
      " before conversion a=we,b=23\n",
      "ERR= could not convert string to float: 'we'\n",
      "some issue, please contact admin\n",
      "thank you use me again\n"
     ]
    }
   ],
   "source": [
    "print(\"welcome to the division operation\")\n",
    "a=input(\"enter a value:\")\n",
    "b=input(\"Enter b value:\")\n",
    "print(f\" before conversion a={a},b={b}\")\n",
    "try:\n",
    "    a=float(a)\n",
    "    b=float(b)\n",
    "    print(f\" after conversion a={a},b={b}\")\n",
    "    res=a/b\n",
    "    print(f\"result={res}\")\n",
    "except Exception as err:\n",
    "    print(\"ERR=\",err)\n",
    "    print(\"some issue, please contact admin\")\n",
    "print(\"thank you use me again\")\n"
   ]
  },
  {
   "cell_type": "code",
   "execution_count": 21,
   "metadata": {},
   "outputs": [
    {
     "name": "stdout",
     "output_type": "stream",
     "text": [
      "welcome to the division operation\n",
      "enter a value:12\n",
      "Enter b value:6\n",
      " before conversion a=12,b=6\n",
      " after conversion a=12.0,b=6.0\n",
      "result=2.0\n",
      "thank you use me again\n"
     ]
    }
   ],
   "source": [
    "print(\"welcome to the division operation\")\n",
    "a=input(\"enter a value:\")\n",
    "b=input(\"Enter b value:\")\n",
    "print(f\" before conversion a={a},b={b}\")\n",
    "try:\n",
    "    a=float(a)\n",
    "    b=float(b)\n",
    "    print(f\" after conversion a={a},b={b}\")\n",
    "    res=a/b\n",
    "    print(f\"result={res}\")\n",
    "except ValueError as err:\n",
    "    print(err)\n",
    "    print(\"expecting digits only\")\n",
    "except ZeroDivisionError as err:\n",
    "    print(err)\n",
    "    print(\"b!=0\")\n",
    "except Exception as err:\n",
    "    print(\"ERR=\",err)\n",
    "    print(\"some issue, please contact admin\")\n",
    "print(\"thank you use me again\")\n"
   ]
  },
  {
   "cell_type": "code",
   "execution_count": 22,
   "metadata": {},
   "outputs": [
    {
     "name": "stdout",
     "output_type": "stream",
     "text": [
      "welcome to the division operation\n",
      "enter a value:12\n",
      "Enter b value:0\n",
      " before conversion a=12,b=0\n",
      " after conversion a=12.0,b=0.0\n",
      "float division by zero\n",
      "b!=0\n",
      "thank you use me again\n"
     ]
    }
   ],
   "source": [
    "print(\"welcome to the division operation\")\n",
    "a=input(\"enter a value:\")\n",
    "b=input(\"Enter b value:\")\n",
    "print(f\" before conversion a={a},b={b}\")\n",
    "try:\n",
    "    a=float(a)\n",
    "    b=float(b)\n",
    "    print(f\" after conversion a={a},b={b}\")\n",
    "    res=a/b\n",
    "    print(f\"result={res}\")\n",
    "except ValueError as err:\n",
    "    print(err)\n",
    "    print(\"expecting digits only\")\n",
    "except ZeroDivisionError as err:\n",
    "    print(err)\n",
    "    print(\"b!=0\")\n",
    "except Exception as err:\n",
    "    print(\"ERR=\",err)\n",
    "    print(\"some issue, please contact admin\")\n",
    "print(\"thank you use me again\")\n"
   ]
  },
  {
   "cell_type": "code",
   "execution_count": 23,
   "metadata": {},
   "outputs": [
    {
     "name": "stdout",
     "output_type": "stream",
     "text": [
      "welcome to the division operation\n",
      "enter a value:wer\n",
      "Enter b value:34\n",
      " before conversion a=wer,b=34\n",
      "could not convert string to float: 'wer'\n",
      "expecting digits only\n",
      "thank you use me again\n"
     ]
    }
   ],
   "source": [
    "print(\"welcome to the division operation\")\n",
    "a=input(\"enter a value:\")\n",
    "b=input(\"Enter b value:\")\n",
    "print(f\" before conversion a={a},b={b}\")\n",
    "try:\n",
    "    a=float(a)\n",
    "    b=float(b)\n",
    "    print(f\" after conversion a={a},b={b}\")\n",
    "    res=a/b\n",
    "    print(f\"result={res}\")\n",
    "except ValueError as err:\n",
    "    print(err)\n",
    "    print(\"expecting digits only\")\n",
    "except ZeroDivisionError as err:\n",
    "    print(err)\n",
    "    print(\"b!=0\")\n",
    "except Exception as err:\n",
    "    print(\"ERR=\",err)\n",
    "    print(\"some issue, please contact admin\")\n",
    "print(\"thank you use me again\")\n"
   ]
  },
  {
   "cell_type": "code",
   "execution_count": 24,
   "metadata": {},
   "outputs": [
    {
     "name": "stdout",
     "output_type": "stream",
     "text": [
      "welcome to the division operation\n",
      "enter a value:12\n",
      "Enter b value:0\n",
      " before conversion a=12,b=0\n",
      " after conversion a=12.0,b=0.0\n",
      "ERR= float division by zero\n",
      "some issue, please contact admin\n",
      "thank you use me again\n"
     ]
    }
   ],
   "source": [
    "print(\"welcome to the division operation\")\n",
    "a=input(\"enter a value:\")\n",
    "b=input(\"Enter b value:\")\n",
    "print(f\" before conversion a={a},b={b}\")\n",
    "try:\n",
    "    a=float(a)\n",
    "    b=float(b)\n",
    "    print(f\" after conversion a={a},b={b}\")\n",
    "    res=a/b\n",
    "    print(f\"result={res}\")\n",
    "except Exception as err:\n",
    "    print(\"ERR=\",err)\n",
    "    print(\"some issue, please contact admin\")\n",
    "except ValueError as err:\n",
    "    print(err)\n",
    "    print(\"expecting digits only\")\n",
    "except ZeroDivisionError as err:\n",
    "    print(err)\n",
    "    print(\"b!=0\")\n",
    "\n",
    "print(\"thank you use me again\")\n"
   ]
  },
  {
   "cell_type": "code",
   "execution_count": 25,
   "metadata": {},
   "outputs": [
    {
     "name": "stdout",
     "output_type": "stream",
     "text": [
      "welcome to the division operation\n",
      "enter a value:qwe\n",
      "Enter b value:23\n",
      " before conversion a=qwe,b=23\n",
      "ERR= could not convert string to float: 'qwe'\n",
      "some issue, please contact admin\n",
      "thank you use me again\n"
     ]
    }
   ],
   "source": [
    "print(\"welcome to the division operation\")\n",
    "a=input(\"enter a value:\")\n",
    "b=input(\"Enter b value:\")\n",
    "print(f\" before conversion a={a},b={b}\")\n",
    "try:\n",
    "    a=float(a)\n",
    "    b=float(b)\n",
    "    print(f\" after conversion a={a},b={b}\")\n",
    "    res=a/b\n",
    "    print(f\"result={res}\")\n",
    "except Exception as err:\n",
    "    print(\"ERR=\",err)\n",
    "    print(\"some issue, please contact admin\")\n",
    "except ValueError as err:\n",
    "    print(err)\n",
    "    print(\"expecting digits only\")\n",
    "except ZeroDivisionError as err:\n",
    "    print(err)\n",
    "    print(\"b!=0\")\n",
    "\n",
    "print(\"thank you use me again\")\n"
   ]
  },
  {
   "cell_type": "code",
   "execution_count": 27,
   "metadata": {},
   "outputs": [
    {
     "name": "stdout",
     "output_type": "stream",
     "text": [
      "welcome to the division operation\n",
      "thank you use me again\n"
     ]
    }
   ],
   "source": [
    "print(\"welcome to the division operation\")\n",
    "f=open(\"data.txt\",\"w\")\n",
    "f.write(\"hello\")\n",
    "try:\n",
    "    f.write(\"hi\")\n",
    "except Exception as err:\n",
    "    print(\"ERROR=\",err)\n",
    "f.close()\n",
    "print(\"thank you use me again\")\n"
   ]
  },
  {
   "cell_type": "code",
   "execution_count": 28,
   "metadata": {},
   "outputs": [
    {
     "name": "stdout",
     "output_type": "stream",
     "text": [
      "welcome to the division operation\n",
      "ERROR= write() argument must be str, not int\n",
      "thank you use me again\n"
     ]
    }
   ],
   "source": [
    "print(\"welcome to the division operation\")\n",
    "f=open(\"data.txt\",\"w\")\n",
    "f.write(\"hello\")\n",
    "try:\n",
    "    f.write(123)\n",
    "except Exception as err:\n",
    "    print(\"ERROR=\",err)\n",
    "f.close()\n",
    "print(\"thank you use me again\")\n"
   ]
  },
  {
   "cell_type": "code",
   "execution_count": 29,
   "metadata": {},
   "outputs": [
    {
     "name": "stdout",
     "output_type": "stream",
     "text": [
      "welcome to the division operation\n"
     ]
    },
    {
     "ename": "TypeError",
     "evalue": "write() argument must be str, not int",
     "output_type": "error",
     "traceback": [
      "\u001b[0;31m---------------------------------------------------------------------------\u001b[0m",
      "\u001b[0;31mTypeError\u001b[0m                                 Traceback (most recent call last)",
      "\u001b[0;32m<ipython-input-29-06c237a277d8>\u001b[0m in \u001b[0;36m<module>\u001b[0;34m()\u001b[0m\n\u001b[1;32m      1\u001b[0m \u001b[0mprint\u001b[0m\u001b[0;34m(\u001b[0m\u001b[0;34m\"welcome to the division operation\"\u001b[0m\u001b[0;34m)\u001b[0m\u001b[0;34m\u001b[0m\u001b[0m\n\u001b[1;32m      2\u001b[0m \u001b[0mf\u001b[0m\u001b[0;34m=\u001b[0m\u001b[0mopen\u001b[0m\u001b[0;34m(\u001b[0m\u001b[0;34m\"data.txt\"\u001b[0m\u001b[0;34m,\u001b[0m\u001b[0;34m\"w\"\u001b[0m\u001b[0;34m)\u001b[0m\u001b[0;34m\u001b[0m\u001b[0m\n\u001b[0;32m----> 3\u001b[0;31m \u001b[0mf\u001b[0m\u001b[0;34m.\u001b[0m\u001b[0mwrite\u001b[0m\u001b[0;34m(\u001b[0m\u001b[0;36m12\u001b[0m\u001b[0;34m)\u001b[0m\u001b[0;34m\u001b[0m\u001b[0m\n\u001b[0m",
      "\u001b[0;31mTypeError\u001b[0m: write() argument must be str, not int"
     ]
    }
   ],
   "source": [
    "print(\"welcome to the division operation\")\n",
    "f=open(\"data.txt\",\"w\")\n",
    "f.write(12)\n"
   ]
  },
  {
   "cell_type": "code",
   "execution_count": 30,
   "metadata": {},
   "outputs": [
    {
     "name": "stdout",
     "output_type": "stream",
     "text": [
      "welcome to the division operation\n"
     ]
    },
    {
     "ename": "TypeError",
     "evalue": "write() argument must be str, not int",
     "output_type": "error",
     "traceback": [
      "\u001b[0;31m---------------------------------------------------------------------------\u001b[0m",
      "\u001b[0;31mTypeError\u001b[0m                                 Traceback (most recent call last)",
      "\u001b[0;32m<ipython-input-30-17a88f75415d>\u001b[0m in \u001b[0;36m<module>\u001b[0;34m()\u001b[0m\n\u001b[1;32m      3\u001b[0m \u001b[0mf\u001b[0m\u001b[0;34m.\u001b[0m\u001b[0mwrite\u001b[0m\u001b[0;34m(\u001b[0m\u001b[0;34m\"hello\"\u001b[0m\u001b[0;34m)\u001b[0m\u001b[0;34m\u001b[0m\u001b[0m\n\u001b[1;32m      4\u001b[0m \u001b[0;32mtry\u001b[0m\u001b[0;34m:\u001b[0m\u001b[0;34m\u001b[0m\u001b[0m\n\u001b[0;32m----> 5\u001b[0;31m     \u001b[0mf\u001b[0m\u001b[0;34m.\u001b[0m\u001b[0mwrite\u001b[0m\u001b[0;34m(\u001b[0m\u001b[0;36m123\u001b[0m\u001b[0;34m)\u001b[0m\u001b[0;34m\u001b[0m\u001b[0m\n\u001b[0m\u001b[1;32m      6\u001b[0m \u001b[0;32mexcept\u001b[0m \u001b[0mValueError\u001b[0m \u001b[0;32mas\u001b[0m \u001b[0merr\u001b[0m\u001b[0;34m:\u001b[0m\u001b[0;34m\u001b[0m\u001b[0m\n\u001b[1;32m      7\u001b[0m     \u001b[0mprint\u001b[0m\u001b[0;34m(\u001b[0m\u001b[0;34m\"ERROR=\"\u001b[0m\u001b[0;34m,\u001b[0m\u001b[0merr\u001b[0m\u001b[0;34m)\u001b[0m\u001b[0;34m\u001b[0m\u001b[0m\n",
      "\u001b[0;31mTypeError\u001b[0m: write() argument must be str, not int"
     ]
    }
   ],
   "source": [
    "print(\"welcome to the division operation\")\n",
    "f=open(\"data.txt\",\"w\")\n",
    "f.write(\"hello\")\n",
    "try:\n",
    "    f.write(123)\n",
    "except ValueError as err:\n",
    "    print(\"ERROR=\",err)\n",
    "f.close()\n",
    "print(\"thank you use me again\")\n"
   ]
  },
  {
   "cell_type": "code",
   "execution_count": 31,
   "metadata": {},
   "outputs": [
    {
     "name": "stdout",
     "output_type": "stream",
     "text": [
      "welcome to the division operation\n",
      "executing finally block\n"
     ]
    },
    {
     "ename": "TypeError",
     "evalue": "write() argument must be str, not int",
     "output_type": "error",
     "traceback": [
      "\u001b[0;31m---------------------------------------------------------------------------\u001b[0m",
      "\u001b[0;31mTypeError\u001b[0m                                 Traceback (most recent call last)",
      "\u001b[0;32m<ipython-input-31-3cd0bb4979f2>\u001b[0m in \u001b[0;36m<module>\u001b[0;34m()\u001b[0m\n\u001b[1;32m      3\u001b[0m \u001b[0mf\u001b[0m\u001b[0;34m.\u001b[0m\u001b[0mwrite\u001b[0m\u001b[0;34m(\u001b[0m\u001b[0;34m\"hello\"\u001b[0m\u001b[0;34m)\u001b[0m\u001b[0;34m\u001b[0m\u001b[0m\n\u001b[1;32m      4\u001b[0m \u001b[0;32mtry\u001b[0m\u001b[0;34m:\u001b[0m\u001b[0;34m\u001b[0m\u001b[0m\n\u001b[0;32m----> 5\u001b[0;31m     \u001b[0mf\u001b[0m\u001b[0;34m.\u001b[0m\u001b[0mwrite\u001b[0m\u001b[0;34m(\u001b[0m\u001b[0;36m123\u001b[0m\u001b[0;34m)\u001b[0m\u001b[0;34m\u001b[0m\u001b[0m\n\u001b[0m\u001b[1;32m      6\u001b[0m \u001b[0;32mexcept\u001b[0m \u001b[0mValueError\u001b[0m \u001b[0;32mas\u001b[0m \u001b[0merr\u001b[0m\u001b[0;34m:\u001b[0m\u001b[0;34m\u001b[0m\u001b[0m\n\u001b[1;32m      7\u001b[0m     \u001b[0mprint\u001b[0m\u001b[0;34m(\u001b[0m\u001b[0;34m\"ERROR=\"\u001b[0m\u001b[0;34m,\u001b[0m\u001b[0merr\u001b[0m\u001b[0;34m)\u001b[0m\u001b[0;34m\u001b[0m\u001b[0m\n",
      "\u001b[0;31mTypeError\u001b[0m: write() argument must be str, not int"
     ]
    }
   ],
   "source": [
    "print(\"welcome to the division operation\")\n",
    "f=open(\"data.txt\",\"w\")\n",
    "f.write(\"hello\")\n",
    "try:\n",
    "    f.write(123)\n",
    "except ValueError as err:\n",
    "    print(\"ERROR=\",err)\n",
    "finally:\n",
    "    print(\"executing finally block\")\n",
    "    f.close()\n",
    "print(\"thank you use me again\")\n"
   ]
  },
  {
   "cell_type": "code",
   "execution_count": 32,
   "metadata": {},
   "outputs": [
    {
     "name": "stdout",
     "output_type": "stream",
     "text": [
      "welcome to the division operation\n",
      "ERROR= write() argument must be str, not int\n",
      "executing finally block\n",
      "thank you use me again\n"
     ]
    }
   ],
   "source": [
    "print(\"welcome to the division operation\")\n",
    "f=open(\"data.txt\",\"w\")\n",
    "f.write(\"hello\")\n",
    "try:\n",
    "    f.write(123)\n",
    "except TypeError as err:\n",
    "    print(\"ERROR=\",err)\n",
    "finally:\n",
    "    print(\"executing finally block\")\n",
    "    f.close()\n",
    "print(\"thank you use me again\")\n"
   ]
  },
  {
   "cell_type": "code",
   "execution_count": 34,
   "metadata": {},
   "outputs": [
    {
     "name": "stdout",
     "output_type": "stream",
     "text": [
      "welcome to the division operation\n",
      "try\n",
      "executing finally block\n",
      "thank you use me again\n"
     ]
    }
   ],
   "source": [
    "print(\"welcome to the division operation\")\n",
    "try:\n",
    "    print(\"try\")\n",
    "finally:\n",
    "    print(\"executing finally block\")\n",
    "print(\"thank you use me again\")\n"
   ]
  },
  {
   "cell_type": "code",
   "execution_count": 35,
   "metadata": {},
   "outputs": [
    {
     "name": "stdout",
     "output_type": "stream",
     "text": [
      "welcome to the division operation\n",
      "try\n",
      "executing finally block\n"
     ]
    },
    {
     "ename": "ZeroDivisionError",
     "evalue": "division by zero",
     "output_type": "error",
     "traceback": [
      "\u001b[0;31m---------------------------------------------------------------------------\u001b[0m",
      "\u001b[0;31mZeroDivisionError\u001b[0m                         Traceback (most recent call last)",
      "\u001b[0;32m<ipython-input-35-72e558438b2d>\u001b[0m in \u001b[0;36m<module>\u001b[0;34m()\u001b[0m\n\u001b[1;32m      2\u001b[0m \u001b[0;32mtry\u001b[0m\u001b[0;34m:\u001b[0m\u001b[0;34m\u001b[0m\u001b[0m\n\u001b[1;32m      3\u001b[0m     \u001b[0mprint\u001b[0m\u001b[0;34m(\u001b[0m\u001b[0;34m\"try\"\u001b[0m\u001b[0;34m)\u001b[0m\u001b[0;34m\u001b[0m\u001b[0m\n\u001b[0;32m----> 4\u001b[0;31m     \u001b[0mprint\u001b[0m\u001b[0;34m(\u001b[0m\u001b[0;36m1\u001b[0m\u001b[0;34m/\u001b[0m\u001b[0;36m0\u001b[0m\u001b[0;34m)\u001b[0m\u001b[0;34m\u001b[0m\u001b[0m\n\u001b[0m\u001b[1;32m      5\u001b[0m \u001b[0;32mfinally\u001b[0m\u001b[0;34m:\u001b[0m\u001b[0;34m\u001b[0m\u001b[0m\n\u001b[1;32m      6\u001b[0m     \u001b[0mprint\u001b[0m\u001b[0;34m(\u001b[0m\u001b[0;34m\"executing finally block\"\u001b[0m\u001b[0;34m)\u001b[0m\u001b[0;34m\u001b[0m\u001b[0m\n",
      "\u001b[0;31mZeroDivisionError\u001b[0m: division by zero"
     ]
    }
   ],
   "source": [
    "print(\"welcome to the division operation\")\n",
    "try:\n",
    "    print(\"try\")\n",
    "    print(1/0)\n",
    "finally:\n",
    "    print(\"executing finally block\")\n",
    "print(\"thank you use me again\")\n"
   ]
  },
  {
   "cell_type": "code",
   "execution_count": 36,
   "metadata": {},
   "outputs": [
    {
     "name": "stdout",
     "output_type": "stream",
     "text": [
      "welcome to the division operation\n",
      "try\n",
      "else\n",
      "executing finally block\n",
      "thank you use me again\n"
     ]
    }
   ],
   "source": [
    "print(\"welcome to the division operation\")\n",
    "try:\n",
    "    print(\"try\")\n",
    "except:\n",
    "    print(\"except\")\n",
    "else:\n",
    "    print(\"else\")\n",
    "finally:\n",
    "    print(\"executing finally block\")\n",
    "print(\"thank you use me again\")\n"
   ]
  },
  {
   "cell_type": "code",
   "execution_count": 37,
   "metadata": {},
   "outputs": [
    {
     "name": "stdout",
     "output_type": "stream",
     "text": [
      "welcome to the division operation\n",
      "try\n",
      "except\n",
      "executing finally block\n",
      "thank you use me again\n"
     ]
    }
   ],
   "source": [
    "print(\"welcome to the division operation\")\n",
    "try:\n",
    "    print(\"try\")\n",
    "    print(1/0)\n",
    "except:\n",
    "    print(\"except\")\n",
    "else:\n",
    "    print(\"else\")\n",
    "finally:\n",
    "    print(\"executing finally block\")\n",
    "print(\"thank you use me again\")\n"
   ]
  },
  {
   "cell_type": "code",
   "execution_count": null,
   "metadata": {},
   "outputs": [],
   "source": []
  }
 ],
 "metadata": {
  "kernelspec": {
   "display_name": "Python 3",
   "language": "python",
   "name": "python3"
  },
  "language_info": {
   "codemirror_mode": {
    "name": "ipython",
    "version": 3
   },
   "file_extension": ".py",
   "mimetype": "text/x-python",
   "name": "python",
   "nbconvert_exporter": "python",
   "pygments_lexer": "ipython3",
   "version": "3.7.0"
  }
 },
 "nbformat": 4,
 "nbformat_minor": 2
}
