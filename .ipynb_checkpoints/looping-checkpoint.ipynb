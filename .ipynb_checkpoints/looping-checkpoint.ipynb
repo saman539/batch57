{
 "cells": [
  {
   "cell_type": "code",
   "execution_count": 1,
   "metadata": {},
   "outputs": [
    {
     "name": "stdout",
     "output_type": "stream",
     "text": [
      "st1\n",
      "st2\n",
      "st3\n",
      "st4\n",
      "st5\n"
     ]
    }
   ],
   "source": [
    "print(\"st1\")\n",
    "print(\"st2\")\n",
    "print(\"st3\")\n",
    "print(\"st4\")\n",
    "print(\"st5\")"
   ]
  },
  {
   "cell_type": "code",
   "execution_count": 4,
   "metadata": {},
   "outputs": [
    {
     "name": "stdout",
     "output_type": "stream",
     "text": [
      "st1\n",
      "st2\n",
      "st3\n",
      "st4\n",
      "st5\n",
      "st6\n",
      "st7\n",
      "st8\n",
      "st9\n"
     ]
    }
   ],
   "source": [
    "i=1\n",
    "while i<10:\n",
    "    print(\"st%s\"%i)\n",
    "    i=i+1"
   ]
  },
  {
   "cell_type": "code",
   "execution_count": 5,
   "metadata": {},
   "outputs": [
    {
     "name": "stdout",
     "output_type": "stream",
     "text": [
      "welcome\n",
      "0\n",
      "thank you\n"
     ]
    }
   ],
   "source": [
    "print(\"welcome\")\n",
    "i=0\n",
    "if i<3:\n",
    "    print(i)\n",
    "    i=i+1\n",
    "print(\"thank you\")"
   ]
  },
  {
   "cell_type": "code",
   "execution_count": 6,
   "metadata": {},
   "outputs": [
    {
     "name": "stdout",
     "output_type": "stream",
     "text": [
      "welcome\n",
      "0\n",
      "1\n",
      "2\n",
      "thank you\n"
     ]
    }
   ],
   "source": [
    "print(\"welcome\")\n",
    "i=0\n",
    "while i<3:\n",
    "    print(i)\n",
    "    i=i+1\n",
    "print(\"thank you\")"
   ]
  },
  {
   "cell_type": "code",
   "execution_count": 7,
   "metadata": {},
   "outputs": [
    {
     "name": "stdout",
     "output_type": "stream",
     "text": [
      "welcome\n",
      "thank you\n"
     ]
    }
   ],
   "source": [
    "print(\"welcome\")\n",
    "i=10\n",
    "while i<3:\n",
    "    print(i)\n",
    "    i=i+1\n",
    "print(\"thank you\")"
   ]
  },
  {
   "cell_type": "code",
   "execution_count": 9,
   "metadata": {},
   "outputs": [
    {
     "name": "stdout",
     "output_type": "stream",
     "text": [
      "apple\n",
      "banana\n",
      "orange\n",
      "grapes\n"
     ]
    }
   ],
   "source": [
    "fruits=[\"apple\",\"banana\",\"orange\",\"grapes\"]\n",
    "print(fruits[0])\n",
    "print(fruits[1])\n",
    "print(fruits[2])\n",
    "print(fruits[3])"
   ]
  },
  {
   "cell_type": "code",
   "execution_count": 10,
   "metadata": {},
   "outputs": [
    {
     "name": "stdout",
     "output_type": "stream",
     "text": [
      "0\n",
      "1\n",
      "2\n",
      "3\n"
     ]
    }
   ],
   "source": [
    "fruits=[\"apple\",\"banana\",\"orange\",\"grapes\"]\n",
    "i=0\n",
    "while i<4:\n",
    "    print(i)\n",
    "    i=i+1"
   ]
  },
  {
   "cell_type": "code",
   "execution_count": 11,
   "metadata": {},
   "outputs": [
    {
     "name": "stdout",
     "output_type": "stream",
     "text": [
      "apple\n",
      "banana\n",
      "orange\n",
      "grapes\n"
     ]
    }
   ],
   "source": [
    "fruits=[\"apple\",\"banana\",\"orange\",\"grapes\"]\n",
    "i=0\n",
    "while i<4:\n",
    "    print(fruits[i])\n",
    "    i=i+1"
   ]
  },
  {
   "cell_type": "code",
   "execution_count": 12,
   "metadata": {},
   "outputs": [
    {
     "name": "stdout",
     "output_type": "stream",
     "text": [
      "apple\n",
      "banana\n",
      "orange\n",
      "grapes\n"
     ]
    }
   ],
   "source": [
    "fruits=[\"apple\",\"banana\",\"orange\",\"grapes\"]\n",
    "for f in fruits:\n",
    "    print(f)"
   ]
  },
  {
   "cell_type": "code",
   "execution_count": 13,
   "metadata": {},
   "outputs": [
    {
     "name": "stdout",
     "output_type": "stream",
     "text": [
      "grapes\n",
      "banana\n",
      "orange\n",
      "apple\n"
     ]
    }
   ],
   "source": [
    "fruits={\"apple\",\"banana\",\"orange\",\"grapes\"}\n",
    "for f in fruits:\n",
    "    print(f)"
   ]
  },
  {
   "cell_type": "code",
   "execution_count": 14,
   "metadata": {},
   "outputs": [
    {
     "name": "stdout",
     "output_type": "stream",
     "text": [
      "apple\n",
      "banana\n",
      "orange\n",
      "grapes\n"
     ]
    }
   ],
   "source": [
    "fruits=(\"apple\",\"banana\",\"orange\",\"grapes\")\n",
    "for f in fruits:\n",
    "    print(f)"
   ]
  },
  {
   "cell_type": "code",
   "execution_count": 15,
   "metadata": {},
   "outputs": [
    {
     "name": "stdout",
     "output_type": "stream",
     "text": [
      "1\n",
      "2\n",
      "3\n",
      "4\n",
      "5\n",
      "5\n",
      "6\n",
      "7\n",
      "8\n",
      "9\n"
     ]
    }
   ],
   "source": [
    "numbers=\"1234556789\"\n",
    "for number in numbers:\n",
    "    print(number)"
   ]
  },
  {
   "cell_type": "code",
   "execution_count": 16,
   "metadata": {},
   "outputs": [
    {
     "name": "stdout",
     "output_type": "stream",
     "text": [
      "name\n",
      "age\n",
      "gender\n"
     ]
    }
   ],
   "source": [
    "person={\"name\":\"sai\",\"age\":29,\"gender\":\"F\"}\n",
    "for i in person:\n",
    "    print(i)"
   ]
  },
  {
   "cell_type": "code",
   "execution_count": 17,
   "metadata": {},
   "outputs": [
    {
     "name": "stdout",
     "output_type": "stream",
     "text": [
      "welcome\n",
      "apple\n",
      "banana\n",
      "orange\n",
      "grapes\n",
      "THANQ\n"
     ]
    }
   ],
   "source": [
    "print(\"welcome\")\n",
    "fruits=[\"apple\",\"banana\",\"orange\",\"grapes\"]\n",
    "for f in fruits:\n",
    "    print(f)\n",
    "print(\"THANQ\")"
   ]
  },
  {
   "cell_type": "code",
   "execution_count": 18,
   "metadata": {},
   "outputs": [
    {
     "name": "stdout",
     "output_type": "stream",
     "text": [
      "sai\n",
      "vedha\n",
      "jay\n",
      "dhana\n",
      "thrishant\n",
      "shruthi\n"
     ]
    }
   ],
   "source": [
    "customers=[\"sai\",\"vedha\",\"jay\",\"dhana\",\"thrishant\",\"shruthi\"]\n",
    "i=0\n",
    "while i<len(customers):\n",
    "    print(customers[i])\n",
    "    i=i+1\n"
   ]
  },
  {
   "cell_type": "code",
   "execution_count": 19,
   "metadata": {},
   "outputs": [
    {
     "name": "stdout",
     "output_type": "stream",
     "text": [
      "sai\n",
      "vedha\n",
      "jay\n",
      "dhana\n",
      "thrishant\n",
      "shruthi\n"
     ]
    }
   ],
   "source": [
    "customers=[\"sai\",\"vedha\",\"jay\",\"dhana\",\"thrishant\",\"shruthi\"]\n",
    "for customer in customers:\n",
    "    print(customer)"
   ]
  },
  {
   "cell_type": "code",
   "execution_count": 20,
   "metadata": {},
   "outputs": [
    {
     "name": "stdout",
     "output_type": "stream",
     "text": [
      "10\n",
      "21\n",
      "34\n",
      "56\n",
      "78\n",
      "23\n",
      "67\n"
     ]
    }
   ],
   "source": [
    "numbers=[10,21,34,56,78,23,67]\n",
    "for number in numbers:\n",
    "    print(number)"
   ]
  },
  {
   "cell_type": "code",
   "execution_count": 21,
   "metadata": {},
   "outputs": [
    {
     "name": "stdout",
     "output_type": "stream",
     "text": [
      "welcome\n",
      "21\n",
      "23\n",
      "67\n",
      "thanks you!!\n"
     ]
    }
   ],
   "source": [
    "print(\"welcome\")\n",
    "numbers=[10,21,34,56,78,23,67]\n",
    "for number in numbers:\n",
    "    if number%2==1:\n",
    "        print(number)\n",
    "print(\"thanks you!!\")"
   ]
  },
  {
   "cell_type": "code",
   "execution_count": null,
   "metadata": {},
   "outputs": [],
   "source": [
    "numbers=[10,21,34,56,78,23,67]\n",
    "'''\n",
    "welcome\n",
    "10-->EVEN\n",
    "21-->ODD\n",
    "34--EVEN\n",
    "56--EVEN\n",
    "78-->EVEN\n",
    "23-->ODD\n",
    "67-->ODD\n",
    "ThanQ\n",
    "'''"
   ]
  },
  {
   "cell_type": "code",
   "execution_count": 22,
   "metadata": {},
   "outputs": [
    {
     "name": "stdout",
     "output_type": "stream",
     "text": [
      "10-->\n",
      "21-->\n",
      "34-->\n",
      "56-->\n",
      "78-->\n",
      "23-->\n",
      "67-->\n"
     ]
    }
   ],
   "source": [
    "numbers=[10,21,34,56,78,23,67]\n",
    "for number in numbers:\n",
    "    print(\"%s-->\"%number)"
   ]
  },
  {
   "cell_type": "code",
   "execution_count": 23,
   "metadata": {},
   "outputs": [
    {
     "name": "stdout",
     "output_type": "stream",
     "text": [
      "welcome\n",
      "10-->EVEN\n",
      "21-->ODD\n",
      "34-->EVEN\n",
      "56-->EVEN\n",
      "78-->EVEN\n",
      "23-->ODD\n",
      "67-->ODD\n",
      "thank you!!\n"
     ]
    }
   ],
   "source": [
    "print(\"welcome\")\n",
    "numbers=[10,21,34,56,78,23,67]\n",
    "for number in numbers:\n",
    "    if number%2==0:\n",
    "        print(\"%s-->EVEN\"%number)\n",
    "    else:\n",
    "        print(\"%s-->ODD\"%number)\n",
    "print(\"thank you!!\")\n",
    "        "
   ]
  },
  {
   "cell_type": "code",
   "execution_count": 24,
   "metadata": {},
   "outputs": [
    {
     "name": "stdout",
     "output_type": "stream",
     "text": [
      "welcome\n",
      "10-->EVEN\n",
      "21-->ODD\n",
      "34-->EVEN\n",
      "56-->EVEN\n",
      "78-->EVEN\n",
      "23-->ODD\n",
      "67-->ODD\n",
      "thank you!!\n"
     ]
    }
   ],
   "source": [
    "print(\"welcome\")\n",
    "numbers=[10,21,34,56,78,23,67]\n",
    "for number in numbers:\n",
    "    if number%2==0:\n",
    "        flag=\"EVEN\"\n",
    "    else:\n",
    "        flag=\"ODD\"\n",
    "    print(\"%s-->%s\"%(number,flag))\n",
    "print(\"thank you!!\")\n",
    "        "
   ]
  },
  {
   "cell_type": "code",
   "execution_count": null,
   "metadata": {},
   "outputs": [],
   "source": []
  }
 ],
 "metadata": {
  "kernelspec": {
   "display_name": "Python 3",
   "language": "python",
   "name": "python3"
  },
  "language_info": {
   "codemirror_mode": {
    "name": "ipython",
    "version": 3
   },
   "file_extension": ".py",
   "mimetype": "text/x-python",
   "name": "python",
   "nbconvert_exporter": "python",
   "pygments_lexer": "ipython3",
   "version": "3.7.0"
  }
 },
 "nbformat": 4,
 "nbformat_minor": 2
}
