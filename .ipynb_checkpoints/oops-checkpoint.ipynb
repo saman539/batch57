{
 "cells": [
  {
   "cell_type": "code",
   "execution_count": 4,
   "metadata": {},
   "outputs": [],
   "source": [
    "class emp:\n",
    "    pass\n",
    "    "
   ]
  },
  {
   "cell_type": "code",
   "execution_count": 5,
   "metadata": {},
   "outputs": [],
   "source": [
    "class EMP:\n",
    "    pass"
   ]
  },
  {
   "cell_type": "code",
   "execution_count": 6,
   "metadata": {},
   "outputs": [
    {
     "name": "stdout",
     "output_type": "stream",
     "text": [
      "this is class\n"
     ]
    }
   ],
   "source": [
    "def fun():\n",
    "    print(\"this is fun\")\n",
    "class Emp:\n",
    "    print(\"this is class\")"
   ]
  },
  {
   "cell_type": "code",
   "execution_count": 7,
   "metadata": {},
   "outputs": [
    {
     "name": "stdout",
     "output_type": "stream",
     "text": [
      "this is class\n",
      "1000 2000\n"
     ]
    }
   ],
   "source": [
    "def fun():\n",
    "    print(\"this is fun\")\n",
    "class Emp:\n",
    "    print(\"this is class\")\n",
    "    a=1000\n",
    "    b=2000\n",
    "    print(a,b)"
   ]
  },
  {
   "cell_type": "code",
   "execution_count": 8,
   "metadata": {},
   "outputs": [
    {
     "name": "stdout",
     "output_type": "stream",
     "text": [
      "this is class\n"
     ]
    },
    {
     "ename": "NameError",
     "evalue": "name 'a' is not defined",
     "output_type": "error",
     "traceback": [
      "\u001b[0;31m---------------------------------------------------------------------------\u001b[0m",
      "\u001b[0;31mNameError\u001b[0m                                 Traceback (most recent call last)",
      "\u001b[0;32m<ipython-input-8-22f823fdb60a>\u001b[0m in \u001b[0;36m<module>\u001b[0;34m()\u001b[0m\n\u001b[1;32m      6\u001b[0m     \u001b[0mb\u001b[0m\u001b[0;34m=\u001b[0m\u001b[0;36m2000\u001b[0m\u001b[0;34m\u001b[0m\u001b[0m\n\u001b[1;32m      7\u001b[0m \u001b[0;34m\u001b[0m\u001b[0m\n\u001b[0;32m----> 8\u001b[0;31m \u001b[0mprint\u001b[0m\u001b[0;34m(\u001b[0m\u001b[0ma\u001b[0m\u001b[0;34m,\u001b[0m\u001b[0mb\u001b[0m\u001b[0;34m)\u001b[0m\u001b[0;34m\u001b[0m\u001b[0m\n\u001b[0m",
      "\u001b[0;31mNameError\u001b[0m: name 'a' is not defined"
     ]
    }
   ],
   "source": [
    "def fun():\n",
    "    print(\"this is fun\")\n",
    "class Emp:\n",
    "    print(\"this is class\")\n",
    "    a=1000\n",
    "    b=2000\n",
    "    \n",
    "print(a,b)"
   ]
  },
  {
   "cell_type": "code",
   "execution_count": 9,
   "metadata": {},
   "outputs": [
    {
     "name": "stdout",
     "output_type": "stream",
     "text": [
      "this is class\n",
      "1000 2000\n"
     ]
    }
   ],
   "source": [
    "def fun():\n",
    "    print(\"this is fun\")\n",
    "class Emp:\n",
    "    print(\"this is class\")\n",
    "    a=1000\n",
    "    b=2000\n",
    "    \n",
    "print(Emp.a,Emp.b)"
   ]
  },
  {
   "cell_type": "code",
   "execution_count": 10,
   "metadata": {},
   "outputs": [
    {
     "name": "stdout",
     "output_type": "stream",
     "text": [
      "this is class\n",
      "1000 2000\n"
     ]
    }
   ],
   "source": [
    "def fun():\n",
    "    print(\"this is fun\")\n",
    "class Emp:\n",
    "    print(\"this is class\")\n",
    "    a=1000\n",
    "    b=2000\n",
    "    def fun(x):\n",
    "        print(\"this is fun in Emp\")\n",
    "        print(x)\n",
    "    \n",
    "print(Emp.a,Emp.b)\n"
   ]
  },
  {
   "cell_type": "code",
   "execution_count": 11,
   "metadata": {},
   "outputs": [
    {
     "name": "stdout",
     "output_type": "stream",
     "text": [
      "this is class\n",
      "1000 2000\n",
      "this is fun in Emp\n",
      "100\n"
     ]
    }
   ],
   "source": [
    "def fun():\n",
    "    print(\"this is fun\")\n",
    "class Emp:\n",
    "    print(\"this is class\")\n",
    "    a=1000\n",
    "    b=2000\n",
    "    def fun(x):\n",
    "        print(\"this is fun in Emp\")\n",
    "        print(x)\n",
    "    \n",
    "print(Emp.a,Emp.b)\n",
    "Emp.fun(100)"
   ]
  },
  {
   "cell_type": "code",
   "execution_count": 12,
   "metadata": {},
   "outputs": [],
   "source": [
    "a=1000"
   ]
  },
  {
   "cell_type": "code",
   "execution_count": 13,
   "metadata": {},
   "outputs": [
    {
     "name": "stdout",
     "output_type": "stream",
     "text": [
      "this is class\n",
      "1000 2000\n",
      "this is fun in Emp\n",
      "<__main__.Emp object at 0x7f22b95dbdd8>\n"
     ]
    }
   ],
   "source": [
    "def fun():\n",
    "    print(\"this is fun\")\n",
    "class Emp:\n",
    "    print(\"this is class\")\n",
    "    a=1000\n",
    "    b=2000\n",
    "    def fun(x):\n",
    "        print(\"this is fun in Emp\")\n",
    "        print(x)\n",
    "    \n",
    "print(Emp.a,Emp.b)\n",
    "sai=Emp() # sai is data object, Emp is class object.\n",
    "Emp.fun(sai)"
   ]
  },
  {
   "cell_type": "code",
   "execution_count": 14,
   "metadata": {},
   "outputs": [
    {
     "name": "stdout",
     "output_type": "stream",
     "text": [
      "this is class\n",
      "1000 2000\n",
      "1000\n",
      "2000\n",
      "this is fun in Emp\n",
      "<__main__.Emp object at 0x7f22b95db860>\n"
     ]
    }
   ],
   "source": [
    "def fun():\n",
    "    print(\"this is fun\")\n",
    "class Emp:\n",
    "    print(\"this is class\")\n",
    "    a=1000\n",
    "    b=2000\n",
    "    def fun(x):\n",
    "        print(\"this is fun in Emp\")\n",
    "        print(x)\n",
    "    \n",
    "print(Emp.a,Emp.b)\n",
    "sai=Emp() # sai is data object, Emp is class object.\n",
    "print(sai.a)\n",
    "print(sai.b)\n",
    "sai.fun()\n"
   ]
  },
  {
   "cell_type": "code",
   "execution_count": 15,
   "metadata": {},
   "outputs": [
    {
     "name": "stdout",
     "output_type": "stream",
     "text": [
      "this is class\n",
      "1000 2000\n",
      "1000\n",
      "2000\n",
      "this is fun in Emp\n",
      "<__main__.Emp object at 0x7f22bcec8358>\n",
      "this is fun in Emp\n",
      "<__main__.Emp object at 0x7f22bcec8358>\n"
     ]
    }
   ],
   "source": [
    "def fun():\n",
    "    print(\"this is fun\")\n",
    "class Emp:\n",
    "    print(\"this is class\")\n",
    "    a=1000\n",
    "    b=2000\n",
    "    def fun(x):\n",
    "        print(\"this is fun in Emp\")\n",
    "        print(x)\n",
    "    \n",
    "print(Emp.a,Emp.b)\n",
    "sai=Emp() # sai is data object, Emp is class object.\n",
    "print(sai.a)\n",
    "print(sai.b)\n",
    "sai.fun()\n",
    "Emp.fun(sai)"
   ]
  },
  {
   "cell_type": "code",
   "execution_count": 16,
   "metadata": {},
   "outputs": [
    {
     "name": "stdout",
     "output_type": "stream",
     "text": [
      "this is class\n",
      "1000 2000\n",
      "1000\n",
      "2000\n",
      "this is fun in Emp\n",
      "<__main__.Emp object at 0x7f22b95db860> 100\n",
      "this is fun in Emp\n",
      "<__main__.Emp object at 0x7f22b95db860> 100\n"
     ]
    }
   ],
   "source": [
    "def fun():\n",
    "    print(\"this is fun\")\n",
    "class Emp:\n",
    "    print(\"this is class\")\n",
    "    a=1000\n",
    "    b=2000\n",
    "    def fun(x,y):\n",
    "        print(\"this is fun in Emp\")\n",
    "        print(x,y)\n",
    "    \n",
    "print(Emp.a,Emp.b)\n",
    "sai=Emp() # sai is data object, Emp is class object.\n",
    "print(sai.a)\n",
    "print(sai.b)\n",
    "sai.fun(100)\n",
    "Emp.fun(sai,100)"
   ]
  },
  {
   "cell_type": "code",
   "execution_count": 17,
   "metadata": {},
   "outputs": [
    {
     "name": "stdout",
     "output_type": "stream",
     "text": [
      "this is class\n",
      "1000 2000\n",
      "1000\n",
      "2000\n"
     ]
    },
    {
     "ename": "TypeError",
     "evalue": "fun() takes 2 positional arguments but 3 were given",
     "output_type": "error",
     "traceback": [
      "\u001b[0;31m---------------------------------------------------------------------------\u001b[0m",
      "\u001b[0;31mTypeError\u001b[0m                                 Traceback (most recent call last)",
      "\u001b[0;32m<ipython-input-17-cdb375ed9c39>\u001b[0m in \u001b[0;36m<module>\u001b[0;34m()\u001b[0m\n\u001b[1;32m     13\u001b[0m \u001b[0mprint\u001b[0m\u001b[0;34m(\u001b[0m\u001b[0msai\u001b[0m\u001b[0;34m.\u001b[0m\u001b[0ma\u001b[0m\u001b[0;34m)\u001b[0m\u001b[0;34m\u001b[0m\u001b[0m\n\u001b[1;32m     14\u001b[0m \u001b[0mprint\u001b[0m\u001b[0;34m(\u001b[0m\u001b[0msai\u001b[0m\u001b[0;34m.\u001b[0m\u001b[0mb\u001b[0m\u001b[0;34m)\u001b[0m\u001b[0;34m\u001b[0m\u001b[0m\n\u001b[0;32m---> 15\u001b[0;31m \u001b[0msai\u001b[0m\u001b[0;34m.\u001b[0m\u001b[0mfun\u001b[0m\u001b[0;34m(\u001b[0m\u001b[0;36m100\u001b[0m\u001b[0;34m,\u001b[0m\u001b[0;36m200\u001b[0m\u001b[0;34m)\u001b[0m\u001b[0;34m\u001b[0m\u001b[0m\n\u001b[0m\u001b[1;32m     16\u001b[0m \u001b[0mEmp\u001b[0m\u001b[0;34m.\u001b[0m\u001b[0mfun\u001b[0m\u001b[0;34m(\u001b[0m\u001b[0msai\u001b[0m\u001b[0;34m,\u001b[0m\u001b[0;36m100\u001b[0m\u001b[0;34m)\u001b[0m\u001b[0;34m\u001b[0m\u001b[0m\n",
      "\u001b[0;31mTypeError\u001b[0m: fun() takes 2 positional arguments but 3 were given"
     ]
    }
   ],
   "source": [
    "def fun():\n",
    "    print(\"this is fun\")\n",
    "class Emp:\n",
    "    print(\"this is class\")\n",
    "    a=1000\n",
    "    b=2000\n",
    "    def fun(x,y):\n",
    "        print(\"this is fun in Emp\")\n",
    "        print(x,y)\n",
    "    \n",
    "print(Emp.a,Emp.b)\n",
    "sai=Emp() # sai is data object, Emp is class object.\n",
    "print(sai.a)\n",
    "print(sai.b)\n",
    "sai.fun(100,200)\n",
    "Emp.fun(sai,100)"
   ]
  },
  {
   "cell_type": "code",
   "execution_count": 19,
   "metadata": {},
   "outputs": [
    {
     "name": "stdout",
     "output_type": "stream",
     "text": [
      "this is class\n",
      "1000 2000\n",
      "1000\n",
      "2000\n",
      "this is fun in Emp\n",
      "<__main__.Emp object at 0x7f22b8cb2160> 100\n",
      "this is fun in Emp\n",
      "<__main__.Emp object at 0x7f22b8cb2160> 100\n"
     ]
    }
   ],
   "source": [
    "def fun():\n",
    "    print(\"this is fun\")\n",
    "class Emp:\n",
    "    print(\"this is class\")\n",
    "    a=1000\n",
    "    b=2000\n",
    "    def fun(x,y):\n",
    "        print(\"this is fun in Emp\")\n",
    "        print(x,y)\n",
    "    \n",
    "print(Emp.a,Emp.b)\n",
    "sai=Emp() # sai is data object, Emp is class object.\n",
    "sai.name=\"SAILAXMI\"\n",
    "sai.doj=\"2019-01-01\"\n",
    "sai.id=1234\n",
    "samba=Emp()\n",
    "samba.name=\"SAMBA\"\n",
    "print(sai.a)\n",
    "print(sai.b)\n",
    "sai.fun(100)\n",
    "Emp.fun(sai,100)"
   ]
  },
  {
   "cell_type": "code",
   "execution_count": 20,
   "metadata": {},
   "outputs": [
    {
     "name": "stdout",
     "output_type": "stream",
     "text": [
      "MAithrivanam KHYAATHI Sailaxmi\n"
     ]
    }
   ],
   "source": [
    "# define a class for Product\n",
    "class Emp:\n",
    "    company_address=\"MAithrivanam\"\n",
    "    company_name= \"KHYAATHI\"\n",
    "sai=Emp()\n",
    "sai.name=\"Sailaxmi\"\n",
    "print(sai.company_address,sai.company_name,sai.name)"
   ]
  },
  {
   "cell_type": "code",
   "execution_count": 21,
   "metadata": {},
   "outputs": [
    {
     "name": "stdout",
     "output_type": "stream",
     "text": [
      "MAithrivanam KHYAATHI Sailaxmi\n",
      "MAithrivanam KHYAATHI\n"
     ]
    }
   ],
   "source": [
    "# define a class for Product\n",
    "class Emp:\n",
    "    company_address=\"MAithrivanam\"\n",
    "    company_name= \"KHYAATHI\"\n",
    "sai=Emp()\n",
    "sai.name=\"Sailaxmi\"\n",
    "print(sai.company_address,sai.company_name,sai.name)\n",
    "print(Emp.company_address, Emp.company_name)"
   ]
  },
  {
   "cell_type": "code",
   "execution_count": 23,
   "metadata": {},
   "outputs": [
    {
     "name": "stdout",
     "output_type": "stream",
     "text": [
      "MAithrivanam KHYAATHI Sailaxmi\n",
      "MAithrivanam KHYAATHI\n"
     ]
    },
    {
     "ename": "AttributeError",
     "evalue": "type object 'Emp' has no attribute 'name'",
     "output_type": "error",
     "traceback": [
      "\u001b[0;31m---------------------------------------------------------------------------\u001b[0m",
      "\u001b[0;31mAttributeError\u001b[0m                            Traceback (most recent call last)",
      "\u001b[0;32m<ipython-input-23-535bdf63447f>\u001b[0m in \u001b[0;36m<module>\u001b[0;34m()\u001b[0m\n\u001b[1;32m      9\u001b[0m \u001b[0mprint\u001b[0m\u001b[0;34m(\u001b[0m\u001b[0msai\u001b[0m\u001b[0;34m.\u001b[0m\u001b[0mcompany_address\u001b[0m\u001b[0;34m,\u001b[0m\u001b[0msai\u001b[0m\u001b[0;34m.\u001b[0m\u001b[0mcompany_name\u001b[0m\u001b[0;34m,\u001b[0m\u001b[0msai\u001b[0m\u001b[0;34m.\u001b[0m\u001b[0mname\u001b[0m\u001b[0;34m)\u001b[0m\u001b[0;34m\u001b[0m\u001b[0m\n\u001b[1;32m     10\u001b[0m \u001b[0mprint\u001b[0m\u001b[0;34m(\u001b[0m\u001b[0mEmp\u001b[0m\u001b[0;34m.\u001b[0m\u001b[0mcompany_address\u001b[0m\u001b[0;34m,\u001b[0m \u001b[0mEmp\u001b[0m\u001b[0;34m.\u001b[0m\u001b[0mcompany_name\u001b[0m\u001b[0;34m)\u001b[0m\u001b[0;34m\u001b[0m\u001b[0m\n\u001b[0;32m---> 11\u001b[0;31m \u001b[0mprint\u001b[0m\u001b[0;34m(\u001b[0m\u001b[0mEmp\u001b[0m\u001b[0;34m.\u001b[0m\u001b[0mname\u001b[0m\u001b[0;34m)\u001b[0m\u001b[0;34m\u001b[0m\u001b[0m\n\u001b[0m",
      "\u001b[0;31mAttributeError\u001b[0m: type object 'Emp' has no attribute 'name'"
     ]
    }
   ],
   "source": [
    "# define a class for Product\n",
    "class Emp:\n",
    "    company_address=\"MAithrivanam\"\n",
    "    company_name= \"KHYAATHI\"\n",
    "sai=Emp()\n",
    "sai.name=\"Sailaxmi\"\n",
    "samba=Emp()\n",
    "samba.name=\"SAMBASIVA\"\n",
    "print(sai.company_address,sai.company_name,sai.name)\n",
    "print(Emp.company_address, Emp.company_name)\n",
    "print(Emp.name)"
   ]
  },
  {
   "cell_type": "code",
   "execution_count": 24,
   "metadata": {},
   "outputs": [
    {
     "name": "stdout",
     "output_type": "stream",
     "text": [
      "REDMI6A 2 32 5000 6700\n"
     ]
    }
   ],
   "source": [
    "# define a class with name Product,manufacturer as a class object attribute and name, id, costprice, sales price as a \n",
    "# data object attributes\n",
    "class Product:\n",
    "    manufacturer=\"MI\"\n",
    "redmi6A = Product()\n",
    "redmi6A.name=\"REDMI6A\"\n",
    "redmi6A.ram=2\n",
    "redmi6A.rom=32\n",
    "redmi6A.costprice=5000\n",
    "redmi6A.salesprice=6700\n",
    "print(redmi6A.name,redmi6A.ram,redmi6A.rom,redmi6A.costprice,redmi6A.salesprice)"
   ]
  },
  {
   "cell_type": "code",
   "execution_count": 25,
   "metadata": {},
   "outputs": [
    {
     "name": "stdout",
     "output_type": "stream",
     "text": [
      "REDMI6A 2 32 5000 6700\n",
      "{'name': 'REDMI6A', 'ram': 2, 'rom': 32, 'costprice': 5000, 'salesprice': 6700}\n"
     ]
    }
   ],
   "source": [
    "# define a class with name Product,manufacturer as a class object attribute and name, id, costprice, sales price as a \n",
    "# data object attributes\n",
    "class Product:\n",
    "    manufacturer=\"MI\"\n",
    "redmi6A = Product()\n",
    "redmi6A.name=\"REDMI6A\"\n",
    "redmi6A.ram=2\n",
    "redmi6A.rom=32\n",
    "redmi6A.costprice=5000\n",
    "redmi6A.salesprice=6700\n",
    "print(redmi6A.name,redmi6A.ram,redmi6A.rom,redmi6A.costprice,redmi6A.salesprice)\n",
    "print(redmi6A.__dict__)"
   ]
  },
  {
   "cell_type": "code",
   "execution_count": 26,
   "metadata": {},
   "outputs": [],
   "source": [
    "a=1000"
   ]
  },
  {
   "cell_type": "code",
   "execution_count": 27,
   "metadata": {},
   "outputs": [],
   "source": [
    "a=1.2"
   ]
  },
  {
   "cell_type": "code",
   "execution_count": null,
   "metadata": {},
   "outputs": [],
   "source": [
    "# define a class with name Product,manufacturer as a class object attribute and name, id, costprice, sales price as a \n",
    "# data object attributes\n",
    "class Product:\n",
    "    manufacturer=\"MI\"\n",
    "redmi6A = Product()\n",
    "redmi6A.name=\"REDMI6A\"\n",
    "redmi6A.ram=2\n",
    "redmi6A.rom=32\n",
    "redmi6A.costprice=5000\n",
    "redmi6A.salesprice=6700\n",
    "print(redmi6A.name,redmi6A.ram,redmi6A.rom,redmi6A.costprice,redmi6A.salesprice)\n",
    "print(redmi6A.__dict__)"
   ]
  },
  {
   "cell_type": "code",
   "execution_count": 1,
   "metadata": {},
   "outputs": [],
   "source": [
    "# write set and get methods for above product class.\n"
   ]
  },
  {
   "cell_type": "code",
   "execution_count": 2,
   "metadata": {},
   "outputs": [
    {
     "name": "stdout",
     "output_type": "stream",
     "text": [
      "REDMI6A 2 32 5000 6700\n",
      "{'name': 'REDMI6A', 'ram': 2, 'rom': 32, 'costprice': 5000, 'salesprice': 6700}\n"
     ]
    }
   ],
   "source": [
    "class Product:\n",
    "    manufacturer=\"MI\"\n",
    "    def set_data(x,name, ram,rom, cost,sales):\n",
    "        x.name=name\n",
    "        x.ram=ram\n",
    "        x.rom=rom\n",
    "        x.costprice=cost\n",
    "        x.salesprice=sales\n",
    "redmi6A = Product()\n",
    "redmi6A.set_data(\"REDMI6A\",2,32,5000,6700)\n",
    "'''\n",
    "redmi6A.name=\"REDMI6A\"\n",
    "redmi6A.ram=2\n",
    "redmi6A.rom=32\n",
    "redmi6A.costprice=5000\n",
    "redmi6A.salesprice=6700\n",
    "'''\n",
    "print(redmi6A.name,redmi6A.ram,redmi6A.rom,redmi6A.costprice,redmi6A.salesprice)\n",
    "print(redmi6A.__dict__)"
   ]
  },
  {
   "cell_type": "code",
   "execution_count": 3,
   "metadata": {},
   "outputs": [
    {
     "name": "stdout",
     "output_type": "stream",
     "text": [
      "{'name': 'REDMI6A', 'ram': 2, 'rom': 32, 'costprice': 5000, 'salesprice': 6700}\n"
     ]
    }
   ],
   "source": [
    "class Product:\n",
    "    manufacturer=\"MI\"\n",
    "    def set_data(x,name, ram,rom, cost,sales):\n",
    "        x.name=name\n",
    "        x.ram=ram\n",
    "        x.rom=rom\n",
    "        x.costprice=cost\n",
    "        x.salesprice=sales\n",
    "    def get(x):\n",
    "        return x.__dict__\n",
    "redmi6A = Product()\n",
    "redmi6A.set_data(\"REDMI6A\",2,32,5000,6700)\n",
    "print(redmi6A.get())"
   ]
  },
  {
   "cell_type": "code",
   "execution_count": 4,
   "metadata": {},
   "outputs": [
    {
     "name": "stdout",
     "output_type": "stream",
     "text": [
      "{'name': 'REDMI6A', 'ram': 2, 'rom': 32, 'costprice': 5000, 'salesprice': 6700}\n",
      "{}\n"
     ]
    }
   ],
   "source": [
    "class Product:\n",
    "    manufacturer=\"MI\"\n",
    "    def set_data(self,name, ram,rom, cost,sales):\n",
    "        self.name=name\n",
    "        self.ram=ram\n",
    "        self.rom=rom\n",
    "        self.costprice=cost\n",
    "        self.salesprice=sales\n",
    "    def get(self):\n",
    "        return self.__dict__\n",
    "redmi6A = Product()\n",
    "redmi6A.set_data(\"REDMI6A\",2,32,5000,6700)\n",
    "print(redmi6A.get())\n",
    "redmipro = Product()\n",
    "print(redmipro.get())"
   ]
  },
  {
   "cell_type": "code",
   "execution_count": 5,
   "metadata": {},
   "outputs": [
    {
     "name": "stdout",
     "output_type": "stream",
     "text": [
      "this is class\n"
     ]
    }
   ],
   "source": [
    "class c1:\n",
    "    print(\"this is class\")\n",
    "    def get(self):\n",
    "        print(\"this is get\")"
   ]
  },
  {
   "cell_type": "code",
   "execution_count": 6,
   "metadata": {},
   "outputs": [
    {
     "name": "stdout",
     "output_type": "stream",
     "text": [
      "this is class\n"
     ]
    }
   ],
   "source": [
    "class c1:\n",
    "    print(\"this is class\")\n",
    "    def get(self):\n",
    "        print(\"this is get\")\n",
    "o1=c1()"
   ]
  },
  {
   "cell_type": "code",
   "execution_count": 7,
   "metadata": {},
   "outputs": [
    {
     "name": "stdout",
     "output_type": "stream",
     "text": [
      "this is class\n"
     ]
    }
   ],
   "source": [
    "class c1:\n",
    "    print(\"this is class\")\n",
    "    def __init__(self):\n",
    "        print(\"this is init/constructor\")\n",
    "    def get(self):\n",
    "        print(\"this is get\")"
   ]
  },
  {
   "cell_type": "code",
   "execution_count": 8,
   "metadata": {},
   "outputs": [
    {
     "name": "stdout",
     "output_type": "stream",
     "text": [
      "this is class\n",
      "this is init/constructor\n"
     ]
    }
   ],
   "source": [
    "class c1:\n",
    "    print(\"this is class\")\n",
    "    def __init__(self):\n",
    "        print(\"this is init/constructor\")\n",
    "    def get(self):\n",
    "        print(\"this is get\")\n",
    "o1=c1()"
   ]
  },
  {
   "cell_type": "code",
   "execution_count": 9,
   "metadata": {},
   "outputs": [
    {
     "name": "stdout",
     "output_type": "stream",
     "text": [
      "this is class\n",
      "this is init/constructor\n",
      "this is init/constructor\n",
      "this is init/constructor\n"
     ]
    }
   ],
   "source": [
    "class c1:\n",
    "    print(\"this is class\")\n",
    "    def __init__(self):\n",
    "        print(\"this is init/constructor\")\n",
    "    def get(self):\n",
    "        print(\"this is get\")\n",
    "o1=c1()\n",
    "o2=c1()\n",
    "o3=c1()"
   ]
  },
  {
   "cell_type": "code",
   "execution_count": 10,
   "metadata": {},
   "outputs": [
    {
     "name": "stdout",
     "output_type": "stream",
     "text": [
      "{'name': 'REDMI6A', 'ram': 2, 'rom': 32, 'costprice': 5000, 'salesprice': 6700}\n",
      "{'name': 'REDMIPRO', 'ram': 4, 'rom': 128, 'costprice': 10000, 'salesprice': 12000}\n"
     ]
    }
   ],
   "source": [
    "class Product:\n",
    "    manufacturer=\"MI\"\n",
    "    def __init__(self,name, ram,rom, cost,sales):\n",
    "        self.name=name\n",
    "        self.ram=ram\n",
    "        self.rom=rom\n",
    "        self.costprice=cost\n",
    "        self.salesprice=sales\n",
    "    def get(self):\n",
    "        return self.__dict__\n",
    "redmi6A = Product(\"REDMI6A\",2,32,5000,6700)\n",
    "#redmi6A.set_data(\"REDMI6A\",2,32,5000,6700)\n",
    "print(redmi6A.get())\n",
    "redmipro = Product(\"REDMIPRO\",4,128,10000,12000)\n",
    "print(redmipro.get())"
   ]
  },
  {
   "cell_type": "code",
   "execution_count": 11,
   "metadata": {},
   "outputs": [
    {
     "name": "stdout",
     "output_type": "stream",
     "text": [
      "{'name': 'REDMI6A', 'ram': 2, 'rom': 32, 'costprice': 5000, 'salesprice': 6700}\n",
      "{'name': 'REDMIPRO', 'ram': 4, 'rom': 128, 'costprice': 10000, 'salesprice': 12000}\n"
     ]
    },
    {
     "ename": "TypeError",
     "evalue": "__init__() missing 5 required positional arguments: 'name', 'ram', 'rom', 'cost', and 'sales'",
     "output_type": "error",
     "traceback": [
      "\u001b[0;31m---------------------------------------------------------------------------\u001b[0m",
      "\u001b[0;31mTypeError\u001b[0m                                 Traceback (most recent call last)",
      "\u001b[0;32m<ipython-input-11-f20d154ab68c>\u001b[0m in \u001b[0;36m<module>\u001b[0;34m()\u001b[0m\n\u001b[1;32m     14\u001b[0m \u001b[0mredmipro\u001b[0m \u001b[0;34m=\u001b[0m \u001b[0mProduct\u001b[0m\u001b[0;34m(\u001b[0m\u001b[0;34m\"REDMIPRO\"\u001b[0m\u001b[0;34m,\u001b[0m\u001b[0;36m4\u001b[0m\u001b[0;34m,\u001b[0m\u001b[0;36m128\u001b[0m\u001b[0;34m,\u001b[0m\u001b[0;36m10000\u001b[0m\u001b[0;34m,\u001b[0m\u001b[0;36m12000\u001b[0m\u001b[0;34m)\u001b[0m\u001b[0;34m\u001b[0m\u001b[0m\n\u001b[1;32m     15\u001b[0m \u001b[0mprint\u001b[0m\u001b[0;34m(\u001b[0m\u001b[0mredmipro\u001b[0m\u001b[0;34m.\u001b[0m\u001b[0mget\u001b[0m\u001b[0;34m(\u001b[0m\u001b[0;34m)\u001b[0m\u001b[0;34m)\u001b[0m\u001b[0;34m\u001b[0m\u001b[0m\n\u001b[0;32m---> 16\u001b[0;31m \u001b[0mredmi5\u001b[0m\u001b[0;34m=\u001b[0m\u001b[0mProduct\u001b[0m\u001b[0;34m(\u001b[0m\u001b[0;34m)\u001b[0m\u001b[0;34m\u001b[0m\u001b[0m\n\u001b[0m",
      "\u001b[0;31mTypeError\u001b[0m: __init__() missing 5 required positional arguments: 'name', 'ram', 'rom', 'cost', and 'sales'"
     ]
    }
   ],
   "source": [
    "class Product:\n",
    "    manufacturer=\"MI\"\n",
    "    def __init__(self,name, ram,rom, cost,sales):\n",
    "        self.name=name\n",
    "        self.ram=ram\n",
    "        self.rom=rom\n",
    "        self.costprice=cost\n",
    "        self.salesprice=sales\n",
    "    def get(self):\n",
    "        return self.__dict__\n",
    "redmi6A = Product(\"REDMI6A\",2,32,5000,6700)\n",
    "#redmi6A.set_data(\"REDMI6A\",2,32,5000,6700)\n",
    "print(redmi6A.get())\n",
    "redmipro = Product(\"REDMIPRO\",4,128,10000,12000)\n",
    "print(redmipro.get())\n",
    "redmi5=Product()"
   ]
  },
  {
   "cell_type": "code",
   "execution_count": 15,
   "metadata": {},
   "outputs": [
    {
     "name": "stdout",
     "output_type": "stream",
     "text": [
      "{'name': 'REDMI6A', 'ram': 2, 'rom': 32, 'costprice': 5000, 'salesprice': 6700}\n",
      "{'name': 'REDMIPRO', 'ram': 4, 'rom': 128, 'costprice': 10000, 'salesprice': 12000}\n",
      "1700\n",
      "2000\n"
     ]
    }
   ],
   "source": [
    "class Product:\n",
    "    manufacturer=\"MI\"\n",
    "    def __init__(self,name, ram,rom, cost,sales):\n",
    "        # constructor\n",
    "        self.name=name\n",
    "        self.ram=ram\n",
    "        self.rom=rom\n",
    "        self.costprice=cost\n",
    "        self.salesprice=sales\n",
    "    def get(self):\n",
    "        return self.__dict__\n",
    "    def get_profit(self):\n",
    "        return self.salesprice-self.costprice\n",
    "redmi6A = Product(\"REDMI6A\",2,32,5000,6700)\n",
    "#redmi6A.set_data(\"REDMI6A\",2,32,5000,6700)\n",
    "print(redmi6A.get())\n",
    "redmipro = Product(\"REDMIPRO\",4,128,10000,12000)\n",
    "print(redmipro.get())\n",
    "print(redmi6A.get_profit())\n",
    "print(redmipro.get_profit())"
   ]
  },
  {
   "cell_type": "code",
   "execution_count": 16,
   "metadata": {},
   "outputs": [
    {
     "ename": "TypeError",
     "evalue": "__init__() should return None, not 'int'",
     "output_type": "error",
     "traceback": [
      "\u001b[0;31m---------------------------------------------------------------------------\u001b[0m",
      "\u001b[0;31mTypeError\u001b[0m                                 Traceback (most recent call last)",
      "\u001b[0;32m<ipython-input-16-581a822ef735>\u001b[0m in \u001b[0;36m<module>\u001b[0;34m()\u001b[0m\n\u001b[1;32m     13\u001b[0m     \u001b[0;32mdef\u001b[0m \u001b[0mget_profit\u001b[0m\u001b[0;34m(\u001b[0m\u001b[0mself\u001b[0m\u001b[0;34m)\u001b[0m\u001b[0;34m:\u001b[0m\u001b[0;34m\u001b[0m\u001b[0m\n\u001b[1;32m     14\u001b[0m         \u001b[0;32mreturn\u001b[0m \u001b[0mself\u001b[0m\u001b[0;34m.\u001b[0m\u001b[0msalesprice\u001b[0m\u001b[0;34m-\u001b[0m\u001b[0mself\u001b[0m\u001b[0;34m.\u001b[0m\u001b[0mcostprice\u001b[0m\u001b[0;34m\u001b[0m\u001b[0m\n\u001b[0;32m---> 15\u001b[0;31m \u001b[0mredmi6A\u001b[0m \u001b[0;34m=\u001b[0m \u001b[0mProduct\u001b[0m\u001b[0;34m(\u001b[0m\u001b[0;34m\"REDMI6A\"\u001b[0m\u001b[0;34m,\u001b[0m\u001b[0;36m2\u001b[0m\u001b[0;34m,\u001b[0m\u001b[0;36m32\u001b[0m\u001b[0;34m,\u001b[0m\u001b[0;36m5000\u001b[0m\u001b[0;34m,\u001b[0m\u001b[0;36m6700\u001b[0m\u001b[0;34m)\u001b[0m\u001b[0;34m\u001b[0m\u001b[0m\n\u001b[0m\u001b[1;32m     16\u001b[0m \u001b[0;31m#redmi6A.set_data(\"REDMI6A\",2,32,5000,6700)\u001b[0m\u001b[0;34m\u001b[0m\u001b[0;34m\u001b[0m\u001b[0m\n\u001b[1;32m     17\u001b[0m \u001b[0mprint\u001b[0m\u001b[0;34m(\u001b[0m\u001b[0mredmi6A\u001b[0m\u001b[0;34m.\u001b[0m\u001b[0mget\u001b[0m\u001b[0;34m(\u001b[0m\u001b[0;34m)\u001b[0m\u001b[0;34m)\u001b[0m\u001b[0;34m\u001b[0m\u001b[0m\n",
      "\u001b[0;31mTypeError\u001b[0m: __init__() should return None, not 'int'"
     ]
    }
   ],
   "source": [
    "class Product:\n",
    "    manufacturer=\"MI\"\n",
    "    def __init__(self,name, ram,rom, cost,sales):\n",
    "        # constructor\n",
    "        self.name=name\n",
    "        self.ram=ram\n",
    "        self.rom=rom\n",
    "        self.costprice=cost\n",
    "        self.salesprice=sales\n",
    "        return 20\n",
    "    def get(self):\n",
    "        return self.__dict__\n",
    "    def get_profit(self):\n",
    "        return self.salesprice-self.costprice\n",
    "redmi6A = Product(\"REDMI6A\",2,32,5000,6700)\n",
    "#redmi6A.set_data(\"REDMI6A\",2,32,5000,6700)\n",
    "print(redmi6A.get())\n",
    "redmipro = Product(\"REDMIPRO\",4,128,10000,12000)\n",
    "print(redmipro.get())\n",
    "print(redmi6A.get_profit())\n",
    "print(redmipro.get_profit())"
   ]
  },
  {
   "cell_type": "code",
   "execution_count": 17,
   "metadata": {},
   "outputs": [
    {
     "name": "stdout",
     "output_type": "stream",
     "text": [
      "{'name': 'REDMI6A', 'ram': 2, 'rom': 32, 'costprice': 5000, 'salesprice': 6700}\n",
      "{'name': 'REDMIPRO', 'ram': 4, 'rom': 128, 'costprice': 10000, 'salesprice': 12000}\n",
      "1700\n",
      "2000\n"
     ]
    }
   ],
   "source": [
    "class Product:\n",
    "    manufacturer=\"MI\"\n",
    "    def __init__(self,name, ram,rom, cost,sales):\n",
    "        # constructor\n",
    "        self.name=name\n",
    "        self.ram=ram\n",
    "        self.rom=rom\n",
    "        self.costprice=cost\n",
    "        self.salesprice=sales\n",
    "        return None\n",
    "    def get(self):\n",
    "        return self.__dict__\n",
    "    def get_profit(self):\n",
    "        return self.salesprice-self.costprice\n",
    "redmi6A = Product(\"REDMI6A\",2,32,5000,6700)\n",
    "#redmi6A.set_data(\"REDMI6A\",2,32,5000,6700)\n",
    "print(redmi6A.get())\n",
    "redmipro = Product(\"REDMIPRO\",4,128,10000,12000)\n",
    "print(redmipro.get())\n",
    "print(redmi6A.get_profit())\n",
    "print(redmipro.get_profit())"
   ]
  },
  {
   "cell_type": "code",
   "execution_count": 18,
   "metadata": {},
   "outputs": [
    {
     "name": "stdout",
     "output_type": "stream",
     "text": [
      "this is fun1 in c1\n",
      "this is fun2 in c2\n",
      "this is fun3 in c3\n"
     ]
    }
   ],
   "source": [
    "class c1:\n",
    "    def fun1(self):\n",
    "        print(\"this is fun1 in c1\")\n",
    "class c2:\n",
    "    def fun2(self):\n",
    "        print(\"this is fun2 in c2\")\n",
    "class c3:\n",
    "    def fun3(self):\n",
    "        print(\"this is fun3 in c3\")\n",
    "o1=c1()\n",
    "o2=c2()\n",
    "o3=c3()\n",
    "o1.fun1()\n",
    "o2.fun2()\n",
    "o3.fun3()"
   ]
  },
  {
   "cell_type": "code",
   "execution_count": 19,
   "metadata": {},
   "outputs": [
    {
     "name": "stdout",
     "output_type": "stream",
     "text": [
      "this is fun1 in c1 Jay\n",
      "this is fun2 in c2 Jay\n",
      "this is fun3 in c3 Jay\n"
     ]
    }
   ],
   "source": [
    "class c1:\n",
    "    def fun1(self):\n",
    "        print(\"this is fun1 in c1\",self.name)\n",
    "class c2:\n",
    "    def fun2(self):\n",
    "        print(\"this is fun2 in c2\",self.name)\n",
    "class c3:\n",
    "    def fun3(self):\n",
    "        print(\"this is fun3 in c3\",self.name)\n",
    "o1=c1()\n",
    "o1.name=\"Jay\"\n",
    "o2=c2()\n",
    "o2.name=\"Jay\"\n",
    "o3=c3()\n",
    "o3.name=\"Jay\"\n",
    "o1.fun1()\n",
    "o2.fun2()\n",
    "o3.fun3()"
   ]
  },
  {
   "cell_type": "code",
   "execution_count": 20,
   "metadata": {},
   "outputs": [
    {
     "name": "stdout",
     "output_type": "stream",
     "text": [
      "this is fun3 in c3 Jay\n"
     ]
    },
    {
     "ename": "AttributeError",
     "evalue": "'c3' object has no attribute 'fun1'",
     "output_type": "error",
     "traceback": [
      "\u001b[0;31m---------------------------------------------------------------------------\u001b[0m",
      "\u001b[0;31mAttributeError\u001b[0m                            Traceback (most recent call last)",
      "\u001b[0;32m<ipython-input-20-7ab859b06e1d>\u001b[0m in \u001b[0;36m<module>\u001b[0;34m()\u001b[0m\n\u001b[1;32m     11\u001b[0m \u001b[0mo3\u001b[0m\u001b[0;34m.\u001b[0m\u001b[0mname\u001b[0m\u001b[0;34m=\u001b[0m\u001b[0;34m\"Jay\"\u001b[0m\u001b[0;34m\u001b[0m\u001b[0m\n\u001b[1;32m     12\u001b[0m \u001b[0mo3\u001b[0m\u001b[0;34m.\u001b[0m\u001b[0mfun3\u001b[0m\u001b[0;34m(\u001b[0m\u001b[0;34m)\u001b[0m\u001b[0;34m\u001b[0m\u001b[0m\n\u001b[0;32m---> 13\u001b[0;31m \u001b[0mo3\u001b[0m\u001b[0;34m.\u001b[0m\u001b[0mfun1\u001b[0m\u001b[0;34m(\u001b[0m\u001b[0;34m)\u001b[0m\u001b[0;34m\u001b[0m\u001b[0m\n\u001b[0m\u001b[1;32m     14\u001b[0m \u001b[0mo3\u001b[0m\u001b[0;34m.\u001b[0m\u001b[0mfun2\u001b[0m\u001b[0;34m(\u001b[0m\u001b[0;34m)\u001b[0m\u001b[0;34m\u001b[0m\u001b[0m\n",
      "\u001b[0;31mAttributeError\u001b[0m: 'c3' object has no attribute 'fun1'"
     ]
    }
   ],
   "source": [
    "class c1:\n",
    "    def fun1(self):\n",
    "        print(\"this is fun1 in c1\",self.name)\n",
    "class c2:\n",
    "    def fun2(self):\n",
    "        print(\"this is fun2 in c2\",self.name)\n",
    "class c3:\n",
    "    def fun3(self):\n",
    "        print(\"this is fun3 in c3\",self.name)\n",
    "o3=c3()\n",
    "o3.name=\"Jay\"\n",
    "o3.fun3()\n",
    "o3.fun1()\n",
    "o3.fun2()\n"
   ]
  },
  {
   "cell_type": "code",
   "execution_count": 21,
   "metadata": {},
   "outputs": [
    {
     "name": "stdout",
     "output_type": "stream",
     "text": [
      "this is fun3 in c3 Jay\n",
      "this is fun1 in c1 Jay\n"
     ]
    },
    {
     "ename": "AttributeError",
     "evalue": "'c3' object has no attribute 'fun2'",
     "output_type": "error",
     "traceback": [
      "\u001b[0;31m---------------------------------------------------------------------------\u001b[0m",
      "\u001b[0;31mAttributeError\u001b[0m                            Traceback (most recent call last)",
      "\u001b[0;32m<ipython-input-21-512028eaef32>\u001b[0m in \u001b[0;36m<module>\u001b[0;34m()\u001b[0m\n\u001b[1;32m     12\u001b[0m \u001b[0mo3\u001b[0m\u001b[0;34m.\u001b[0m\u001b[0mfun3\u001b[0m\u001b[0;34m(\u001b[0m\u001b[0;34m)\u001b[0m\u001b[0;34m\u001b[0m\u001b[0m\n\u001b[1;32m     13\u001b[0m \u001b[0mo3\u001b[0m\u001b[0;34m.\u001b[0m\u001b[0mfun1\u001b[0m\u001b[0;34m(\u001b[0m\u001b[0;34m)\u001b[0m\u001b[0;34m\u001b[0m\u001b[0m\n\u001b[0;32m---> 14\u001b[0;31m \u001b[0mo3\u001b[0m\u001b[0;34m.\u001b[0m\u001b[0mfun2\u001b[0m\u001b[0;34m(\u001b[0m\u001b[0;34m)\u001b[0m\u001b[0;34m\u001b[0m\u001b[0m\n\u001b[0m",
      "\u001b[0;31mAttributeError\u001b[0m: 'c3' object has no attribute 'fun2'"
     ]
    }
   ],
   "source": [
    "class c1:\n",
    "    def fun1(self):\n",
    "        print(\"this is fun1 in c1\",self.name)\n",
    "class c2:\n",
    "    def fun2(self):\n",
    "        print(\"this is fun2 in c2\",self.name)\n",
    "class c3(c1):\n",
    "    def fun3(self):\n",
    "        print(\"this is fun3 in c3\",self.name)\n",
    "o3=c3()\n",
    "o3.name=\"Jay\"\n",
    "o3.fun3()\n",
    "o3.fun1()\n",
    "o3.fun2()\n"
   ]
  },
  {
   "cell_type": "code",
   "execution_count": 22,
   "metadata": {},
   "outputs": [
    {
     "name": "stdout",
     "output_type": "stream",
     "text": [
      "this is fun3 in c3 Jay\n",
      "this is fun1 in c1 Jay\n",
      "this is fun2 in c2 Jay\n"
     ]
    }
   ],
   "source": [
    "class c1:\n",
    "    def fun1(self):\n",
    "        print(\"this is fun1 in c1\",self.name)\n",
    "class c2:\n",
    "    def fun2(self):\n",
    "        print(\"this is fun2 in c2\",self.name)\n",
    "class c3(c1,c2):\n",
    "    def fun3(self):\n",
    "        print(\"this is fun3 in c3\",self.name)\n",
    "o3=c3()\n",
    "o3.name=\"Jay\"\n",
    "o3.fun3()\n",
    "o3.fun1()\n",
    "o3.fun2()\n"
   ]
  },
  {
   "cell_type": "code",
   "execution_count": 23,
   "metadata": {},
   "outputs": [
    {
     "name": "stdout",
     "output_type": "stream",
     "text": [
      "this is fun3 in c3 Jay\n",
      "this is fun1 in c3\n",
      "this is fun2 in c2 Jay\n"
     ]
    }
   ],
   "source": [
    "class c1:\n",
    "    def fun1(self):\n",
    "        print(\"this is fun1 in c1\",self.name)\n",
    "class c2:\n",
    "    def fun2(self):\n",
    "        print(\"this is fun2 in c2\",self.name)\n",
    "class c3(c1,c2):\n",
    "    def fun3(self):\n",
    "        print(\"this is fun3 in c3\",self.name)\n",
    "    def fun1(self):\n",
    "        print(\"this is fun1 in c3\")\n",
    "o3=c3()\n",
    "o3.name=\"Jay\"\n",
    "o3.fun3()\n",
    "o3.fun1()\n",
    "o3.fun2()\n"
   ]
  },
  {
   "cell_type": "code",
   "execution_count": 25,
   "metadata": {},
   "outputs": [
    {
     "name": "stdout",
     "output_type": "stream",
     "text": [
      "this is fun1 in c3 Jay\n",
      "this is fun2 in c2 Jay\n",
      "this is fun3 in c3 Jay\n"
     ]
    }
   ],
   "source": [
    "class c1:\n",
    "    def fun1(self):\n",
    "        print(\"this is fun1 in c1\",self.name)\n",
    "class c2:\n",
    "    def fun2(self):\n",
    "        print(\"this is fun2 in c2\",self.name)\n",
    "class c3(c1,c2):\n",
    "    def fun3(self):\n",
    "        print(\"this is fun3 in c3\",self.name)\n",
    "    def fun1(self): # overiding the method in c3 which is already defined in c1\n",
    "        print(\"this is fun1 in c3\", self.name)\n",
    "    def operations(self):\n",
    "        self.fun1()\n",
    "        self.fun2()\n",
    "        self.fun3()\n",
    "        \n",
    "o3=c3()\n",
    "o3.name=\"Jay\"\n",
    "o3.operations()"
   ]
  },
  {
   "cell_type": "code",
   "execution_count": 28,
   "metadata": {},
   "outputs": [
    {
     "name": "stdout",
     "output_type": "stream",
     "text": [
      "{'name': 'SAILAXMI', 'doj': '2016-04-01', 'age': None, 'adhar': None, 'pan': None}\n",
      "{'name': 'JAYARAM', 'doj': '2018-04-03', 'age': None, 'adhar': None, 'pan': 'BRCPR36y4'}\n",
      "{'name': 'Vedhanvesh', 'doj': '2018-05-06', 'age': 23, 'adhar': 'sdfew23423', 'pan': 'sdf5324'}\n"
     ]
    }
   ],
   "source": [
    "#method overloading\n",
    "class Emp:\n",
    "    def __init__(self,name, doj, age=None, adhar=None,pan=None):\n",
    "        self.name=name\n",
    "        self.doj=doj\n",
    "        self.age=age\n",
    "        self.adhar=adhar\n",
    "        self.pan=pan\n",
    "    def get(self):\n",
    "        return self.__dict__\n",
    "sai=Emp(\"SAILAXMI\",\"2016-04-01\")\n",
    "jay=Emp(\"JAYARAM\",\"2018-04-03\",pan=\"BRCPR36y4\")\n",
    "vedha=Emp(\"Vedhanvesh\",\"2018-05-06\",23,adhar=\"sdfew23423\",pan=\"sdf5324\")\n",
    "print(sai.get())\n",
    "print(jay.get())\n",
    "print(vedha.get())"
   ]
  },
  {
   "cell_type": "code",
   "execution_count": 29,
   "metadata": {},
   "outputs": [
    {
     "data": {
      "text/plain": [
       "1200"
      ]
     },
     "execution_count": 29,
     "metadata": {},
     "output_type": "execute_result"
    }
   ],
   "source": [
    "a=1000\n",
    "b=200\n",
    "a+b"
   ]
  },
  {
   "cell_type": "code",
   "execution_count": 30,
   "metadata": {},
   "outputs": [
    {
     "name": "stdout",
     "output_type": "stream",
     "text": [
      "{'name': 'SAILAXMI', 'doj': '2016-04-01', 'age': None, 'adhar': None, 'pan': None}\n",
      "{'name': 'JAYARAM', 'doj': '2018-04-03', 'age': None, 'adhar': None, 'pan': 'BRCPR36y4'}\n",
      "{'name': 'Vedhanvesh', 'doj': '2018-05-06', 'age': 23, 'adhar': 'sdfew23423', 'pan': 'sdf5324'}\n"
     ]
    },
    {
     "ename": "TypeError",
     "evalue": "unsupported operand type(s) for +: 'Emp' and 'Emp'",
     "output_type": "error",
     "traceback": [
      "\u001b[0;31m---------------------------------------------------------------------------\u001b[0m",
      "\u001b[0;31mTypeError\u001b[0m                                 Traceback (most recent call last)",
      "\u001b[0;32m<ipython-input-30-7bd0a1de9662>\u001b[0m in \u001b[0;36m<module>\u001b[0;34m()\u001b[0m\n\u001b[1;32m     14\u001b[0m \u001b[0mprint\u001b[0m\u001b[0;34m(\u001b[0m\u001b[0mjay\u001b[0m\u001b[0;34m.\u001b[0m\u001b[0mget\u001b[0m\u001b[0;34m(\u001b[0m\u001b[0;34m)\u001b[0m\u001b[0;34m)\u001b[0m\u001b[0;34m\u001b[0m\u001b[0m\n\u001b[1;32m     15\u001b[0m \u001b[0mprint\u001b[0m\u001b[0;34m(\u001b[0m\u001b[0mvedha\u001b[0m\u001b[0;34m.\u001b[0m\u001b[0mget\u001b[0m\u001b[0;34m(\u001b[0m\u001b[0;34m)\u001b[0m\u001b[0;34m)\u001b[0m\u001b[0;34m\u001b[0m\u001b[0m\n\u001b[0;32m---> 16\u001b[0;31m \u001b[0mprint\u001b[0m\u001b[0;34m(\u001b[0m\u001b[0msai\u001b[0m\u001b[0;34m+\u001b[0m\u001b[0mjay\u001b[0m\u001b[0;34m)\u001b[0m\u001b[0;34m\u001b[0m\u001b[0m\n\u001b[0m",
      "\u001b[0;31mTypeError\u001b[0m: unsupported operand type(s) for +: 'Emp' and 'Emp'"
     ]
    }
   ],
   "source": [
    "class Emp:\n",
    "    def __init__(self,name, doj, age=None, adhar=None,pan=None):\n",
    "        self.name=name\n",
    "        self.doj=doj\n",
    "        self.age=age\n",
    "        self.adhar=adhar\n",
    "        self.pan=pan\n",
    "    def get(self):\n",
    "        return self.__dict__\n",
    "sai=Emp(\"SAILAXMI\",\"2016-04-01\")\n",
    "jay=Emp(\"JAYARAM\",\"2018-04-03\",pan=\"BRCPR36y4\")\n",
    "vedha=Emp(\"Vedhanvesh\",\"2018-05-06\",23,adhar=\"sdfew23423\",pan=\"sdf5324\")\n",
    "print(sai.get())\n",
    "print(jay.get())\n",
    "print(vedha.get())\n",
    "print(sai+jay)"
   ]
  },
  {
   "cell_type": "code",
   "execution_count": 31,
   "metadata": {},
   "outputs": [
    {
     "name": "stdout",
     "output_type": "stream",
     "text": [
      "{'name': 'SAILAXMI', 'doj': '2016-04-01', 'age': None, 'adhar': None, 'pan': None}\n",
      "{'name': 'JAYARAM', 'doj': '2018-04-03', 'age': None, 'adhar': None, 'pan': 'BRCPR36y4'}\n",
      "{'name': 'Vedhanvesh', 'doj': '2018-05-06', 'age': 23, 'adhar': 'sdfew23423', 'pan': 'sdf5324'}\n",
      "20\n"
     ]
    }
   ],
   "source": [
    "class Emp:\n",
    "    def __init__(self,name, doj, age=None, adhar=None,pan=None):\n",
    "        self.name=name\n",
    "        self.doj=doj\n",
    "        self.age=age\n",
    "        self.adhar=adhar\n",
    "        self.pan=pan\n",
    "    def get(self):\n",
    "        return self.__dict__\n",
    "    def __add__(self1,self2):\n",
    "        return 20\n",
    "sai=Emp(\"SAILAXMI\",\"2016-04-01\")\n",
    "jay=Emp(\"JAYARAM\",\"2018-04-03\",pan=\"BRCPR36y4\")\n",
    "vedha=Emp(\"Vedhanvesh\",\"2018-05-06\",23,adhar=\"sdfew23423\",pan=\"sdf5324\")\n",
    "print(sai.get())\n",
    "print(jay.get())\n",
    "print(vedha.get())\n",
    "print(sai+jay)"
   ]
  },
  {
   "cell_type": "code",
   "execution_count": 32,
   "metadata": {},
   "outputs": [
    {
     "data": {
      "text/plain": [
       "3000"
      ]
     },
     "execution_count": 32,
     "metadata": {},
     "output_type": "execute_result"
    }
   ],
   "source": [
    "a=1000\n",
    "b=2000\n",
    "a+b"
   ]
  },
  {
   "cell_type": "code",
   "execution_count": 33,
   "metadata": {},
   "outputs": [
    {
     "data": {
      "text/plain": [
       "3000"
      ]
     },
     "execution_count": 33,
     "metadata": {},
     "output_type": "execute_result"
    }
   ],
   "source": [
    "a.__add__(b)"
   ]
  },
  {
   "cell_type": "code",
   "execution_count": 34,
   "metadata": {},
   "outputs": [
    {
     "name": "stdout",
     "output_type": "stream",
     "text": [
      "{'name': 'SAILAXMI', 'doj': '2016-04-01', 'age': None, 'adhar': None, 'pan': None}\n",
      "{'name': 'JAYARAM', 'doj': '2018-04-03', 'age': None, 'adhar': None, 'pan': 'BRCPR36y4'}\n",
      "{'name': 'Vedhanvesh', 'doj': '2018-05-06', 'age': 23, 'adhar': 'sdfew23423', 'pan': 'sdf5324'}\n",
      "('SAILAXMI', 'JAYARAM')\n"
     ]
    }
   ],
   "source": [
    "class Emp:\n",
    "    def __init__(self,name, doj, age=None, adhar=None,pan=None):\n",
    "        self.name=name\n",
    "        self.doj=doj\n",
    "        self.age=age\n",
    "        self.adhar=adhar\n",
    "        self.pan=pan\n",
    "    def get(self):\n",
    "        return self.__dict__\n",
    "    def __add__(self1,self2):\n",
    "        return self1.name,self2.name\n",
    "sai=Emp(\"SAILAXMI\",\"2016-04-01\")\n",
    "jay=Emp(\"JAYARAM\",\"2018-04-03\",pan=\"BRCPR36y4\")\n",
    "vedha=Emp(\"Vedhanvesh\",\"2018-05-06\",23,adhar=\"sdfew23423\",pan=\"sdf5324\")\n",
    "print(sai.get())\n",
    "print(jay.get())\n",
    "print(vedha.get())\n",
    "print(sai+jay)"
   ]
  },
  {
   "cell_type": "code",
   "execution_count": 35,
   "metadata": {},
   "outputs": [
    {
     "name": "stdout",
     "output_type": "stream",
     "text": [
      "{'name': 'SAILAXMI', 'doj': '2016-04-01', 'age': None, 'adhar': None, 'pan': None}\n",
      "{'name': 'JAYARAM', 'doj': '2018-04-03', 'age': None, 'adhar': None, 'pan': 'BRCPR36y4'}\n",
      "{'name': 'Vedhanvesh', 'doj': '2018-05-06', 'age': 23, 'adhar': 'sdfew23423', 'pan': 'sdf5324'}\n",
      "('SAILAXMI', 'JAYARAM')\n"
     ]
    },
    {
     "ename": "TypeError",
     "evalue": "object of type 'Emp' has no len()",
     "output_type": "error",
     "traceback": [
      "\u001b[0;31m---------------------------------------------------------------------------\u001b[0m",
      "\u001b[0;31mTypeError\u001b[0m                                 Traceback (most recent call last)",
      "\u001b[0;32m<ipython-input-35-9824f0bf3f27>\u001b[0m in \u001b[0;36m<module>\u001b[0;34m()\u001b[0m\n\u001b[1;32m     17\u001b[0m \u001b[0mprint\u001b[0m\u001b[0;34m(\u001b[0m\u001b[0mvedha\u001b[0m\u001b[0;34m.\u001b[0m\u001b[0mget\u001b[0m\u001b[0;34m(\u001b[0m\u001b[0;34m)\u001b[0m\u001b[0;34m)\u001b[0m\u001b[0;34m\u001b[0m\u001b[0m\n\u001b[1;32m     18\u001b[0m \u001b[0mprint\u001b[0m\u001b[0;34m(\u001b[0m\u001b[0msai\u001b[0m\u001b[0;34m+\u001b[0m\u001b[0mjay\u001b[0m\u001b[0;34m)\u001b[0m\u001b[0;34m\u001b[0m\u001b[0m\n\u001b[0;32m---> 19\u001b[0;31m \u001b[0mprint\u001b[0m\u001b[0;34m(\u001b[0m\u001b[0mlen\u001b[0m\u001b[0;34m(\u001b[0m\u001b[0msai\u001b[0m\u001b[0;34m)\u001b[0m\u001b[0;34m)\u001b[0m\u001b[0;34m\u001b[0m\u001b[0m\n\u001b[0m",
      "\u001b[0;31mTypeError\u001b[0m: object of type 'Emp' has no len()"
     ]
    }
   ],
   "source": [
    "class Emp:\n",
    "    def __init__(self,name, doj, age=None, adhar=None,pan=None):\n",
    "        self.name=name\n",
    "        self.doj=doj\n",
    "        self.age=age\n",
    "        self.adhar=adhar\n",
    "        self.pan=pan\n",
    "    def get(self):\n",
    "        return self.__dict__\n",
    "    def __add__(self1,self2):\n",
    "        return self1.name,self2.name\n",
    "sai=Emp(\"SAILAXMI\",\"2016-04-01\")\n",
    "jay=Emp(\"JAYARAM\",\"2018-04-03\",pan=\"BRCPR36y4\")\n",
    "vedha=Emp(\"Vedhanvesh\",\"2018-05-06\",23,adhar=\"sdfew23423\",pan=\"sdf5324\")\n",
    "print(sai.get())\n",
    "print(jay.get())\n",
    "print(vedha.get())\n",
    "print(sai+jay)\n",
    "print(len(sai))"
   ]
  },
  {
   "cell_type": "code",
   "execution_count": 36,
   "metadata": {},
   "outputs": [
    {
     "name": "stdout",
     "output_type": "stream",
     "text": [
      "{'name': 'SAILAXMI', 'doj': '2016-04-01', 'age': None, 'adhar': None, 'pan': None}\n",
      "{'name': 'JAYARAM', 'doj': '2018-04-03', 'age': None, 'adhar': None, 'pan': 'BRCPR36y4'}\n",
      "{'name': 'Vedhanvesh', 'doj': '2018-05-06', 'age': 23, 'adhar': 'sdfew23423', 'pan': 'sdf5324'}\n",
      "('SAILAXMI', 'JAYARAM')\n",
      "30\n"
     ]
    }
   ],
   "source": [
    "class Emp:\n",
    "    def __init__(self,name, doj, age=None, adhar=None,pan=None):\n",
    "        self.name=name\n",
    "        self.doj=doj\n",
    "        self.age=age\n",
    "        self.adhar=adhar\n",
    "        self.pan=pan\n",
    "    def __len__(self):\n",
    "        return 30\n",
    "    def get(self):\n",
    "        return self.__dict__\n",
    "    def __add__(self1,self2):\n",
    "        return self1.name,self2.name\n",
    "sai=Emp(\"SAILAXMI\",\"2016-04-01\")\n",
    "jay=Emp(\"JAYARAM\",\"2018-04-03\",pan=\"BRCPR36y4\")\n",
    "vedha=Emp(\"Vedhanvesh\",\"2018-05-06\",23,adhar=\"sdfew23423\",pan=\"sdf5324\")\n",
    "print(sai.get())\n",
    "print(jay.get())\n",
    "print(vedha.get())\n",
    "print(sai+jay)\n",
    "print(len(sai))"
   ]
  },
  {
   "cell_type": "code",
   "execution_count": 37,
   "metadata": {},
   "outputs": [
    {
     "name": "stdout",
     "output_type": "stream",
     "text": [
      "{'name': 'SAILAXMI', 'doj': '2016-04-01', 'age': None, 'adhar': None, 'pan': None}\n",
      "{'name': 'JAYARAM', 'doj': '2018-04-03', 'age': None, 'adhar': None, 'pan': 'BRCPR36y4'}\n",
      "{'name': 'Vedhanvesh', 'doj': '2018-05-06', 'age': 23, 'adhar': 'sdfew23423', 'pan': 'sdf5324'}\n",
      "('SAILAXMI', 'JAYARAM')\n",
      "30\n"
     ]
    },
    {
     "ename": "TypeError",
     "evalue": "'Emp' object is not iterable",
     "output_type": "error",
     "traceback": [
      "\u001b[0;31m---------------------------------------------------------------------------\u001b[0m",
      "\u001b[0;31mTypeError\u001b[0m                                 Traceback (most recent call last)",
      "\u001b[0;32m<ipython-input-37-38a7e1ac843c>\u001b[0m in \u001b[0;36m<module>\u001b[0;34m()\u001b[0m\n\u001b[1;32m     20\u001b[0m \u001b[0mprint\u001b[0m\u001b[0;34m(\u001b[0m\u001b[0msai\u001b[0m\u001b[0;34m+\u001b[0m\u001b[0mjay\u001b[0m\u001b[0;34m)\u001b[0m\u001b[0;34m\u001b[0m\u001b[0m\n\u001b[1;32m     21\u001b[0m \u001b[0mprint\u001b[0m\u001b[0;34m(\u001b[0m\u001b[0mlen\u001b[0m\u001b[0;34m(\u001b[0m\u001b[0msai\u001b[0m\u001b[0;34m)\u001b[0m\u001b[0;34m)\u001b[0m\u001b[0;34m\u001b[0m\u001b[0m\n\u001b[0;32m---> 22\u001b[0;31m \u001b[0;32mfor\u001b[0m \u001b[0mi\u001b[0m \u001b[0;32min\u001b[0m \u001b[0msai\u001b[0m\u001b[0;34m:\u001b[0m\u001b[0;34m\u001b[0m\u001b[0m\n\u001b[0m\u001b[1;32m     23\u001b[0m     \u001b[0mprint\u001b[0m\u001b[0;34m(\u001b[0m\u001b[0mi\u001b[0m\u001b[0;34m)\u001b[0m\u001b[0;34m\u001b[0m\u001b[0m\n",
      "\u001b[0;31mTypeError\u001b[0m: 'Emp' object is not iterable"
     ]
    }
   ],
   "source": [
    "class Emp:\n",
    "    def __init__(self,name, doj, age=None, adhar=None,pan=None):\n",
    "        self.name=name\n",
    "        self.doj=doj\n",
    "        self.age=age\n",
    "        self.adhar=adhar\n",
    "        self.pan=pan\n",
    "    def __len__(self):\n",
    "        return 30\n",
    "    def get(self):\n",
    "        return self.__dict__\n",
    "    def __add__(self1,self2):\n",
    "        return self1.name,self2.name\n",
    "sai=Emp(\"SAILAXMI\",\"2016-04-01\")\n",
    "jay=Emp(\"JAYARAM\",\"2018-04-03\",pan=\"BRCPR36y4\")\n",
    "vedha=Emp(\"Vedhanvesh\",\"2018-05-06\",23,adhar=\"sdfew23423\",pan=\"sdf5324\")\n",
    "print(sai.get())\n",
    "print(jay.get())\n",
    "print(vedha.get())\n",
    "print(sai+jay)\n",
    "print(len(sai))\n",
    "for i in sai:\n",
    "    print(i)"
   ]
  },
  {
   "cell_type": "code",
   "execution_count": 39,
   "metadata": {},
   "outputs": [
    {
     "ename": "TypeError",
     "evalue": "'int' object is not iterable",
     "output_type": "error",
     "traceback": [
      "\u001b[0;31m---------------------------------------------------------------------------\u001b[0m",
      "\u001b[0;31mTypeError\u001b[0m                                 Traceback (most recent call last)",
      "\u001b[0;32m<ipython-input-39-665a8c31cf25>\u001b[0m in \u001b[0;36m<module>\u001b[0;34m()\u001b[0m\n\u001b[0;32m----> 1\u001b[0;31m \u001b[0;32mfor\u001b[0m \u001b[0mi\u001b[0m \u001b[0;32min\u001b[0m \u001b[0;36m10\u001b[0m\u001b[0;34m:\u001b[0m\u001b[0;34m\u001b[0m\u001b[0m\n\u001b[0m\u001b[1;32m      2\u001b[0m     \u001b[0mprint\u001b[0m\u001b[0;34m(\u001b[0m\u001b[0mi\u001b[0m\u001b[0;34m)\u001b[0m\u001b[0;34m\u001b[0m\u001b[0m\n",
      "\u001b[0;31mTypeError\u001b[0m: 'int' object is not iterable"
     ]
    }
   ],
   "source": [
    "for i in 10:\n",
    "    print(i)"
   ]
  },
  {
   "cell_type": "code",
   "execution_count": 40,
   "metadata": {},
   "outputs": [
    {
     "name": "stdout",
     "output_type": "stream",
     "text": [
      "{'name': 'SAILAXMI', 'doj': '2016-04-01', 'age': None, 'adhar': None, 'pan': None}\n",
      "{'name': 'JAYARAM', 'doj': '2018-04-03', 'age': None, 'adhar': None, 'pan': 'BRCPR36y4'}\n",
      "{'name': 'Vedhanvesh', 'doj': '2018-05-06', 'age': 23, 'adhar': 'sdfew23423', 'pan': 'sdf5324'}\n",
      "('SAILAXMI', 'JAYARAM')\n",
      "30\n",
      "name\n",
      "doj\n",
      "age\n",
      "adhar\n",
      "pan\n"
     ]
    }
   ],
   "source": [
    "class Emp:\n",
    "    def __init__(self,name, doj, age=None, adhar=None,pan=None):\n",
    "        self.name=name\n",
    "        self.doj=doj\n",
    "        self.age=age\n",
    "        self.adhar=adhar\n",
    "        self.pan=pan\n",
    "    def __len__(self):\n",
    "        return 30\n",
    "    def get(self):\n",
    "        return self.__dict__\n",
    "    def __add__(self1,self2):\n",
    "        return self1.name,self2.name\n",
    "    def __iter__(self):\n",
    "        for i in self.__dict__:\n",
    "            yield i\n",
    "sai=Emp(\"SAILAXMI\",\"2016-04-01\")\n",
    "jay=Emp(\"JAYARAM\",\"2018-04-03\",pan=\"BRCPR36y4\")\n",
    "vedha=Emp(\"Vedhanvesh\",\"2018-05-06\",23,adhar=\"sdfew23423\",pan=\"sdf5324\")\n",
    "print(sai.get())\n",
    "print(jay.get())\n",
    "print(vedha.get())\n",
    "print(sai+jay)\n",
    "print(len(sai))\n",
    "for i in sai:\n",
    "    print(i)"
   ]
  },
  {
   "cell_type": "code",
   "execution_count": 41,
   "metadata": {},
   "outputs": [
    {
     "name": "stdout",
     "output_type": "stream",
     "text": [
      "{'name': 'SAILAXMI', 'doj': '2016-04-01', 'age': None, 'adhar': None, 'pan': None}\n",
      "{'name': 'JAYARAM', 'doj': '2018-04-03', 'age': None, 'adhar': None, 'pan': 'BRCPR36y4'}\n",
      "{'name': 'Vedhanvesh', 'doj': '2018-05-06', 'age': 23, 'adhar': 'sdfew23423', 'pan': 'sdf5324'}\n",
      "('SAILAXMI', 'JAYARAM')\n",
      "30\n",
      "('name', 'SAILAXMI')\n",
      "('doj', '2016-04-01')\n",
      "('age', None)\n",
      "('adhar', None)\n",
      "('pan', None)\n"
     ]
    }
   ],
   "source": [
    "# operator overloading\n",
    "class Emp:\n",
    "    def __init__(self,name, doj, age=None, adhar=None,pan=None):\n",
    "        self.name=name\n",
    "        self.doj=doj\n",
    "        self.age=age\n",
    "        self.adhar=adhar\n",
    "        self.pan=pan\n",
    "    def __len__(self):\n",
    "        return 30\n",
    "    def get(self):\n",
    "        return self.__dict__\n",
    "    def __add__(self1,self2):\n",
    "        return self1.name,self2.name\n",
    "    def __iter__(self):\n",
    "        for i in self.__dict__.items():\n",
    "            yield i\n",
    "sai=Emp(\"SAILAXMI\",\"2016-04-01\")\n",
    "jay=Emp(\"JAYARAM\",\"2018-04-03\",pan=\"BRCPR36y4\")\n",
    "vedha=Emp(\"Vedhanvesh\",\"2018-05-06\",23,adhar=\"sdfew23423\",pan=\"sdf5324\")\n",
    "print(sai.get())\n",
    "print(jay.get())\n",
    "print(vedha.get())\n",
    "print(sai+jay)\n",
    "print(len(sai))\n",
    "for i in sai:\n",
    "    print(i)"
   ]
  },
  {
   "cell_type": "code",
   "execution_count": 42,
   "metadata": {},
   "outputs": [
    {
     "name": "stdout",
     "output_type": "stream",
     "text": [
      "30\n",
      "ertsfgs\n",
      "[1, 2, 3, 3, 4, 5]\n"
     ]
    }
   ],
   "source": [
    "a=10\n",
    "b=20\n",
    "print(a+b)\n",
    "s1=\"ert\"\n",
    "s2=\"sfgs\"\n",
    "print(s1+s2)\n",
    "l1=[1,2,3]\n",
    "l2=[3,4,5]\n",
    "print(l1+l2)"
   ]
  },
  {
   "cell_type": "code",
   "execution_count": 43,
   "metadata": {},
   "outputs": [],
   "source": [
    "c=1+2j"
   ]
  },
  {
   "cell_type": "code",
   "execution_count": 1,
   "metadata": {},
   "outputs": [
    {
     "name": "stdout",
     "output_type": "stream",
     "text": [
      "{'name': 'SAILAXMI', 'doj': '2016-04-01', 'age': None, 'adhar': None, 'pan': None}\n"
     ]
    }
   ],
   "source": [
    "class Emp:\n",
    "    def __init__(self,name, doj, age=None, adhar=None,pan=None):\n",
    "        self.name=name\n",
    "        self.doj=doj\n",
    "        self.age=age\n",
    "        self.adhar=adhar\n",
    "        self.pan=pan\n",
    "    def get(self):\n",
    "        return self.__dict__\n",
    "    \n",
    "sai=Emp(\"SAILAXMI\",\"2016-04-01\")\n",
    "jay=Emp(\"JAYARAM\",\"2018-04-03\",pan=\"BRCPR36y4\")\n",
    "vedha=Emp(\"Vedhanvesh\",\"2018-05-06\",23,adhar=\"sdfew23423\",pan=\"sdf5324\")\n",
    "print(sai.get())"
   ]
  },
  {
   "cell_type": "code",
   "execution_count": 2,
   "metadata": {},
   "outputs": [
    {
     "name": "stdout",
     "output_type": "stream",
     "text": [
      "{'name': 'SAILAXMI', 'doj': '2014-04-01', 'age': None, 'adhar': None, 'pan': None}\n"
     ]
    }
   ],
   "source": [
    "class Emp:\n",
    "    def __init__(self,name, doj, age=None, adhar=None,pan=None):\n",
    "        self.name=name\n",
    "        self.doj=doj\n",
    "        self.age=age\n",
    "        self.adhar=adhar\n",
    "        self.pan=pan\n",
    "    def get(self):\n",
    "        \n",
    "        return self.__dict__\n",
    "    \n",
    "sai=Emp(\"SAILAXMI\",\"2016-04-01\")\n",
    "jay=Emp(\"JAYARAM\",\"2018-04-03\",pan=\"BRCPR36y4\")\n",
    "vedha=Emp(\"Vedhanvesh\",\"2018-05-06\",23,adhar=\"sdfew23423\",pan=\"sdf5324\")\n",
    "sai.doj=\"2014-04-01\"\n",
    "print(sai.get())"
   ]
  },
  {
   "cell_type": "code",
   "execution_count": 5,
   "metadata": {},
   "outputs": [
    {
     "name": "stdout",
     "output_type": "stream",
     "text": [
      "2016-04-01\n"
     ]
    }
   ],
   "source": [
    "class Emp:\n",
    "    def __init__(self,name, doj, age=None, adhar=None,pan=None):\n",
    "        self.name=name\n",
    "        self.__doj=doj\n",
    "        self.age=age\n",
    "        self.adhar=adhar\n",
    "        self.pan=pan\n",
    "    def get_doj(self):\n",
    "        return self.__doj\n",
    "    \n",
    "sai=Emp(\"SAILAXMI\",\"2016-04-01\")\n",
    "jay=Emp(\"JAYARAM\",\"2018-04-03\",pan=\"BRCPR36y4\")\n",
    "vedha=Emp(\"Vedhanvesh\",\"2018-05-06\",23,adhar=\"sdfew23423\",pan=\"sdf5324\")\n",
    "sai.__doj=\"2014-04-01\"\n",
    "print(sai.get_doj())"
   ]
  },
  {
   "cell_type": "code",
   "execution_count": 9,
   "metadata": {},
   "outputs": [
    {
     "name": "stdout",
     "output_type": "stream",
     "text": [
      "2016-04-01\n",
      "2019-01-01\n"
     ]
    }
   ],
   "source": [
    "class Emp:\n",
    "    def __init__(self,name, doj, age=None, adhar=None,pan=None):\n",
    "        self.name=name\n",
    "        self.__doj=doj\n",
    "        self.age=age\n",
    "        self.adhar=adhar\n",
    "        self.pan=pan\n",
    "    def get_doj(self):\n",
    "        return self.__doj\n",
    "    def update_doj(self, new_date):\n",
    "        \n",
    "        self.__doj=new_date\n",
    "    \n",
    "sai=Emp(\"SAILAXMI\",\"2016-04-01\")\n",
    "jay=Emp(\"JAYARAM\",\"2018-04-03\",pan=\"BRCPR36y4\")\n",
    "vedha=Emp(\"Vedhanvesh\",\"2018-05-06\",23,adhar=\"sdfew23423\",pan=\"sdf5324\")\n",
    "sai.__doj=\"2014-04-01\"\n",
    "print(sai.get_doj())\n",
    "sai.update_doj(\"2019-01-01\")\n",
    "print(sai.get_doj())"
   ]
  },
  {
   "cell_type": "code",
   "execution_count": 10,
   "metadata": {},
   "outputs": [
    {
     "name": "stdout",
     "output_type": "stream",
     "text": [
      "2016-04-01\n"
     ]
    },
    {
     "ename": "Exception",
     "evalue": "Only hrm role can modify",
     "output_type": "error",
     "traceback": [
      "\u001b[0;31m---------------------------------------------------------------------------\u001b[0m",
      "\u001b[0;31mException\u001b[0m                                 Traceback (most recent call last)",
      "\u001b[0;32m<ipython-input-10-69fc4f65c8eb>\u001b[0m in \u001b[0;36m<module>\u001b[0;34m()\u001b[0m\n\u001b[1;32m     20\u001b[0m \u001b[0msai\u001b[0m\u001b[0;34m.\u001b[0m\u001b[0m__doj\u001b[0m\u001b[0;34m=\u001b[0m\u001b[0;34m\"2014-04-01\"\u001b[0m\u001b[0;34m\u001b[0m\u001b[0m\n\u001b[1;32m     21\u001b[0m \u001b[0mprint\u001b[0m\u001b[0;34m(\u001b[0m\u001b[0msai\u001b[0m\u001b[0;34m.\u001b[0m\u001b[0mget_doj\u001b[0m\u001b[0;34m(\u001b[0m\u001b[0;34m)\u001b[0m\u001b[0;34m)\u001b[0m\u001b[0;34m\u001b[0m\u001b[0m\n\u001b[0;32m---> 22\u001b[0;31m \u001b[0msai\u001b[0m\u001b[0;34m.\u001b[0m\u001b[0mupdate_doj\u001b[0m\u001b[0;34m(\u001b[0m\u001b[0;34m\"2019-01-01\"\u001b[0m\u001b[0;34m)\u001b[0m\u001b[0;34m\u001b[0m\u001b[0m\n\u001b[0m\u001b[1;32m     23\u001b[0m \u001b[0mprint\u001b[0m\u001b[0;34m(\u001b[0m\u001b[0msai\u001b[0m\u001b[0;34m.\u001b[0m\u001b[0mget_doj\u001b[0m\u001b[0;34m(\u001b[0m\u001b[0;34m)\u001b[0m\u001b[0;34m)\u001b[0m\u001b[0;34m\u001b[0m\u001b[0m\n",
      "\u001b[0;32m<ipython-input-10-69fc4f65c8eb>\u001b[0m in \u001b[0;36mupdate_doj\u001b[0;34m(self, new_date)\u001b[0m\n\u001b[1;32m     13\u001b[0m             \u001b[0mself\u001b[0m\u001b[0;34m.\u001b[0m\u001b[0m__doj\u001b[0m\u001b[0;34m=\u001b[0m\u001b[0mnew_date\u001b[0m\u001b[0;34m\u001b[0m\u001b[0m\n\u001b[1;32m     14\u001b[0m         \u001b[0;32melse\u001b[0m\u001b[0;34m:\u001b[0m\u001b[0;34m\u001b[0m\u001b[0m\n\u001b[0;32m---> 15\u001b[0;31m             \u001b[0;32mraise\u001b[0m \u001b[0mException\u001b[0m\u001b[0;34m(\u001b[0m\u001b[0;34m\"Only hrm role can modify\"\u001b[0m\u001b[0;34m)\u001b[0m\u001b[0;34m\u001b[0m\u001b[0m\n\u001b[0m\u001b[1;32m     16\u001b[0m \u001b[0;34m\u001b[0m\u001b[0m\n\u001b[1;32m     17\u001b[0m \u001b[0msai\u001b[0m\u001b[0;34m=\u001b[0m\u001b[0mEmp\u001b[0m\u001b[0;34m(\u001b[0m\u001b[0;34m\"SAILAXMI\"\u001b[0m\u001b[0;34m,\u001b[0m\u001b[0;34m\"2016-04-01\"\u001b[0m\u001b[0;34m)\u001b[0m\u001b[0;34m\u001b[0m\u001b[0m\n",
      "\u001b[0;31mException\u001b[0m: Only hrm role can modify"
     ]
    }
   ],
   "source": [
    "class Emp:\n",
    "    def __init__(self,name, doj, age=None, adhar=None,pan=None,role=\"emp\"):\n",
    "        self.name=name\n",
    "        self.__doj=doj\n",
    "        self.age=age\n",
    "        self.adhar=adhar\n",
    "        self.pan=pan\n",
    "        self.role=role\n",
    "    def get_doj(self):\n",
    "        return self.__doj\n",
    "    def update_doj(self, new_date):\n",
    "        if self.role==\"hrm\":\n",
    "            self.__doj=new_date\n",
    "        else:\n",
    "            raise Exception(\"Only hrm role can modify\")\n",
    "    \n",
    "sai=Emp(\"SAILAXMI\",\"2016-04-01\")\n",
    "jay=Emp(\"JAYARAM\",\"2018-04-03\",pan=\"BRCPR36y4\",role=\"hrm\")\n",
    "vedha=Emp(\"Vedhanvesh\",\"2018-05-06\",23,adhar=\"sdfew23423\",pan=\"sdf5324\")\n",
    "sai.__doj=\"2014-04-01\"\n",
    "print(sai.get_doj())\n",
    "sai.update_doj(\"2019-01-01\")\n",
    "print(sai.get_doj())"
   ]
  },
  {
   "cell_type": "code",
   "execution_count": 11,
   "metadata": {},
   "outputs": [
    {
     "name": "stdout",
     "output_type": "stream",
     "text": [
      "2019-01-01\n"
     ]
    }
   ],
   "source": [
    "class Emp:\n",
    "    def __init__(self,name, doj, age=None, adhar=None,pan=None,role=\"emp\"):\n",
    "        self.name=name\n",
    "        self.__doj=doj\n",
    "        self.age=age\n",
    "        self.adhar=adhar\n",
    "        self.pan=pan\n",
    "        self.role=role\n",
    "    def get_doj(self):\n",
    "        return self.__doj\n",
    "    def update_doj(self, new_date):\n",
    "        if self.role==\"hrm\":\n",
    "            self.__doj=new_date\n",
    "        else:\n",
    "            raise Exception(\"Only hrm role can modify\")\n",
    "    \n",
    "sai=Emp(\"SAILAXMI\",\"2016-04-01\")\n",
    "jay=Emp(\"JAYARAM\",\"2018-04-03\",pan=\"BRCPR36y4\",role=\"hrm\")\n",
    "vedha=Emp(\"Vedhanvesh\",\"2018-05-06\",23,adhar=\"sdfew23423\",pan=\"sdf5324\")\n",
    "jay.update_doj(\"2019-01-01\")\n",
    "print(jay.get_doj())"
   ]
  },
  {
   "cell_type": "code",
   "execution_count": 13,
   "metadata": {},
   "outputs": [
    {
     "ename": "AttributeError",
     "evalue": "'Emp' object has no attribute '__update_doj'",
     "output_type": "error",
     "traceback": [
      "\u001b[0;31m---------------------------------------------------------------------------\u001b[0m",
      "\u001b[0;31mAttributeError\u001b[0m                            Traceback (most recent call last)",
      "\u001b[0;32m<ipython-input-13-ccf1963fad81>\u001b[0m in \u001b[0;36m<module>\u001b[0;34m()\u001b[0m\n\u001b[1;32m     21\u001b[0m \u001b[0mjay\u001b[0m\u001b[0;34m=\u001b[0m\u001b[0mEmp\u001b[0m\u001b[0;34m(\u001b[0m\u001b[0;34m\"JAYARAM\"\u001b[0m\u001b[0;34m,\u001b[0m\u001b[0;34m\"2018-04-03\"\u001b[0m\u001b[0;34m,\u001b[0m\u001b[0mpan\u001b[0m\u001b[0;34m=\u001b[0m\u001b[0;34m\"BRCPR36y4\"\u001b[0m\u001b[0;34m,\u001b[0m\u001b[0mrole\u001b[0m\u001b[0;34m=\u001b[0m\u001b[0;34m\"hrm\"\u001b[0m\u001b[0;34m)\u001b[0m\u001b[0;34m\u001b[0m\u001b[0m\n\u001b[1;32m     22\u001b[0m \u001b[0mvedha\u001b[0m\u001b[0;34m=\u001b[0m\u001b[0mEmp\u001b[0m\u001b[0;34m(\u001b[0m\u001b[0;34m\"Vedhanvesh\"\u001b[0m\u001b[0;34m,\u001b[0m\u001b[0;34m\"2018-05-06\"\u001b[0m\u001b[0;34m,\u001b[0m\u001b[0;36m23\u001b[0m\u001b[0;34m,\u001b[0m\u001b[0madhar\u001b[0m\u001b[0;34m=\u001b[0m\u001b[0;34m\"sdfew23423\"\u001b[0m\u001b[0;34m,\u001b[0m\u001b[0mpan\u001b[0m\u001b[0;34m=\u001b[0m\u001b[0;34m\"sdf5324\"\u001b[0m\u001b[0;34m)\u001b[0m\u001b[0;34m\u001b[0m\u001b[0m\n\u001b[0;32m---> 23\u001b[0;31m \u001b[0mjay\u001b[0m\u001b[0;34m.\u001b[0m\u001b[0m__update_doj\u001b[0m\u001b[0;34m(\u001b[0m\u001b[0;34m\"2019-01-01\"\u001b[0m\u001b[0;34m)\u001b[0m\u001b[0;34m\u001b[0m\u001b[0m\n\u001b[0m\u001b[1;32m     24\u001b[0m \u001b[0mprint\u001b[0m\u001b[0;34m(\u001b[0m\u001b[0mjay\u001b[0m\u001b[0;34m.\u001b[0m\u001b[0mget_doj\u001b[0m\u001b[0;34m(\u001b[0m\u001b[0;34m)\u001b[0m\u001b[0;34m)\u001b[0m\u001b[0;34m\u001b[0m\u001b[0m\n",
      "\u001b[0;31mAttributeError\u001b[0m: 'Emp' object has no attribute '__update_doj'"
     ]
    }
   ],
   "source": [
    "class Emp:\n",
    "    def __init__(self,name, doj, age=None, adhar=None,pan=None,role=\"emp\"):\n",
    "        self.name=name\n",
    "        self.__doj=doj\n",
    "        self.age=age\n",
    "        self.adhar=adhar\n",
    "        self.pan=pan\n",
    "        self.role=role\n",
    "    def get_doj(self):\n",
    "        return self.__doj\n",
    "    def changedoj(self, new_date):\n",
    "        if self.role==\"hrm\":\n",
    "            self.__update_doj(new_date)\n",
    "        else:\n",
    "            raise Exception(\"Only hrm role can modify\")\n",
    "        \n",
    "    def __update_doj(self, new_date):\n",
    "        self.__doj=new_date\n",
    "    \n",
    "sai=Emp(\"SAILAXMI\",\"2016-04-01\")\n",
    "jay=Emp(\"JAYARAM\",\"2018-04-03\",pan=\"BRCPR36y4\",role=\"hrm\")\n",
    "vedha=Emp(\"Vedhanvesh\",\"2018-05-06\",23,adhar=\"sdfew23423\",pan=\"sdf5324\")\n",
    "jay.__update_doj(\"2019-01-01\")\n",
    "print(jay.get_doj())"
   ]
  },
  {
   "cell_type": "code",
   "execution_count": 14,
   "metadata": {},
   "outputs": [
    {
     "name": "stdout",
     "output_type": "stream",
     "text": [
      "2019-01-01\n"
     ]
    }
   ],
   "source": [
    "class Emp:\n",
    "    def __init__(self,name, doj, age=None, adhar=None,pan=None,role=\"emp\"):\n",
    "        self.name=name\n",
    "        self.__doj=doj\n",
    "        self.age=age\n",
    "        self.adhar=adhar\n",
    "        self.pan=pan\n",
    "        self.role=role\n",
    "    def get_doj(self):\n",
    "        return self.__doj\n",
    "    def changedoj(self, new_date):\n",
    "        if self.role==\"hrm\":\n",
    "            self.__update_doj(new_date)\n",
    "        else:\n",
    "            raise Exception(\"Only hrm role can modify\")\n",
    "        \n",
    "    def __update_doj(self, new_date):\n",
    "        self.__doj=new_date\n",
    "    \n",
    "sai=Emp(\"SAILAXMI\",\"2016-04-01\")\n",
    "jay=Emp(\"JAYARAM\",\"2018-04-03\",pan=\"BRCPR36y4\",role=\"hrm\")\n",
    "vedha=Emp(\"Vedhanvesh\",\"2018-05-06\",23,adhar=\"sdfew23423\",pan=\"sdf5324\")\n",
    "jay.changedoj(\"2019-01-01\")\n",
    "print(jay.get_doj())"
   ]
  },
  {
   "cell_type": "code",
   "execution_count": 15,
   "metadata": {},
   "outputs": [
    {
     "name": "stdout",
     "output_type": "stream",
     "text": [
      "this is op1 in c1\n",
      "this is op2 in c2\n"
     ]
    }
   ],
   "source": [
    "class c1:\n",
    "    def op1(self):\n",
    "        print(\"this is op1 in c1\")\n",
    "class c2(c1):\n",
    "    def op2(self):\n",
    "        print(\"this is op2 in c2\")\n",
    "    def operations(self):\n",
    "        self.op1()\n",
    "        self.op2()\n",
    "o2=c2()\n",
    "o2.operations()"
   ]
  },
  {
   "cell_type": "code",
   "execution_count": 16,
   "metadata": {},
   "outputs": [
    {
     "ename": "TypeError",
     "evalue": "__init__() missing 1 required positional argument: 'a'",
     "output_type": "error",
     "traceback": [
      "\u001b[0;31m---------------------------------------------------------------------------\u001b[0m",
      "\u001b[0;31mTypeError\u001b[0m                                 Traceback (most recent call last)",
      "\u001b[0;32m<ipython-input-16-899ea41805d4>\u001b[0m in \u001b[0;36m<module>\u001b[0;34m()\u001b[0m\n\u001b[1;32m      5\u001b[0m     \u001b[0;32mdef\u001b[0m \u001b[0mget\u001b[0m\u001b[0;34m(\u001b[0m\u001b[0mself\u001b[0m\u001b[0;34m)\u001b[0m\u001b[0;34m:\u001b[0m\u001b[0;34m\u001b[0m\u001b[0m\n\u001b[1;32m      6\u001b[0m         \u001b[0;32mreturn\u001b[0m \u001b[0mself\u001b[0m\u001b[0;34m.\u001b[0m\u001b[0ma\u001b[0m\u001b[0;34m\u001b[0m\u001b[0m\n\u001b[0;32m----> 7\u001b[0;31m \u001b[0mo2\u001b[0m\u001b[0;34m=\u001b[0m\u001b[0mc2\u001b[0m\u001b[0;34m(\u001b[0m\u001b[0;34m)\u001b[0m\u001b[0;34m\u001b[0m\u001b[0m\n\u001b[0m\u001b[1;32m      8\u001b[0m \u001b[0mprint\u001b[0m\u001b[0;34m(\u001b[0m\u001b[0mo2\u001b[0m\u001b[0;34m.\u001b[0m\u001b[0mget\u001b[0m\u001b[0;34m(\u001b[0m\u001b[0;34m)\u001b[0m\u001b[0;34m)\u001b[0m\u001b[0;34m\u001b[0m\u001b[0m\n",
      "\u001b[0;31mTypeError\u001b[0m: __init__() missing 1 required positional argument: 'a'"
     ]
    }
   ],
   "source": [
    "class c1:\n",
    "    def __init__(self, a):\n",
    "        self.a=a\n",
    "class c2(c1):\n",
    "    def get(self):\n",
    "        return self.a\n",
    "o2=c2()\n",
    "print(o2.get())"
   ]
  },
  {
   "cell_type": "code",
   "execution_count": 17,
   "metadata": {},
   "outputs": [
    {
     "name": "stdout",
     "output_type": "stream",
     "text": [
      "100\n"
     ]
    }
   ],
   "source": [
    "class c1:\n",
    "    def __init__(self, a):\n",
    "        self.a=a\n",
    "class c2(c1):\n",
    "    def get(self):\n",
    "        return self.a\n",
    "o2=c2(100)\n",
    "print(o2.get())"
   ]
  },
  {
   "cell_type": "code",
   "execution_count": 18,
   "metadata": {},
   "outputs": [
    {
     "ename": "AttributeError",
     "evalue": "'c2' object has no attribute 'a'",
     "output_type": "error",
     "traceback": [
      "\u001b[0;31m---------------------------------------------------------------------------\u001b[0m",
      "\u001b[0;31mAttributeError\u001b[0m                            Traceback (most recent call last)",
      "\u001b[0;32m<ipython-input-18-e7fa25b5a922>\u001b[0m in \u001b[0;36m<module>\u001b[0;34m()\u001b[0m\n\u001b[1;32m      8\u001b[0m         \u001b[0;32mreturn\u001b[0m \u001b[0mself\u001b[0m\u001b[0;34m.\u001b[0m\u001b[0ma\u001b[0m\u001b[0;34m,\u001b[0m \u001b[0mself\u001b[0m\u001b[0;34m.\u001b[0m\u001b[0mb\u001b[0m\u001b[0;34m\u001b[0m\u001b[0m\n\u001b[1;32m      9\u001b[0m \u001b[0mo2\u001b[0m\u001b[0;34m=\u001b[0m\u001b[0mc2\u001b[0m\u001b[0;34m(\u001b[0m\u001b[0;36m100\u001b[0m\u001b[0;34m)\u001b[0m\u001b[0;34m\u001b[0m\u001b[0m\n\u001b[0;32m---> 10\u001b[0;31m \u001b[0mprint\u001b[0m\u001b[0;34m(\u001b[0m\u001b[0mo2\u001b[0m\u001b[0;34m.\u001b[0m\u001b[0mget\u001b[0m\u001b[0;34m(\u001b[0m\u001b[0;34m)\u001b[0m\u001b[0;34m)\u001b[0m\u001b[0;34m\u001b[0m\u001b[0m\n\u001b[0m",
      "\u001b[0;32m<ipython-input-18-e7fa25b5a922>\u001b[0m in \u001b[0;36mget\u001b[0;34m(self)\u001b[0m\n\u001b[1;32m      6\u001b[0m         \u001b[0mself\u001b[0m\u001b[0;34m.\u001b[0m\u001b[0mb\u001b[0m\u001b[0;34m=\u001b[0m\u001b[0mb\u001b[0m\u001b[0;34m\u001b[0m\u001b[0m\n\u001b[1;32m      7\u001b[0m     \u001b[0;32mdef\u001b[0m \u001b[0mget\u001b[0m\u001b[0;34m(\u001b[0m\u001b[0mself\u001b[0m\u001b[0;34m)\u001b[0m\u001b[0;34m:\u001b[0m\u001b[0;34m\u001b[0m\u001b[0m\n\u001b[0;32m----> 8\u001b[0;31m         \u001b[0;32mreturn\u001b[0m \u001b[0mself\u001b[0m\u001b[0;34m.\u001b[0m\u001b[0ma\u001b[0m\u001b[0;34m,\u001b[0m \u001b[0mself\u001b[0m\u001b[0;34m.\u001b[0m\u001b[0mb\u001b[0m\u001b[0;34m\u001b[0m\u001b[0m\n\u001b[0m\u001b[1;32m      9\u001b[0m \u001b[0mo2\u001b[0m\u001b[0;34m=\u001b[0m\u001b[0mc2\u001b[0m\u001b[0;34m(\u001b[0m\u001b[0;36m100\u001b[0m\u001b[0;34m)\u001b[0m\u001b[0;34m\u001b[0m\u001b[0m\n\u001b[1;32m     10\u001b[0m \u001b[0mprint\u001b[0m\u001b[0;34m(\u001b[0m\u001b[0mo2\u001b[0m\u001b[0;34m.\u001b[0m\u001b[0mget\u001b[0m\u001b[0;34m(\u001b[0m\u001b[0;34m)\u001b[0m\u001b[0;34m)\u001b[0m\u001b[0;34m\u001b[0m\u001b[0m\n",
      "\u001b[0;31mAttributeError\u001b[0m: 'c2' object has no attribute 'a'"
     ]
    }
   ],
   "source": [
    "class c1:\n",
    "    def __init__(self, a):\n",
    "        self.a=a\n",
    "class c2(c1):\n",
    "    def __init__(self,b):\n",
    "        self.b=b\n",
    "    def get(self):\n",
    "        return self.a, self.b\n",
    "o2=c2(100)\n",
    "print(o2.get())"
   ]
  },
  {
   "cell_type": "code",
   "execution_count": 19,
   "metadata": {},
   "outputs": [
    {
     "name": "stdout",
     "output_type": "stream",
     "text": [
      "(200, 100)\n"
     ]
    }
   ],
   "source": [
    "class c1:\n",
    "    def __init__(self, a):\n",
    "        self.a=a\n",
    "class c2(c1):\n",
    "    def __init__(self,b,a):\n",
    "        self.b=b\n",
    "        self.a=a\n",
    "    def get(self):\n",
    "        return self.a, self.b\n",
    "o2=c2(100,200)\n",
    "print(o2.get())"
   ]
  },
  {
   "cell_type": "code",
   "execution_count": null,
   "metadata": {},
   "outputs": [],
   "source": [
    "class c1:\n",
    "    def __init__(self, a):\n",
    "        self.a=a\n",
    "class c2(c1):\n",
    "    def __init__(self,b,a):\n",
    "        self.b=b\n",
    "        #self.a=a\n",
    "        self.__init__(a)\n",
    "    def get(self):\n",
    "        return self.a, self.b\n",
    "o2=c2(100,200)\n",
    "print(o2.get())"
   ]
  },
  {
   "cell_type": "code",
   "execution_count": 20,
   "metadata": {},
   "outputs": [
    {
     "name": "stdout",
     "output_type": "stream",
     "text": [
      "(200, 100)\n"
     ]
    }
   ],
   "source": [
    "class c1:\n",
    "    def __init__(self, a):\n",
    "        self.a=a\n",
    "class c2(c1):\n",
    "    def __init__(self,b,a):\n",
    "        self.b=b\n",
    "        #self.a=a\n",
    "        c1.__init__(self,a)\n",
    "    def get(self):\n",
    "        return self.a, self.b\n",
    "o2=c2(100,200)\n",
    "print(o2.get())"
   ]
  },
  {
   "cell_type": "code",
   "execution_count": null,
   "metadata": {},
   "outputs": [],
   "source": []
  }
 ],
 "metadata": {
  "kernelspec": {
   "display_name": "Python 3",
   "language": "python",
   "name": "python3"
  },
  "language_info": {
   "codemirror_mode": {
    "name": "ipython",
    "version": 3
   },
   "file_extension": ".py",
   "mimetype": "text/x-python",
   "name": "python",
   "nbconvert_exporter": "python",
   "pygments_lexer": "ipython3",
   "version": "3.7.0"
  }
 },
 "nbformat": 4,
 "nbformat_minor": 2
}
