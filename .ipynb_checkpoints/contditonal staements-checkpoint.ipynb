{
 "cells": [
  {
   "cell_type": "code",
   "execution_count": 1,
   "metadata": {},
   "outputs": [
    {
     "name": "stdout",
     "output_type": "stream",
     "text": [
      "st1\n",
      "st2\n",
      "st3\n"
     ]
    }
   ],
   "source": [
    "print(\"st1\")\n",
    "print(\"st2\")\n",
    "print(\"st3\")"
   ]
  },
  {
   "cell_type": "code",
   "execution_count": 2,
   "metadata": {},
   "outputs": [
    {
     "name": "stdout",
     "output_type": "stream",
     "text": [
      "welcome\n",
      "enter a value:12\n",
      "Enter b value:34\n",
      "a is big\n",
      "b is big\n",
      "thanks you\n"
     ]
    }
   ],
   "source": [
    "print(\"welcome\")\n",
    "a=input(\"enter a value:\")\n",
    "b=input(\"Enter b value:\")\n",
    "print(\"a is big\")\n",
    "print(\"b is big\")\n",
    "print(\"thanks you\")"
   ]
  },
  {
   "cell_type": "code",
   "execution_count": 3,
   "metadata": {},
   "outputs": [
    {
     "name": "stdout",
     "output_type": "stream",
     "text": [
      "welcome\n",
      "enter a value:9\n",
      "Enter b value:7\n",
      "True\n",
      "a is big\n",
      "thanks you\n"
     ]
    }
   ],
   "source": [
    "print(\"welcome\")\n",
    "a=input(\"enter a value:\")\n",
    "b=input(\"Enter b value:\")\n",
    "print(a>b)\n",
    "if a>b:\n",
    "    print(\"a is big\")\n",
    "else:\n",
    "    print(\"b is big\")\n",
    "print(\"thanks you\")"
   ]
  },
  {
   "cell_type": "code",
   "execution_count": 4,
   "metadata": {},
   "outputs": [
    {
     "name": "stdout",
     "output_type": "stream",
     "text": [
      "welcome\n",
      "enter a value:7\n",
      "Enter b value:9\n",
      "False\n",
      "b is big\n",
      "thanks you\n"
     ]
    }
   ],
   "source": [
    "print(\"welcome\")\n",
    "a=input(\"enter a value:\")\n",
    "b=input(\"Enter b value:\")\n",
    "print(a>b)\n",
    "if a>b:\n",
    "    print(\"a is big\")\n",
    "else:\n",
    "    print(\"b is big\")\n",
    "print(\"thanks you\")"
   ]
  },
  {
   "cell_type": "code",
   "execution_count": 5,
   "metadata": {},
   "outputs": [
    {
     "name": "stdout",
     "output_type": "stream",
     "text": [
      "welcome\n",
      "enter a value:12\n",
      "Enter b value:7\n",
      "False\n",
      "b is big\n",
      "thanks you\n"
     ]
    }
   ],
   "source": [
    "print(\"welcome\")\n",
    "a=input(\"enter a value:\")\n",
    "b=input(\"Enter b value:\")\n",
    "print(a>b)\n",
    "if a>b:\n",
    "    print(\"a is big\")\n",
    "else:\n",
    "    print(\"b is big\")\n",
    "print(\"thanks you\")"
   ]
  },
  {
   "cell_type": "code",
   "execution_count": 6,
   "metadata": {},
   "outputs": [
    {
     "data": {
      "text/plain": [
       "False"
      ]
     },
     "execution_count": 6,
     "metadata": {},
     "output_type": "execute_result"
    }
   ],
   "source": [
    "\"12\">\"7\""
   ]
  },
  {
   "cell_type": "code",
   "execution_count": 7,
   "metadata": {},
   "outputs": [
    {
     "name": "stdout",
     "output_type": "stream",
     "text": [
      "welcome\n",
      "enter a value:12\n",
      "Enter b value:7\n",
      "True\n",
      "a is big\n",
      "thanks you\n"
     ]
    }
   ],
   "source": [
    "print(\"welcome\")\n",
    "a=input(\"enter a value:\")\n",
    "b=input(\"Enter b value:\")\n",
    "a=float(a)\n",
    "b=float(b)\n",
    "print(a>b)\n",
    "if a>b:\n",
    "    print(\"a is big\")\n",
    "else:\n",
    "    print(\"b is big\")\n",
    "print(\"thanks you\")"
   ]
  },
  {
   "cell_type": "code",
   "execution_count": 8,
   "metadata": {},
   "outputs": [
    {
     "name": "stdout",
     "output_type": "stream",
     "text": [
      "welcome\n",
      "enter a value:1.2\n",
      "Enter b value:0.7\n",
      "True\n",
      "a is big\n",
      "thanks you\n"
     ]
    }
   ],
   "source": [
    "print(\"welcome\")\n",
    "a=input(\"enter a value:\")\n",
    "b=input(\"Enter b value:\")\n",
    "a=float(a)\n",
    "b=float(b)\n",
    "print(a>b)\n",
    "if a>b:\n",
    "    print(\"a is big\")\n",
    "else:\n",
    "    print(\"b is big\")\n",
    "print(\"thanks you\")"
   ]
  },
  {
   "cell_type": "code",
   "execution_count": 9,
   "metadata": {},
   "outputs": [
    {
     "name": "stdout",
     "output_type": "stream",
     "text": [
      "welcome\n",
      "enter a value:werew\n",
      "Enter b value:werwe\n"
     ]
    },
    {
     "ename": "ValueError",
     "evalue": "could not convert string to float: 'werew'",
     "output_type": "error",
     "traceback": [
      "\u001b[0;31m---------------------------------------------------------------------------\u001b[0m",
      "\u001b[0;31mValueError\u001b[0m                                Traceback (most recent call last)",
      "\u001b[0;32m<ipython-input-9-40ceb43bae4a>\u001b[0m in \u001b[0;36m<module>\u001b[0;34m()\u001b[0m\n\u001b[1;32m      2\u001b[0m \u001b[0ma\u001b[0m\u001b[0;34m=\u001b[0m\u001b[0minput\u001b[0m\u001b[0;34m(\u001b[0m\u001b[0;34m\"enter a value:\"\u001b[0m\u001b[0;34m)\u001b[0m\u001b[0;34m\u001b[0m\u001b[0m\n\u001b[1;32m      3\u001b[0m \u001b[0mb\u001b[0m\u001b[0;34m=\u001b[0m\u001b[0minput\u001b[0m\u001b[0;34m(\u001b[0m\u001b[0;34m\"Enter b value:\"\u001b[0m\u001b[0;34m)\u001b[0m\u001b[0;34m\u001b[0m\u001b[0m\n\u001b[0;32m----> 4\u001b[0;31m \u001b[0ma\u001b[0m\u001b[0;34m=\u001b[0m\u001b[0mfloat\u001b[0m\u001b[0;34m(\u001b[0m\u001b[0ma\u001b[0m\u001b[0;34m)\u001b[0m\u001b[0;34m\u001b[0m\u001b[0m\n\u001b[0m\u001b[1;32m      5\u001b[0m \u001b[0mb\u001b[0m\u001b[0;34m=\u001b[0m\u001b[0mfloat\u001b[0m\u001b[0;34m(\u001b[0m\u001b[0mb\u001b[0m\u001b[0;34m)\u001b[0m\u001b[0;34m\u001b[0m\u001b[0m\n\u001b[1;32m      6\u001b[0m \u001b[0mprint\u001b[0m\u001b[0;34m(\u001b[0m\u001b[0ma\u001b[0m\u001b[0;34m>\u001b[0m\u001b[0mb\u001b[0m\u001b[0;34m)\u001b[0m\u001b[0;34m\u001b[0m\u001b[0m\n",
      "\u001b[0;31mValueError\u001b[0m: could not convert string to float: 'werew'"
     ]
    }
   ],
   "source": [
    "print(\"welcome\")\n",
    "a=input(\"enter a value:\")\n",
    "b=input(\"Enter b value:\")\n",
    "a=float(a)\n",
    "b=float(b)\n",
    "print(a>b)\n",
    "if a>b:\n",
    "    print(\"a is big\")\n",
    "else:\n",
    "    print(\"b is big\")\n",
    "print(\"thanks you\")"
   ]
  },
  {
   "cell_type": "code",
   "execution_count": 10,
   "metadata": {},
   "outputs": [
    {
     "name": "stdout",
     "output_type": "stream",
     "text": [
      "welcome\n",
      "enter a value:12\n",
      "+ve numnber\n",
      "thanks you\n"
     ]
    }
   ],
   "source": [
    "#WAP to check given number is +ve or -ve\n",
    "print(\"welcome\")\n",
    "a=input(\"enter a value:\")\n",
    "a=float(a)\n",
    "if a>0:\n",
    "    print(\"+ve numnber\")\n",
    "else:\n",
    "    print(\"-ve number\")\n",
    "print(\"thanks you\")"
   ]
  },
  {
   "cell_type": "code",
   "execution_count": 11,
   "metadata": {},
   "outputs": [
    {
     "name": "stdout",
     "output_type": "stream",
     "text": [
      "welcome\n",
      "enter a value:-12\n",
      "-ve number\n",
      "thanks you\n"
     ]
    }
   ],
   "source": [
    "#WAP to check given number is +ve or -ve\n",
    "print(\"welcome\")\n",
    "a=input(\"enter a value:\")\n",
    "a=float(a)\n",
    "if a>0:\n",
    "    print(\"+ve numnber\")\n",
    "else:\n",
    "    print(\"-ve number\")\n",
    "print(\"thanks you\")"
   ]
  },
  {
   "cell_type": "code",
   "execution_count": 12,
   "metadata": {},
   "outputs": [
    {
     "name": "stdout",
     "output_type": "stream",
     "text": [
      "python\n"
     ]
    }
   ],
   "source": [
    "if \"python\":\n",
    "    print(\"python\")"
   ]
  },
  {
   "cell_type": "code",
   "execution_count": 13,
   "metadata": {},
   "outputs": [],
   "source": [
    "if \"\":\n",
    "    print(\"python\")"
   ]
  },
  {
   "cell_type": "code",
   "execution_count": 14,
   "metadata": {},
   "outputs": [
    {
     "name": "stdout",
     "output_type": "stream",
     "text": [
      "hello\n"
     ]
    }
   ],
   "source": [
    "if [1,2,3,4]:\n",
    "    print(\"hello\")"
   ]
  },
  {
   "cell_type": "code",
   "execution_count": 15,
   "metadata": {},
   "outputs": [],
   "source": [
    "if []:\n",
    "    print(\"hello\")"
   ]
  },
  {
   "cell_type": "code",
   "execution_count": 16,
   "metadata": {},
   "outputs": [
    {
     "name": "stdout",
     "output_type": "stream",
     "text": [
      "enter string:python\n"
     ]
    }
   ],
   "source": [
    "s=input(\"enter string:\")"
   ]
  },
  {
   "cell_type": "code",
   "execution_count": 17,
   "metadata": {},
   "outputs": [
    {
     "name": "stdout",
     "output_type": "stream",
     "text": [
      "enter string:\n"
     ]
    }
   ],
   "source": [
    "s=input(\"enter string:\")"
   ]
  },
  {
   "cell_type": "code",
   "execution_count": 18,
   "metadata": {},
   "outputs": [
    {
     "name": "stdout",
     "output_type": "stream",
     "text": [
      "enter string:python\n",
      "6\n"
     ]
    }
   ],
   "source": [
    "s=input(\"enter string:\")\n",
    "if s:\n",
    "    print(len(s))\n",
    "else:\n",
    "    print(\"invalid string\")\n",
    "    "
   ]
  },
  {
   "cell_type": "code",
   "execution_count": 19,
   "metadata": {},
   "outputs": [
    {
     "name": "stdout",
     "output_type": "stream",
     "text": [
      "enter string:\n",
      "invalid string\n"
     ]
    }
   ],
   "source": [
    "s=input(\"enter string:\")\n",
    "if s:\n",
    "    print(len(s))\n",
    "else:\n",
    "    print(\"invalid string\")\n",
    "    "
   ]
  },
  {
   "cell_type": "code",
   "execution_count": 20,
   "metadata": {},
   "outputs": [
    {
     "name": "stdout",
     "output_type": "stream",
     "text": [
      "enter string:2256\n",
      "4\n"
     ]
    }
   ],
   "source": [
    "s=input(\"enter string:\")\n",
    "if len(s)>0:\n",
    "    print(len(s))\n",
    "else:\n",
    "    print(\"invalid string\")\n",
    "    "
   ]
  },
  {
   "cell_type": "code",
   "execution_count": 21,
   "metadata": {},
   "outputs": [
    {
     "name": "stdout",
     "output_type": "stream",
     "text": [
      "welcome\n",
      "enter a value:12\n",
      "if block started\n",
      "+ve numnber\n",
      "if block ended\n",
      "thanks you\n"
     ]
    }
   ],
   "source": [
    "#WAP to check given number is +ve or -ve\n",
    "print(\"welcome\")\n",
    "a=input(\"enter a value:\")\n",
    "a=float(a)\n",
    "if a>0:\n",
    "    print(\"if block started\")\n",
    "    print(\"+ve numnber\")\n",
    "    print(\"if block ended\")\n",
    "else:\n",
    "    print(\"else block started\")\n",
    "    print(\"-ve number\")\n",
    "    print(\"Else block ended\")\n",
    "print(\"thanks you\")"
   ]
  },
  {
   "cell_type": "markdown",
   "metadata": {},
   "source": [
    "#WAP to check given number is +ve or -ve\n",
    "print(\"welcome\")\n",
    "a=input(\"enter a value:\")\n",
    "a=float(a)\n",
    "if a>0:\n",
    "    print(\"if block started\")\n",
    "    print(\"+ve numnber\")\n",
    "    print(\"if block ended\")\n",
    "else:\n",
    "    print(\"else block started\")\n",
    "    print(\"-ve number\")\n",
    "    print(\"Else block ended\")\n",
    "print(\"thanks you\")"
   ]
  },
  {
   "cell_type": "code",
   "execution_count": 22,
   "metadata": {},
   "outputs": [
    {
     "name": "stdout",
     "output_type": "stream",
     "text": [
      "welcome\n",
      "enter a value:12\n",
      "if block started\n",
      "+ve numnber\n",
      "if block ended\n",
      "thanks you\n"
     ]
    }
   ],
   "source": [
    "#WAP to check given number is +ve or -ve\n",
    "print(\"welcome\")\n",
    "a=input(\"enter a value:\")\n",
    "a=float(a)\n",
    "if a>0:\n",
    "    print(\"if block started\")\n",
    "    print(\"+ve numnber\")\n",
    "    print(\"if block ended\")\n",
    "else:\n",
    " print(\"else block started\")\n",
    " print(\"-ve number\")\n",
    " print(\"Else block ended\")\n",
    "print(\"thanks you\")"
   ]
  },
  {
   "cell_type": "markdown",
   "metadata": {},
   "source": [
    "#### "
   ]
  },
  {
   "cell_type": "code",
   "execution_count": 23,
   "metadata": {},
   "outputs": [
    {
     "ename": "IndentationError",
     "evalue": "unexpected indent (<ipython-input-23-4c253b66b436>, line 7)",
     "output_type": "error",
     "traceback": [
      "\u001b[0;36m  File \u001b[0;32m\"<ipython-input-23-4c253b66b436>\"\u001b[0;36m, line \u001b[0;32m7\u001b[0m\n\u001b[0;31m    print(\"+ve numnber\")\u001b[0m\n\u001b[0m    ^\u001b[0m\n\u001b[0;31mIndentationError\u001b[0m\u001b[0;31m:\u001b[0m unexpected indent\n"
     ]
    }
   ],
   "source": [
    "#WAP to check given number is +ve or -ve\n",
    "print(\"welcome\")\n",
    "a=input(\"enter a value:\")\n",
    "a=float(a)\n",
    "if a>0:\n",
    " print(\"if block started\")\n",
    "    print(\"+ve numnber\")\n",
    "    print(\"if block ended\")\n",
    "else:\n",
    "    print(\"else block started\")\n",
    "    print(\"-ve number\")\n",
    "    print(\"Else block ended\")\n",
    "print(\"thanks you\")"
   ]
  },
  {
   "cell_type": "code",
   "execution_count": 24,
   "metadata": {},
   "outputs": [
    {
     "ename": "SyntaxError",
     "evalue": "invalid syntax (<ipython-input-24-20cfa9ac13df>, line 9)",
     "output_type": "error",
     "traceback": [
      "\u001b[0;36m  File \u001b[0;32m\"<ipython-input-24-20cfa9ac13df>\"\u001b[0;36m, line \u001b[0;32m9\u001b[0m\n\u001b[0;31m    else:\u001b[0m\n\u001b[0m       ^\u001b[0m\n\u001b[0;31mSyntaxError\u001b[0m\u001b[0;31m:\u001b[0m invalid syntax\n"
     ]
    }
   ],
   "source": [
    "#WAP to check given number is +ve or -ve\n",
    "print(\"welcome\")\n",
    "a=input(\"enter a value:\")\n",
    "a=float(a)\n",
    "if a>0:\n",
    "    print(\"if block started\")\n",
    "    print(\"+ve numnber\")\n",
    "print(\"if block ended\")\n",
    "else:\n",
    "    print(\"else block started\")\n",
    "    print(\"-ve number\")\n",
    "    print(\"Else block ended\")\n",
    "print(\"thanks you\")"
   ]
  },
  {
   "cell_type": "code",
   "execution_count": null,
   "metadata": {},
   "outputs": [],
   "source": []
  }
 ],
 "metadata": {
  "kernelspec": {
   "display_name": "Python 3",
   "language": "python",
   "name": "python3"
  },
  "language_info": {
   "codemirror_mode": {
    "name": "ipython",
    "version": 3
   },
   "file_extension": ".py",
   "mimetype": "text/x-python",
   "name": "python",
   "nbconvert_exporter": "python",
   "pygments_lexer": "ipython3",
   "version": "3.7.0"
  }
 },
 "nbformat": 4,
 "nbformat_minor": 2
}
