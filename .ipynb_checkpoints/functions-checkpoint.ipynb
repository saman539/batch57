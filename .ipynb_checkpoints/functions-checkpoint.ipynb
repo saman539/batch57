{
 "cells": [
  {
   "cell_type": "code",
   "execution_count": 1,
   "metadata": {},
   "outputs": [
    {
     "name": "stdout",
     "output_type": "stream",
     "text": [
      "welcome\n",
      "ThanQ\n"
     ]
    }
   ],
   "source": [
    "print(\"welcome\")\n",
    "def fun():\n",
    "    print(\"fun started\")\n",
    "    print(\"some statements in fun\")\n",
    "    print(\"fun ended\")\n",
    "print(\"ThanQ\")"
   ]
  },
  {
   "cell_type": "code",
   "execution_count": 2,
   "metadata": {},
   "outputs": [
    {
     "name": "stdout",
     "output_type": "stream",
     "text": [
      "welcome\n",
      "ThanQ\n",
      "fun started\n",
      "some statements in fun\n",
      "fun ended\n"
     ]
    }
   ],
   "source": [
    "print(\"welcome\")\n",
    "def fun():\n",
    "    print(\"fun started\")\n",
    "    print(\"some statements in fun\")\n",
    "    print(\"fun ended\")\n",
    "print(\"ThanQ\")\n",
    "fun()"
   ]
  },
  {
   "cell_type": "code",
   "execution_count": 3,
   "metadata": {},
   "outputs": [
    {
     "name": "stdout",
     "output_type": "stream",
     "text": [
      "welcome\n",
      "ThanQ\n",
      "fun started\n",
      "some statements in fun\n",
      "fun ended\n",
      "some statements..\n",
      "fun started\n",
      "some statements in fun\n",
      "fun ended\n"
     ]
    }
   ],
   "source": [
    "print(\"welcome\")\n",
    "def fun():\n",
    "    print(\"fun started\")\n",
    "    print(\"some statements in fun\")\n",
    "    print(\"fun ended\")\n",
    "print(\"ThanQ\")\n",
    "fun()\n",
    "print(\"some statements..\")\n",
    "fun()"
   ]
  },
  {
   "cell_type": "code",
   "execution_count": 5,
   "metadata": {},
   "outputs": [
    {
     "name": "stdout",
     "output_type": "stream",
     "text": [
      "10 20\n"
     ]
    }
   ],
   "source": [
    "\n",
    "def fun(a,b):\n",
    "    # a,b are parameters\n",
    "    print(a,b)\n",
    "fun(10,20) # 10,20 arguments, positional arguments"
   ]
  },
  {
   "cell_type": "code",
   "execution_count": 6,
   "metadata": {},
   "outputs": [
    {
     "name": "stdout",
     "output_type": "stream",
     "text": [
      "a=20,b=10\n"
     ]
    }
   ],
   "source": [
    "\n",
    "def fun(a,b):\n",
    "    # a,b are parameters\n",
    "    print(f\"a={a},b={b}\")\n",
    "fun(20,10) # 10,20 arguments, positional arguments"
   ]
  },
  {
   "cell_type": "code",
   "execution_count": 7,
   "metadata": {},
   "outputs": [
    {
     "name": "stdout",
     "output_type": "stream",
     "text": [
      "a=20,b=10\n"
     ]
    }
   ],
   "source": [
    "\n",
    "def fun(a,b):\n",
    "    # a,b are parameters\n",
    "    print(f\"a={a},b={b}\")\n",
    "    c=a+b\n",
    "    \n",
    "fun(20,10) # 10,20 arguments, positional arguments"
   ]
  },
  {
   "cell_type": "code",
   "execution_count": 8,
   "metadata": {},
   "outputs": [
    {
     "name": "stdout",
     "output_type": "stream",
     "text": [
      "a=20,b=10\n",
      "res= 30\n",
      "a=100,b=200\n",
      "res= 300\n",
      "a=1000,b=2000\n",
      "res= 3000\n"
     ]
    }
   ],
   "source": [
    "\n",
    "def fun(a,b):\n",
    "    # a,b are parameters\n",
    "    print(f\"a={a},b={b}\")\n",
    "    c=a+b\n",
    "    print(\"res=\",c)\n",
    "fun(20,10) # 10,20 arguments, positional arguments\n",
    "fun(100,200)\n",
    "fun(1000,2000)"
   ]
  },
  {
   "cell_type": "code",
   "execution_count": 9,
   "metadata": {},
   "outputs": [
    {
     "name": "stdout",
     "output_type": "stream",
     "text": [
      "a=20,b=10\n",
      "res= 30\n"
     ]
    },
    {
     "ename": "TypeError",
     "evalue": "fun() missing 1 required positional argument: 'b'",
     "output_type": "error",
     "traceback": [
      "\u001b[0;31m---------------------------------------------------------------------------\u001b[0m",
      "\u001b[0;31mTypeError\u001b[0m                                 Traceback (most recent call last)",
      "\u001b[0;32m<ipython-input-9-25720a239980>\u001b[0m in \u001b[0;36m<module>\u001b[0;34m()\u001b[0m\n\u001b[1;32m      5\u001b[0m     \u001b[0mprint\u001b[0m\u001b[0;34m(\u001b[0m\u001b[0;34m\"res=\"\u001b[0m\u001b[0;34m,\u001b[0m\u001b[0mc\u001b[0m\u001b[0;34m)\u001b[0m\u001b[0;34m\u001b[0m\u001b[0m\n\u001b[1;32m      6\u001b[0m \u001b[0mfun\u001b[0m\u001b[0;34m(\u001b[0m\u001b[0;36m20\u001b[0m\u001b[0;34m,\u001b[0m\u001b[0;36m10\u001b[0m\u001b[0;34m)\u001b[0m\u001b[0;34m\u001b[0m\u001b[0m\n\u001b[0;32m----> 7\u001b[0;31m \u001b[0mfun\u001b[0m\u001b[0;34m(\u001b[0m\u001b[0;36m100\u001b[0m\u001b[0;34m)\u001b[0m\u001b[0;34m\u001b[0m\u001b[0m\n\u001b[0m",
      "\u001b[0;31mTypeError\u001b[0m: fun() missing 1 required positional argument: 'b'"
     ]
    }
   ],
   "source": [
    "\n",
    "def fun(a,b):\n",
    "    print(f\"a={a},b={b}\")\n",
    "    c=a+b\n",
    "    print(\"res=\",c)\n",
    "fun(20,10) \n",
    "fun(100)"
   ]
  },
  {
   "cell_type": "code",
   "execution_count": 10,
   "metadata": {},
   "outputs": [
    {
     "name": "stdout",
     "output_type": "stream",
     "text": [
      "a=10,b=20,c=30,d=40,e=50\n",
      "res= 150\n"
     ]
    }
   ],
   "source": [
    "\n",
    "def fun(a,b,c,d,e):\n",
    "    print(f\"a={a},b={b},c={c},d={d},e={e}\")\n",
    "    res=a+b+c+d+e\n",
    "    print(\"res=\",res)\n",
    "fun(10,20,30,40,50)"
   ]
  },
  {
   "cell_type": "code",
   "execution_count": 11,
   "metadata": {},
   "outputs": [
    {
     "name": "stdout",
     "output_type": "stream",
     "text": [
      "a=10,b=20,c=30,d=40,e=50\n",
      "res= 150\n"
     ]
    },
    {
     "ename": "TypeError",
     "evalue": "fun() missing 1 required positional argument: 'e'",
     "output_type": "error",
     "traceback": [
      "\u001b[0;31m---------------------------------------------------------------------------\u001b[0m",
      "\u001b[0;31mTypeError\u001b[0m                                 Traceback (most recent call last)",
      "\u001b[0;32m<ipython-input-11-bb3b4fa8a428>\u001b[0m in \u001b[0;36m<module>\u001b[0;34m()\u001b[0m\n\u001b[1;32m      5\u001b[0m     \u001b[0mprint\u001b[0m\u001b[0;34m(\u001b[0m\u001b[0;34m\"res=\"\u001b[0m\u001b[0;34m,\u001b[0m\u001b[0mres\u001b[0m\u001b[0;34m)\u001b[0m\u001b[0;34m\u001b[0m\u001b[0m\n\u001b[1;32m      6\u001b[0m \u001b[0mfun\u001b[0m\u001b[0;34m(\u001b[0m\u001b[0;36m10\u001b[0m\u001b[0;34m,\u001b[0m\u001b[0;36m20\u001b[0m\u001b[0;34m,\u001b[0m\u001b[0;36m30\u001b[0m\u001b[0;34m,\u001b[0m\u001b[0;36m40\u001b[0m\u001b[0;34m,\u001b[0m\u001b[0;36m50\u001b[0m\u001b[0;34m)\u001b[0m\u001b[0;34m\u001b[0m\u001b[0m\n\u001b[0;32m----> 7\u001b[0;31m \u001b[0mfun\u001b[0m\u001b[0;34m(\u001b[0m\u001b[0;36m10\u001b[0m\u001b[0;34m,\u001b[0m\u001b[0;36m20\u001b[0m\u001b[0;34m,\u001b[0m\u001b[0;36m30\u001b[0m\u001b[0;34m,\u001b[0m\u001b[0;36m40\u001b[0m\u001b[0;34m)\u001b[0m\u001b[0;34m\u001b[0m\u001b[0m\n\u001b[0m\u001b[1;32m      8\u001b[0m \u001b[0mfun\u001b[0m\u001b[0;34m(\u001b[0m\u001b[0;36m10\u001b[0m\u001b[0;34m,\u001b[0m\u001b[0;36m20\u001b[0m\u001b[0;34m,\u001b[0m\u001b[0;36m30\u001b[0m\u001b[0;34m)\u001b[0m\u001b[0;34m\u001b[0m\u001b[0m\n\u001b[1;32m      9\u001b[0m \u001b[0mfun\u001b[0m\u001b[0;34m(\u001b[0m\u001b[0;36m10\u001b[0m\u001b[0;34m,\u001b[0m\u001b[0;36m20\u001b[0m\u001b[0;34m)\u001b[0m\u001b[0;34m\u001b[0m\u001b[0m\n",
      "\u001b[0;31mTypeError\u001b[0m: fun() missing 1 required positional argument: 'e'"
     ]
    }
   ],
   "source": [
    "\n",
    "def fun(a,b,c,d,e):\n",
    "    print(f\"a={a},b={b},c={c},d={d},e={e}\")\n",
    "    res=a+b+c+d+e\n",
    "    print(\"res=\",res)\n",
    "fun(10,20,30,40,50)\n",
    "fun(10,20,30,40)\n",
    "fun(10,20,30)\n",
    "fun(10,20)"
   ]
  },
  {
   "cell_type": "code",
   "execution_count": 12,
   "metadata": {},
   "outputs": [
    {
     "name": "stdout",
     "output_type": "stream",
     "text": [
      "a=10,b=20,c=30,d=40,e=50\n",
      "res= 150\n",
      "a=10,b=20,c=30,d=40,e=0\n",
      "res= 100\n",
      "a=10,b=20,c=30,d=0,e=0\n",
      "res= 60\n",
      "a=10,b=20,c=0,d=0,e=0\n",
      "res= 30\n"
     ]
    }
   ],
   "source": [
    "\n",
    "def fun(a,b,c=0,d=0,e=0): # default arguments\n",
    "    \"\"\"\n",
    "    a,b are mandatory parameters\n",
    "    c,d,e are optional parameters\n",
    "    \"\"\"\n",
    "    print(f\"a={a},b={b},c={c},d={d},e={e}\")\n",
    "    res=a+b+c+d+e\n",
    "    print(\"res=\",res)\n",
    "fun(10,20,30,40,50)\n",
    "fun(10,20,30,40)\n",
    "fun(10,20,30)\n",
    "fun(10,20)"
   ]
  },
  {
   "cell_type": "code",
   "execution_count": 14,
   "metadata": {},
   "outputs": [
    {
     "name": "stdout",
     "output_type": "stream",
     "text": [
      "a=10,b=20,c=300,d=0,e=0\n",
      "res= 330\n"
     ]
    }
   ],
   "source": [
    "\n",
    "def fun(a,b,c=0,d=0,e=0): # default arguments\n",
    "    \"\"\"\n",
    "    a,b are mandatory parameters\n",
    "    c,d,e are optional parameters\n",
    "    \"\"\"\n",
    "    print(f\"a={a},b={b},c={c},d={d},e={e}\")\n",
    "    res=a+b+c+d+e\n",
    "    print(\"res=\",res)\n",
    "fun(10,20,300)"
   ]
  },
  {
   "cell_type": "code",
   "execution_count": 15,
   "metadata": {},
   "outputs": [
    {
     "name": "stdout",
     "output_type": "stream",
     "text": [
      "a=10,b=20,c=0,d=300,e=0\n",
      "res= 330\n"
     ]
    }
   ],
   "source": [
    "\n",
    "def fun(a,b,c=0,d=0,e=0): # default arguments\n",
    "    \"\"\"\n",
    "    a,b are mandatory parameters\n",
    "    c,d,e are optional parameters\n",
    "    \"\"\"\n",
    "    print(f\"a={a},b={b},c={c},d={d},e={e}\")\n",
    "    res=a+b+c+d+e\n",
    "    print(\"res=\",res)\n",
    "fun(10,20,0,300)"
   ]
  },
  {
   "cell_type": "code",
   "execution_count": 16,
   "metadata": {},
   "outputs": [],
   "source": [
    "import pandas as pd\n",
    "pd.read_csv?"
   ]
  },
  {
   "cell_type": "code",
   "execution_count": 17,
   "metadata": {},
   "outputs": [
    {
     "name": "stdout",
     "output_type": "stream",
     "text": [
      "a=10,b=20,c=0,d=300,e=0\n",
      "res= 330\n"
     ]
    }
   ],
   "source": [
    "\n",
    "def fun(a,b,c=0,d=0,e=0): # default arguments\n",
    "    \"\"\"\n",
    "    a,b are mandatory parameters\n",
    "    c,d,e are optional parameters\n",
    "    \"\"\"\n",
    "    print(f\"a={a},b={b},c={c},d={d},e={e}\")\n",
    "    res=a+b+c+d+e\n",
    "    print(\"res=\",res)\n",
    "fun(10,20, d=300)"
   ]
  },
  {
   "cell_type": "code",
   "execution_count": 18,
   "metadata": {},
   "outputs": [
    {
     "name": "stdout",
     "output_type": "stream",
     "text": [
      "a=20,b=10,c=0,d=300,e=0\n",
      "res= 330\n"
     ]
    }
   ],
   "source": [
    "\n",
    "def fun(a,b,c=0,d=0,e=0): # default arguments\n",
    "    \"\"\"\n",
    "    a,b are mandatory parameters\n",
    "    c,d,e are optional parameters\n",
    "    \"\"\"\n",
    "    print(f\"a={a},b={b},c={c},d={d},e={e}\")\n",
    "    res=a+b+c+d+e\n",
    "    print(\"res=\",res)\n",
    "fun(b=10,a=20, d=300) # keyword arguments"
   ]
  },
  {
   "cell_type": "code",
   "execution_count": 1,
   "metadata": {},
   "outputs": [
    {
     "name": "stdout",
     "output_type": "stream",
     "text": [
      "1000\n"
     ]
    }
   ],
   "source": [
    "a=1000\n",
    "def fun():\n",
    "    print(a)\n",
    "fun()"
   ]
  },
  {
   "cell_type": "code",
   "execution_count": 2,
   "metadata": {},
   "outputs": [
    {
     "name": "stdout",
     "output_type": "stream",
     "text": [
      "1000\n"
     ]
    },
    {
     "ename": "NameError",
     "evalue": "name 'b' is not defined",
     "output_type": "error",
     "traceback": [
      "\u001b[0;31m---------------------------------------------------------------------------\u001b[0m",
      "\u001b[0;31mNameError\u001b[0m                                 Traceback (most recent call last)",
      "\u001b[0;32m<ipython-input-2-f56d81c8af3e>\u001b[0m in \u001b[0;36m<module>\u001b[0;34m()\u001b[0m\n\u001b[1;32m      4\u001b[0m     \u001b[0mprint\u001b[0m\u001b[0;34m(\u001b[0m\u001b[0ma\u001b[0m\u001b[0;34m)\u001b[0m\u001b[0;34m\u001b[0m\u001b[0m\n\u001b[1;32m      5\u001b[0m \u001b[0mfun\u001b[0m\u001b[0;34m(\u001b[0m\u001b[0;34m)\u001b[0m\u001b[0;34m\u001b[0m\u001b[0m\n\u001b[0;32m----> 6\u001b[0;31m \u001b[0mprint\u001b[0m\u001b[0;34m(\u001b[0m\u001b[0mb\u001b[0m\u001b[0;34m)\u001b[0m\u001b[0;34m\u001b[0m\u001b[0m\n\u001b[0m",
      "\u001b[0;31mNameError\u001b[0m: name 'b' is not defined"
     ]
    }
   ],
   "source": [
    "a=1000\n",
    "def fun():\n",
    "    b=2000\n",
    "    print(a)\n",
    "fun()\n",
    "print(b)"
   ]
  },
  {
   "cell_type": "code",
   "execution_count": 3,
   "metadata": {},
   "outputs": [
    {
     "name": "stdout",
     "output_type": "stream",
     "text": [
      "<class 'function'>\n",
      "140375913006216\n"
     ]
    }
   ],
   "source": [
    "a=1000\n",
    "def fun():\n",
    "    b=2000\n",
    "    print(a)\n",
    "print(type(fun))\n",
    "print(id(fun))"
   ]
  },
  {
   "cell_type": "code",
   "execution_count": 4,
   "metadata": {},
   "outputs": [],
   "source": [
    "def fun():\n",
    "    print(\"this is fun\")\n",
    "r1=fun"
   ]
  },
  {
   "cell_type": "code",
   "execution_count": 5,
   "metadata": {},
   "outputs": [
    {
     "name": "stdout",
     "output_type": "stream",
     "text": [
      "this is fun\n"
     ]
    }
   ],
   "source": [
    "fun()"
   ]
  },
  {
   "cell_type": "code",
   "execution_count": 6,
   "metadata": {},
   "outputs": [
    {
     "name": "stdout",
     "output_type": "stream",
     "text": [
      "this is fun\n"
     ]
    }
   ],
   "source": [
    "r1()"
   ]
  },
  {
   "cell_type": "code",
   "execution_count": 7,
   "metadata": {},
   "outputs": [
    {
     "name": "stdout",
     "output_type": "stream",
     "text": [
      "before fun call: a=1000,b=2000\n",
      "inside fun: a={a},b={b},c={c},d={d}\n",
      "after fun call: a={a},b={b},c={c}\n"
     ]
    }
   ],
   "source": [
    "a=1000\n",
    "b=2000\n",
    "print(f\"before fun call: a={a},b={b}\")\n",
    "def fun():\n",
    "    global b,c\n",
    "    d=3000\n",
    "    c=4000\n",
    "    b=5000\n",
    "    print(\"inside fun: a={a},b={b},c={c},d={d}\")\n",
    "fun()\n",
    "print(\"after fun call: a={a},b={b},c={c}\")"
   ]
  },
  {
   "cell_type": "code",
   "execution_count": 8,
   "metadata": {},
   "outputs": [
    {
     "name": "stdout",
     "output_type": "stream",
     "text": [
      "a1= 1000\n",
      "a2= 2000\n",
      "a3= 1000\n"
     ]
    }
   ],
   "source": [
    "a=1000\n",
    "print(\"a1=\",a)\n",
    "def fun():\n",
    "    a=2000\n",
    "    print(\"a2=\",a)\n",
    "fun()\n",
    "print(\"a3=\",a)"
   ]
  },
  {
   "cell_type": "code",
   "execution_count": 9,
   "metadata": {},
   "outputs": [
    {
     "name": "stdout",
     "output_type": "stream",
     "text": [
      "a1= 1000\n",
      "a2= 2000\n",
      "a3= 2000\n"
     ]
    }
   ],
   "source": [
    "a=1000\n",
    "print(\"a1=\",a)\n",
    "def fun():\n",
    "    global a\n",
    "    a=2000\n",
    "    print(\"a2=\",a)\n",
    "fun()\n",
    "print(\"a3=\",a)"
   ]
  },
  {
   "cell_type": "code",
   "execution_count": 10,
   "metadata": {},
   "outputs": [
    {
     "name": "stdout",
     "output_type": "stream",
     "text": [
      "a1= \n",
      "a2= 2000\n",
      "a3= 2000\n"
     ]
    }
   ],
   "source": [
    "a=\"\"\n",
    "print(\"a1=\",a)\n",
    "def fun():\n",
    "    global a\n",
    "    a=2000\n",
    "    print(\"a2=\",a)\n",
    "fun()\n",
    "print(\"a3=\",a)"
   ]
  },
  {
   "cell_type": "code",
   "execution_count": 11,
   "metadata": {},
   "outputs": [
    {
     "name": "stdout",
     "output_type": "stream",
     "text": [
      "result= None\n"
     ]
    }
   ],
   "source": [
    "def fun(a,b):\n",
    "    c=a+b\n",
    "res=fun(10,20)\n",
    "print(\"result=\",res)"
   ]
  },
  {
   "cell_type": "code",
   "execution_count": 12,
   "metadata": {},
   "outputs": [
    {
     "name": "stdout",
     "output_type": "stream",
     "text": [
      "result= None\n"
     ]
    }
   ],
   "source": [
    "def fun(a,b):\n",
    "    c=a+b\n",
    "    d=a-b\n",
    "    e=a*b\n",
    "    f=a/b\n",
    "    \n",
    "res=fun(10,20)\n",
    "print(\"result=\",res)"
   ]
  },
  {
   "cell_type": "code",
   "execution_count": 13,
   "metadata": {},
   "outputs": [
    {
     "name": "stdout",
     "output_type": "stream",
     "text": [
      "a=10,b=20\n",
      "d=-10,e=200,f=0.5,c=30\n",
      "result= None\n"
     ]
    }
   ],
   "source": [
    "def fun(a,b):\n",
    "    c=a+b\n",
    "    d=a-b\n",
    "    e=a*b\n",
    "    f=a/b\n",
    "    print(f\"a={a},b={b}\")\n",
    "    print(f\"d={d},e={e},f={f},c={c}\")\n",
    "res=fun(10,20)\n",
    "print(\"result=\",res)"
   ]
  },
  {
   "cell_type": "code",
   "execution_count": 14,
   "metadata": {},
   "outputs": [
    {
     "name": "stdout",
     "output_type": "stream",
     "text": [
      "a=10,b=20\n",
      "d=-10,e=200,f=0.5,c=30\n",
      "result= 10\n"
     ]
    }
   ],
   "source": [
    "def fun(a,b):\n",
    "    c=a+b\n",
    "    d=a-b\n",
    "    e=a*b\n",
    "    f=a/b\n",
    "    print(f\"a={a},b={b}\")\n",
    "    print(f\"d={d},e={e},f={f},c={c}\")\n",
    "    return 10\n",
    "res=fun(10,20)\n",
    "print(\"result=\",res)"
   ]
  },
  {
   "cell_type": "code",
   "execution_count": 15,
   "metadata": {},
   "outputs": [
    {
     "name": "stdout",
     "output_type": "stream",
     "text": [
      "a=10,b=20\n",
      "d=-10,e=200,f=0.5,c=30\n",
      "result= (30, -10)\n"
     ]
    }
   ],
   "source": [
    "def fun(a,b):\n",
    "    c=a+b\n",
    "    d=a-b\n",
    "    e=a*b\n",
    "    f=a/b\n",
    "    print(f\"a={a},b={b}\")\n",
    "    print(f\"d={d},e={e},f={f},c={c}\")\n",
    "    return c,d\n",
    "res=fun(10,20)\n",
    "print(\"result=\",res)"
   ]
  },
  {
   "cell_type": "code",
   "execution_count": 16,
   "metadata": {},
   "outputs": [
    {
     "name": "stdout",
     "output_type": "stream",
     "text": [
      "a=10,b=20\n",
      "d=-10,e=200,f=0.5,c=30\n",
      "result= (30, -10, 200, 0.5)\n"
     ]
    }
   ],
   "source": [
    "def fun(a,b):\n",
    "    c=a+b\n",
    "    d=a-b\n",
    "    e=a*b\n",
    "    f=a/b\n",
    "    print(f\"a={a},b={b}\")\n",
    "    print(f\"d={d},e={e},f={f},c={c}\")\n",
    "    return c,d,e,f\n",
    "res=fun(10,20)\n",
    "print(\"result=\",res)"
   ]
  },
  {
   "cell_type": "code",
   "execution_count": 17,
   "metadata": {},
   "outputs": [
    {
     "name": "stdout",
     "output_type": "stream",
     "text": [
      "EVEN\n",
      "EVEN\n",
      "ODD\n",
      "EVEN\n"
     ]
    }
   ],
   "source": [
    "# write a function to return \"EVEN\" or \"ODD\" based on the valud pased to your fun\n",
    "def check_even(x):\n",
    "    if x%2==0:\n",
    "        return \"EVEN\"\n",
    "    else:\n",
    "        return \"ODD\"\n",
    "print(check_even(12))\n",
    "print(check_even(22))\n",
    "print(check_even(23))\n",
    "print(check_even(40))"
   ]
  },
  {
   "cell_type": "code",
   "execution_count": 18,
   "metadata": {},
   "outputs": [
    {
     "name": "stdout",
     "output_type": "stream",
     "text": [
      "res->10=EVEN\n",
      "res->23=ODD\n",
      "res->45=ODD\n",
      "res->68=EVEN\n",
      "res->97=ODD\n",
      "res->64=EVEN\n"
     ]
    }
   ],
   "source": [
    "# write a function to return \"EVEN\" or \"ODD\" based on the valud pased to your fun\n",
    "def check_even(x):\n",
    "    if x%2==0:\n",
    "        return \"EVEN\"\n",
    "    else:\n",
    "        return \"ODD\"\n",
    "l=[10,23,45,68,97,64]\n",
    "for i in l:\n",
    "    res=check_even(i)\n",
    "    print(f\"res->{i}={res}\")"
   ]
  },
  {
   "cell_type": "code",
   "execution_count": 19,
   "metadata": {},
   "outputs": [
    {
     "name": "stdout",
     "output_type": "stream",
     "text": [
      "st1\n",
      "result= 10\n"
     ]
    }
   ],
   "source": [
    "def fun():\n",
    "    print(\"st1\")\n",
    "    return 10\n",
    "    print(\"st2\")\n",
    "    return 20\n",
    "    print(\"st3\")\n",
    "    return 30\n",
    "res=fun()\n",
    "print(\"result=\",res)"
   ]
  },
  {
   "cell_type": "code",
   "execution_count": 20,
   "metadata": {},
   "outputs": [
    {
     "name": "stdout",
     "output_type": "stream",
     "text": [
      "result= <generator object fun at 0x7fabd074cd68>\n"
     ]
    }
   ],
   "source": [
    "def fun():\n",
    "    print(\"st1\")\n",
    "    yield 10\n",
    "    print(\"st2\")\n",
    "    yield 20\n",
    "    print(\"st3\")\n",
    "    yield 30\n",
    "res=fun()\n",
    "print(\"result=\",res)"
   ]
  },
  {
   "cell_type": "code",
   "execution_count": 22,
   "metadata": {},
   "outputs": [
    {
     "name": "stdout",
     "output_type": "stream",
     "text": [
      "result= <generator object fun at 0x7fabd075a480>\n",
      "st1\n",
      "i= 10\n",
      "st2\n",
      "i= 20\n",
      "st3\n",
      "i= 30\n",
      "Thanq\n"
     ]
    }
   ],
   "source": [
    "def fun():\n",
    "    print(\"st1\")\n",
    "    yield 10\n",
    "    print(\"st2\")\n",
    "    yield 20\n",
    "    print(\"st3\")\n",
    "    yield 30\n",
    "res=fun()\n",
    "print(\"result=\",res)\n",
    "for i in res:\n",
    "    print(\"i=\",i)\n",
    "print(\"Thanq\")"
   ]
  },
  {
   "cell_type": "code",
   "execution_count": 25,
   "metadata": {},
   "outputs": [
    {
     "name": "stdout",
     "output_type": "stream",
     "text": [
      "[10, 20, 30, 40, 50]\n",
      "10\n",
      "20\n",
      "30\n",
      "40\n",
      "50\n",
      "******************************\n",
      "<generator object fun1 at 0x7fabd074ced0>\n",
      "10\n",
      "20\n",
      "30\n",
      "40\n",
      "50\n"
     ]
    }
   ],
   "source": [
    "def fun():\n",
    "    return [10,20,30,40,50]\n",
    "def fun1():\n",
    "    yield 10\n",
    "    yield 20\n",
    "    yield 30\n",
    "    yield 40\n",
    "    yield 50\n",
    "res=fun()\n",
    "print(res)\n",
    "for i in res:\n",
    "    print(i)\n",
    "print(\"*\"*30)\n",
    "res1=fun1()\n",
    "print(res1)\n",
    "for i in res1:\n",
    "    print(i)"
   ]
  },
  {
   "cell_type": "code",
   "execution_count": 1,
   "metadata": {},
   "outputs": [
    {
     "name": "stdout",
     "output_type": "stream",
     "text": [
      "60\n"
     ]
    }
   ],
   "source": [
    "def fun(a,b=0,c=0):\n",
    "    return a+b+c\n",
    "res=fun(10,20,30)\n",
    "print(res)"
   ]
  },
  {
   "cell_type": "code",
   "execution_count": 2,
   "metadata": {},
   "outputs": [
    {
     "ename": "TypeError",
     "evalue": "fun() missing 1 required positional argument: 'a'",
     "output_type": "error",
     "traceback": [
      "\u001b[0;31m---------------------------------------------------------------------------\u001b[0m",
      "\u001b[0;31mTypeError\u001b[0m                                 Traceback (most recent call last)",
      "\u001b[0;32m<ipython-input-2-e44e663d9156>\u001b[0m in \u001b[0;36m<module>\u001b[0;34m()\u001b[0m\n\u001b[1;32m      1\u001b[0m \u001b[0;32mdef\u001b[0m \u001b[0mfun\u001b[0m\u001b[0;34m(\u001b[0m\u001b[0ma\u001b[0m\u001b[0;34m,\u001b[0m\u001b[0mb\u001b[0m\u001b[0;34m=\u001b[0m\u001b[0;36m0\u001b[0m\u001b[0;34m,\u001b[0m\u001b[0mc\u001b[0m\u001b[0;34m=\u001b[0m\u001b[0;36m0\u001b[0m\u001b[0;34m)\u001b[0m\u001b[0;34m:\u001b[0m\u001b[0;34m\u001b[0m\u001b[0m\n\u001b[1;32m      2\u001b[0m     \u001b[0;32mreturn\u001b[0m \u001b[0ma\u001b[0m\u001b[0;34m+\u001b[0m\u001b[0mb\u001b[0m\u001b[0;34m+\u001b[0m\u001b[0mc\u001b[0m\u001b[0;34m\u001b[0m\u001b[0m\n\u001b[0;32m----> 3\u001b[0;31m \u001b[0mres\u001b[0m\u001b[0;34m=\u001b[0m\u001b[0mfun\u001b[0m\u001b[0;34m(\u001b[0m\u001b[0;34m)\u001b[0m\u001b[0;34m\u001b[0m\u001b[0m\n\u001b[0m\u001b[1;32m      4\u001b[0m \u001b[0mprint\u001b[0m\u001b[0;34m(\u001b[0m\u001b[0mres\u001b[0m\u001b[0;34m)\u001b[0m\u001b[0;34m\u001b[0m\u001b[0m\n",
      "\u001b[0;31mTypeError\u001b[0m: fun() missing 1 required positional argument: 'a'"
     ]
    }
   ],
   "source": [
    "def fun(a,b=0,c=0):\n",
    "    return a+b+c\n",
    "res=fun()\n",
    "print(res)"
   ]
  },
  {
   "cell_type": "code",
   "execution_count": 3,
   "metadata": {},
   "outputs": [
    {
     "ename": "TypeError",
     "evalue": "fun() takes from 1 to 3 positional arguments but 4 were given",
     "output_type": "error",
     "traceback": [
      "\u001b[0;31m---------------------------------------------------------------------------\u001b[0m",
      "\u001b[0;31mTypeError\u001b[0m                                 Traceback (most recent call last)",
      "\u001b[0;32m<ipython-input-3-718619a6428e>\u001b[0m in \u001b[0;36m<module>\u001b[0;34m()\u001b[0m\n\u001b[1;32m      1\u001b[0m \u001b[0;32mdef\u001b[0m \u001b[0mfun\u001b[0m\u001b[0;34m(\u001b[0m\u001b[0ma\u001b[0m\u001b[0;34m,\u001b[0m\u001b[0mb\u001b[0m\u001b[0;34m=\u001b[0m\u001b[0;36m0\u001b[0m\u001b[0;34m,\u001b[0m\u001b[0mc\u001b[0m\u001b[0;34m=\u001b[0m\u001b[0;36m0\u001b[0m\u001b[0;34m)\u001b[0m\u001b[0;34m:\u001b[0m\u001b[0;34m\u001b[0m\u001b[0m\n\u001b[1;32m      2\u001b[0m     \u001b[0;32mreturn\u001b[0m \u001b[0ma\u001b[0m\u001b[0;34m+\u001b[0m\u001b[0mb\u001b[0m\u001b[0;34m+\u001b[0m\u001b[0mc\u001b[0m\u001b[0;34m\u001b[0m\u001b[0m\n\u001b[0;32m----> 3\u001b[0;31m \u001b[0mres\u001b[0m\u001b[0;34m=\u001b[0m\u001b[0mfun\u001b[0m\u001b[0;34m(\u001b[0m\u001b[0;36m10\u001b[0m\u001b[0;34m,\u001b[0m\u001b[0;36m20\u001b[0m\u001b[0;34m,\u001b[0m\u001b[0;36m30\u001b[0m\u001b[0;34m,\u001b[0m\u001b[0;36m40\u001b[0m\u001b[0;34m)\u001b[0m\u001b[0;34m\u001b[0m\u001b[0m\n\u001b[0m\u001b[1;32m      4\u001b[0m \u001b[0mprint\u001b[0m\u001b[0;34m(\u001b[0m\u001b[0mres\u001b[0m\u001b[0;34m)\u001b[0m\u001b[0;34m\u001b[0m\u001b[0m\n",
      "\u001b[0;31mTypeError\u001b[0m: fun() takes from 1 to 3 positional arguments but 4 were given"
     ]
    }
   ],
   "source": [
    "def fun(a,b=0,c=0):\n",
    "    return a+b+c\n",
    "res=fun(10,20,30,40)\n",
    "print(res)"
   ]
  },
  {
   "cell_type": "code",
   "execution_count": 4,
   "metadata": {},
   "outputs": [
    {
     "name": "stdout",
     "output_type": "stream",
     "text": [
      "() <class 'tuple'>\n",
      "(10,) <class 'tuple'>\n",
      "(10, 20) <class 'tuple'>\n",
      "(10, 20, 30, 40, 50, 60, 670, 70, 780, 80, 40, 60, 540, 6) <class 'tuple'>\n"
     ]
    }
   ],
   "source": [
    "def fun(*k): # *args\n",
    "    print(k,type(k))\n",
    "fun()\n",
    "fun(10)\n",
    "fun(10,20)\n",
    "fun(10,20,30,40,50,60,670,70,780,80,40,60,540,6)"
   ]
  },
  {
   "cell_type": "code",
   "execution_count": 5,
   "metadata": {},
   "outputs": [
    {
     "ename": "TypeError",
     "evalue": "fun() got an unexpected keyword argument 'a'",
     "output_type": "error",
     "traceback": [
      "\u001b[0;31m---------------------------------------------------------------------------\u001b[0m",
      "\u001b[0;31mTypeError\u001b[0m                                 Traceback (most recent call last)",
      "\u001b[0;32m<ipython-input-5-e61e0ca1dec0>\u001b[0m in \u001b[0;36m<module>\u001b[0;34m()\u001b[0m\n\u001b[1;32m      1\u001b[0m \u001b[0;32mdef\u001b[0m \u001b[0mfun\u001b[0m\u001b[0;34m(\u001b[0m\u001b[0;34m*\u001b[0m\u001b[0mk\u001b[0m\u001b[0;34m)\u001b[0m\u001b[0;34m:\u001b[0m \u001b[0;31m# *args\u001b[0m\u001b[0;34m\u001b[0m\u001b[0m\n\u001b[1;32m      2\u001b[0m     \u001b[0mprint\u001b[0m\u001b[0;34m(\u001b[0m\u001b[0mk\u001b[0m\u001b[0;34m,\u001b[0m\u001b[0mtype\u001b[0m\u001b[0;34m(\u001b[0m\u001b[0mk\u001b[0m\u001b[0;34m)\u001b[0m\u001b[0;34m)\u001b[0m\u001b[0;34m\u001b[0m\u001b[0m\n\u001b[0;32m----> 3\u001b[0;31m \u001b[0mfun\u001b[0m\u001b[0;34m(\u001b[0m\u001b[0ma\u001b[0m\u001b[0;34m=\u001b[0m\u001b[0;36m10\u001b[0m\u001b[0;34m,\u001b[0m\u001b[0mb\u001b[0m\u001b[0;34m=\u001b[0m\u001b[0;36m20\u001b[0m\u001b[0;34m,\u001b[0m\u001b[0mc\u001b[0m\u001b[0;34m=\u001b[0m\u001b[0;36m30\u001b[0m\u001b[0;34m,\u001b[0m\u001b[0md\u001b[0m\u001b[0;34m=\u001b[0m\u001b[0;36m40\u001b[0m\u001b[0;34m)\u001b[0m\u001b[0;34m\u001b[0m\u001b[0m\n\u001b[0m\u001b[1;32m      4\u001b[0m \u001b[0mfun\u001b[0m\u001b[0;34m(\u001b[0m\u001b[0ma\u001b[0m\u001b[0;34m=\u001b[0m\u001b[0;36m20\u001b[0m\u001b[0;34m)\u001b[0m\u001b[0;34m\u001b[0m\u001b[0m\n\u001b[1;32m      5\u001b[0m \u001b[0mfun\u001b[0m\u001b[0;34m(\u001b[0m\u001b[0mb\u001b[0m\u001b[0;34m=\u001b[0m\u001b[0;36m40\u001b[0m\u001b[0;34m)\u001b[0m\u001b[0;34m\u001b[0m\u001b[0m\n",
      "\u001b[0;31mTypeError\u001b[0m: fun() got an unexpected keyword argument 'a'"
     ]
    }
   ],
   "source": [
    "def fun(*k): # *args\n",
    "    print(k,type(k))\n",
    "fun(a=10,b=20,c=30,d=40)\n",
    "fun(a=20)\n",
    "fun(b=40)"
   ]
  },
  {
   "cell_type": "code",
   "execution_count": 6,
   "metadata": {},
   "outputs": [
    {
     "name": "stdout",
     "output_type": "stream",
     "text": [
      "{'a': 10, 'b': 20, 'c': 30, 'd': 40} <class 'dict'>\n",
      "{'a': 20} <class 'dict'>\n",
      "{'b': 40} <class 'dict'>\n",
      "{} <class 'dict'>\n"
     ]
    }
   ],
   "source": [
    "def fun(**k): # **kwargs\n",
    "    print(k,type(k))\n",
    "fun(a=10,b=20,c=30,d=40)\n",
    "fun(a=20)\n",
    "fun(b=40)\n",
    "fun()"
   ]
  },
  {
   "cell_type": "code",
   "execution_count": 7,
   "metadata": {},
   "outputs": [
    {
     "ename": "TypeError",
     "evalue": "fun() takes 0 positional arguments but 4 were given",
     "output_type": "error",
     "traceback": [
      "\u001b[0;31m---------------------------------------------------------------------------\u001b[0m",
      "\u001b[0;31mTypeError\u001b[0m                                 Traceback (most recent call last)",
      "\u001b[0;32m<ipython-input-7-9d16432b7e5d>\u001b[0m in \u001b[0;36m<module>\u001b[0;34m()\u001b[0m\n\u001b[1;32m      1\u001b[0m \u001b[0;32mdef\u001b[0m \u001b[0mfun\u001b[0m\u001b[0;34m(\u001b[0m\u001b[0;34m**\u001b[0m\u001b[0mk\u001b[0m\u001b[0;34m)\u001b[0m\u001b[0;34m:\u001b[0m \u001b[0;31m# **kwargs\u001b[0m\u001b[0;34m\u001b[0m\u001b[0m\n\u001b[1;32m      2\u001b[0m     \u001b[0mprint\u001b[0m\u001b[0;34m(\u001b[0m\u001b[0mk\u001b[0m\u001b[0;34m,\u001b[0m\u001b[0mtype\u001b[0m\u001b[0;34m(\u001b[0m\u001b[0mk\u001b[0m\u001b[0;34m)\u001b[0m\u001b[0;34m)\u001b[0m\u001b[0;34m\u001b[0m\u001b[0m\n\u001b[0;32m----> 3\u001b[0;31m \u001b[0mfun\u001b[0m\u001b[0;34m(\u001b[0m\u001b[0;36m10\u001b[0m\u001b[0;34m,\u001b[0m\u001b[0;36m20\u001b[0m\u001b[0;34m,\u001b[0m\u001b[0;36m30\u001b[0m\u001b[0;34m,\u001b[0m\u001b[0;36m4\u001b[0m\u001b[0;34m)\u001b[0m\u001b[0;34m\u001b[0m\u001b[0m\n\u001b[0m",
      "\u001b[0;31mTypeError\u001b[0m: fun() takes 0 positional arguments but 4 were given"
     ]
    }
   ],
   "source": [
    "def fun(**k): # **kwargs\n",
    "    print(k,type(k))\n",
    "fun(10,20,30,4)"
   ]
  },
  {
   "cell_type": "code",
   "execution_count": 8,
   "metadata": {},
   "outputs": [
    {
     "name": "stdout",
     "output_type": "stream",
     "text": [
      "a=10,b=0,c=0,k=(),kw={}\n",
      "a=10,b=20,c=30,k=(40, 50, 607, 70, 80),kw={}\n",
      "a=10,b=20,c=0,k=(),kw={'x': 100, 'y': 200, 'z': 300}\n",
      "a=10,b=20,c=30,k=(40,),kw={'x': 1000, 'y': 2000}\n",
      "a=1000,b=2000,c=0,k=(),kw={'x': 10, 'y': 20}\n"
     ]
    }
   ],
   "source": [
    "def fun(a,b=0,c=0,*k,**kw):\n",
    "    print(f\"a={a},b={b},c={c},k={k},kw={kw}\")\n",
    "fun(10)\n",
    "fun(10,20,30,40,50,607,70,80)\n",
    "fun(10,20,x=100,y=200,z=300)\n",
    "fun(10,20,30,40,x=1000,y=2000)\n",
    "fun(a=1000,b=2000,x=10,y=20)"
   ]
  },
  {
   "cell_type": "code",
   "execution_count": 9,
   "metadata": {},
   "outputs": [
    {
     "ename": "SyntaxError",
     "evalue": "positional argument follows keyword argument (<ipython-input-9-ba27924f1c01>, line 3)",
     "output_type": "error",
     "traceback": [
      "\u001b[0;36m  File \u001b[0;32m\"<ipython-input-9-ba27924f1c01>\"\u001b[0;36m, line \u001b[0;32m3\u001b[0m\n\u001b[0;31m    fun(a=20,3000)\u001b[0m\n\u001b[0m            ^\u001b[0m\n\u001b[0;31mSyntaxError\u001b[0m\u001b[0;31m:\u001b[0m positional argument follows keyword argument\n"
     ]
    }
   ],
   "source": [
    "def fun(a,b=0,c=0,*k,**kw):\n",
    "    print(f\"a={a},b={b},c={c},k={k},kw={kw}\")\n",
    "fun(a=20,3000)"
   ]
  },
  {
   "cell_type": "code",
   "execution_count": 10,
   "metadata": {},
   "outputs": [
    {
     "name": "stdout",
     "output_type": "stream",
     "text": [
      "a=3000,b=20,c=0,k=(),kw={}\n"
     ]
    }
   ],
   "source": [
    "def fun(a,b=0,c=0,*k,**kw):\n",
    "    print(f\"a={a},b={b},c={c},k={k},kw={kw}\")\n",
    "fun(3000,b=20)"
   ]
  },
  {
   "cell_type": "code",
   "execution_count": 11,
   "metadata": {},
   "outputs": [
    {
     "ename": "TypeError",
     "evalue": "fun() got multiple values for argument 'a'",
     "output_type": "error",
     "traceback": [
      "\u001b[0;31m---------------------------------------------------------------------------\u001b[0m",
      "\u001b[0;31mTypeError\u001b[0m                                 Traceback (most recent call last)",
      "\u001b[0;32m<ipython-input-11-90b9d8f8f141>\u001b[0m in \u001b[0;36m<module>\u001b[0;34m()\u001b[0m\n\u001b[1;32m      1\u001b[0m \u001b[0;32mdef\u001b[0m \u001b[0mfun\u001b[0m\u001b[0;34m(\u001b[0m\u001b[0ma\u001b[0m\u001b[0;34m,\u001b[0m\u001b[0mb\u001b[0m\u001b[0;34m=\u001b[0m\u001b[0;36m0\u001b[0m\u001b[0;34m,\u001b[0m\u001b[0mc\u001b[0m\u001b[0;34m=\u001b[0m\u001b[0;36m0\u001b[0m\u001b[0;34m,\u001b[0m\u001b[0;34m*\u001b[0m\u001b[0mk\u001b[0m\u001b[0;34m,\u001b[0m\u001b[0;34m**\u001b[0m\u001b[0mkw\u001b[0m\u001b[0;34m)\u001b[0m\u001b[0;34m:\u001b[0m\u001b[0;34m\u001b[0m\u001b[0m\n\u001b[1;32m      2\u001b[0m     \u001b[0mprint\u001b[0m\u001b[0;34m(\u001b[0m\u001b[0;34mf\"a={a},b={b},c={c},k={k},kw={kw}\"\u001b[0m\u001b[0;34m)\u001b[0m\u001b[0;34m\u001b[0m\u001b[0m\n\u001b[0;32m----> 3\u001b[0;31m \u001b[0mfun\u001b[0m\u001b[0;34m(\u001b[0m\u001b[0;36m3000\u001b[0m\u001b[0;34m,\u001b[0m\u001b[0ma\u001b[0m\u001b[0;34m=\u001b[0m\u001b[0;36m20\u001b[0m\u001b[0;34m)\u001b[0m\u001b[0;34m\u001b[0m\u001b[0m\n\u001b[0m",
      "\u001b[0;31mTypeError\u001b[0m: fun() got multiple values for argument 'a'"
     ]
    }
   ],
   "source": [
    "def fun(a,b=0,c=0,*k,**kw):\n",
    "    print(f\"a={a},b={b},c={c},k={k},kw={kw}\")\n",
    "fun(3000,a=20)"
   ]
  },
  {
   "cell_type": "code",
   "execution_count": 12,
   "metadata": {},
   "outputs": [
    {
     "name": "stdout",
     "output_type": "stream",
     "text": [
      "a=3000,b=20,c=30,k=(),kw={'d': 40, 'e': 60}\n"
     ]
    }
   ],
   "source": [
    "def fun(a,b=0,c=0,*k,**kw):\n",
    "    print(f\"a={a},b={b},c={c},k={k},kw={kw}\")\n",
    "fun(3000,b=20,c=30,d=40,e=60)"
   ]
  },
  {
   "cell_type": "code",
   "execution_count": 13,
   "metadata": {},
   "outputs": [
    {
     "name": "stdout",
     "output_type": "stream",
     "text": [
      "a=3000,b=20,c=30,k=(),kw={'d': 40, 'e': 60}\n"
     ]
    }
   ],
   "source": [
    "def fun(a,*k,b=0,c=0,**kw):\n",
    "    print(f\"a={a},b={b},c={c},k={k},kw={kw}\")\n",
    "fun(3000,b=20,c=30,d=40,e=60)"
   ]
  },
  {
   "cell_type": "code",
   "execution_count": 14,
   "metadata": {},
   "outputs": [
    {
     "name": "stdout",
     "output_type": "stream",
     "text": [
      "a=3000,b=0,c=0,k=(10, 20, 30, 40, 50, 60, 70, 70),kw={}\n"
     ]
    }
   ],
   "source": [
    "def fun(a,*k,b=0,c=0,**kw):\n",
    "    print(f\"a={a},b={b},c={c},k={k},kw={kw}\")\n",
    "fun(3000,10,20,30,40,50,60,70,70)"
   ]
  },
  {
   "cell_type": "code",
   "execution_count": 15,
   "metadata": {},
   "outputs": [
    {
     "name": "stdout",
     "output_type": "stream",
     "text": [
      "a=3000,b=1000,c=2000,k=(10, 20, 30, 40, 50, 60, 70, 70),kw={}\n"
     ]
    }
   ],
   "source": [
    "def fun(a,*k,b=0,c=0,**kw):\n",
    "    print(f\"a={a},b={b},c={c},k={k},kw={kw}\")\n",
    "fun(3000,10,20,30,40,50,60,70,70,b=1000,c=2000)"
   ]
  },
  {
   "cell_type": "code",
   "execution_count": 16,
   "metadata": {},
   "outputs": [
    {
     "ename": "SyntaxError",
     "evalue": "non-default argument follows default argument (<ipython-input-16-71b0d091f40b>, line 1)",
     "output_type": "error",
     "traceback": [
      "\u001b[0;36m  File \u001b[0;32m\"<ipython-input-16-71b0d091f40b>\"\u001b[0;36m, line \u001b[0;32m1\u001b[0m\n\u001b[0;31m    def fun(a,b=0,c=0,x,*k,**kw):\u001b[0m\n\u001b[0m           ^\u001b[0m\n\u001b[0;31mSyntaxError\u001b[0m\u001b[0;31m:\u001b[0m non-default argument follows default argument\n"
     ]
    }
   ],
   "source": [
    "def fun(a,b=0,c=0,x,*k,**kw):\n",
    "    print(f\"a={a},b={b},c={c},k={k},kw={kw}\")\n",
    "fun(3000,10,20,30,40,50,60,70,70,b=1000,c=2000)"
   ]
  },
  {
   "cell_type": "code",
   "execution_count": null,
   "metadata": {},
   "outputs": [],
   "source": []
  }
 ],
 "metadata": {
  "kernelspec": {
   "display_name": "Python 3",
   "language": "python",
   "name": "python3"
  },
  "language_info": {
   "codemirror_mode": {
    "name": "ipython",
    "version": 3
   },
   "file_extension": ".py",
   "mimetype": "text/x-python",
   "name": "python",
   "nbconvert_exporter": "python",
   "pygments_lexer": "ipython3",
   "version": "3.7.0"
  }
 },
 "nbformat": 4,
 "nbformat_minor": 2
}
