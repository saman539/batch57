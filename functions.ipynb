{
 "cells": [
  {
   "cell_type": "code",
   "execution_count": 1,
   "metadata": {},
   "outputs": [
    {
     "name": "stdout",
     "output_type": "stream",
     "text": [
      "welcome\n",
      "ThanQ\n"
     ]
    }
   ],
   "source": [
    "print(\"welcome\")\n",
    "def fun():\n",
    "    print(\"fun started\")\n",
    "    print(\"some statements in fun\")\n",
    "    print(\"fun ended\")\n",
    "print(\"ThanQ\")"
   ]
  },
  {
   "cell_type": "code",
   "execution_count": 2,
   "metadata": {},
   "outputs": [
    {
     "name": "stdout",
     "output_type": "stream",
     "text": [
      "welcome\n",
      "ThanQ\n",
      "fun started\n",
      "some statements in fun\n",
      "fun ended\n"
     ]
    }
   ],
   "source": [
    "print(\"welcome\")\n",
    "def fun():\n",
    "    print(\"fun started\")\n",
    "    print(\"some statements in fun\")\n",
    "    print(\"fun ended\")\n",
    "print(\"ThanQ\")\n",
    "fun()"
   ]
  },
  {
   "cell_type": "code",
   "execution_count": 3,
   "metadata": {},
   "outputs": [
    {
     "name": "stdout",
     "output_type": "stream",
     "text": [
      "welcome\n",
      "ThanQ\n",
      "fun started\n",
      "some statements in fun\n",
      "fun ended\n",
      "some statements..\n",
      "fun started\n",
      "some statements in fun\n",
      "fun ended\n"
     ]
    }
   ],
   "source": [
    "print(\"welcome\")\n",
    "def fun():\n",
    "    print(\"fun started\")\n",
    "    print(\"some statements in fun\")\n",
    "    print(\"fun ended\")\n",
    "print(\"ThanQ\")\n",
    "fun()\n",
    "print(\"some statements..\")\n",
    "fun()"
   ]
  },
  {
   "cell_type": "code",
   "execution_count": 5,
   "metadata": {},
   "outputs": [
    {
     "name": "stdout",
     "output_type": "stream",
     "text": [
      "10 20\n"
     ]
    }
   ],
   "source": [
    "\n",
    "def fun(a,b):\n",
    "    # a,b are parameters\n",
    "    print(a,b)\n",
    "fun(10,20) # 10,20 arguments, positional arguments"
   ]
  },
  {
   "cell_type": "code",
   "execution_count": 6,
   "metadata": {},
   "outputs": [
    {
     "name": "stdout",
     "output_type": "stream",
     "text": [
      "a=20,b=10\n"
     ]
    }
   ],
   "source": [
    "\n",
    "def fun(a,b):\n",
    "    # a,b are parameters\n",
    "    print(f\"a={a},b={b}\")\n",
    "fun(20,10) # 10,20 arguments, positional arguments"
   ]
  },
  {
   "cell_type": "code",
   "execution_count": 7,
   "metadata": {},
   "outputs": [
    {
     "name": "stdout",
     "output_type": "stream",
     "text": [
      "a=20,b=10\n"
     ]
    }
   ],
   "source": [
    "\n",
    "def fun(a,b):\n",
    "    # a,b are parameters\n",
    "    print(f\"a={a},b={b}\")\n",
    "    c=a+b\n",
    "    \n",
    "fun(20,10) # 10,20 arguments, positional arguments"
   ]
  },
  {
   "cell_type": "code",
   "execution_count": 8,
   "metadata": {},
   "outputs": [
    {
     "name": "stdout",
     "output_type": "stream",
     "text": [
      "a=20,b=10\n",
      "res= 30\n",
      "a=100,b=200\n",
      "res= 300\n",
      "a=1000,b=2000\n",
      "res= 3000\n"
     ]
    }
   ],
   "source": [
    "\n",
    "def fun(a,b):\n",
    "    # a,b are parameters\n",
    "    print(f\"a={a},b={b}\")\n",
    "    c=a+b\n",
    "    print(\"res=\",c)\n",
    "fun(20,10) # 10,20 arguments, positional arguments\n",
    "fun(100,200)\n",
    "fun(1000,2000)"
   ]
  },
  {
   "cell_type": "code",
   "execution_count": 9,
   "metadata": {},
   "outputs": [
    {
     "name": "stdout",
     "output_type": "stream",
     "text": [
      "a=20,b=10\n",
      "res= 30\n"
     ]
    },
    {
     "ename": "TypeError",
     "evalue": "fun() missing 1 required positional argument: 'b'",
     "output_type": "error",
     "traceback": [
      "\u001b[0;31m---------------------------------------------------------------------------\u001b[0m",
      "\u001b[0;31mTypeError\u001b[0m                                 Traceback (most recent call last)",
      "\u001b[0;32m<ipython-input-9-25720a239980>\u001b[0m in \u001b[0;36m<module>\u001b[0;34m()\u001b[0m\n\u001b[1;32m      5\u001b[0m     \u001b[0mprint\u001b[0m\u001b[0;34m(\u001b[0m\u001b[0;34m\"res=\"\u001b[0m\u001b[0;34m,\u001b[0m\u001b[0mc\u001b[0m\u001b[0;34m)\u001b[0m\u001b[0;34m\u001b[0m\u001b[0m\n\u001b[1;32m      6\u001b[0m \u001b[0mfun\u001b[0m\u001b[0;34m(\u001b[0m\u001b[0;36m20\u001b[0m\u001b[0;34m,\u001b[0m\u001b[0;36m10\u001b[0m\u001b[0;34m)\u001b[0m\u001b[0;34m\u001b[0m\u001b[0m\n\u001b[0;32m----> 7\u001b[0;31m \u001b[0mfun\u001b[0m\u001b[0;34m(\u001b[0m\u001b[0;36m100\u001b[0m\u001b[0;34m)\u001b[0m\u001b[0;34m\u001b[0m\u001b[0m\n\u001b[0m",
      "\u001b[0;31mTypeError\u001b[0m: fun() missing 1 required positional argument: 'b'"
     ]
    }
   ],
   "source": [
    "\n",
    "def fun(a,b):\n",
    "    print(f\"a={a},b={b}\")\n",
    "    c=a+b\n",
    "    print(\"res=\",c)\n",
    "fun(20,10) \n",
    "fun(100)"
   ]
  },
  {
   "cell_type": "code",
   "execution_count": 10,
   "metadata": {},
   "outputs": [
    {
     "name": "stdout",
     "output_type": "stream",
     "text": [
      "a=10,b=20,c=30,d=40,e=50\n",
      "res= 150\n"
     ]
    }
   ],
   "source": [
    "\n",
    "def fun(a,b,c,d,e):\n",
    "    print(f\"a={a},b={b},c={c},d={d},e={e}\")\n",
    "    res=a+b+c+d+e\n",
    "    print(\"res=\",res)\n",
    "fun(10,20,30,40,50)"
   ]
  },
  {
   "cell_type": "code",
   "execution_count": 11,
   "metadata": {},
   "outputs": [
    {
     "name": "stdout",
     "output_type": "stream",
     "text": [
      "a=10,b=20,c=30,d=40,e=50\n",
      "res= 150\n"
     ]
    },
    {
     "ename": "TypeError",
     "evalue": "fun() missing 1 required positional argument: 'e'",
     "output_type": "error",
     "traceback": [
      "\u001b[0;31m---------------------------------------------------------------------------\u001b[0m",
      "\u001b[0;31mTypeError\u001b[0m                                 Traceback (most recent call last)",
      "\u001b[0;32m<ipython-input-11-bb3b4fa8a428>\u001b[0m in \u001b[0;36m<module>\u001b[0;34m()\u001b[0m\n\u001b[1;32m      5\u001b[0m     \u001b[0mprint\u001b[0m\u001b[0;34m(\u001b[0m\u001b[0;34m\"res=\"\u001b[0m\u001b[0;34m,\u001b[0m\u001b[0mres\u001b[0m\u001b[0;34m)\u001b[0m\u001b[0;34m\u001b[0m\u001b[0m\n\u001b[1;32m      6\u001b[0m \u001b[0mfun\u001b[0m\u001b[0;34m(\u001b[0m\u001b[0;36m10\u001b[0m\u001b[0;34m,\u001b[0m\u001b[0;36m20\u001b[0m\u001b[0;34m,\u001b[0m\u001b[0;36m30\u001b[0m\u001b[0;34m,\u001b[0m\u001b[0;36m40\u001b[0m\u001b[0;34m,\u001b[0m\u001b[0;36m50\u001b[0m\u001b[0;34m)\u001b[0m\u001b[0;34m\u001b[0m\u001b[0m\n\u001b[0;32m----> 7\u001b[0;31m \u001b[0mfun\u001b[0m\u001b[0;34m(\u001b[0m\u001b[0;36m10\u001b[0m\u001b[0;34m,\u001b[0m\u001b[0;36m20\u001b[0m\u001b[0;34m,\u001b[0m\u001b[0;36m30\u001b[0m\u001b[0;34m,\u001b[0m\u001b[0;36m40\u001b[0m\u001b[0;34m)\u001b[0m\u001b[0;34m\u001b[0m\u001b[0m\n\u001b[0m\u001b[1;32m      8\u001b[0m \u001b[0mfun\u001b[0m\u001b[0;34m(\u001b[0m\u001b[0;36m10\u001b[0m\u001b[0;34m,\u001b[0m\u001b[0;36m20\u001b[0m\u001b[0;34m,\u001b[0m\u001b[0;36m30\u001b[0m\u001b[0;34m)\u001b[0m\u001b[0;34m\u001b[0m\u001b[0m\n\u001b[1;32m      9\u001b[0m \u001b[0mfun\u001b[0m\u001b[0;34m(\u001b[0m\u001b[0;36m10\u001b[0m\u001b[0;34m,\u001b[0m\u001b[0;36m20\u001b[0m\u001b[0;34m)\u001b[0m\u001b[0;34m\u001b[0m\u001b[0m\n",
      "\u001b[0;31mTypeError\u001b[0m: fun() missing 1 required positional argument: 'e'"
     ]
    }
   ],
   "source": [
    "\n",
    "def fun(a,b,c,d,e):\n",
    "    print(f\"a={a},b={b},c={c},d={d},e={e}\")\n",
    "    res=a+b+c+d+e\n",
    "    print(\"res=\",res)\n",
    "fun(10,20,30,40,50)\n",
    "fun(10,20,30,40)\n",
    "fun(10,20,30)\n",
    "fun(10,20)"
   ]
  },
  {
   "cell_type": "code",
   "execution_count": 12,
   "metadata": {},
   "outputs": [
    {
     "name": "stdout",
     "output_type": "stream",
     "text": [
      "a=10,b=20,c=30,d=40,e=50\n",
      "res= 150\n",
      "a=10,b=20,c=30,d=40,e=0\n",
      "res= 100\n",
      "a=10,b=20,c=30,d=0,e=0\n",
      "res= 60\n",
      "a=10,b=20,c=0,d=0,e=0\n",
      "res= 30\n"
     ]
    }
   ],
   "source": [
    "\n",
    "def fun(a,b,c=0,d=0,e=0): # default arguments\n",
    "    \"\"\"\n",
    "    a,b are mandatory parameters\n",
    "    c,d,e are optional parameters\n",
    "    \"\"\"\n",
    "    print(f\"a={a},b={b},c={c},d={d},e={e}\")\n",
    "    res=a+b+c+d+e\n",
    "    print(\"res=\",res)\n",
    "fun(10,20,30,40,50)\n",
    "fun(10,20,30,40)\n",
    "fun(10,20,30)\n",
    "fun(10,20)"
   ]
  },
  {
   "cell_type": "code",
   "execution_count": 14,
   "metadata": {},
   "outputs": [
    {
     "name": "stdout",
     "output_type": "stream",
     "text": [
      "a=10,b=20,c=300,d=0,e=0\n",
      "res= 330\n"
     ]
    }
   ],
   "source": [
    "\n",
    "def fun(a,b,c=0,d=0,e=0): # default arguments\n",
    "    \"\"\"\n",
    "    a,b are mandatory parameters\n",
    "    c,d,e are optional parameters\n",
    "    \"\"\"\n",
    "    print(f\"a={a},b={b},c={c},d={d},e={e}\")\n",
    "    res=a+b+c+d+e\n",
    "    print(\"res=\",res)\n",
    "fun(10,20,300)"
   ]
  },
  {
   "cell_type": "code",
   "execution_count": 15,
   "metadata": {},
   "outputs": [
    {
     "name": "stdout",
     "output_type": "stream",
     "text": [
      "a=10,b=20,c=0,d=300,e=0\n",
      "res= 330\n"
     ]
    }
   ],
   "source": [
    "\n",
    "def fun(a,b,c=0,d=0,e=0): # default arguments\n",
    "    \"\"\"\n",
    "    a,b are mandatory parameters\n",
    "    c,d,e are optional parameters\n",
    "    \"\"\"\n",
    "    print(f\"a={a},b={b},c={c},d={d},e={e}\")\n",
    "    res=a+b+c+d+e\n",
    "    print(\"res=\",res)\n",
    "fun(10,20,0,300)"
   ]
  },
  {
   "cell_type": "code",
   "execution_count": 16,
   "metadata": {},
   "outputs": [],
   "source": [
    "import pandas as pd\n",
    "pd.read_csv?"
   ]
  },
  {
   "cell_type": "code",
   "execution_count": 17,
   "metadata": {},
   "outputs": [
    {
     "name": "stdout",
     "output_type": "stream",
     "text": [
      "a=10,b=20,c=0,d=300,e=0\n",
      "res= 330\n"
     ]
    }
   ],
   "source": [
    "\n",
    "def fun(a,b,c=0,d=0,e=0): # default arguments\n",
    "    \"\"\"\n",
    "    a,b are mandatory parameters\n",
    "    c,d,e are optional parameters\n",
    "    \"\"\"\n",
    "    print(f\"a={a},b={b},c={c},d={d},e={e}\")\n",
    "    res=a+b+c+d+e\n",
    "    print(\"res=\",res)\n",
    "fun(10,20, d=300)"
   ]
  },
  {
   "cell_type": "code",
   "execution_count": 18,
   "metadata": {},
   "outputs": [
    {
     "name": "stdout",
     "output_type": "stream",
     "text": [
      "a=20,b=10,c=0,d=300,e=0\n",
      "res= 330\n"
     ]
    }
   ],
   "source": [
    "\n",
    "def fun(a,b,c=0,d=0,e=0): # default arguments\n",
    "    \"\"\"\n",
    "    a,b are mandatory parameters\n",
    "    c,d,e are optional parameters\n",
    "    \"\"\"\n",
    "    print(f\"a={a},b={b},c={c},d={d},e={e}\")\n",
    "    res=a+b+c+d+e\n",
    "    print(\"res=\",res)\n",
    "fun(b=10,a=20, d=300) # keyword arguments"
   ]
  },
  {
   "cell_type": "code",
   "execution_count": null,
   "metadata": {},
   "outputs": [],
   "source": []
  }
 ],
 "metadata": {
  "kernelspec": {
   "display_name": "Python 3",
   "language": "python",
   "name": "python3"
  },
  "language_info": {
   "codemirror_mode": {
    "name": "ipython",
    "version": 3
   },
   "file_extension": ".py",
   "mimetype": "text/x-python",
   "name": "python",
   "nbconvert_exporter": "python",
   "pygments_lexer": "ipython3",
   "version": "3.7.0"
  }
 },
 "nbformat": 4,
 "nbformat_minor": 2
}
