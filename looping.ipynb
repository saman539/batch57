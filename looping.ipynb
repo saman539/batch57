{
 "cells": [
  {
   "cell_type": "code",
   "execution_count": 1,
   "metadata": {},
   "outputs": [
    {
     "name": "stdout",
     "output_type": "stream",
     "text": [
      "st1\n",
      "st2\n",
      "st3\n",
      "st4\n",
      "st5\n"
     ]
    }
   ],
   "source": [
    "print(\"st1\")\n",
    "print(\"st2\")\n",
    "print(\"st3\")\n",
    "print(\"st4\")\n",
    "print(\"st5\")"
   ]
  },
  {
   "cell_type": "code",
   "execution_count": 4,
   "metadata": {},
   "outputs": [
    {
     "name": "stdout",
     "output_type": "stream",
     "text": [
      "st1\n",
      "st2\n",
      "st3\n",
      "st4\n",
      "st5\n",
      "st6\n",
      "st7\n",
      "st8\n",
      "st9\n"
     ]
    }
   ],
   "source": [
    "i=1\n",
    "while i<10:\n",
    "    print(\"st%s\"%i)\n",
    "    i=i+1"
   ]
  },
  {
   "cell_type": "code",
   "execution_count": 5,
   "metadata": {},
   "outputs": [
    {
     "name": "stdout",
     "output_type": "stream",
     "text": [
      "welcome\n",
      "0\n",
      "thank you\n"
     ]
    }
   ],
   "source": [
    "print(\"welcome\")\n",
    "i=0\n",
    "if i<3:\n",
    "    print(i)\n",
    "    i=i+1\n",
    "print(\"thank you\")"
   ]
  },
  {
   "cell_type": "code",
   "execution_count": 6,
   "metadata": {},
   "outputs": [
    {
     "name": "stdout",
     "output_type": "stream",
     "text": [
      "welcome\n",
      "0\n",
      "1\n",
      "2\n",
      "thank you\n"
     ]
    }
   ],
   "source": [
    "print(\"welcome\")\n",
    "i=0\n",
    "while i<3:\n",
    "    print(i)\n",
    "    i=i+1\n",
    "print(\"thank you\")"
   ]
  },
  {
   "cell_type": "code",
   "execution_count": 7,
   "metadata": {},
   "outputs": [
    {
     "name": "stdout",
     "output_type": "stream",
     "text": [
      "welcome\n",
      "thank you\n"
     ]
    }
   ],
   "source": [
    "print(\"welcome\")\n",
    "i=10\n",
    "while i<3:\n",
    "    print(i)\n",
    "    i=i+1\n",
    "print(\"thank you\")"
   ]
  },
  {
   "cell_type": "code",
   "execution_count": 9,
   "metadata": {},
   "outputs": [
    {
     "name": "stdout",
     "output_type": "stream",
     "text": [
      "apple\n",
      "banana\n",
      "orange\n",
      "grapes\n"
     ]
    }
   ],
   "source": [
    "fruits=[\"apple\",\"banana\",\"orange\",\"grapes\"]\n",
    "print(fruits[0])\n",
    "print(fruits[1])\n",
    "print(fruits[2])\n",
    "print(fruits[3])"
   ]
  },
  {
   "cell_type": "code",
   "execution_count": 10,
   "metadata": {},
   "outputs": [
    {
     "name": "stdout",
     "output_type": "stream",
     "text": [
      "0\n",
      "1\n",
      "2\n",
      "3\n"
     ]
    }
   ],
   "source": [
    "fruits=[\"apple\",\"banana\",\"orange\",\"grapes\"]\n",
    "i=0\n",
    "while i<4:\n",
    "    print(i)\n",
    "    i=i+1"
   ]
  },
  {
   "cell_type": "code",
   "execution_count": 11,
   "metadata": {},
   "outputs": [
    {
     "name": "stdout",
     "output_type": "stream",
     "text": [
      "apple\n",
      "banana\n",
      "orange\n",
      "grapes\n"
     ]
    }
   ],
   "source": [
    "fruits=[\"apple\",\"banana\",\"orange\",\"grapes\"]\n",
    "i=0\n",
    "while i<4:\n",
    "    print(fruits[i])\n",
    "    i=i+1"
   ]
  },
  {
   "cell_type": "code",
   "execution_count": 12,
   "metadata": {},
   "outputs": [
    {
     "name": "stdout",
     "output_type": "stream",
     "text": [
      "apple\n",
      "banana\n",
      "orange\n",
      "grapes\n"
     ]
    }
   ],
   "source": [
    "fruits=[\"apple\",\"banana\",\"orange\",\"grapes\"]\n",
    "for f in fruits:\n",
    "    print(f)"
   ]
  },
  {
   "cell_type": "code",
   "execution_count": 13,
   "metadata": {},
   "outputs": [
    {
     "name": "stdout",
     "output_type": "stream",
     "text": [
      "grapes\n",
      "banana\n",
      "orange\n",
      "apple\n"
     ]
    }
   ],
   "source": [
    "fruits={\"apple\",\"banana\",\"orange\",\"grapes\"}\n",
    "for f in fruits:\n",
    "    print(f)"
   ]
  },
  {
   "cell_type": "code",
   "execution_count": 14,
   "metadata": {},
   "outputs": [
    {
     "name": "stdout",
     "output_type": "stream",
     "text": [
      "apple\n",
      "banana\n",
      "orange\n",
      "grapes\n"
     ]
    }
   ],
   "source": [
    "fruits=(\"apple\",\"banana\",\"orange\",\"grapes\")\n",
    "for f in fruits:\n",
    "    print(f)"
   ]
  },
  {
   "cell_type": "code",
   "execution_count": 15,
   "metadata": {},
   "outputs": [
    {
     "name": "stdout",
     "output_type": "stream",
     "text": [
      "1\n",
      "2\n",
      "3\n",
      "4\n",
      "5\n",
      "5\n",
      "6\n",
      "7\n",
      "8\n",
      "9\n"
     ]
    }
   ],
   "source": [
    "numbers=\"1234556789\"\n",
    "for number in numbers:\n",
    "    print(number)"
   ]
  },
  {
   "cell_type": "code",
   "execution_count": 16,
   "metadata": {},
   "outputs": [
    {
     "name": "stdout",
     "output_type": "stream",
     "text": [
      "name\n",
      "age\n",
      "gender\n"
     ]
    }
   ],
   "source": [
    "person={\"name\":\"sai\",\"age\":29,\"gender\":\"F\"}\n",
    "for i in person:\n",
    "    print(i)"
   ]
  },
  {
   "cell_type": "code",
   "execution_count": 17,
   "metadata": {},
   "outputs": [
    {
     "name": "stdout",
     "output_type": "stream",
     "text": [
      "welcome\n",
      "apple\n",
      "banana\n",
      "orange\n",
      "grapes\n",
      "THANQ\n"
     ]
    }
   ],
   "source": [
    "print(\"welcome\")\n",
    "fruits=[\"apple\",\"banana\",\"orange\",\"grapes\"]\n",
    "for f in fruits:\n",
    "    print(f)\n",
    "print(\"THANQ\")"
   ]
  },
  {
   "cell_type": "code",
   "execution_count": 18,
   "metadata": {},
   "outputs": [
    {
     "name": "stdout",
     "output_type": "stream",
     "text": [
      "sai\n",
      "vedha\n",
      "jay\n",
      "dhana\n",
      "thrishant\n",
      "shruthi\n"
     ]
    }
   ],
   "source": [
    "customers=[\"sai\",\"vedha\",\"jay\",\"dhana\",\"thrishant\",\"shruthi\"]\n",
    "i=0\n",
    "while i<len(customers):\n",
    "    print(customers[i])\n",
    "    i=i+1\n"
   ]
  },
  {
   "cell_type": "code",
   "execution_count": 19,
   "metadata": {},
   "outputs": [
    {
     "name": "stdout",
     "output_type": "stream",
     "text": [
      "sai\n",
      "vedha\n",
      "jay\n",
      "dhana\n",
      "thrishant\n",
      "shruthi\n"
     ]
    }
   ],
   "source": [
    "customers=[\"sai\",\"vedha\",\"jay\",\"dhana\",\"thrishant\",\"shruthi\"]\n",
    "for customer in customers:\n",
    "    print(customer)"
   ]
  },
  {
   "cell_type": "code",
   "execution_count": 20,
   "metadata": {},
   "outputs": [
    {
     "name": "stdout",
     "output_type": "stream",
     "text": [
      "10\n",
      "21\n",
      "34\n",
      "56\n",
      "78\n",
      "23\n",
      "67\n"
     ]
    }
   ],
   "source": [
    "numbers=[10,21,34,56,78,23,67]\n",
    "for number in numbers:\n",
    "    print(number)"
   ]
  },
  {
   "cell_type": "code",
   "execution_count": 21,
   "metadata": {},
   "outputs": [
    {
     "name": "stdout",
     "output_type": "stream",
     "text": [
      "welcome\n",
      "21\n",
      "23\n",
      "67\n",
      "thanks you!!\n"
     ]
    }
   ],
   "source": [
    "print(\"welcome\")\n",
    "numbers=[10,21,34,56,78,23,67]\n",
    "for number in numbers:\n",
    "    if number%2==1:\n",
    "        print(number)\n",
    "print(\"thanks you!!\")"
   ]
  },
  {
   "cell_type": "code",
   "execution_count": null,
   "metadata": {},
   "outputs": [],
   "source": [
    "numbers=[10,21,34,56,78,23,67]\n",
    "'''\n",
    "welcome\n",
    "10-->EVEN\n",
    "21-->ODD\n",
    "34--EVEN\n",
    "56--EVEN\n",
    "78-->EVEN\n",
    "23-->ODD\n",
    "67-->ODD\n",
    "ThanQ\n",
    "'''"
   ]
  },
  {
   "cell_type": "code",
   "execution_count": 22,
   "metadata": {},
   "outputs": [
    {
     "name": "stdout",
     "output_type": "stream",
     "text": [
      "10-->\n",
      "21-->\n",
      "34-->\n",
      "56-->\n",
      "78-->\n",
      "23-->\n",
      "67-->\n"
     ]
    }
   ],
   "source": [
    "numbers=[10,21,34,56,78,23,67]\n",
    "for number in numbers:\n",
    "    print(\"%s-->\"%number)"
   ]
  },
  {
   "cell_type": "code",
   "execution_count": 23,
   "metadata": {},
   "outputs": [
    {
     "name": "stdout",
     "output_type": "stream",
     "text": [
      "welcome\n",
      "10-->EVEN\n",
      "21-->ODD\n",
      "34-->EVEN\n",
      "56-->EVEN\n",
      "78-->EVEN\n",
      "23-->ODD\n",
      "67-->ODD\n",
      "thank you!!\n"
     ]
    }
   ],
   "source": [
    "print(\"welcome\")\n",
    "numbers=[10,21,34,56,78,23,67]\n",
    "for number in numbers:\n",
    "    if number%2==0:\n",
    "        print(\"%s-->EVEN\"%number)\n",
    "    else:\n",
    "        print(\"%s-->ODD\"%number)\n",
    "print(\"thank you!!\")\n",
    "        "
   ]
  },
  {
   "cell_type": "code",
   "execution_count": 24,
   "metadata": {},
   "outputs": [
    {
     "name": "stdout",
     "output_type": "stream",
     "text": [
      "welcome\n",
      "10-->EVEN\n",
      "21-->ODD\n",
      "34-->EVEN\n",
      "56-->EVEN\n",
      "78-->EVEN\n",
      "23-->ODD\n",
      "67-->ODD\n",
      "thank you!!\n"
     ]
    }
   ],
   "source": [
    "print(\"welcome\")\n",
    "numbers=[10,21,34,56,78,23,67]\n",
    "for number in numbers:\n",
    "    if number%2==0:\n",
    "        flag=\"EVEN\"\n",
    "    else:\n",
    "        flag=\"ODD\"\n",
    "    print(\"%s-->%s\"%(number,flag))\n",
    "print(\"thank you!!\")\n",
    "        "
   ]
  },
  {
   "cell_type": "code",
   "execution_count": 1,
   "metadata": {},
   "outputs": [
    {
     "ename": "KeyboardInterrupt",
     "evalue": "",
     "output_type": "error",
     "traceback": [
      "\u001b[0;31m---------------------------------------------------------------------------\u001b[0m",
      "\u001b[0;31mKeyboardInterrupt\u001b[0m                         Traceback (most recent call last)",
      "\u001b[0;32m<ipython-input-1-49495528932e>\u001b[0m in \u001b[0;36m<module>\u001b[0;34m()\u001b[0m\n\u001b[1;32m      1\u001b[0m \u001b[0;32mwhile\u001b[0m \u001b[0;32mTrue\u001b[0m\u001b[0;34m:\u001b[0m\u001b[0;34m\u001b[0m\u001b[0m\n\u001b[0;32m----> 2\u001b[0;31m     \u001b[0mi\u001b[0m\u001b[0;34m=\u001b[0m\u001b[0;36m0\u001b[0m\u001b[0;34m\u001b[0m\u001b[0m\n\u001b[0m",
      "\u001b[0;31mKeyboardInterrupt\u001b[0m: "
     ]
    }
   ],
   "source": [
    "while True:\n",
    "    i=0"
   ]
  },
  {
   "cell_type": "code",
   "execution_count": null,
   "metadata": {},
   "outputs": [],
   "source": [
    "input(\"Enter:\")"
   ]
  },
  {
   "cell_type": "code",
   "execution_count": 3,
   "metadata": {},
   "outputs": [
    {
     "name": "stdout",
     "output_type": "stream",
     "text": [
      "welcome\n",
      "4\n",
      "3\n"
     ]
    }
   ],
   "source": [
    "print(\"welcome\")\n",
    "numbers=[10,21,34,56,78,23,67]\n",
    "even_count=0\n",
    "odd_count=0\n",
    "for number in numbers:\n",
    "    if number%2==0:\n",
    "        even_count=even_count+1\n",
    "    else:\n",
    "        odd_count=odd_count+1\n",
    "print(even_count)\n",
    "print(odd_count)"
   ]
  },
  {
   "cell_type": "code",
   "execution_count": 4,
   "metadata": {},
   "outputs": [
    {
     "name": "stdout",
     "output_type": "stream",
     "text": [
      "i outside the loop: 4\n"
     ]
    }
   ],
   "source": [
    "i=0\n",
    "while i<4:\n",
    "    i=i+1\n",
    "print(\"i outside the loop:\",i)"
   ]
  },
  {
   "cell_type": "code",
   "execution_count": 5,
   "metadata": {},
   "outputs": [
    {
     "name": "stdout",
     "output_type": "stream",
     "text": [
      "67\n"
     ]
    }
   ],
   "source": [
    "numbers=[10,21,34,56,78,23,67]\n",
    "c=0\n",
    "for number in numbers:\n",
    "    if number%2==0:\n",
    "        c=c+1\n",
    "print(number)\n",
    "        "
   ]
  },
  {
   "cell_type": "code",
   "execution_count": 6,
   "metadata": {},
   "outputs": [
    {
     "name": "stdout",
     "output_type": "stream",
     "text": [
      "7\n"
     ]
    }
   ],
   "source": [
    "numbers=[10,21,34,56,78,23,67]\n",
    "c=0\n",
    "for number in numbers:\n",
    "    #if number%2==0:\n",
    "        c=c+1\n",
    "print(c)\n",
    "        "
   ]
  },
  {
   "cell_type": "code",
   "execution_count": 7,
   "metadata": {},
   "outputs": [
    {
     "name": "stdout",
     "output_type": "stream",
     "text": [
      "4\n"
     ]
    }
   ],
   "source": [
    "numbers=[10,21,34,56,78,23,67]\n",
    "c=0\n",
    "for number in numbers:\n",
    "    if number%2==0:\n",
    "        c=c+1\n",
    "print(c)"
   ]
  },
  {
   "cell_type": "code",
   "execution_count": 8,
   "metadata": {},
   "outputs": [
    {
     "name": "stdout",
     "output_type": "stream",
     "text": [
      "welcome\n",
      "it contains even numbers..\n"
     ]
    }
   ],
   "source": [
    "print(\"welcome\")\n",
    "numbers=[10,21,34,56,78,23,67]\n",
    "even_count=0\n",
    "odd_count=0\n",
    "for number in numbers:\n",
    "    if number%2==0:\n",
    "        even_count=even_count+1\n",
    "    else:\n",
    "        odd_count=odd_count+1\n",
    "if even_count==0:\n",
    "    print(\"even numbers are not there\")\n",
    "else:\n",
    "    print(\"it contains even numbers..\")\n",
    "    "
   ]
  },
  {
   "cell_type": "code",
   "execution_count": 9,
   "metadata": {},
   "outputs": [
    {
     "name": "stdout",
     "output_type": "stream",
     "text": [
      "welcome\n",
      "even numbers are not there\n"
     ]
    }
   ],
   "source": [
    "print(\"welcome\")\n",
    "numbers=[11,21,35,57,79,23,67]\n",
    "even_count=0\n",
    "odd_count=0\n",
    "for number in numbers:\n",
    "    if number%2==0:\n",
    "        even_count=even_count+1\n",
    "    else:\n",
    "        odd_count=odd_count+1\n",
    "if even_count==0:\n",
    "    print(\"even numbers are not there\")\n",
    "else:\n",
    "    print(\"it contains even numbers..\")\n",
    "    "
   ]
  },
  {
   "cell_type": "code",
   "execution_count": 11,
   "metadata": {},
   "outputs": [
    {
     "name": "stdout",
     "output_type": "stream",
     "text": [
      "welcome\n",
      "it contains odd numbers..\n"
     ]
    }
   ],
   "source": [
    "print(\"welcome\")\n",
    "numbers=[11,21,35,57,79,23,67]\n",
    "even_count=0\n",
    "odd_count=0\n",
    "for number in numbers:\n",
    "    if number%2==0:\n",
    "        even_count=even_count+1\n",
    "    else:\n",
    "        odd_count=odd_count+1\n",
    "if odd_count==0:\n",
    "    print(\"odd numbers are not there\")\n",
    "else:\n",
    "    print(\"it contains odd numbers..\")\n",
    "    "
   ]
  },
  {
   "cell_type": "code",
   "execution_count": 12,
   "metadata": {},
   "outputs": [
    {
     "name": "stdout",
     "output_type": "stream",
     "text": [
      "welcome\n",
      "10\n",
      "21\n",
      "35\n",
      "57\n",
      "79\n",
      "23\n",
      "67\n",
      "it contains even numbers..\n"
     ]
    }
   ],
   "source": [
    "print(\"welcome\")\n",
    "numbers=[10,21,35,57,79,23,67]\n",
    "even_count=0\n",
    "for number in numbers:\n",
    "    print(number)\n",
    "    if number%2==0:\n",
    "        even_count=even_count+1\n",
    "if even_count==0:\n",
    "    print(\"even numbers are not there\")\n",
    "else:\n",
    "    print(\"it contains even numbers..\")\n",
    "    "
   ]
  },
  {
   "cell_type": "code",
   "execution_count": 13,
   "metadata": {},
   "outputs": [
    {
     "name": "stdout",
     "output_type": "stream",
     "text": [
      "welcome\n",
      "11\n",
      "21\n",
      "35\n",
      "58\n",
      "79\n",
      "23\n",
      "67\n",
      "it contains even numbers..\n"
     ]
    }
   ],
   "source": [
    "print(\"welcome\")\n",
    "numbers=[11,21,35,58,79,23,67]\n",
    "even_count=0\n",
    "for number in numbers:\n",
    "    print(number)\n",
    "    if number%2==0:\n",
    "        even_count=even_count+1\n",
    "if even_count==0:\n",
    "    print(\"even numbers are not there\")\n",
    "else:\n",
    "    print(\"it contains even numbers..\")\n",
    "    "
   ]
  },
  {
   "cell_type": "code",
   "execution_count": 14,
   "metadata": {},
   "outputs": [
    {
     "name": "stdout",
     "output_type": "stream",
     "text": [
      "welcome\n",
      "11\n",
      "21\n",
      "35\n",
      "57\n",
      "79\n",
      "23\n",
      "68\n",
      "it contains even numbers..\n"
     ]
    }
   ],
   "source": [
    "print(\"welcome\")\n",
    "numbers=[11,21,35,57,79,23,68]\n",
    "even_count=0\n",
    "for number in numbers:\n",
    "    print(number)\n",
    "    if number%2==0:\n",
    "        even_count=even_count+1\n",
    "if even_count==0:\n",
    "    print(\"even numbers are not there\")\n",
    "else:\n",
    "    print(\"it contains even numbers..\")\n",
    "    "
   ]
  },
  {
   "cell_type": "code",
   "execution_count": 15,
   "metadata": {},
   "outputs": [
    {
     "name": "stdout",
     "output_type": "stream",
     "text": [
      "welcome\n",
      "10\n",
      "it contains even numbers..\n"
     ]
    }
   ],
   "source": [
    "print(\"welcome\")\n",
    "numbers=[10,21,35,57,79,23,69]\n",
    "even_count=0\n",
    "for number in numbers:\n",
    "    print(number)\n",
    "    if number%2==0:\n",
    "        even_count=even_count+1\n",
    "        break\n",
    "if even_count==0:\n",
    "    print(\"even numbers are not there\")\n",
    "else:\n",
    "    print(\"it contains even numbers..\")\n",
    "    "
   ]
  },
  {
   "cell_type": "code",
   "execution_count": 16,
   "metadata": {},
   "outputs": [
    {
     "name": "stdout",
     "output_type": "stream",
     "text": [
      "welcome\n",
      "11\n",
      "21\n",
      "35\n",
      "58\n",
      "it contains even numbers..\n"
     ]
    }
   ],
   "source": [
    "print(\"welcome\")\n",
    "numbers=[11,21,35,58,79,23,69]\n",
    "even_count=0\n",
    "for number in numbers:\n",
    "    print(number)\n",
    "    if number%2==0:\n",
    "        even_count=even_count+1\n",
    "        break\n",
    "if even_count==0:\n",
    "    print(\"even numbers are not there\")\n",
    "else:\n",
    "    print(\"it contains even numbers..\")\n",
    "    "
   ]
  },
  {
   "cell_type": "code",
   "execution_count": 17,
   "metadata": {},
   "outputs": [
    {
     "name": "stdout",
     "output_type": "stream",
     "text": [
      "welcome\n",
      "11\n",
      "21\n",
      "35\n",
      "59\n",
      "79\n",
      "23\n",
      "68\n",
      "it contains even numbers..\n"
     ]
    }
   ],
   "source": [
    "print(\"welcome\")\n",
    "numbers=[11,21,35,59,79,23,68]\n",
    "even_count=0\n",
    "for number in numbers:\n",
    "    print(number)\n",
    "    if number%2==0:\n",
    "        even_count=even_count+1\n",
    "        break\n",
    "if even_count==0:\n",
    "    print(\"even numbers are not there\")\n",
    "else:\n",
    "    print(\"it contains even numbers..\")\n",
    "    "
   ]
  },
  {
   "cell_type": "code",
   "execution_count": 18,
   "metadata": {},
   "outputs": [
    {
     "name": "stdout",
     "output_type": "stream",
     "text": [
      "welcome\n",
      "10\n",
      "thanQ\n"
     ]
    }
   ],
   "source": [
    "print(\"welcome\")\n",
    "for i in [10,20,30,40,50]:\n",
    "    print(i)\n",
    "    break\n",
    "else:\n",
    "    print(\"this is else\")\n",
    "print(\"thanQ\")"
   ]
  },
  {
   "cell_type": "code",
   "execution_count": 19,
   "metadata": {},
   "outputs": [
    {
     "name": "stdout",
     "output_type": "stream",
     "text": [
      "welcome\n",
      "10\n",
      "20\n",
      "30\n",
      "40\n",
      "50\n",
      "this is else\n",
      "thanQ\n"
     ]
    }
   ],
   "source": [
    "print(\"welcome\")\n",
    "for i in [10,20,30,40,50]:\n",
    "    print(i)\n",
    "else:\n",
    "    print(\"this is else\")\n",
    "print(\"thanQ\")"
   ]
  },
  {
   "cell_type": "code",
   "execution_count": 20,
   "metadata": {},
   "outputs": [
    {
     "name": "stdout",
     "output_type": "stream",
     "text": [
      "welcome\n",
      "10\n",
      "thanQ\n"
     ]
    }
   ],
   "source": [
    "print(\"welcome\")\n",
    "for i in [10,20,30,40,50]:\n",
    "    print(i)\n",
    "    if i%2==0:\n",
    "        break\n",
    "else:\n",
    "    print(\"this is else\")\n",
    "print(\"thanQ\")"
   ]
  },
  {
   "cell_type": "code",
   "execution_count": 21,
   "metadata": {},
   "outputs": [
    {
     "name": "stdout",
     "output_type": "stream",
     "text": [
      "welcome\n",
      "10\n",
      "20\n",
      "30\n",
      "40\n",
      "50\n",
      "this is else\n",
      "thanQ\n"
     ]
    }
   ],
   "source": [
    "print(\"welcome\")\n",
    "for i in [10,20,30,40,50]:\n",
    "    print(i)\n",
    "    if i%2==1:\n",
    "        break\n",
    "else:\n",
    "    print(\"this is else\")\n",
    "print(\"thanQ\")"
   ]
  },
  {
   "cell_type": "code",
   "execution_count": 22,
   "metadata": {},
   "outputs": [
    {
     "name": "stdout",
     "output_type": "stream",
     "text": [
      "welcome\n",
      "10\n",
      "it contains even numbers\n",
      "thanQ\n"
     ]
    }
   ],
   "source": [
    "print(\"welcome\")\n",
    "for i in [10,20,30,40,50]:\n",
    "    print(i)\n",
    "    if i%2==0:\n",
    "        print(\"it contains even numbers\")\n",
    "        break\n",
    "else:\n",
    "    print(\"it's not contained even numbers\")\n",
    "print(\"thanQ\")"
   ]
  },
  {
   "cell_type": "code",
   "execution_count": 23,
   "metadata": {},
   "outputs": [
    {
     "name": "stdout",
     "output_type": "stream",
     "text": [
      "welcome\n",
      "11\n",
      "21\n",
      "31\n",
      "41\n",
      "51\n",
      "it's not contained even numbers\n",
      "thanQ\n"
     ]
    }
   ],
   "source": [
    "print(\"welcome\")\n",
    "for i in [11,21,31,41,51]:\n",
    "    print(i)\n",
    "    if i%2==0:\n",
    "        print(\"it contains even numbers\")\n",
    "        break\n",
    "else:\n",
    "    print(\"it's not contained even numbers\")\n",
    "print(\"thanQ\")"
   ]
  },
  {
   "cell_type": "code",
   "execution_count": 24,
   "metadata": {},
   "outputs": [
    {
     "name": "stdout",
     "output_type": "stream",
     "text": [
      "welcome\n",
      "contains +ve numbers\n",
      "thanQ\n"
     ]
    }
   ],
   "source": [
    "print(\"welcome\")\n",
    "l=[11,12,34,56,78]\n",
    "for i in l:\n",
    "    if i>0:\n",
    "        print(\"contains +ve numbers\")\n",
    "        break\n",
    "else:\n",
    "    print(\"does not contains +ve numbers\")\n",
    "print(\"thanQ\")"
   ]
  },
  {
   "cell_type": "code",
   "execution_count": 25,
   "metadata": {},
   "outputs": [
    {
     "name": "stdout",
     "output_type": "stream",
     "text": [
      "welcome\n",
      "contains +ve numbers\n",
      "thanQ\n"
     ]
    }
   ],
   "source": [
    "print(\"welcome\")\n",
    "l=[-11,-12,-34,-56,78]\n",
    "for i in l:\n",
    "    if i>0:\n",
    "        print(\"contains +ve numbers\")\n",
    "        break\n",
    "else:\n",
    "    print(\"does not contains +ve numbers\")\n",
    "print(\"thanQ\")"
   ]
  },
  {
   "cell_type": "code",
   "execution_count": 26,
   "metadata": {},
   "outputs": [
    {
     "name": "stdout",
     "output_type": "stream",
     "text": [
      "welcome\n",
      "does not contains +ve numbers\n",
      "thanQ\n"
     ]
    }
   ],
   "source": [
    "print(\"welcome\")\n",
    "l=[-11,-12,-34,-56,-78]\n",
    "for i in l:\n",
    "    if i>0:\n",
    "        print(\"contains +ve numbers\")\n",
    "        break\n",
    "else:\n",
    "    print(\"does not contains +ve numbers\")\n",
    "print(\"thanQ\")"
   ]
  },
  {
   "cell_type": "code",
   "execution_count": null,
   "metadata": {},
   "outputs": [],
   "source": []
  }
 ],
 "metadata": {
  "kernelspec": {
   "display_name": "Python 3",
   "language": "python",
   "name": "python3"
  },
  "language_info": {
   "codemirror_mode": {
    "name": "ipython",
    "version": 3
   },
   "file_extension": ".py",
   "mimetype": "text/x-python",
   "name": "python",
   "nbconvert_exporter": "python",
   "pygments_lexer": "ipython3",
   "version": "3.7.0"
  }
 },
 "nbformat": 4,
 "nbformat_minor": 2
}
