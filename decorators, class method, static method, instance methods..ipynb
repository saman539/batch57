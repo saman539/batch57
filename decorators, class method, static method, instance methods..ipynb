{
 "cells": [
  {
   "cell_type": "code",
   "execution_count": 1,
   "metadata": {},
   "outputs": [
    {
     "name": "stdout",
     "output_type": "stream",
     "text": [
      "30\n",
      "200\n",
      "2.0\n"
     ]
    }
   ],
   "source": [
    "def fun1(x,y):\n",
    "    return x+y\n",
    "def fun2(x,y):\n",
    "    return x*y\n",
    "def fun3(x,y):\n",
    "    return x/y\n",
    "print(fun1(10,20))\n",
    "print(fun2(10,20))\n",
    "print(fun3(20,10))"
   ]
  },
  {
   "cell_type": "code",
   "execution_count": 2,
   "metadata": {},
   "outputs": [
    {
     "name": "stdout",
     "output_type": "stream",
     "text": [
      "30\n",
      "200\n",
      "2.0\n"
     ]
    },
    {
     "ename": "TypeError",
     "evalue": "unsupported operand type(s) for +: 'int' and 'str'",
     "output_type": "error",
     "traceback": [
      "\u001b[0;31m---------------------------------------------------------------------------\u001b[0m",
      "\u001b[0;31mTypeError\u001b[0m                                 Traceback (most recent call last)",
      "\u001b[0;32m<ipython-input-2-c5540835717d>\u001b[0m in \u001b[0;36m<module>\u001b[0;34m()\u001b[0m\n\u001b[1;32m      8\u001b[0m \u001b[0mprint\u001b[0m\u001b[0;34m(\u001b[0m\u001b[0mfun2\u001b[0m\u001b[0;34m(\u001b[0m\u001b[0;36m10\u001b[0m\u001b[0;34m,\u001b[0m\u001b[0;36m20\u001b[0m\u001b[0;34m)\u001b[0m\u001b[0;34m)\u001b[0m\u001b[0;34m\u001b[0m\u001b[0m\n\u001b[1;32m      9\u001b[0m \u001b[0mprint\u001b[0m\u001b[0;34m(\u001b[0m\u001b[0mfun3\u001b[0m\u001b[0;34m(\u001b[0m\u001b[0;36m20\u001b[0m\u001b[0;34m,\u001b[0m\u001b[0;36m10\u001b[0m\u001b[0;34m)\u001b[0m\u001b[0;34m)\u001b[0m\u001b[0;34m\u001b[0m\u001b[0m\n\u001b[0;32m---> 10\u001b[0;31m \u001b[0mprint\u001b[0m\u001b[0;34m(\u001b[0m\u001b[0mfun1\u001b[0m\u001b[0;34m(\u001b[0m\u001b[0;36m10\u001b[0m\u001b[0;34m,\u001b[0m\u001b[0;34m\"23\"\u001b[0m\u001b[0;34m)\u001b[0m\u001b[0;34m)\u001b[0m\u001b[0;34m\u001b[0m\u001b[0m\n\u001b[0m",
      "\u001b[0;32m<ipython-input-2-c5540835717d>\u001b[0m in \u001b[0;36mfun1\u001b[0;34m(x, y)\u001b[0m\n\u001b[1;32m      1\u001b[0m \u001b[0;32mdef\u001b[0m \u001b[0mfun1\u001b[0m\u001b[0;34m(\u001b[0m\u001b[0mx\u001b[0m\u001b[0;34m,\u001b[0m\u001b[0my\u001b[0m\u001b[0;34m)\u001b[0m\u001b[0;34m:\u001b[0m\u001b[0;34m\u001b[0m\u001b[0m\n\u001b[0;32m----> 2\u001b[0;31m     \u001b[0;32mreturn\u001b[0m \u001b[0mx\u001b[0m\u001b[0;34m+\u001b[0m\u001b[0my\u001b[0m\u001b[0;34m\u001b[0m\u001b[0m\n\u001b[0m\u001b[1;32m      3\u001b[0m \u001b[0;32mdef\u001b[0m \u001b[0mfun2\u001b[0m\u001b[0;34m(\u001b[0m\u001b[0mx\u001b[0m\u001b[0;34m,\u001b[0m\u001b[0my\u001b[0m\u001b[0;34m)\u001b[0m\u001b[0;34m:\u001b[0m\u001b[0;34m\u001b[0m\u001b[0m\n\u001b[1;32m      4\u001b[0m     \u001b[0;32mreturn\u001b[0m \u001b[0mx\u001b[0m\u001b[0;34m*\u001b[0m\u001b[0my\u001b[0m\u001b[0;34m\u001b[0m\u001b[0m\n\u001b[1;32m      5\u001b[0m \u001b[0;32mdef\u001b[0m \u001b[0mfun3\u001b[0m\u001b[0;34m(\u001b[0m\u001b[0mx\u001b[0m\u001b[0;34m,\u001b[0m\u001b[0my\u001b[0m\u001b[0;34m)\u001b[0m\u001b[0;34m:\u001b[0m\u001b[0;34m\u001b[0m\u001b[0m\n",
      "\u001b[0;31mTypeError\u001b[0m: unsupported operand type(s) for +: 'int' and 'str'"
     ]
    }
   ],
   "source": [
    "def fun1(x,y):\n",
    "    return x+y\n",
    "def fun2(x,y):\n",
    "    return x*y\n",
    "def fun3(x,y):\n",
    "    return x/y\n",
    "print(fun1(10,20))\n",
    "print(fun2(10,20))\n",
    "print(fun3(20,10))\n",
    "print(fun1(10,\"23\"))"
   ]
  },
  {
   "cell_type": "code",
   "execution_count": 3,
   "metadata": {},
   "outputs": [
    {
     "name": "stdout",
     "output_type": "stream",
     "text": [
      "30\n",
      "200\n",
      "2.0\n"
     ]
    },
    {
     "ename": "TypeError",
     "evalue": "unsupported operand type(s) for +: 'int' and 'str'",
     "output_type": "error",
     "traceback": [
      "\u001b[0;31m---------------------------------------------------------------------------\u001b[0m",
      "\u001b[0;31mTypeError\u001b[0m                                 Traceback (most recent call last)",
      "\u001b[0;32m<ipython-input-3-5171e14da29f>\u001b[0m in \u001b[0;36m<module>\u001b[0;34m()\u001b[0m\n\u001b[1;32m     14\u001b[0m \u001b[0mprint\u001b[0m\u001b[0;34m(\u001b[0m\u001b[0mfun2\u001b[0m\u001b[0;34m(\u001b[0m\u001b[0;36m10\u001b[0m\u001b[0;34m,\u001b[0m\u001b[0;36m20\u001b[0m\u001b[0;34m)\u001b[0m\u001b[0;34m)\u001b[0m\u001b[0;34m\u001b[0m\u001b[0m\n\u001b[1;32m     15\u001b[0m \u001b[0mprint\u001b[0m\u001b[0;34m(\u001b[0m\u001b[0mfun3\u001b[0m\u001b[0;34m(\u001b[0m\u001b[0;36m20\u001b[0m\u001b[0;34m,\u001b[0m\u001b[0;36m10\u001b[0m\u001b[0;34m)\u001b[0m\u001b[0;34m)\u001b[0m\u001b[0;34m\u001b[0m\u001b[0m\n\u001b[0;32m---> 16\u001b[0;31m \u001b[0mprint\u001b[0m\u001b[0;34m(\u001b[0m\u001b[0mfun1\u001b[0m\u001b[0;34m(\u001b[0m\u001b[0;36m10\u001b[0m\u001b[0;34m,\u001b[0m\u001b[0;34m\"23\"\u001b[0m\u001b[0;34m)\u001b[0m\u001b[0;34m)\u001b[0m\u001b[0;34m\u001b[0m\u001b[0m\n\u001b[0m",
      "\u001b[0;32m<ipython-input-3-5171e14da29f>\u001b[0m in \u001b[0;36mfun1\u001b[0;34m(x, y)\u001b[0m\n\u001b[1;32m      6\u001b[0m             \u001b[0;32mreturn\u001b[0m \u001b[0;34m\"expedcintg only integers\"\u001b[0m\u001b[0;34m\u001b[0m\u001b[0m\n\u001b[1;32m      7\u001b[0m \u001b[0;32mdef\u001b[0m \u001b[0mfun1\u001b[0m\u001b[0;34m(\u001b[0m\u001b[0mx\u001b[0m\u001b[0;34m,\u001b[0m\u001b[0my\u001b[0m\u001b[0;34m)\u001b[0m\u001b[0;34m:\u001b[0m\u001b[0;34m\u001b[0m\u001b[0m\n\u001b[0;32m----> 8\u001b[0;31m     \u001b[0;32mreturn\u001b[0m \u001b[0mx\u001b[0m\u001b[0;34m+\u001b[0m\u001b[0my\u001b[0m\u001b[0;34m\u001b[0m\u001b[0m\n\u001b[0m\u001b[1;32m      9\u001b[0m \u001b[0;32mdef\u001b[0m \u001b[0mfun2\u001b[0m\u001b[0;34m(\u001b[0m\u001b[0mx\u001b[0m\u001b[0;34m,\u001b[0m\u001b[0my\u001b[0m\u001b[0;34m)\u001b[0m\u001b[0;34m:\u001b[0m\u001b[0;34m\u001b[0m\u001b[0m\n\u001b[1;32m     10\u001b[0m     \u001b[0;32mreturn\u001b[0m \u001b[0mx\u001b[0m\u001b[0;34m*\u001b[0m\u001b[0my\u001b[0m\u001b[0;34m\u001b[0m\u001b[0m\n",
      "\u001b[0;31mTypeError\u001b[0m: unsupported operand type(s) for +: 'int' and 'str'"
     ]
    }
   ],
   "source": [
    "def check_int(f):\n",
    "    def inner(x,y):\n",
    "        if isinstance(x,int) and isinstance(y, int):\n",
    "            return f(x,y)\n",
    "        else:\n",
    "            return \"expedcintg only integers\"\n",
    "def fun1(x,y):\n",
    "    return x+y\n",
    "def fun2(x,y):\n",
    "    return x*y\n",
    "def fun3(x,y):\n",
    "    return x/y\n",
    "print(fun1(10,20))\n",
    "print(fun2(10,20))\n",
    "print(fun3(20,10))\n",
    "print(fun1(10,\"23\"))"
   ]
  },
  {
   "cell_type": "code",
   "execution_count": 4,
   "metadata": {},
   "outputs": [
    {
     "name": "stdout",
     "output_type": "stream",
     "text": [
      "30\n",
      "200\n",
      "2.0\n",
      "expedcintg only integers\n"
     ]
    }
   ],
   "source": [
    "def check_int(f):\n",
    "    def inner(x,y):\n",
    "        if isinstance(x,int) and isinstance(y, int):\n",
    "            return f(x,y)\n",
    "        else:\n",
    "            return \"expedcintg only integers\"\n",
    "    return inner\n",
    "\n",
    "@check_int\n",
    "def fun1(x,y):\n",
    "    return x+y\n",
    "@check_int\n",
    "def fun2(x,y):\n",
    "    return x*y\n",
    "@check_int\n",
    "def fun3(x,y):\n",
    "    return x/y                 #f=fun1\n",
    "print(fun1(10,20)) # check_int(fun1)-->inner(10,20)-->f(10,20)-->fun1(10,20)\n",
    "print(fun2(10,20))\n",
    "print(fun3(20,10))\n",
    "print(fun1(10,\"23\"))"
   ]
  },
  {
   "cell_type": "code",
   "execution_count": 5,
   "metadata": {},
   "outputs": [
    {
     "name": "stdout",
     "output_type": "stream",
     "text": [
      "<function fun at 0x7fbaf1049950>\n"
     ]
    }
   ],
   "source": [
    "def fun(x,y):\n",
    "    return x+y\n",
    "f=fun\n",
    "print(f)"
   ]
  },
  {
   "cell_type": "code",
   "execution_count": 6,
   "metadata": {},
   "outputs": [
    {
     "name": "stdout",
     "output_type": "stream",
     "text": [
      "<function fun at 0x7fbaf07cc8c8>\n",
      "30\n",
      "30\n"
     ]
    }
   ],
   "source": [
    "def fun(x,y):\n",
    "    return x+y\n",
    "f=fun\n",
    "print(f)\n",
    "print(fun(10,20))\n",
    "print(f(10,20))"
   ]
  },
  {
   "cell_type": "code",
   "execution_count": 8,
   "metadata": {},
   "outputs": [
    {
     "ename": "NameError",
     "evalue": "name 'inner' is not defined",
     "output_type": "error",
     "traceback": [
      "\u001b[0;31m---------------------------------------------------------------------------\u001b[0m",
      "\u001b[0;31mNameError\u001b[0m                                 Traceback (most recent call last)",
      "\u001b[0;32m<ipython-input-8-6176bbf1dc1c>\u001b[0m in \u001b[0;36m<module>\u001b[0;34m()\u001b[0m\n\u001b[1;32m      2\u001b[0m     \u001b[0;32mdef\u001b[0m \u001b[0minner\u001b[0m\u001b[0;34m(\u001b[0m\u001b[0mx\u001b[0m\u001b[0;34m,\u001b[0m\u001b[0my\u001b[0m\u001b[0;34m)\u001b[0m\u001b[0;34m:\u001b[0m\u001b[0;34m\u001b[0m\u001b[0m\n\u001b[1;32m      3\u001b[0m         \u001b[0;32mreturn\u001b[0m \u001b[0mx\u001b[0m\u001b[0;34m+\u001b[0m\u001b[0my\u001b[0m\u001b[0;34m\u001b[0m\u001b[0m\n\u001b[0;32m----> 4\u001b[0;31m \u001b[0minner\u001b[0m\u001b[0;34m(\u001b[0m\u001b[0;36m10\u001b[0m\u001b[0;34m,\u001b[0m\u001b[0;36m20\u001b[0m\u001b[0;34m)\u001b[0m\u001b[0;34m\u001b[0m\u001b[0m\n\u001b[0m",
      "\u001b[0;31mNameError\u001b[0m: name 'inner' is not defined"
     ]
    }
   ],
   "source": [
    "def outer(f):\n",
    "    def inner(x,y):\n",
    "        return x+y\n",
    "inner(10,20)"
   ]
  },
  {
   "cell_type": "code",
   "execution_count": 9,
   "metadata": {},
   "outputs": [
    {
     "name": "stdout",
     "output_type": "stream",
     "text": [
      "None\n"
     ]
    }
   ],
   "source": [
    "def outer(f):\n",
    "    def inner(x,y):\n",
    "        return x+y\n",
    "    \n",
    "res=outer(10)\n",
    "print(res)"
   ]
  },
  {
   "cell_type": "code",
   "execution_count": 10,
   "metadata": {},
   "outputs": [
    {
     "ename": "NameError",
     "evalue": "name 'inner' is not defined",
     "output_type": "error",
     "traceback": [
      "\u001b[0;31m---------------------------------------------------------------------------\u001b[0m",
      "\u001b[0;31mNameError\u001b[0m                                 Traceback (most recent call last)",
      "\u001b[0;32m<ipython-input-10-1a1777ca8a70>\u001b[0m in \u001b[0;36m<module>\u001b[0;34m()\u001b[0m\n\u001b[1;32m      4\u001b[0m \u001b[0;34m\u001b[0m\u001b[0m\n\u001b[1;32m      5\u001b[0m \u001b[0mres\u001b[0m\u001b[0;34m=\u001b[0m\u001b[0mouter\u001b[0m\u001b[0;34m(\u001b[0m\u001b[0;36m10\u001b[0m\u001b[0;34m)\u001b[0m\u001b[0;34m\u001b[0m\u001b[0m\n\u001b[0;32m----> 6\u001b[0;31m \u001b[0minner\u001b[0m\u001b[0;34m(\u001b[0m\u001b[0;36m10\u001b[0m\u001b[0;34m,\u001b[0m\u001b[0;36m20\u001b[0m\u001b[0;34m)\u001b[0m\u001b[0;34m\u001b[0m\u001b[0m\n\u001b[0m",
      "\u001b[0;31mNameError\u001b[0m: name 'inner' is not defined"
     ]
    }
   ],
   "source": [
    "def outer(f):\n",
    "    def inner(x,y):\n",
    "        return x+y\n",
    "    \n",
    "res=outer(10)\n",
    "inner(10,20)"
   ]
  },
  {
   "cell_type": "code",
   "execution_count": 11,
   "metadata": {},
   "outputs": [
    {
     "data": {
      "text/plain": [
       "30"
      ]
     },
     "execution_count": 11,
     "metadata": {},
     "output_type": "execute_result"
    }
   ],
   "source": [
    "def outer(f):\n",
    "    def inner(x,y):\n",
    "        return x+y\n",
    "    return inner\n",
    "res=outer(10)\n",
    "res(10,20)"
   ]
  },
  {
   "cell_type": "code",
   "execution_count": 12,
   "metadata": {},
   "outputs": [
    {
     "data": {
      "text/plain": [
       "'result=30'"
      ]
     },
     "execution_count": 12,
     "metadata": {},
     "output_type": "execute_result"
    }
   ],
   "source": [
    "def outer(f):\n",
    "    def inner(x,y):\n",
    "        return \"result=%s\"%f(x,y)\n",
    "    return inner\n",
    "def fun(x,y):\n",
    "    return x+y\n",
    "\n",
    "res=outer(fun)\n",
    "res(10,20)"
   ]
  },
  {
   "cell_type": "code",
   "execution_count": 14,
   "metadata": {},
   "outputs": [
    {
     "name": "stdout",
     "output_type": "stream",
     "text": [
      "result=30\n",
      "expeting integers only\n"
     ]
    }
   ],
   "source": [
    "def outer(f):\n",
    "    def inner(x,y):\n",
    "        if isinstance(x,int) and isinstance(y,int):\n",
    "            return \"result=%s\"%f(x,y)\n",
    "        else:\n",
    "            return \"expeting integers only\"\n",
    "    return inner\n",
    "def fun(x,y):\n",
    "    return x+y\n",
    "\n",
    "#1\n",
    "res=outer(fun)\n",
    "print(res(10,20))\n",
    "#\n",
    "res=outer(fun)\n",
    "print(res(\"10\",20))"
   ]
  },
  {
   "cell_type": "code",
   "execution_count": 16,
   "metadata": {},
   "outputs": [
    {
     "name": "stdout",
     "output_type": "stream",
     "text": [
      "30\n"
     ]
    },
    {
     "ename": "TypeError",
     "evalue": "can only concatenate str (not \"int\") to str",
     "output_type": "error",
     "traceback": [
      "\u001b[0;31m---------------------------------------------------------------------------\u001b[0m",
      "\u001b[0;31mTypeError\u001b[0m                                 Traceback (most recent call last)",
      "\u001b[0;32m<ipython-input-16-299587a647a1>\u001b[0m in \u001b[0;36m<module>\u001b[0;34m()\u001b[0m\n\u001b[1;32m     12\u001b[0m \u001b[0mprint\u001b[0m\u001b[0;34m(\u001b[0m\u001b[0mfun\u001b[0m\u001b[0;34m(\u001b[0m\u001b[0;36m10\u001b[0m\u001b[0;34m,\u001b[0m\u001b[0;36m20\u001b[0m\u001b[0;34m)\u001b[0m\u001b[0;34m)\u001b[0m\u001b[0;34m\u001b[0m\u001b[0m\n\u001b[1;32m     13\u001b[0m \u001b[0;31m#2\u001b[0m\u001b[0;34m\u001b[0m\u001b[0;34m\u001b[0m\u001b[0m\n\u001b[0;32m---> 14\u001b[0;31m \u001b[0mprint\u001b[0m\u001b[0;34m(\u001b[0m\u001b[0mfun\u001b[0m\u001b[0;34m(\u001b[0m\u001b[0;34m\"10\"\u001b[0m\u001b[0;34m,\u001b[0m\u001b[0;36m20\u001b[0m\u001b[0;34m)\u001b[0m\u001b[0;34m)\u001b[0m\u001b[0;34m\u001b[0m\u001b[0m\n\u001b[0m",
      "\u001b[0;32m<ipython-input-16-299587a647a1>\u001b[0m in \u001b[0;36mfun\u001b[0;34m(x, y)\u001b[0m\n\u001b[1;32m      7\u001b[0m     \u001b[0;32mreturn\u001b[0m \u001b[0minner\u001b[0m\u001b[0;34m\u001b[0m\u001b[0m\n\u001b[1;32m      8\u001b[0m \u001b[0;32mdef\u001b[0m \u001b[0mfun\u001b[0m\u001b[0;34m(\u001b[0m\u001b[0mx\u001b[0m\u001b[0;34m,\u001b[0m\u001b[0my\u001b[0m\u001b[0;34m)\u001b[0m\u001b[0;34m:\u001b[0m\u001b[0;34m\u001b[0m\u001b[0m\n\u001b[0;32m----> 9\u001b[0;31m     \u001b[0;32mreturn\u001b[0m \u001b[0mx\u001b[0m\u001b[0;34m+\u001b[0m\u001b[0my\u001b[0m\u001b[0;34m\u001b[0m\u001b[0m\n\u001b[0m\u001b[1;32m     10\u001b[0m \u001b[0;34m\u001b[0m\u001b[0m\n\u001b[1;32m     11\u001b[0m \u001b[0;31m#1\u001b[0m\u001b[0;34m\u001b[0m\u001b[0;34m\u001b[0m\u001b[0m\n",
      "\u001b[0;31mTypeError\u001b[0m: can only concatenate str (not \"int\") to str"
     ]
    }
   ],
   "source": [
    "def outer(f):\n",
    "    def inner(x,y):\n",
    "        if isinstance(x,int) and isinstance(y,int):\n",
    "            return \"result=%s\"%f(x,y)\n",
    "        else:\n",
    "            return \"expeting integers only\"\n",
    "    return inner\n",
    "def fun(x,y):\n",
    "    return x+y\n",
    "\n",
    "#1\n",
    "print(fun(10,20))\n",
    "#2\n",
    "print(fun(\"10\",20))"
   ]
  },
  {
   "cell_type": "code",
   "execution_count": 17,
   "metadata": {},
   "outputs": [
    {
     "name": "stdout",
     "output_type": "stream",
     "text": [
      "result=30\n",
      "expeting integers only\n"
     ]
    }
   ],
   "source": [
    "def outer(f):\n",
    "    def inner(x,y):\n",
    "        if isinstance(x,int) and isinstance(y,int):\n",
    "            return \"result=%s\"%f(x,y)\n",
    "        else:\n",
    "            return \"expeting integers only\"\n",
    "    return inner\n",
    "@outer\n",
    "def fun(x,y):\n",
    "    return x+y\n",
    "\n",
    "#1\n",
    "print(fun(10,20))\n",
    "\"\"\"\n",
    "res=outer(fun)\n",
    "print(res(10,20))\n",
    "\"\"\"\n",
    "#2\n",
    "print(fun(\"10\",20))"
   ]
  },
  {
   "cell_type": "code",
   "execution_count": 18,
   "metadata": {},
   "outputs": [
    {
     "name": "stdout",
     "output_type": "stream",
     "text": [
      "('KHYAATHI', 'Maithrivanam')\n"
     ]
    }
   ],
   "source": [
    "class Emp:\n",
    "    company_name=\"KHYAATHI\"\n",
    "    company_address=\"Maithrivanam\"\n",
    "    def __init__(self, name,doj):\n",
    "        self.name=name\n",
    "        self.doj=doj\n",
    "    def get_company(self): # instance method\n",
    "        return self.company_name, self.company_address\n",
    "    def get(self): #instance method\n",
    "        return self.name, self.doj, self.company_name, self.company_address\n",
    "jay=Emp(\"JAYARAM\",\"2017-02-28\")\n",
    "print(jay.get_company())"
   ]
  },
  {
   "cell_type": "code",
   "execution_count": 19,
   "metadata": {},
   "outputs": [
    {
     "name": "stdout",
     "output_type": "stream",
     "text": [
      "('KHYAATHI', 'Maithrivanam')\n"
     ]
    }
   ],
   "source": [
    "class Emp:\n",
    "    company_name=\"KHYAATHI\"\n",
    "    company_address=\"Maithrivanam\"\n",
    "    def __init__(self, name,doj):\n",
    "        self.name=name\n",
    "        self.doj=doj\n",
    "    def get_company(self): # instance methaod\n",
    "        return self.company_name, self.company_address\n",
    "    def get(self): #instance method\n",
    "        return self.name, self.doj, self.company_name, self.company_address\n",
    "jay=Emp(\"JAYARAM\",\"2017-02-28\")\n",
    "print(jay.get_company())\n",
    "# company details can be get using Emp, bwcause we have defined ge_company as an instance\n",
    "# method, so it will oass dataobject as a first arguments when you call that method. but we\n",
    "# actually dont required dataobject there. class object also can take the company details.\n",
    "# so we can defined get_company as a class method,then when you call that class method using \n",
    "# data object or class object, internally it will pass class object only"
   ]
  },
  {
   "cell_type": "code",
   "execution_count": 22,
   "metadata": {},
   "outputs": [
    {
     "name": "stdout",
     "output_type": "stream",
     "text": [
      "jay= <__main__.Emp object at 0x7fbaf079e780>\n",
      "Emp= <class '__main__.Emp'>\n",
      "self= <__main__.Emp object at 0x7fbaf079e780>\n",
      "('KHYAATHI', 'Maithrivanam')\n"
     ]
    }
   ],
   "source": [
    "class Emp:\n",
    "    company_name=\"KHYAATHI\"\n",
    "    company_address=\"Maithrivanam\"\n",
    "    def __init__(self, name,doj):\n",
    "        self.name=name\n",
    "        self.doj=doj\n",
    "    def get_company(self): # instance methaod\n",
    "        print(\"self=\",self)\n",
    "        return self.company_name, self.company_address\n",
    "    def get(self): #instance method\n",
    "        return self.name, self.doj, self.company_name, self.company_address\n",
    "jay=Emp(\"JAYARAM\",\"2017-02-28\")\n",
    "print(\"jay=\",jay)\n",
    "print(\"Emp=\",Emp)\n",
    "print(jay.get_company())\n"
   ]
  },
  {
   "cell_type": "code",
   "execution_count": 23,
   "metadata": {},
   "outputs": [
    {
     "name": "stdout",
     "output_type": "stream",
     "text": [
      "jay= <__main__.Emp object at 0x7fbaf078b3c8>\n",
      "Emp= <class '__main__.Emp'>\n",
      "self= <class '__main__.Emp'>\n",
      "('KHYAATHI', 'Maithrivanam')\n"
     ]
    }
   ],
   "source": [
    "class Emp:\n",
    "    company_name=\"KHYAATHI\"\n",
    "    company_address=\"Maithrivanam\"\n",
    "    def __init__(self, name,doj):\n",
    "        self.name=name\n",
    "        self.doj=doj\n",
    "    @classmethod\n",
    "    def get_company(self): # class methaod\n",
    "        print(\"self=\",self)\n",
    "        return self.company_name, self.company_address\n",
    "    def get(self): #instance method\n",
    "        return self.name, self.doj, self.company_name, self.company_address\n",
    "jay=Emp(\"JAYARAM\",\"2017-02-28\")\n",
    "print(\"jay=\",jay)\n",
    "print(\"Emp=\",Emp)\n",
    "print(jay.get_company())\n"
   ]
  },
  {
   "cell_type": "code",
   "execution_count": 24,
   "metadata": {},
   "outputs": [
    {
     "name": "stdout",
     "output_type": "stream",
     "text": [
      "jay= <__main__.Emp object at 0x7fbaf07e08d0>\n",
      "Emp= <class '__main__.Emp'>\n",
      "self= <class '__main__.Emp'>\n",
      "('KHYAATHI', 'Maithrivanam')\n",
      "self= <class '__main__.Emp'>\n",
      "('KHYAATHI', 'Maithrivanam')\n"
     ]
    }
   ],
   "source": [
    "class Emp:\n",
    "    company_name=\"KHYAATHI\"\n",
    "    company_address=\"Maithrivanam\"\n",
    "    def __init__(self, name,doj):\n",
    "        self.name=name\n",
    "        self.doj=doj\n",
    "    @classmethod\n",
    "    def get_company(self): # class methaod\n",
    "        print(\"self=\",self)\n",
    "        return self.company_name, self.company_address\n",
    "    def get(self): #instance method\n",
    "        return self.name, self.doj, self.company_name, self.company_address\n",
    "jay=Emp(\"JAYARAM\",\"2017-02-28\")\n",
    "print(\"jay=\",jay)\n",
    "print(\"Emp=\",Emp)\n",
    "print(jay.get_company())\n",
    "print(Emp.get_company())"
   ]
  },
  {
   "cell_type": "code",
   "execution_count": 25,
   "metadata": {},
   "outputs": [
    {
     "name": "stdout",
     "output_type": "stream",
     "text": [
      "10 20\n",
      "100 200\n"
     ]
    }
   ],
   "source": [
    "class Emp:\n",
    "    company_name=\"KHYAATHI\"\n",
    "    company_address=\"Maithrivanam\"\n",
    "    def __init__(self, name,doj):\n",
    "        self.name=name\n",
    "        self.doj=doj\n",
    "    @staticmethod\n",
    "    def static(x,y):\n",
    "        print(x,y)\n",
    "    @classmethod\n",
    "    def get_company(self): # class methaod\n",
    "        print(\"self=\",self)\n",
    "        return self.company_name, self.company_address\n",
    "    def get(self): #instance method\n",
    "        return self.name, self.doj, self.company_name, self.company_address\n",
    "    \n",
    "jay=Emp(\"JAYARAM\",\"2017-02-28\")\n",
    "jay.static(10,20)\n",
    "Emp.static(100,200)"
   ]
  },
  {
   "cell_type": "code",
   "execution_count": null,
   "metadata": {},
   "outputs": [],
   "source": []
  }
 ],
 "metadata": {
  "kernelspec": {
   "display_name": "Python 3",
   "language": "python",
   "name": "python3"
  },
  "language_info": {
   "codemirror_mode": {
    "name": "ipython",
    "version": 3
   },
   "file_extension": ".py",
   "mimetype": "text/x-python",
   "name": "python",
   "nbconvert_exporter": "python",
   "pygments_lexer": "ipython3",
   "version": "3.7.0"
  }
 },
 "nbformat": 4,
 "nbformat_minor": 2
}
