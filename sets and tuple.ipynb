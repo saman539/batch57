{
 "cells": [
  {
   "cell_type": "code",
   "execution_count": 1,
   "metadata": {},
   "outputs": [
    {
     "name": "stdout",
     "output_type": "stream",
     "text": [
      "[10, 20, 30, 40, 40, 30, 20, 10]\n"
     ]
    }
   ],
   "source": [
    "l=[10,20,30,40,40,30,20,10]\n",
    "print(l)\n"
   ]
  },
  {
   "cell_type": "code",
   "execution_count": 2,
   "metadata": {},
   "outputs": [
    {
     "name": "stdout",
     "output_type": "stream",
     "text": [
      "(10, 20, 30, 40, 40, 30, 20, 10) <class 'tuple'>\n"
     ]
    }
   ],
   "source": [
    "l=(10,20,30,40,40,30,20,10)\n",
    "print(l,type(l))\n"
   ]
  },
  {
   "cell_type": "code",
   "execution_count": 3,
   "metadata": {},
   "outputs": [
    {
     "data": {
      "text/plain": [
       "10"
      ]
     },
     "execution_count": 3,
     "metadata": {},
     "output_type": "execute_result"
    }
   ],
   "source": [
    "l[0]"
   ]
  },
  {
   "cell_type": "code",
   "execution_count": 4,
   "metadata": {},
   "outputs": [
    {
     "data": {
      "text/plain": [
       "(30, 40, 40, 30, 20, 10)"
      ]
     },
     "execution_count": 4,
     "metadata": {},
     "output_type": "execute_result"
    }
   ],
   "source": [
    "l[2:12]"
   ]
  },
  {
   "cell_type": "code",
   "execution_count": 5,
   "metadata": {},
   "outputs": [
    {
     "name": "stdout",
     "output_type": "stream",
     "text": [
      "[1000, 2000, 3000] [1000, 2000, 3000] [1000, 2000, 3000] [1000, 2000, 3000]\n"
     ]
    }
   ],
   "source": [
    "l=[1000,2000,3000]\n",
    "k=l[:]\n",
    "m=l\n",
    "n=l.copy()\n",
    "print(k,l,m,n)"
   ]
  },
  {
   "cell_type": "code",
   "execution_count": 6,
   "metadata": {},
   "outputs": [
    {
     "name": "stdout",
     "output_type": "stream",
     "text": [
      "[10, 2000, 3000]\n"
     ]
    }
   ],
   "source": [
    "l=[1000,2000,3000]\n",
    "l[0]=10\n",
    "print(l)"
   ]
  },
  {
   "cell_type": "code",
   "execution_count": 7,
   "metadata": {},
   "outputs": [
    {
     "ename": "TypeError",
     "evalue": "'tuple' object does not support item assignment",
     "output_type": "error",
     "traceback": [
      "\u001b[0;31m---------------------------------------------------------------------------\u001b[0m",
      "\u001b[0;31mTypeError\u001b[0m                                 Traceback (most recent call last)",
      "\u001b[0;32m<ipython-input-7-2c94c99e5321>\u001b[0m in \u001b[0;36m<module>\u001b[0;34m()\u001b[0m\n\u001b[1;32m      1\u001b[0m \u001b[0ml\u001b[0m\u001b[0;34m=\u001b[0m\u001b[0;34m(\u001b[0m\u001b[0;36m1000\u001b[0m\u001b[0;34m,\u001b[0m\u001b[0;36m2000\u001b[0m\u001b[0;34m,\u001b[0m\u001b[0;36m3000\u001b[0m\u001b[0;34m)\u001b[0m\u001b[0;34m\u001b[0m\u001b[0m\n\u001b[0;32m----> 2\u001b[0;31m \u001b[0ml\u001b[0m\u001b[0;34m[\u001b[0m\u001b[0;36m0\u001b[0m\u001b[0;34m]\u001b[0m\u001b[0;34m=\u001b[0m\u001b[0;36m10\u001b[0m\u001b[0;34m\u001b[0m\u001b[0m\n\u001b[0m\u001b[1;32m      3\u001b[0m \u001b[0mprint\u001b[0m\u001b[0;34m(\u001b[0m\u001b[0ml\u001b[0m\u001b[0;34m)\u001b[0m\u001b[0;34m\u001b[0m\u001b[0m\n",
      "\u001b[0;31mTypeError\u001b[0m: 'tuple' object does not support item assignment"
     ]
    }
   ],
   "source": [
    "l=(1000,2000,3000)\n",
    "l[0]=10\n",
    "print(l)"
   ]
  },
  {
   "cell_type": "code",
   "execution_count": 8,
   "metadata": {},
   "outputs": [
    {
     "ename": "TypeError",
     "evalue": "'str' object does not support item assignment",
     "output_type": "error",
     "traceback": [
      "\u001b[0;31m---------------------------------------------------------------------------\u001b[0m",
      "\u001b[0;31mTypeError\u001b[0m                                 Traceback (most recent call last)",
      "\u001b[0;32m<ipython-input-8-c1b953efab54>\u001b[0m in \u001b[0;36m<module>\u001b[0;34m()\u001b[0m\n\u001b[1;32m      1\u001b[0m \u001b[0ms\u001b[0m\u001b[0;34m=\u001b[0m\u001b[0;34m\"python\"\u001b[0m\u001b[0;34m\u001b[0m\u001b[0m\n\u001b[0;32m----> 2\u001b[0;31m \u001b[0ms\u001b[0m\u001b[0;34m[\u001b[0m\u001b[0;36m0\u001b[0m\u001b[0;34m]\u001b[0m\u001b[0;34m=\u001b[0m\u001b[0;34m\"P\"\u001b[0m\u001b[0;34m\u001b[0m\u001b[0m\n\u001b[0m",
      "\u001b[0;31mTypeError\u001b[0m: 'str' object does not support item assignment"
     ]
    }
   ],
   "source": [
    "s=\"python\"\n",
    "s[0]=\"P\""
   ]
  },
  {
   "cell_type": "code",
   "execution_count": 9,
   "metadata": {},
   "outputs": [
    {
     "name": "stdout",
     "output_type": "stream",
     "text": [
      "(100, 200, 300) <class 'tuple'>\n"
     ]
    }
   ],
   "source": [
    "a=100,200,300\n",
    "print(a,type(a))"
   ]
  },
  {
   "cell_type": "code",
   "execution_count": 10,
   "metadata": {},
   "outputs": [
    {
     "name": "stdout",
     "output_type": "stream",
     "text": [
      "100 200\n"
     ]
    }
   ],
   "source": [
    "a,b=[100,200]\n",
    "print(a,b)"
   ]
  },
  {
   "cell_type": "code",
   "execution_count": 11,
   "metadata": {},
   "outputs": [
    {
     "name": "stdout",
     "output_type": "stream",
     "text": [
      "10 20\n"
     ]
    }
   ],
   "source": [
    "a,b=(10,20)\n",
    "print(a,b)"
   ]
  },
  {
   "cell_type": "code",
   "execution_count": 12,
   "metadata": {},
   "outputs": [],
   "source": [
    "a,b,c=[10,20,30]"
   ]
  },
  {
   "cell_type": "code",
   "execution_count": 13,
   "metadata": {},
   "outputs": [
    {
     "ename": "ValueError",
     "evalue": "too many values to unpack (expected 2)",
     "output_type": "error",
     "traceback": [
      "\u001b[0;31m---------------------------------------------------------------------------\u001b[0m",
      "\u001b[0;31mValueError\u001b[0m                                Traceback (most recent call last)",
      "\u001b[0;32m<ipython-input-13-5ecaa7c2016c>\u001b[0m in \u001b[0;36m<module>\u001b[0;34m()\u001b[0m\n\u001b[0;32m----> 1\u001b[0;31m \u001b[0ma\u001b[0m\u001b[0;34m,\u001b[0m\u001b[0mb\u001b[0m\u001b[0;34m=\u001b[0m\u001b[0;34m[\u001b[0m\u001b[0;36m10\u001b[0m\u001b[0;34m,\u001b[0m\u001b[0;36m20\u001b[0m\u001b[0;34m,\u001b[0m\u001b[0;36m30\u001b[0m\u001b[0;34m]\u001b[0m\u001b[0;34m\u001b[0m\u001b[0m\n\u001b[0m",
      "\u001b[0;31mValueError\u001b[0m: too many values to unpack (expected 2)"
     ]
    }
   ],
   "source": [
    "a,b=[10,20,30]"
   ]
  },
  {
   "cell_type": "code",
   "execution_count": 14,
   "metadata": {},
   "outputs": [
    {
     "name": "stdout",
     "output_type": "stream",
     "text": [
      "[10, 20, 30, 40] [100, 200]\n"
     ]
    }
   ],
   "source": [
    "a,b=[10,20,30,40],[100,200]\n",
    "print(a,b)"
   ]
  },
  {
   "cell_type": "code",
   "execution_count": 15,
   "metadata": {},
   "outputs": [
    {
     "name": "stdout",
     "output_type": "stream",
     "text": [
      "[10, 20, 30, 40, 30, 20, 10]\n"
     ]
    }
   ],
   "source": [
    "l=[10,20,30,40,30,20,10]\n",
    "print(l)"
   ]
  },
  {
   "cell_type": "code",
   "execution_count": 16,
   "metadata": {},
   "outputs": [
    {
     "name": "stdout",
     "output_type": "stream",
     "text": [
      "{40, 10, 20, 30}\n"
     ]
    }
   ],
   "source": [
    "l={10,20,30,40,30,20,10}\n",
    "print(l)"
   ]
  },
  {
   "cell_type": "code",
   "execution_count": 17,
   "metadata": {},
   "outputs": [
    {
     "ename": "TypeError",
     "evalue": "'set' object does not support indexing",
     "output_type": "error",
     "traceback": [
      "\u001b[0;31m---------------------------------------------------------------------------\u001b[0m",
      "\u001b[0;31mTypeError\u001b[0m                                 Traceback (most recent call last)",
      "\u001b[0;32m<ipython-input-17-dfb41474b704>\u001b[0m in \u001b[0;36m<module>\u001b[0;34m()\u001b[0m\n\u001b[1;32m      1\u001b[0m \u001b[0ml\u001b[0m\u001b[0;34m=\u001b[0m\u001b[0;34m{\u001b[0m\u001b[0;36m10\u001b[0m\u001b[0;34m,\u001b[0m\u001b[0;36m20\u001b[0m\u001b[0;34m,\u001b[0m\u001b[0;36m30\u001b[0m\u001b[0;34m,\u001b[0m\u001b[0;36m40\u001b[0m\u001b[0;34m}\u001b[0m\u001b[0;34m\u001b[0m\u001b[0m\n\u001b[0;32m----> 2\u001b[0;31m \u001b[0ml\u001b[0m\u001b[0;34m[\u001b[0m\u001b[0;36m0\u001b[0m\u001b[0;34m]\u001b[0m\u001b[0;34m\u001b[0m\u001b[0m\n\u001b[0m",
      "\u001b[0;31mTypeError\u001b[0m: 'set' object does not support indexing"
     ]
    }
   ],
   "source": [
    "l={10,20,30,40}\n",
    "l[0]"
   ]
  },
  {
   "cell_type": "code",
   "execution_count": 18,
   "metadata": {},
   "outputs": [
    {
     "ename": "TypeError",
     "evalue": "'set' object is not subscriptable",
     "output_type": "error",
     "traceback": [
      "\u001b[0;31m---------------------------------------------------------------------------\u001b[0m",
      "\u001b[0;31mTypeError\u001b[0m                                 Traceback (most recent call last)",
      "\u001b[0;32m<ipython-input-18-bd0ca64093cf>\u001b[0m in \u001b[0;36m<module>\u001b[0;34m()\u001b[0m\n\u001b[0;32m----> 1\u001b[0;31m \u001b[0ml\u001b[0m\u001b[0;34m[\u001b[0m\u001b[0;36m0\u001b[0m\u001b[0;34m:\u001b[0m\u001b[0;36m10\u001b[0m\u001b[0;34m]\u001b[0m\u001b[0;34m\u001b[0m\u001b[0m\n\u001b[0m",
      "\u001b[0;31mTypeError\u001b[0m: 'set' object is not subscriptable"
     ]
    }
   ],
   "source": [
    "l[0:10]"
   ]
  },
  {
   "cell_type": "code",
   "execution_count": 19,
   "metadata": {},
   "outputs": [
    {
     "name": "stdout",
     "output_type": "stream",
     "text": [
      "40\n",
      "10\n",
      "20\n",
      "30\n"
     ]
    }
   ],
   "source": [
    "l={10,20,30,40}\n",
    "for i in l:\n",
    "    print(i)"
   ]
  },
  {
   "cell_type": "code",
   "execution_count": 20,
   "metadata": {},
   "outputs": [
    {
     "name": "stdout",
     "output_type": "stream",
     "text": [
      "mandatory parameter: EMPid is missing\n"
     ]
    }
   ],
   "source": [
    "params=[\"EMPid\",\"name\",\"age\",\"pan\",\"adhar\",\"passport\"]\n",
    "mandatory=[\"EMPid\",\"name\"]\n",
    "optional=[\"age\",\"pan\",\"adhar\",\"passport\"]\n",
    "given_params=[\"name\",\"pan\",\"age\"]\n",
    "for i in mandatory:\n",
    "    if i not in given_params:\n",
    "        print(\"mandatory parameter: %s is missing\"%i)\n",
    "        break\n",
    "\n",
    "    \n"
   ]
  },
  {
   "cell_type": "code",
   "execution_count": 21,
   "metadata": {},
   "outputs": [
    {
     "name": "stdout",
     "output_type": "stream",
     "text": [
      "mandatory parameter: EMPid is missing\n"
     ]
    }
   ],
   "source": [
    "params=[\"EMPid\",\"name\",\"age\",\"pan\",\"adhar\",\"passport\"]\n",
    "mandatory=[\"EMPid\",\"name\"]\n",
    "optional=[\"age\",\"pan\",\"adhar\",\"passport\"]\n",
    "given_params=[\"pan\",\"age\"]\n",
    "for i in mandatory:\n",
    "    if i not in given_params:\n",
    "        print(\"mandatory parameter: %s is missing\"%i)\n",
    "        break\n",
    "\n",
    "    \n"
   ]
  },
  {
   "cell_type": "code",
   "execution_count": 22,
   "metadata": {},
   "outputs": [
    {
     "name": "stdout",
     "output_type": "stream",
     "text": [
      "mandatory parameter: EMPid is missing\n",
      "mandatory parameter: name is missing\n"
     ]
    }
   ],
   "source": [
    "params=[\"EMPid\",\"name\",\"age\",\"pan\",\"adhar\",\"passport\"]\n",
    "mandatory=[\"EMPid\",\"name\"]\n",
    "optional=[\"age\",\"pan\",\"adhar\",\"passport\"]\n",
    "given_params=[\"pan\",\"age\"]\n",
    "for i in mandatory:\n",
    "    if i not in given_params:\n",
    "        print(\"mandatory parameter: %s is missing\"%i)"
   ]
  },
  {
   "cell_type": "code",
   "execution_count": 23,
   "metadata": {},
   "outputs": [
    {
     "name": "stdout",
     "output_type": "stream",
     "text": [
      "['EMPid', 'name'] is missing\n"
     ]
    }
   ],
   "source": [
    "params=[\"EMPid\",\"name\",\"age\",\"pan\",\"adhar\",\"passport\"]\n",
    "mandatory=[\"EMPid\",\"name\"]\n",
    "optional=[\"age\",\"pan\",\"adhar\",\"passport\"]\n",
    "given_params=[\"pan\",\"age\"]\n",
    "r1=[]\n",
    "for i in mandatory:\n",
    "    if i not in given_params:\n",
    "        r1.append(i)\n",
    "if r1:\n",
    "    print(\"%s is missing\"%r1)"
   ]
  },
  {
   "cell_type": "code",
   "execution_count": 24,
   "metadata": {},
   "outputs": [
    {
     "name": "stdout",
     "output_type": "stream",
     "text": [
      "some parameters are missing\n"
     ]
    }
   ],
   "source": [
    "params=[\"EMPid\",\"name\",\"age\",\"pan\",\"adhar\",\"passport\"]\n",
    "mandatory=[\"EMPid\",\"name\"]\n",
    "optional=[\"age\",\"pan\",\"adhar\",\"passport\"]\n",
    "given_params=[\"pan\",\"age\"]\n",
    "if set(mandatory).issubset(set(given_params)):\n",
    "    print(\"all mandatory parameters given\")\n",
    "else:\n",
    "    print(\"some parameters are missing\")"
   ]
  },
  {
   "cell_type": "code",
   "execution_count": 25,
   "metadata": {},
   "outputs": [
    {
     "name": "stdout",
     "output_type": "stream",
     "text": [
      "some parameters are missing\n"
     ]
    }
   ],
   "source": [
    "params=[\"EMPid\",\"name\",\"age\",\"pan\",\"adhar\",\"passport\"]\n",
    "mandatory=[\"EMPid\",\"name\"]\n",
    "optional=[\"age\",\"pan\",\"adhar\",\"passport\"]\n",
    "given_params=[\"pan\",\"age\",\"EMPid\"]\n",
    "if set(mandatory).issubset(set(given_params)):\n",
    "    print(\"all mandatory parameters given\")\n",
    "else:\n",
    "    print(\"some parameters are missing\")"
   ]
  },
  {
   "cell_type": "code",
   "execution_count": 26,
   "metadata": {},
   "outputs": [
    {
     "name": "stdout",
     "output_type": "stream",
     "text": [
      "all mandatory parameters given\n"
     ]
    }
   ],
   "source": [
    "params=[\"EMPid\",\"name\",\"age\",\"pan\",\"adhar\",\"passport\"]\n",
    "mandatory=[\"EMPid\",\"name\"]\n",
    "optional=[\"age\",\"pan\",\"adhar\",\"passport\"]\n",
    "given_params=[\"pan\",\"age\",\"EMPid\",\"name\"]\n",
    "if set(mandatory).issubset(set(given_params)):\n",
    "    print(\"all mandatory parameters given\")\n",
    "else:\n",
    "    print(\"some parameters are missing\")"
   ]
  },
  {
   "cell_type": "code",
   "execution_count": 27,
   "metadata": {},
   "outputs": [
    {
     "data": {
      "text/plain": [
       "False"
      ]
     },
     "execution_count": 27,
     "metadata": {},
     "output_type": "execute_result"
    }
   ],
   "source": [
    "l=[1,2,3]\n",
    "k=[1,3,2]\n",
    "l==k"
   ]
  },
  {
   "cell_type": "code",
   "execution_count": 28,
   "metadata": {},
   "outputs": [
    {
     "data": {
      "text/plain": [
       "True"
      ]
     },
     "execution_count": 28,
     "metadata": {},
     "output_type": "execute_result"
    }
   ],
   "source": [
    "l={1,2,3}\n",
    "k={1,3,2}\n",
    "l==k"
   ]
  },
  {
   "cell_type": "code",
   "execution_count": 29,
   "metadata": {},
   "outputs": [
    {
     "name": "stdout",
     "output_type": "stream",
     "text": [
      "all mandatory parameters given\n"
     ]
    }
   ],
   "source": [
    "params=[\"EMPid\",\"name\",\"age\",\"pan\",\"adhar\",\"passport\"]\n",
    "mandatory=[\"EMPid\",\"name\"]\n",
    "optional=[\"age\",\"pan\",\"adhar\",\"passport\"]\n",
    "given_params=[\"pan\",\"age\",\"EMPid\",\"name\"]\n",
    "if set(mandatory).issubset(set(given_params)):\n",
    "    print(\"all mandatory parameters given\")\n",
    "else:\n",
    "    print(\"some parameters are missing\")\n",
    "    print(set(mandatory).difference(set(given_params)))"
   ]
  },
  {
   "cell_type": "code",
   "execution_count": 30,
   "metadata": {},
   "outputs": [
    {
     "name": "stdout",
     "output_type": "stream",
     "text": [
      "some parameters are missing\n",
      "{'name'}\n"
     ]
    }
   ],
   "source": [
    "params=[\"EMPid\",\"name\",\"age\",\"pan\",\"adhar\",\"passport\"]\n",
    "mandatory=[\"EMPid\",\"name\"]\n",
    "optional=[\"age\",\"pan\",\"adhar\",\"passport\"]\n",
    "given_params=[\"pan\",\"age\",\"EMPid\"]\n",
    "if set(mandatory).issubset(set(given_params)):\n",
    "    print(\"all mandatory parameters given\")\n",
    "else:\n",
    "    print(\"some parameters are missing\")\n",
    "    print(set(mandatory).difference(set(given_params)))"
   ]
  },
  {
   "cell_type": "code",
   "execution_count": 31,
   "metadata": {},
   "outputs": [
    {
     "name": "stdout",
     "output_type": "stream",
     "text": [
      "some parameters are missing\n",
      "{'name', 'EMPid'}\n"
     ]
    }
   ],
   "source": [
    "params=[\"EMPid\",\"name\",\"age\",\"pan\",\"adhar\",\"passport\"]\n",
    "mandatory=[\"EMPid\",\"name\"]\n",
    "optional=[\"age\",\"pan\",\"adhar\",\"passport\"]\n",
    "given_params=[\"pan\",\"age\"]\n",
    "if set(mandatory).issubset(set(given_params)):\n",
    "    print(\"all mandatory parameters given\")\n",
    "else:\n",
    "    print(\"some parameters are missing\")\n",
    "    print(set(mandatory).difference(set(given_params)))"
   ]
  },
  {
   "cell_type": "code",
   "execution_count": 32,
   "metadata": {},
   "outputs": [],
   "source": [
    "s1={1,2,3,4}"
   ]
  },
  {
   "cell_type": "code",
   "execution_count": 34,
   "metadata": {},
   "outputs": [
    {
     "name": "stdout",
     "output_type": "stream",
     "text": [
      "{1, 2, 3, 4, 10}\n",
      "None\n"
     ]
    }
   ],
   "source": [
    "s2 = s1.add(10)\n",
    "print(s1)\n",
    "print(s2)\n"
   ]
  },
  {
   "cell_type": "code",
   "execution_count": 35,
   "metadata": {},
   "outputs": [
    {
     "name": "stdout",
     "output_type": "stream",
     "text": [
      "set()\n",
      "None\n"
     ]
    }
   ],
   "source": [
    "s1={1,2,3,4}\n",
    "s2=s1.clear()\n",
    "print(s1)\n",
    "print(s2)"
   ]
  },
  {
   "cell_type": "code",
   "execution_count": 36,
   "metadata": {},
   "outputs": [
    {
     "name": "stdout",
     "output_type": "stream",
     "text": [
      "1\n",
      "{2, 3, 4}\n"
     ]
    }
   ],
   "source": [
    "s1={1,2,3,4}\n",
    "s2 = s1.pop()\n",
    "print(s2)\n",
    "print(s1)"
   ]
  },
  {
   "cell_type": "code",
   "execution_count": 37,
   "metadata": {},
   "outputs": [
    {
     "name": "stdout",
     "output_type": "stream",
     "text": [
      "None\n",
      "{1, 2, 4}\n"
     ]
    }
   ],
   "source": [
    "s1={1,2,3,4}\n",
    "s2 = s1.remove(3)\n",
    "print(s2)\n",
    "print(s1)a"
   ]
  },
  {
   "cell_type": "code",
   "execution_count": 39,
   "metadata": {},
   "outputs": [
    {
     "ename": "KeyError",
     "evalue": "30",
     "output_type": "error",
     "traceback": [
      "\u001b[0;31m---------------------------------------------------------------------------\u001b[0m",
      "\u001b[0;31mKeyError\u001b[0m                                  Traceback (most recent call last)",
      "\u001b[0;32m<ipython-input-39-5acf5aebac63>\u001b[0m in \u001b[0;36m<module>\u001b[0;34m()\u001b[0m\n\u001b[1;32m      1\u001b[0m \u001b[0ms1\u001b[0m\u001b[0;34m=\u001b[0m\u001b[0;34m{\u001b[0m\u001b[0;36m1\u001b[0m\u001b[0;34m,\u001b[0m\u001b[0;36m2\u001b[0m\u001b[0;34m,\u001b[0m\u001b[0;36m3\u001b[0m\u001b[0;34m,\u001b[0m\u001b[0;36m4\u001b[0m\u001b[0;34m}\u001b[0m\u001b[0;34m\u001b[0m\u001b[0m\n\u001b[0;32m----> 2\u001b[0;31m \u001b[0ms2\u001b[0m \u001b[0;34m=\u001b[0m \u001b[0ms1\u001b[0m\u001b[0;34m.\u001b[0m\u001b[0mremove\u001b[0m\u001b[0;34m(\u001b[0m\u001b[0;36m30\u001b[0m\u001b[0;34m)\u001b[0m\u001b[0;34m\u001b[0m\u001b[0m\n\u001b[0m\u001b[1;32m      3\u001b[0m \u001b[0mprint\u001b[0m\u001b[0;34m(\u001b[0m\u001b[0ms2\u001b[0m\u001b[0;34m)\u001b[0m\u001b[0;34m\u001b[0m\u001b[0m\n\u001b[1;32m      4\u001b[0m \u001b[0mprint\u001b[0m\u001b[0;34m(\u001b[0m\u001b[0ms1\u001b[0m\u001b[0;34m)\u001b[0m\u001b[0;34m\u001b[0m\u001b[0m\n",
      "\u001b[0;31mKeyError\u001b[0m: 30"
     ]
    }
   ],
   "source": [
    "s1={1,2,3,4}\n",
    "s2 = s1.remove(30)\n",
    "print(s2)\n",
    "print(s1)"
   ]
  },
  {
   "cell_type": "code",
   "execution_count": 40,
   "metadata": {},
   "outputs": [
    {
     "name": "stdout",
     "output_type": "stream",
     "text": [
      "None\n",
      "{1, 2, 4}\n"
     ]
    }
   ],
   "source": [
    "s1={1,2,3,4}\n",
    "s2 = s1.discard(3)\n",
    "print(s2)\n",
    "print(s1)"
   ]
  },
  {
   "cell_type": "code",
   "execution_count": 41,
   "metadata": {},
   "outputs": [
    {
     "name": "stdout",
     "output_type": "stream",
     "text": [
      "None\n",
      "{1, 2, 3, 4}\n"
     ]
    }
   ],
   "source": [
    "s1={1,2,3,4}\n",
    "s2 = s1.discard(30)\n",
    "print(s2)\n",
    "print(s1)"
   ]
  },
  {
   "cell_type": "code",
   "execution_count": 42,
   "metadata": {},
   "outputs": [
    {
     "name": "stdout",
     "output_type": "stream",
     "text": [
      "{1, 2, 3, 4, 5, 6, 7, 8}\n",
      "{8, 5, 6, 7}\n"
     ]
    }
   ],
   "source": [
    "s1={1,2,3,4}\n",
    "s2={5,6,7,8}\n",
    "s1.update(s2)\n",
    "print(s1)\n",
    "print(s2)"
   ]
  },
  {
   "cell_type": "code",
   "execution_count": 43,
   "metadata": {},
   "outputs": [
    {
     "name": "stdout",
     "output_type": "stream",
     "text": [
      "{1, 2, 3, 4}\n",
      "{1, 2, 3, 4}\n"
     ]
    }
   ],
   "source": [
    "s1={1,2,3,4}\n",
    "s2={1,2,3,4}\n",
    "s1.update(s2)\n",
    "print(s1)\n",
    "print(s2)"
   ]
  },
  {
   "cell_type": "code",
   "execution_count": 44,
   "metadata": {},
   "outputs": [
    {
     "name": "stdout",
     "output_type": "stream",
     "text": [
      "{67, 4, 5, 10, -20, 45}\n"
     ]
    }
   ],
   "source": [
    "s={10,5,4,-20,45,67}\n",
    "print(s)"
   ]
  },
  {
   "cell_type": "code",
   "execution_count": 45,
   "metadata": {},
   "outputs": [
    {
     "name": "stdout",
     "output_type": "stream",
     "text": [
      "[-20, 4, 5, 10, 45, 67]\n"
     ]
    }
   ],
   "source": [
    "s={10,5,4,-20,45,67}\n",
    "l=list(s)\n",
    "l.sort()\n",
    "print(l)"
   ]
  },
  {
   "cell_type": "code",
   "execution_count": 46,
   "metadata": {},
   "outputs": [
    {
     "name": "stdout",
     "output_type": "stream",
     "text": [
      "(1, 2, 3, 4) <class 'tuple'>\n"
     ]
    }
   ],
   "source": [
    "l=[1,2,3,4]\n",
    "t=tuple(l)\n",
    "print(t,type(t))"
   ]
  },
  {
   "cell_type": "code",
   "execution_count": 47,
   "metadata": {},
   "outputs": [],
   "source": [
    "s=\"apple,orange,banana,grape\"\n"
   ]
  },
  {
   "cell_type": "code",
   "execution_count": 48,
   "metadata": {},
   "outputs": [
    {
     "name": "stdout",
     "output_type": "stream",
     "text": [
      "['a', 'p', 'p', 'l', 'e', ',', 'o', 'r', 'a', 'n', 'g', 'e', ',', 'b', 'a', 'n', 'a', 'n', 'a', ',', 'g', 'r', 'a', 'p', 'e']\n"
     ]
    }
   ],
   "source": [
    "l=list(s)\n",
    "print(l)"
   ]
  },
  {
   "cell_type": "code",
   "execution_count": 49,
   "metadata": {},
   "outputs": [
    {
     "name": "stdout",
     "output_type": "stream",
     "text": [
      "['apple', 'orange', 'banana', 'grape']\n"
     ]
    }
   ],
   "source": [
    "l=s.split(\",\")\n",
    "print(l)"
   ]
  },
  {
   "cell_type": "code",
   "execution_count": 50,
   "metadata": {},
   "outputs": [
    {
     "name": "stdout",
     "output_type": "stream",
     "text": [
      "['apple', 'banana', 'grape', 'orange']\n"
     ]
    }
   ],
   "source": [
    "l=s.split(\",\")\n",
    "l.sort()\n",
    "print(l)"
   ]
  },
  {
   "cell_type": "code",
   "execution_count": 51,
   "metadata": {},
   "outputs": [
    {
     "name": "stdout",
     "output_type": "stream",
     "text": [
      "apple,banana,grape,orange\n"
     ]
    }
   ],
   "source": [
    "l=s.split(\",\")\n",
    "l.sort()\n",
    "print(\",\".join(l))"
   ]
  },
  {
   "cell_type": "code",
   "execution_count": 52,
   "metadata": {},
   "outputs": [
    {
     "name": "stdout",
     "output_type": "stream",
     "text": [
      "8\n"
     ]
    }
   ],
   "source": [
    "l=[\"10\",\"6\",\"8\",\"200\",\"200\",\"10\",\"5\",\"8\"]\n",
    "print(max(l))\n"
   ]
  },
  {
   "cell_type": "code",
   "execution_count": 53,
   "metadata": {},
   "outputs": [
    {
     "name": "stdout",
     "output_type": "stream",
     "text": [
      "200\n"
     ]
    }
   ],
   "source": [
    "l=[\"10\",\"6\",\"8\",\"200\",\"200\",\"10\",\"5\",\"8\"]\n",
    "print(l[3])\n"
   ]
  },
  {
   "cell_type": "code",
   "execution_count": 54,
   "metadata": {},
   "outputs": [
    {
     "ename": "TypeError",
     "evalue": "int() argument must be a string, a bytes-like object or a number, not 'list'",
     "output_type": "error",
     "traceback": [
      "\u001b[0;31m---------------------------------------------------------------------------\u001b[0m",
      "\u001b[0;31mTypeError\u001b[0m                                 Traceback (most recent call last)",
      "\u001b[0;32m<ipython-input-54-5f48bce8c93e>\u001b[0m in \u001b[0;36m<module>\u001b[0;34m()\u001b[0m\n\u001b[1;32m      1\u001b[0m \u001b[0ml\u001b[0m\u001b[0;34m=\u001b[0m\u001b[0;34m[\u001b[0m\u001b[0;34m\"10\"\u001b[0m\u001b[0;34m,\u001b[0m\u001b[0;34m\"6\"\u001b[0m\u001b[0;34m,\u001b[0m\u001b[0;34m\"8\"\u001b[0m\u001b[0;34m,\u001b[0m\u001b[0;34m\"200\"\u001b[0m\u001b[0;34m,\u001b[0m\u001b[0;34m\"200\"\u001b[0m\u001b[0;34m,\u001b[0m\u001b[0;34m\"10\"\u001b[0m\u001b[0;34m,\u001b[0m\u001b[0;34m\"5\"\u001b[0m\u001b[0;34m,\u001b[0m\u001b[0;34m\"8\"\u001b[0m\u001b[0;34m]\u001b[0m\u001b[0;34m\u001b[0m\u001b[0m\n\u001b[0;32m----> 2\u001b[0;31m \u001b[0mprint\u001b[0m\u001b[0;34m(\u001b[0m\u001b[0mint\u001b[0m\u001b[0;34m(\u001b[0m\u001b[0ml\u001b[0m\u001b[0;34m)\u001b[0m\u001b[0;34m)\u001b[0m\u001b[0;34m\u001b[0m\u001b[0m\n\u001b[0m",
      "\u001b[0;31mTypeError\u001b[0m: int() argument must be a string, a bytes-like object or a number, not 'list'"
     ]
    }
   ],
   "source": [
    "l=[\"10\",\"6\",\"8\",\"200\",\"200\",\"10\",\"5\",\"8\"]\n",
    "print(int(l))"
   ]
  },
  {
   "cell_type": "code",
   "execution_count": 55,
   "metadata": {},
   "outputs": [
    {
     "name": "stdout",
     "output_type": "stream",
     "text": [
      "[10, 6, 8, 200, 200, 10, 5, 8]\n"
     ]
    }
   ],
   "source": [
    "l=[\"10\",\"6\",\"8\",\"200\",\"200\",\"10\",\"5\",\"8\"]\n",
    "res=[]\n",
    "for i in l:\n",
    "    res.append(int(i))\n",
    "print(res)"
   ]
  },
  {
   "cell_type": "code",
   "execution_count": 56,
   "metadata": {},
   "outputs": [
    {
     "name": "stdout",
     "output_type": "stream",
     "text": [
      "200\n"
     ]
    }
   ],
   "source": [
    "l=[\"10\",\"6\",\"8\",\"200\",\"200\",\"10\",\"5\",\"8\"]\n",
    "res=[]\n",
    "for i in l:\n",
    "    res.append(int(i))\n",
    "print(max(res))"
   ]
  },
  {
   "cell_type": "code",
   "execution_count": 57,
   "metadata": {},
   "outputs": [
    {
     "name": "stdout",
     "output_type": "stream",
     "text": [
      "None\n"
     ]
    }
   ],
   "source": [
    "l=[\"10\",\"6\",\"8\",\"200\",\"200\",\"10\",\"5\",\"8\"]\n",
    "res=[]\n",
    "for i in l:\n",
    "    res.append(int(i))\n",
    "print(res.sort())"
   ]
  },
  {
   "cell_type": "code",
   "execution_count": 58,
   "metadata": {},
   "outputs": [
    {
     "name": "stdout",
     "output_type": "stream",
     "text": [
      "None\n"
     ]
    }
   ],
   "source": [
    "l=[\"10\",\"6\",\"8\",\"200\",\"200\",\"10\",\"5\",\"8\"]\n",
    "res=[]\n",
    "for i in l:\n",
    "    res.append(int(i))\n",
    "ordered_l = res.sort()\n",
    "print(ordered_l)"
   ]
  },
  {
   "cell_type": "code",
   "execution_count": 59,
   "metadata": {},
   "outputs": [
    {
     "name": "stdout",
     "output_type": "stream",
     "text": [
      "None\n",
      "[5, 6, 8, 8, 10, 10, 200, 200]\n"
     ]
    }
   ],
   "source": [
    "l=[\"10\",\"6\",\"8\",\"200\",\"200\",\"10\",\"5\",\"8\"]\n",
    "res=[]\n",
    "for i in l:\n",
    "    res.append(int(i))\n",
    "ordered_l = res.sort()\n",
    "print(ordered_l)\n",
    "print(res)"
   ]
  },
  {
   "cell_type": "code",
   "execution_count": 60,
   "metadata": {},
   "outputs": [
    {
     "name": "stdout",
     "output_type": "stream",
     "text": [
      "None\n",
      "200\n"
     ]
    }
   ],
   "source": [
    "l=[\"10\",\"6\",\"8\",\"200\",\"200\",\"10\",\"5\",\"8\"]\n",
    "res=[]\n",
    "for i in l:\n",
    "    res.append(int(i))\n",
    "ordered_l = res.sort()\n",
    "print(ordered_l)\n",
    "print(res[-2])"
   ]
  },
  {
   "cell_type": "code",
   "execution_count": 61,
   "metadata": {},
   "outputs": [
    {
     "name": "stdout",
     "output_type": "stream",
     "text": [
      "[10, 6, 8, 200, 200, 10, 5, 8]\n"
     ]
    }
   ],
   "source": [
    "l=[\"10\",\"6\",\"8\",\"200\",\"200\",\"10\",\"5\",\"8\"]\n",
    "res=[]\n",
    "for i in l:\n",
    "    res.append(int(i))\n",
    "print(res)"
   ]
  },
  {
   "cell_type": "code",
   "execution_count": 62,
   "metadata": {},
   "outputs": [
    {
     "name": "stdout",
     "output_type": "stream",
     "text": [
      "200\n"
     ]
    }
   ],
   "source": [
    "l=[\"10\",\"6\",\"8\",\"200\",\"200\",\"10\",\"5\",\"8\"]\n",
    "res=[]\n",
    "for i in l:\n",
    "    res.append(int(i))\n",
    "max_ele = max(res)\n",
    "print(max_ele)"
   ]
  },
  {
   "cell_type": "code",
   "execution_count": 63,
   "metadata": {},
   "outputs": [
    {
     "name": "stdout",
     "output_type": "stream",
     "text": [
      "[10, 6, 8, 200, 10, 5, 8]\n"
     ]
    }
   ],
   "source": [
    "l=[\"10\",\"6\",\"8\",\"200\",\"200\",\"10\",\"5\",\"8\"]\n",
    "res=[]\n",
    "for i in l:\n",
    "    res.append(int(i))\n",
    "max_ele = max(res)\n",
    "res.remove(max_ele)\n",
    "print(res)"
   ]
  },
  {
   "cell_type": "code",
   "execution_count": 64,
   "metadata": {},
   "outputs": [
    {
     "name": "stdout",
     "output_type": "stream",
     "text": [
      "[10, 6, 8, 10, 5, 8]\n"
     ]
    }
   ],
   "source": [
    "l=[\"10\",\"6\",\"8\",\"200\",\"200\",\"10\",\"5\",\"8\"]\n",
    "res=[]\n",
    "for i in l:\n",
    "    res.append(int(i))\n",
    "max_ele = max(res)\n",
    "res_list_without_maxele = []\n",
    "for i in res:\n",
    "    if i!=max_ele:\n",
    "        res_list_without_maxele.append(i)\n",
    "print(res_list_without_maxele)"
   ]
  },
  {
   "cell_type": "code",
   "execution_count": 65,
   "metadata": {},
   "outputs": [
    {
     "name": "stdout",
     "output_type": "stream",
     "text": [
      "10\n"
     ]
    }
   ],
   "source": [
    "l=[\"10\",\"6\",\"8\",\"200\",\"200\",\"10\",\"5\",\"8\"]\n",
    "res=[]\n",
    "for i in l:\n",
    "    res.append(int(i))\n",
    "max_ele = max(res)\n",
    "res_list_without_maxele = []\n",
    "for i in res:\n",
    "    if i!=max_ele:\n",
    "        res_list_without_maxele.append(i)\n",
    "print(max(res_list_without_maxele))"
   ]
  },
  {
   "cell_type": "code",
   "execution_count": 67,
   "metadata": {},
   "outputs": [
    {
     "name": "stdout",
     "output_type": "stream",
     "text": [
      "10\n"
     ]
    }
   ],
   "source": [
    "l=[\"10\",\"6\",\"8\",\"200\",\"200\",\"10\",\"5\",\"8\"]\n",
    "res=[]\n",
    "for i in l:\n",
    "    res.append(int(i))\n",
    "max_ele = max(res)\n",
    "while res.count(max_ele)>0:\n",
    "    res.remove(max_ele)\n",
    "print(max(res))"
   ]
  },
  {
   "cell_type": "code",
   "execution_count": 69,
   "metadata": {},
   "outputs": [
    {
     "name": "stdout",
     "output_type": "stream",
     "text": [
      "10\n"
     ]
    }
   ],
   "source": [
    "l=[\"10\",\"6\",\"8\",\"200\",\"200\",\"10\",\"5\",\"8\"]\n",
    "l=map(int,l)\n",
    "l=list(l)\n",
    "max_ele = max(l)\n",
    "while l.count(max_ele)>0:\n",
    "    l.remove(max_ele)\n",
    "print(max(res))"
   ]
  },
  {
   "cell_type": "code",
   "execution_count": null,
   "metadata": {},
   "outputs": [],
   "source": []
  }
 ],
 "metadata": {
  "kernelspec": {
   "display_name": "Python 3",
   "language": "python",
   "name": "python3"
  },
  "language_info": {
   "codemirror_mode": {
    "name": "ipython",
    "version": 3
   },
   "file_extension": ".py",
   "mimetype": "text/x-python",
   "name": "python",
   "nbconvert_exporter": "python",
   "pygments_lexer": "ipython3",
   "version": "3.7.0"
  }
 },
 "nbformat": 4,
 "nbformat_minor": 2
}
