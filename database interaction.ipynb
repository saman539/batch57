{
 "cells": [
  {
   "cell_type": "code",
   "execution_count": 1,
   "metadata": {},
   "outputs": [],
   "source": [
    "# install postgres DBMS\n",
    "# install the module to interact with postgres\n",
    "# write a seperate functinos for create table, insert data, update data, delete data, retrive data"
   ]
  },
  {
   "cell_type": "code",
   "execution_count": 2,
   "metadata": {},
   "outputs": [],
   "source": [
    "import sqlite3"
   ]
  },
  {
   "cell_type": "code",
   "execution_count": 3,
   "metadata": {},
   "outputs": [],
   "source": [
    "con=sqlite3.connect(\"db1.sqlite3\")"
   ]
  },
  {
   "cell_type": "code",
   "execution_count": 4,
   "metadata": {},
   "outputs": [],
   "source": [
    "cur=con.cursor()"
   ]
  },
  {
   "cell_type": "code",
   "execution_count": 5,
   "metadata": {},
   "outputs": [
    {
     "data": {
      "text/plain": [
       "<sqlite3.Cursor at 0x7f4a145f19d0>"
      ]
     },
     "execution_count": 5,
     "metadata": {},
     "output_type": "execute_result"
    }
   ],
   "source": [
    "q=\"create table customer (id int, name varcrchar(250))\"\n",
    "cur.execute(q)"
   ]
  },
  {
   "cell_type": "code",
   "execution_count": null,
   "metadata": {},
   "outputs": [],
   "source": [
    "import sqlite3\n",
    "con=sqlite3.connect(\"db1.sqlite3\")\n",
    "cur=con.cursor()\n",
    "q=\"create table customer (id int, name varcrchar(250))\"\n",
    "cur.execute(q)"
   ]
  },
  {
   "cell_type": "code",
   "execution_count": 6,
   "metadata": {},
   "outputs": [
    {
     "data": {
      "text/plain": [
       "'/home/khyaathipython/batch57'"
      ]
     },
     "execution_count": 6,
     "metadata": {},
     "output_type": "execute_result"
    }
   ],
   "source": [
    "pwd"
   ]
  },
  {
   "cell_type": "code",
   "execution_count": 9,
   "metadata": {},
   "outputs": [
    {
     "data": {
      "text/plain": [
       "<sqlite3.Cursor at 0x7f4a145f19d0>"
      ]
     },
     "execution_count": 9,
     "metadata": {},
     "output_type": "execute_result"
    }
   ],
   "source": [
    "q=\"insert into customer(id, name) values(1,'sai')\"\n",
    "cur.execute(q)"
   ]
  },
  {
   "cell_type": "code",
   "execution_count": 11,
   "metadata": {},
   "outputs": [],
   "source": [
    "con.commit()"
   ]
  },
  {
   "cell_type": "code",
   "execution_count": 12,
   "metadata": {},
   "outputs": [
    {
     "name": "stdout",
     "output_type": "stream",
     "text": [
      "mahesh\n"
     ]
    }
   ],
   "source": [
    "names=[\"samba\",\"vikas\",\"srinivas\",\"praneeth\",\"mahesh\",\"ram\"]\n",
    "import random\n",
    "print(random.choice(names))"
   ]
  },
  {
   "cell_type": "code",
   "execution_count": 13,
   "metadata": {},
   "outputs": [
    {
     "name": "stdout",
     "output_type": "stream",
     "text": [
      "ram\n"
     ]
    }
   ],
   "source": [
    "names=[\"samba\",\"vikas\",\"srinivas\",\"praneeth\",\"mahesh\",\"ram\"]\n",
    "import random\n",
    "print(random.choice(names))"
   ]
  },
  {
   "cell_type": "code",
   "execution_count": 14,
   "metadata": {},
   "outputs": [
    {
     "name": "stdout",
     "output_type": "stream",
     "text": [
      "srinivas\n"
     ]
    }
   ],
   "source": [
    "names=[\"samba\",\"vikas\",\"srinivas\",\"praneeth\",\"mahesh\",\"ram\"]\n",
    "import random\n",
    "print(random.choice(names))"
   ]
  },
  {
   "cell_type": "code",
   "execution_count": 15,
   "metadata": {},
   "outputs": [
    {
     "name": "stdout",
     "output_type": "stream",
     "text": [
      "ram\n"
     ]
    }
   ],
   "source": [
    "names=[\"samba\",\"vikas\",\"srinivas\",\"praneeth\",\"mahesh\",\"ram\"]\n",
    "import random\n",
    "print(random.choice(names))"
   ]
  },
  {
   "cell_type": "code",
   "execution_count": 16,
   "metadata": {},
   "outputs": [
    {
     "name": "stdout",
     "output_type": "stream",
     "text": [
      "samba\n"
     ]
    }
   ],
   "source": [
    "names=[\"samba\",\"vikas\",\"srinivas\",\"praneeth\",\"mahesh\",\"ram\"]\n",
    "import random\n",
    "print(random.choice(names))"
   ]
  },
  {
   "cell_type": "code",
   "execution_count": 17,
   "metadata": {},
   "outputs": [
    {
     "name": "stdout",
     "output_type": "stream",
     "text": [
      "mahesh\n"
     ]
    }
   ],
   "source": [
    "names=[\"samba\",\"vikas\",\"srinivas\",\"praneeth\",\"mahesh\",\"ram\"]\n",
    "import random\n",
    "print(random.choice(names))"
   ]
  },
  {
   "cell_type": "code",
   "execution_count": 18,
   "metadata": {},
   "outputs": [],
   "source": [
    "import random\n",
    "names=[\"samba\",\"vikas\",\"srinivas\",\"praneeth\",\"mahesh\",\"ram\"]\n",
    "for i in range(2,200):\n",
    "    q=\"insert into customer(id, name) values(%s,'%s')\"%(i, random.choice(names))\n",
    "    cur.execute(q)\n",
    "    con.commit()"
   ]
  },
  {
   "cell_type": "code",
   "execution_count": 20,
   "metadata": {},
   "outputs": [
    {
     "data": {
      "text/plain": [
       "<sqlite3.Cursor at 0x7f4a145f19d0>"
      ]
     },
     "execution_count": 20,
     "metadata": {},
     "output_type": "execute_result"
    }
   ],
   "source": [
    "q=\"select * from customer\"\n",
    "cur.execute(q)"
   ]
  },
  {
   "cell_type": "code",
   "execution_count": 21,
   "metadata": {},
   "outputs": [
    {
     "data": {
      "text/plain": [
       "[(1, 'sai'),\n",
       " (2, 'mahesh'),\n",
       " (3, 'samba'),\n",
       " (4, 'vikas'),\n",
       " (5, 'samba'),\n",
       " (6, 'samba'),\n",
       " (7, 'mahesh'),\n",
       " (8, 'praneeth'),\n",
       " (9, 'ram'),\n",
       " (10, 'praneeth'),\n",
       " (11, 'samba'),\n",
       " (12, 'vikas'),\n",
       " (13, 'mahesh'),\n",
       " (14, 'praneeth'),\n",
       " (15, 'mahesh'),\n",
       " (16, 'vikas'),\n",
       " (17, 'vikas'),\n",
       " (18, 'praneeth'),\n",
       " (19, 'vikas'),\n",
       " (20, 'vikas'),\n",
       " (21, 'ram'),\n",
       " (22, 'samba'),\n",
       " (23, 'samba'),\n",
       " (24, 'vikas'),\n",
       " (25, 'srinivas'),\n",
       " (26, 'vikas'),\n",
       " (27, 'ram'),\n",
       " (28, 'samba'),\n",
       " (29, 'srinivas'),\n",
       " (30, 'samba'),\n",
       " (31, 'ram'),\n",
       " (32, 'mahesh'),\n",
       " (33, 'srinivas'),\n",
       " (34, 'ram'),\n",
       " (35, 'samba'),\n",
       " (36, 'praneeth'),\n",
       " (37, 'srinivas'),\n",
       " (38, 'mahesh'),\n",
       " (39, 'praneeth'),\n",
       " (40, 'ram'),\n",
       " (41, 'mahesh'),\n",
       " (42, 'ram'),\n",
       " (43, 'samba'),\n",
       " (44, 'samba'),\n",
       " (45, 'samba'),\n",
       " (46, 'srinivas'),\n",
       " (47, 'ram'),\n",
       " (48, 'vikas'),\n",
       " (49, 'vikas'),\n",
       " (50, 'samba'),\n",
       " (51, 'srinivas'),\n",
       " (52, 'srinivas'),\n",
       " (53, 'mahesh'),\n",
       " (54, 'srinivas'),\n",
       " (55, 'ram'),\n",
       " (56, 'mahesh'),\n",
       " (57, 'praneeth'),\n",
       " (58, 'samba'),\n",
       " (59, 'samba'),\n",
       " (60, 'vikas'),\n",
       " (61, 'samba'),\n",
       " (62, 'mahesh'),\n",
       " (63, 'samba'),\n",
       " (64, 'vikas'),\n",
       " (65, 'vikas'),\n",
       " (66, 'mahesh'),\n",
       " (67, 'ram'),\n",
       " (68, 'srinivas'),\n",
       " (69, 'samba'),\n",
       " (70, 'samba'),\n",
       " (71, 'mahesh'),\n",
       " (72, 'praneeth'),\n",
       " (73, 'vikas'),\n",
       " (74, 'mahesh'),\n",
       " (75, 'ram'),\n",
       " (76, 'vikas'),\n",
       " (77, 'vikas'),\n",
       " (78, 'ram'),\n",
       " (79, 'mahesh'),\n",
       " (80, 'srinivas'),\n",
       " (81, 'vikas'),\n",
       " (82, 'praneeth'),\n",
       " (83, 'praneeth'),\n",
       " (84, 'vikas'),\n",
       " (85, 'vikas'),\n",
       " (86, 'praneeth'),\n",
       " (87, 'srinivas'),\n",
       " (88, 'samba'),\n",
       " (89, 'vikas'),\n",
       " (90, 'samba'),\n",
       " (91, 'ram'),\n",
       " (92, 'ram'),\n",
       " (93, 'ram'),\n",
       " (94, 'mahesh'),\n",
       " (95, 'ram'),\n",
       " (96, 'praneeth'),\n",
       " (97, 'samba'),\n",
       " (98, 'mahesh'),\n",
       " (99, 'vikas'),\n",
       " (100, 'vikas'),\n",
       " (101, 'mahesh'),\n",
       " (102, 'ram'),\n",
       " (103, 'ram'),\n",
       " (104, 'mahesh'),\n",
       " (105, 'mahesh'),\n",
       " (106, 'samba'),\n",
       " (107, 'ram'),\n",
       " (108, 'praneeth'),\n",
       " (109, 'praneeth'),\n",
       " (110, 'vikas'),\n",
       " (111, 'mahesh'),\n",
       " (112, 'mahesh'),\n",
       " (113, 'ram'),\n",
       " (114, 'samba'),\n",
       " (115, 'ram'),\n",
       " (116, 'mahesh'),\n",
       " (117, 'praneeth'),\n",
       " (118, 'vikas'),\n",
       " (119, 'vikas'),\n",
       " (120, 'srinivas'),\n",
       " (121, 'vikas'),\n",
       " (122, 'ram'),\n",
       " (123, 'samba'),\n",
       " (124, 'vikas'),\n",
       " (125, 'samba'),\n",
       " (126, 'praneeth'),\n",
       " (127, 'srinivas'),\n",
       " (128, 'srinivas'),\n",
       " (129, 'praneeth'),\n",
       " (130, 'srinivas'),\n",
       " (131, 'vikas'),\n",
       " (132, 'mahesh'),\n",
       " (133, 'srinivas'),\n",
       " (134, 'srinivas'),\n",
       " (135, 'praneeth'),\n",
       " (136, 'vikas'),\n",
       " (137, 'mahesh'),\n",
       " (138, 'vikas'),\n",
       " (139, 'praneeth'),\n",
       " (140, 'mahesh'),\n",
       " (141, 'ram'),\n",
       " (142, 'samba'),\n",
       " (143, 'srinivas'),\n",
       " (144, 'ram'),\n",
       " (145, 'srinivas'),\n",
       " (146, 'samba'),\n",
       " (147, 'srinivas'),\n",
       " (148, 'praneeth'),\n",
       " (149, 'mahesh'),\n",
       " (150, 'vikas'),\n",
       " (151, 'ram'),\n",
       " (152, 'praneeth'),\n",
       " (153, 'samba'),\n",
       " (154, 'samba'),\n",
       " (155, 'praneeth'),\n",
       " (156, 'vikas'),\n",
       " (157, 'vikas'),\n",
       " (158, 'mahesh'),\n",
       " (159, 'srinivas'),\n",
       " (160, 'praneeth'),\n",
       " (161, 'samba'),\n",
       " (162, 'ram'),\n",
       " (163, 'samba'),\n",
       " (164, 'mahesh'),\n",
       " (165, 'vikas'),\n",
       " (166, 'praneeth'),\n",
       " (167, 'srinivas'),\n",
       " (168, 'vikas'),\n",
       " (169, 'praneeth'),\n",
       " (170, 'srinivas'),\n",
       " (171, 'srinivas'),\n",
       " (172, 'praneeth'),\n",
       " (173, 'vikas'),\n",
       " (174, 'mahesh'),\n",
       " (175, 'praneeth'),\n",
       " (176, 'samba'),\n",
       " (177, 'praneeth'),\n",
       " (178, 'mahesh'),\n",
       " (179, 'ram'),\n",
       " (180, 'srinivas'),\n",
       " (181, 'samba'),\n",
       " (182, 'vikas'),\n",
       " (183, 'samba'),\n",
       " (184, 'praneeth'),\n",
       " (185, 'vikas'),\n",
       " (186, 'samba'),\n",
       " (187, 'praneeth'),\n",
       " (188, 'mahesh'),\n",
       " (189, 'vikas'),\n",
       " (190, 'srinivas'),\n",
       " (191, 'praneeth'),\n",
       " (192, 'ram'),\n",
       " (193, 'vikas'),\n",
       " (194, 'vikas'),\n",
       " (195, 'praneeth'),\n",
       " (196, 'samba'),\n",
       " (197, 'srinivas'),\n",
       " (198, 'srinivas'),\n",
       " (199, 'ram')]"
      ]
     },
     "execution_count": 21,
     "metadata": {},
     "output_type": "execute_result"
    }
   ],
   "source": [
    "cur.fetchall()"
   ]
  },
  {
   "cell_type": "code",
   "execution_count": 22,
   "metadata": {},
   "outputs": [
    {
     "name": "stdout",
     "output_type": "stream",
     "text": [
      "[('sai', 1), ('srinivas', 28), ('ram', 29), ('mahesh', 31), ('praneeth', 32), ('samba', 37), ('vikas', 41)]\n"
     ]
    }
   ],
   "source": [
    "q=\"select name, count(*) as cnt from customer group by name order by cnt\"\n",
    "cur.execute(q)\n",
    "data = cur.fetchall()\n",
    "print(data)"
   ]
  },
  {
   "cell_type": "code",
   "execution_count": 24,
   "metadata": {},
   "outputs": [
    {
     "name": "stdout",
     "output_type": "stream",
     "text": [
      "[('mahesh',)]\n"
     ]
    }
   ],
   "source": [
    "q=\"select name from customer where id=2\"\n",
    "cur.execute(q)\n",
    "data = cur.fetchall()\n",
    "print(data)"
   ]
  },
  {
   "cell_type": "code",
   "execution_count": 27,
   "metadata": {},
   "outputs": [
    {
     "name": "stdout",
     "output_type": "stream",
     "text": [
      "[('MAHESH',)]\n",
      "[('mahesh',)]\n"
     ]
    }
   ],
   "source": [
    "q=\"select name from customer where id=2\"\n",
    "cur.execute(q)\n",
    "data = cur.fetchall()\n",
    "print(data)\n",
    "q=\"update customer set name='mahesh' where id=2\"\n",
    "cur.execute(q)\n",
    "con.commit()\n",
    "q=\"select name from customer where id=2\"\n",
    "cur.execute(q)\n",
    "data = cur.fetchall()\n",
    "print(data)"
   ]
  },
  {
   "cell_type": "code",
   "execution_count": 28,
   "metadata": {},
   "outputs": [
    {
     "name": "stdout",
     "output_type": "stream",
     "text": [
      "[('samba',)]\n",
      "[('SAMBA',)]\n"
     ]
    }
   ],
   "source": [
    "def browse(c_id):\n",
    "    q=\"select name from customer where id=%s\"%(c_id)\n",
    "    cur.execute(q)\n",
    "    data = cur.fetchall()\n",
    "    print(data)\n",
    "def update(c_id,name):\n",
    "    q=\"update customer set name='%s' where id=%s\"%(name,c_id)\n",
    "    cur.execute(q)\n",
    "    con.commit()\n",
    "browse(3)\n",
    "update(3,'SAMBA')\n",
    "browse(3)"
   ]
  },
  {
   "cell_type": "code",
   "execution_count": 29,
   "metadata": {},
   "outputs": [
    {
     "name": "stdout",
     "output_type": "stream",
     "text": [
      "[('SAMBA',)]\n",
      "[]\n"
     ]
    }
   ],
   "source": [
    "def browse(c_id):\n",
    "    q=\"select name from customer where id=%s\"%(c_id)\n",
    "    cur.execute(q)\n",
    "    data = cur.fetchall()\n",
    "    print(data)\n",
    "def update(c_id,name):\n",
    "    q=\"update customer set name='%s' where id=%s\"%(name,c_id)\n",
    "    cur.execute(q)\n",
    "    con.commit()\n",
    "def delete(c_id):\n",
    "    q=\"delete from customer where id=%s\"%(c_id)\n",
    "    cur.execute(q)\n",
    "    con.commit()\n",
    "browse(3)\n",
    "delete(3)\n",
    "browse(3)"
   ]
  },
  {
   "cell_type": "code",
   "execution_count": 1,
   "metadata": {},
   "outputs": [],
   "source": [
    "# console based app to do db operations."
   ]
  },
  {
   "cell_type": "code",
   "execution_count": 3,
   "metadata": {},
   "outputs": [
    {
     "name": "stdout",
     "output_type": "stream",
     "text": [
      "[('srinivas', 27), ('ram', 27), ('vikas', 31), ('praneeth', 32), ('samba', 36), ('mahesh', 45)]\n"
     ]
    }
   ],
   "source": [
    "import psycopg2\n",
    "con = psycopg2.connect(host=\"localhost\",port=5432,user=\"postgres\",password=\"root\",database=\"batch57\")\n",
    "cur=con.cursor()\n",
    "q=\"create table customer (id int, name varchar(250))\"\n",
    "cur.execute(q)\n",
    "import random\n",
    "names=[\"samba\",\"vikas\",\"srinivas\",\"praneeth\",\"mahesh\",\"ram\"]\n",
    "for i in range(2,200):\n",
    "    q=\"insert into customer(id, name) values(%s,'%s')\"%(i, random.choice(names))\n",
    "    cur.execute(q)\n",
    "    con.commit()\n",
    "q=\"select name, count(*) as cnt from customer group by name order by cnt\"\n",
    "cur.execute(q)\n",
    "data = cur.fetchall()\n",
    "print(data)"
   ]
  },
  {
   "cell_type": "code",
   "execution_count": null,
   "metadata": {},
   "outputs": [],
   "source": []
  }
 ],
 "metadata": {
  "kernelspec": {
   "display_name": "Python 3",
   "language": "python",
   "name": "python3"
  },
  "language_info": {
   "codemirror_mode": {
    "name": "ipython",
    "version": 3
   },
   "file_extension": ".py",
   "mimetype": "text/x-python",
   "name": "python",
   "nbconvert_exporter": "python",
   "pygments_lexer": "ipython3",
   "version": "3.7.0"
  }
 },
 "nbformat": 4,
 "nbformat_minor": 2
}
